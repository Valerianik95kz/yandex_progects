{
 "cells": [
  {
   "cell_type": "markdown",
   "metadata": {
    "id": "E0vqbgi9ay0H"
   },
   "source": [
    "# Сравнение поведения пользователей музыкального сервиса"
   ]
  },
  {
   "cell_type": "markdown",
   "metadata": {
    "id": "VUC88oWjTJw2"
   },
   "source": [
    "На данных Яндекс.Музыки мы сравним поведение пользователей двух городов - Москвы и Санкт-Петербурга.\n",
    "\n",
    "**Цель исследования** — проверить три гипотезы:\n",
    "1. Активность пользователей зависит от дня недели. Причём в Москве и Петербурге это проявляется по-разному.\n",
    "2. В понедельник утром в Москве преобладают одни жанры, а в Петербурге — другие. Так же и вечером пятницы преобладают разные жанры — в зависимости от города. \n",
    "3. Москва и Петербург предпочитают разные жанры музыки. В Москве чаще слушают поп-музыку, в Петербурге — русский рэп.\n",
    "\n",
    "**Ход исследования**\n",
    "\n",
    "О качестве данных ничего не известно. Поэтому перед проверкой гипотез понадобится обзор данных. \n",
    "\n",
    "Мы проверим данные на ошибки и оценим их влияние на исследование. Затем, на этапе предобработки мы поищем возможность исправить самые критичные ошибки данных.\n",
    " \n",
    "Таким образом, исследование пройдёт в *три этапа*:\n",
    " 1. Обзор данных.\n",
    " 2. Предобработка данных.\n",
    " 3. Проверка гипотез."
   ]
  },
  {
   "cell_type": "markdown",
   "metadata": {
    "id": "Ml1hmfXC_Zcs"
   },
   "source": [
    "## Обзор данных"
   ]
  },
  {
   "cell_type": "code",
   "execution_count": 1,
   "metadata": {
    "id": "AXN7PHPN_Zcs"
   },
   "outputs": [],
   "source": [
    "# импорт библиотеки pandas\n",
    "import pandas as pd"
   ]
  },
  {
   "cell_type": "code",
   "execution_count": 2,
   "metadata": {
    "id": "fFVu7vqh_Zct"
   },
   "outputs": [],
   "source": [
    "# чтение файла с данными и сохранение в df\n",
    "df = pd.read_csv('/datasets/yandex_music_project.csv') "
   ]
  },
  {
   "cell_type": "code",
   "execution_count": 3,
   "metadata": {
    "id": "oWTVX3gW_Zct",
    "scrolled": true
   },
   "outputs": [
    {
     "data": {
      "text/html": [
       "<div>\n",
       "<style scoped>\n",
       "    .dataframe tbody tr th:only-of-type {\n",
       "        vertical-align: middle;\n",
       "    }\n",
       "\n",
       "    .dataframe tbody tr th {\n",
       "        vertical-align: top;\n",
       "    }\n",
       "\n",
       "    .dataframe thead th {\n",
       "        text-align: right;\n",
       "    }\n",
       "</style>\n",
       "<table border=\"1\" class=\"dataframe\">\n",
       "  <thead>\n",
       "    <tr style=\"text-align: right;\">\n",
       "      <th></th>\n",
       "      <th>userID</th>\n",
       "      <th>Track</th>\n",
       "      <th>artist</th>\n",
       "      <th>genre</th>\n",
       "      <th>City</th>\n",
       "      <th>time</th>\n",
       "      <th>Day</th>\n",
       "    </tr>\n",
       "  </thead>\n",
       "  <tbody>\n",
       "    <tr>\n",
       "      <th>0</th>\n",
       "      <td>FFB692EC</td>\n",
       "      <td>Kamigata To Boots</td>\n",
       "      <td>The Mass Missile</td>\n",
       "      <td>rock</td>\n",
       "      <td>Saint-Petersburg</td>\n",
       "      <td>20:28:33</td>\n",
       "      <td>Wednesday</td>\n",
       "    </tr>\n",
       "    <tr>\n",
       "      <th>1</th>\n",
       "      <td>55204538</td>\n",
       "      <td>Delayed Because of Accident</td>\n",
       "      <td>Andreas Rönnberg</td>\n",
       "      <td>rock</td>\n",
       "      <td>Moscow</td>\n",
       "      <td>14:07:09</td>\n",
       "      <td>Friday</td>\n",
       "    </tr>\n",
       "    <tr>\n",
       "      <th>2</th>\n",
       "      <td>20EC38</td>\n",
       "      <td>Funiculì funiculà</td>\n",
       "      <td>Mario Lanza</td>\n",
       "      <td>pop</td>\n",
       "      <td>Saint-Petersburg</td>\n",
       "      <td>20:58:07</td>\n",
       "      <td>Wednesday</td>\n",
       "    </tr>\n",
       "    <tr>\n",
       "      <th>3</th>\n",
       "      <td>A3DD03C9</td>\n",
       "      <td>Dragons in the Sunset</td>\n",
       "      <td>Fire + Ice</td>\n",
       "      <td>folk</td>\n",
       "      <td>Saint-Petersburg</td>\n",
       "      <td>08:37:09</td>\n",
       "      <td>Monday</td>\n",
       "    </tr>\n",
       "    <tr>\n",
       "      <th>4</th>\n",
       "      <td>E2DC1FAE</td>\n",
       "      <td>Soul People</td>\n",
       "      <td>Space Echo</td>\n",
       "      <td>dance</td>\n",
       "      <td>Moscow</td>\n",
       "      <td>08:34:34</td>\n",
       "      <td>Monday</td>\n",
       "    </tr>\n",
       "  </tbody>\n",
       "</table>\n",
       "</div>"
      ],
      "text/plain": [
       "     userID                        Track            artist  genre  \\\n",
       "0  FFB692EC            Kamigata To Boots  The Mass Missile   rock   \n",
       "1  55204538  Delayed Because of Accident  Andreas Rönnberg   rock   \n",
       "2    20EC38            Funiculì funiculà       Mario Lanza    pop   \n",
       "3  A3DD03C9        Dragons in the Sunset        Fire + Ice   folk   \n",
       "4  E2DC1FAE                  Soul People        Space Echo  dance   \n",
       "\n",
       "             City        time        Day  \n",
       "0  Saint-Petersburg  20:28:33  Wednesday  \n",
       "1            Moscow  14:07:09     Friday  \n",
       "2  Saint-Petersburg  20:58:07  Wednesday  \n",
       "3  Saint-Petersburg  08:37:09     Monday  \n",
       "4            Moscow  08:34:34     Monday  "
      ]
     },
     "execution_count": 3,
     "metadata": {},
     "output_type": "execute_result"
    }
   ],
   "source": [
    "# получение первых 5 строк таблицы df\n",
    "df.head() "
   ]
  },
  {
   "cell_type": "code",
   "execution_count": 4,
   "metadata": {
    "id": "DSf2kIb-_Zct",
    "scrolled": true
   },
   "outputs": [
    {
     "name": "stdout",
     "output_type": "stream",
     "text": [
      "<class 'pandas.core.frame.DataFrame'>\n",
      "RangeIndex: 65079 entries, 0 to 65078\n",
      "Data columns (total 7 columns):\n",
      " #   Column    Non-Null Count  Dtype \n",
      "---  ------    --------------  ----- \n",
      " 0     userID  65079 non-null  object\n",
      " 1   Track     63848 non-null  object\n",
      " 2   artist    57876 non-null  object\n",
      " 3   genre     63881 non-null  object\n",
      " 4     City    65079 non-null  object\n",
      " 5   time      65079 non-null  object\n",
      " 6   Day       65079 non-null  object\n",
      "dtypes: object(7)\n",
      "memory usage: 3.5+ MB\n"
     ]
    }
   ],
   "source": [
    "# получение общей информации о данных в таблице df\n",
    "df.info() "
   ]
  },
  {
   "cell_type": "markdown",
   "metadata": {
    "id": "TaQ2Iwbr_Zct"
   },
   "source": [
    "Итак, в таблице семь столбцов. Тип данных во всех столбцах — `object`.\n",
    "\n",
    "Согласно документации к данным:\n",
    "* `userID` — идентификатор пользователя;\n",
    "* `Track` — название трека;  \n",
    "* `artist` — имя исполнителя;\n",
    "* `genre` — название жанра;\n",
    "* `City` — город пользователя;\n",
    "* `time` — время начала прослушивания;\n",
    "* `Day` — день недели.\n",
    "\n",
    "В названиях колонок видны *три нарушения стиля*:\n",
    "1. Строчные буквы сочетаются с прописными.\n",
    "2. Встречаются пробелы.\n",
    "3. Два слова написаны в стиле \"CamelCase\".\n",
    "\n",
    "Количество значений в столбцах различается. Значит, в данных есть пропущенные значения."
   ]
  },
  {
   "cell_type": "markdown",
   "metadata": {
    "id": "MCB6-dXG_Zct"
   },
   "source": [
    "**Выводы**\n",
    "\n",
    "В каждой строке таблицы — данные о прослушанном треке. Часть колонок описывает саму композицию: название, исполнителя и жанр. Остальные данные рассказывают о пользователе: из какого он города, когда он слушал музыку. \n",
    "\n",
    "Предварительно можно утверждать, что, данных достаточно для проверки гипотез. Но встречаются пропуски в данных, а в названиях колонок — расхождения с хорошим стилем.\n",
    "\n",
    "Чтобы двигаться дальше, нужно устранить проблемы в данных."
   ]
  },
  {
   "cell_type": "markdown",
   "metadata": {
    "id": "SjYF6Ub9_Zct"
   },
   "source": [
    "## Предобработка данных\n",
    "Для начала исправим стиль в заголовках столбцов, исключим пропуски. Затем проверим данные на дубликаты."
   ]
  },
  {
   "cell_type": "markdown",
   "metadata": {
    "id": "dIaKXr29_Zct"
   },
   "source": [
    "### Стиль заголовков\n",
    "Выведем на экран названия столбцов:"
   ]
  },
  {
   "cell_type": "code",
   "execution_count": 5,
   "metadata": {
    "id": "oKOTdF_Q_Zct",
    "scrolled": true
   },
   "outputs": [
    {
     "data": {
      "text/plain": [
       "Index(['  userID', 'Track', 'artist', 'genre', '  City  ', 'time', 'Day'], dtype='object')"
      ]
     },
     "execution_count": 5,
     "metadata": {},
     "output_type": "execute_result"
    }
   ],
   "source": [
    "df.columns # перечень названий столбцов таблицы df"
   ]
  },
  {
   "cell_type": "markdown",
   "metadata": {
    "id": "zj5534cv_Zct"
   },
   "source": [
    "Приведём названия в соответствие с хорошим стилем:\n",
    "* несколько слов в названии запишем в «змеином_регистре»,\n",
    "* все символы сделаем строчными,\n",
    "* устраним пробелы.\n",
    "\n",
    "Для этого переименуем колонки так:\n",
    "* `'  userID'` → `'user_id'`;\n",
    "* `'Track'` → `'track'`;\n",
    "* `'  City  '` → `'city'`;\n",
    "* `'Day'` → `'day'`."
   ]
  },
  {
   "cell_type": "code",
   "execution_count": 6,
   "metadata": {
    "id": "ISlFqs5y_Zct"
   },
   "outputs": [],
   "source": [
    "df = df.rename(columns={'  userID': 'user_id', 'Track': 'track', '  City  ': 'city', 'Day': 'day'}, )# переименование столбцов"
   ]
  },
  {
   "cell_type": "markdown",
   "metadata": {
    "id": "1dqbh00J_Zct"
   },
   "source": [
    "Проверим результат. Для этого ещё раз выведем на экран названия столбцов:"
   ]
  },
  {
   "cell_type": "code",
   "execution_count": 7,
   "metadata": {
    "id": "d4NOAmTW_Zct"
   },
   "outputs": [
    {
     "data": {
      "text/plain": [
       "Index(['user_id', 'track', 'artist', 'genre', 'city', 'time', 'day'], dtype='object')"
      ]
     },
     "execution_count": 7,
     "metadata": {},
     "output_type": "execute_result"
    }
   ],
   "source": [
    "df.columns # проверка результатов - перечень названий столбцов"
   ]
  },
  {
   "cell_type": "markdown",
   "metadata": {},
   "source": [
    "Как мы видим, все названия теперь соответствуют хорошему стилю, можем продолжать предобработку."
   ]
  },
  {
   "cell_type": "markdown",
   "metadata": {
    "id": "5ISfbcfY_Zct"
   },
   "source": [
    "### Пропуски значений\n",
    "Сначала посчитаем, сколько в таблице пропущенных значений. Для этого достаточно двух методов `pandas`:"
   ]
  },
  {
   "cell_type": "code",
   "execution_count": 8,
   "metadata": {
    "id": "RskX29qr_Zct"
   },
   "outputs": [
    {
     "data": {
      "text/plain": [
       "user_id       0\n",
       "track      1231\n",
       "artist     7203\n",
       "genre      1198\n",
       "city          0\n",
       "time          0\n",
       "day           0\n",
       "dtype: int64"
      ]
     },
     "execution_count": 8,
     "metadata": {},
     "output_type": "execute_result"
    }
   ],
   "source": [
    "df.isna().sum() # подсчёт пропусков"
   ]
  },
  {
   "cell_type": "markdown",
   "metadata": {
    "id": "qubhgnlO_Zct"
   },
   "source": [
    "Не все пропущенные значения влияют на исследование. Так в `track` и `artist` пропуски не важны для yашей работы. Достаточно заменить их явными обозначениями.\n",
    "\n",
    "Но пропуски в `genre` могут помешать сравнению музыкальных вкусов в Москве и Санкт-Петербурге. На практике было бы правильно установить причину пропусков и восстановить данные. Такой возможности нет в учебном проекте. Придётся:\n",
    "* заполнить и эти пропуски явными обозначениями,\n",
    "* оценить, насколько они повредят расчётам. "
   ]
  },
  {
   "cell_type": "markdown",
   "metadata": {
    "id": "fSv2laPA_Zct"
   },
   "source": [
    "Заменим пропущенные значения в столбцах `track`, `artist` и `genre` на строку `'unknown'`. Для этого создадим список `columns_to_replace`, переберём его элементы циклом `for` и для каждого столбца выполним замену пропущенных значений:"
   ]
  },
  {
   "cell_type": "code",
   "execution_count": 9,
   "metadata": {
    "id": "KplB5qWs_Zct"
   },
   "outputs": [],
   "source": [
    "columns_to_replace = ['track', 'artist', 'genre'] \n",
    "for column in columns_to_replace: # перебор названий столбцов в цикле и замена пропущенных значений на 'unknown'\n",
    "    df[column] = df[column].fillna('unknown')"
   ]
  },
  {
   "cell_type": "markdown",
   "metadata": {
    "id": "Ilsm-MZo_Zct"
   },
   "source": [
    "Убедитесь, что в таблице не осталось пропусков. Для этого ещё раз посчитайте пропущенные значения."
   ]
  },
  {
   "cell_type": "code",
   "execution_count": 10,
   "metadata": {
    "id": "Tq4nYRX4_Zct"
   },
   "outputs": [
    {
     "data": {
      "text/plain": [
       "user_id    0\n",
       "track      0\n",
       "artist     0\n",
       "genre      0\n",
       "city       0\n",
       "time       0\n",
       "day        0\n",
       "dtype: int64"
      ]
     },
     "execution_count": 10,
     "metadata": {},
     "output_type": "execute_result"
    }
   ],
   "source": [
    "df.isna().sum() # контрольный подсчёт пропусков"
   ]
  },
  {
   "cell_type": "markdown",
   "metadata": {},
   "source": [
    "В наших данных больше не осталось пропущенных значений."
   ]
  },
  {
   "cell_type": "markdown",
   "metadata": {
    "id": "BWKRtBJ3_Zct"
   },
   "source": [
    "### Дубликаты\n",
    "В завершение предобработки данных мы избавимя от дубликатов. Начнём с явных дубликатов в таблице. Для этого понадобится всего одна команда:"
   ]
  },
  {
   "cell_type": "code",
   "execution_count": 11,
   "metadata": {
    "id": "36eES_S0_Zct",
    "scrolled": true
   },
   "outputs": [
    {
     "data": {
      "text/plain": [
       "3826"
      ]
     },
     "execution_count": 11,
     "metadata": {},
     "output_type": "execute_result"
    }
   ],
   "source": [
    "df.duplicated().sum() # подсчёт явных дубликатов"
   ]
  },
  {
   "cell_type": "markdown",
   "metadata": {
    "id": "Ot25h6XR_Zct"
   },
   "source": [
    "Теперь вызовем специальный метод `pandas`, чтобы удалить явные дубликаты:"
   ]
  },
  {
   "cell_type": "code",
   "execution_count": 12,
   "metadata": {
    "id": "exFHq6tt_Zct"
   },
   "outputs": [],
   "source": [
    "df = df.drop_duplicates().reset_index(drop=True) # удаление явных дубликатов (с удалением старых индексов и формированием новых)"
   ]
  },
  {
   "cell_type": "markdown",
   "metadata": {
    "id": "Im2YwBEG_Zct"
   },
   "source": [
    "Ещё раз посчитаем явные дубликаты в таблице — убедимся, что полностью от них избавились:"
   ]
  },
  {
   "cell_type": "code",
   "execution_count": 13,
   "metadata": {
    "id": "-8PuNWQ0_Zct"
   },
   "outputs": [
    {
     "data": {
      "text/plain": [
       "0"
      ]
     },
     "execution_count": 13,
     "metadata": {},
     "output_type": "execute_result"
    }
   ],
   "source": [
    "df.duplicated().sum() # проверка на отсутствие дубликатов"
   ]
  },
  {
   "cell_type": "markdown",
   "metadata": {
    "id": "QlFBsxAr_Zct"
   },
   "source": [
    "Теперь избавимся от неявных дубликатов в колонке `genre`. Например, название одного и того же жанра может быть записано немного по-разному. Такие ошибки тоже повлияют на результат исследования."
   ]
  },
  {
   "cell_type": "markdown",
   "metadata": {
    "id": "eSjWwsOh_Zct"
   },
   "source": [
    "Выведем на экран список уникальных названий жанров, отсортированный в алфавитном порядке. *Для этого*:\n",
    "* извлечём нужный столбец датафрейма, \n",
    "* применим к нему метод сортировки,\n",
    "* для отсортированного столбца вызовем метод, который вернёт уникальные значения из столбца."
   ]
  },
  {
   "cell_type": "code",
   "execution_count": 14,
   "metadata": {
    "id": "JIUcqzZN_Zct",
    "scrolled": true
   },
   "outputs": [
    {
     "data": {
      "text/plain": [
       "array(['acid', 'acoustic', 'action', 'adult', 'africa', 'afrikaans',\n",
       "       'alternative', 'alternativepunk', 'ambient', 'americana',\n",
       "       'animated', 'anime', 'arabesk', 'arabic', 'arena',\n",
       "       'argentinetango', 'art', 'audiobook', 'author', 'avantgarde',\n",
       "       'axé', 'baile', 'balkan', 'beats', 'bigroom', 'black', 'bluegrass',\n",
       "       'blues', 'bollywood', 'bossa', 'brazilian', 'breakbeat', 'breaks',\n",
       "       'broadway', 'cantautori', 'cantopop', 'canzone', 'caribbean',\n",
       "       'caucasian', 'celtic', 'chamber', 'chanson', 'children', 'chill',\n",
       "       'chinese', 'choral', 'christian', 'christmas', 'classical',\n",
       "       'classicmetal', 'club', 'colombian', 'comedy', 'conjazz',\n",
       "       'contemporary', 'country', 'cuban', 'dance', 'dancehall',\n",
       "       'dancepop', 'dark', 'death', 'deep', 'deutschrock', 'deutschspr',\n",
       "       'dirty', 'disco', 'dnb', 'documentary', 'downbeat', 'downtempo',\n",
       "       'drum', 'dub', 'dubstep', 'eastern', 'easy', 'electronic',\n",
       "       'electropop', 'emo', 'entehno', 'epicmetal', 'estrada', 'ethnic',\n",
       "       'eurofolk', 'european', 'experimental', 'extrememetal', 'fado',\n",
       "       'fairytail', 'film', 'fitness', 'flamenco', 'folk', 'folklore',\n",
       "       'folkmetal', 'folkrock', 'folktronica', 'forró', 'frankreich',\n",
       "       'französisch', 'french', 'funk', 'future', 'gangsta', 'garage',\n",
       "       'german', 'ghazal', 'gitarre', 'glitch', 'gospel', 'gothic',\n",
       "       'grime', 'grunge', 'gypsy', 'handsup', \"hard'n'heavy\", 'hardcore',\n",
       "       'hardstyle', 'hardtechno', 'hip', 'hip-hop', 'hiphop',\n",
       "       'historisch', 'holiday', 'hop', 'horror', 'house', 'hymn', 'idm',\n",
       "       'independent', 'indian', 'indie', 'indipop', 'industrial',\n",
       "       'inspirational', 'instrumental', 'international', 'irish', 'jam',\n",
       "       'japanese', 'jazz', 'jewish', 'jpop', 'jungle', 'k-pop',\n",
       "       'karadeniz', 'karaoke', 'kayokyoku', 'korean', 'laiko', 'latin',\n",
       "       'latino', 'leftfield', 'local', 'lounge', 'loungeelectronic',\n",
       "       'lovers', 'malaysian', 'mandopop', 'marschmusik', 'meditative',\n",
       "       'mediterranean', 'melodic', 'metal', 'metalcore', 'mexican',\n",
       "       'middle', 'minimal', 'miscellaneous', 'modern', 'mood', 'mpb',\n",
       "       'muslim', 'native', 'neoklassik', 'neue', 'new', 'newage',\n",
       "       'newwave', 'nu', 'nujazz', 'numetal', 'oceania', 'old', 'opera',\n",
       "       'orchestral', 'other', 'piano', 'podcasts', 'pop', 'popdance',\n",
       "       'popelectronic', 'popeurodance', 'poprussian', 'post',\n",
       "       'posthardcore', 'postrock', 'power', 'progmetal', 'progressive',\n",
       "       'psychedelic', 'punjabi', 'punk', 'quebecois', 'ragga', 'ram',\n",
       "       'rancheras', 'rap', 'rave', 'reggae', 'reggaeton', 'regional',\n",
       "       'relax', 'religious', 'retro', 'rhythm', 'rnb', 'rnr', 'rock',\n",
       "       'rockabilly', 'rockalternative', 'rockindie', 'rockother',\n",
       "       'romance', 'roots', 'ruspop', 'rusrap', 'rusrock', 'russian',\n",
       "       'salsa', 'samba', 'scenic', 'schlager', 'self', 'sertanejo',\n",
       "       'shanson', 'shoegazing', 'showtunes', 'singer', 'ska', 'skarock',\n",
       "       'slow', 'smooth', 'soft', 'soul', 'soulful', 'sound', 'soundtrack',\n",
       "       'southern', 'specialty', 'speech', 'spiritual', 'sport',\n",
       "       'stonerrock', 'surf', 'swing', 'synthpop', 'synthrock',\n",
       "       'sängerportrait', 'tango', 'tanzorchester', 'taraftar', 'tatar',\n",
       "       'tech', 'techno', 'teen', 'thrash', 'top', 'traditional',\n",
       "       'tradjazz', 'trance', 'tribal', 'trip', 'triphop', 'tropical',\n",
       "       'türk', 'türkçe', 'ukrrock', 'unknown', 'urban', 'uzbek',\n",
       "       'variété', 'vi', 'videogame', 'vocal', 'western', 'world',\n",
       "       'worldbeat', 'ïîï', 'электроника'], dtype=object)"
      ]
     },
     "execution_count": 14,
     "metadata": {},
     "output_type": "execute_result"
    }
   ],
   "source": [
    "df['genre'].sort_values().unique() # Просмотр уникальных названий жанров"
   ]
  },
  {
   "cell_type": "markdown",
   "metadata": {
    "id": "qej-Qmuo_Zct"
   },
   "source": [
    "Мы просмотрели список и нашли неявные дубликаты жанра `hiphop`:\n",
    "\n",
    "* *hip*,\n",
    "* *hop*,\n",
    "* *hip-hop*.\n",
    "\n",
    "Чтобы очистить от них таблицу, напишем функцию `replace_wrong_genres()` с двумя параметрами: \n",
    "* `wrong_genres` — список дубликатов,\n",
    "* `correct_genre` — строка с правильным значением.\n",
    "\n",
    "Функция должна исправить колонку `genre` в таблице `df`: заменить каждое значение из списка `wrong_genres` на значение из `correct_genre`."
   ]
  },
  {
   "cell_type": "code",
   "execution_count": 15,
   "metadata": {
    "id": "ErNDkmns_Zct"
   },
   "outputs": [],
   "source": [
    "def replace_wrong_genres(wrong_genres, correct_genre): # Функция для замены неявных дубликатов\n",
    "    for wrong_genre in wrong_genres:\n",
    "        df['genre'] = df['genre'].replace(wrong_genre, correct_genre)"
   ]
  },
  {
   "cell_type": "markdown",
   "metadata": {
    "id": "aDoBJxbA_Zct"
   },
   "source": [
    "Вызовите `replace_wrong_genres()` и передайте ей такие аргументы, чтобы она устранила неявные дубликаты: вместо `hip`, `hop` и `hip-hop` в таблице должно быть значение `hiphop`:"
   ]
  },
  {
   "cell_type": "code",
   "execution_count": 16,
   "metadata": {
    "id": "YN5i2hpmSo09"
   },
   "outputs": [],
   "source": [
    "replace_wrong_genres(['hip', 'hop', 'hip-hop'], 'hiphop') # Устранение неявных дубликатов\n",
    "replace_wrong_genres(['электроника'], 'electronic')\n",
    "replace_wrong_genres(['afrikaans'], 'africa')"
   ]
  },
  {
   "cell_type": "markdown",
   "metadata": {
    "id": "zQKF16_RG15m"
   },
   "source": [
    "Проверим, что заменили неправильные названия:\n",
    "\n",
    "*   hip\n",
    "*   hop\n",
    "*   hip-hop\n",
    "\n",
    "Выводим отсортированный список уникальных значений столбца `genre`:"
   ]
  },
  {
   "cell_type": "code",
   "execution_count": 17,
   "metadata": {
    "id": "wvixALnFG15m",
    "scrolled": true
   },
   "outputs": [
    {
     "data": {
      "text/plain": [
       "array(['acid', 'acoustic', 'action', 'adult', 'africa', 'alternative',\n",
       "       'alternativepunk', 'ambient', 'americana', 'animated', 'anime',\n",
       "       'arabesk', 'arabic', 'arena', 'argentinetango', 'art', 'audiobook',\n",
       "       'author', 'avantgarde', 'axé', 'baile', 'balkan', 'beats',\n",
       "       'bigroom', 'black', 'bluegrass', 'blues', 'bollywood', 'bossa',\n",
       "       'brazilian', 'breakbeat', 'breaks', 'broadway', 'cantautori',\n",
       "       'cantopop', 'canzone', 'caribbean', 'caucasian', 'celtic',\n",
       "       'chamber', 'chanson', 'children', 'chill', 'chinese', 'choral',\n",
       "       'christian', 'christmas', 'classical', 'classicmetal', 'club',\n",
       "       'colombian', 'comedy', 'conjazz', 'contemporary', 'country',\n",
       "       'cuban', 'dance', 'dancehall', 'dancepop', 'dark', 'death', 'deep',\n",
       "       'deutschrock', 'deutschspr', 'dirty', 'disco', 'dnb',\n",
       "       'documentary', 'downbeat', 'downtempo', 'drum', 'dub', 'dubstep',\n",
       "       'eastern', 'easy', 'electronic', 'electropop', 'emo', 'entehno',\n",
       "       'epicmetal', 'estrada', 'ethnic', 'eurofolk', 'european',\n",
       "       'experimental', 'extrememetal', 'fado', 'fairytail', 'film',\n",
       "       'fitness', 'flamenco', 'folk', 'folklore', 'folkmetal', 'folkrock',\n",
       "       'folktronica', 'forró', 'frankreich', 'französisch', 'french',\n",
       "       'funk', 'future', 'gangsta', 'garage', 'german', 'ghazal',\n",
       "       'gitarre', 'glitch', 'gospel', 'gothic', 'grime', 'grunge',\n",
       "       'gypsy', 'handsup', \"hard'n'heavy\", 'hardcore', 'hardstyle',\n",
       "       'hardtechno', 'hiphop', 'historisch', 'holiday', 'horror', 'house',\n",
       "       'hymn', 'idm', 'independent', 'indian', 'indie', 'indipop',\n",
       "       'industrial', 'inspirational', 'instrumental', 'international',\n",
       "       'irish', 'jam', 'japanese', 'jazz', 'jewish', 'jpop', 'jungle',\n",
       "       'k-pop', 'karadeniz', 'karaoke', 'kayokyoku', 'korean', 'laiko',\n",
       "       'latin', 'latino', 'leftfield', 'local', 'lounge',\n",
       "       'loungeelectronic', 'lovers', 'malaysian', 'mandopop',\n",
       "       'marschmusik', 'meditative', 'mediterranean', 'melodic', 'metal',\n",
       "       'metalcore', 'mexican', 'middle', 'minimal', 'miscellaneous',\n",
       "       'modern', 'mood', 'mpb', 'muslim', 'native', 'neoklassik', 'neue',\n",
       "       'new', 'newage', 'newwave', 'nu', 'nujazz', 'numetal', 'oceania',\n",
       "       'old', 'opera', 'orchestral', 'other', 'piano', 'podcasts', 'pop',\n",
       "       'popdance', 'popelectronic', 'popeurodance', 'poprussian', 'post',\n",
       "       'posthardcore', 'postrock', 'power', 'progmetal', 'progressive',\n",
       "       'psychedelic', 'punjabi', 'punk', 'quebecois', 'ragga', 'ram',\n",
       "       'rancheras', 'rap', 'rave', 'reggae', 'reggaeton', 'regional',\n",
       "       'relax', 'religious', 'retro', 'rhythm', 'rnb', 'rnr', 'rock',\n",
       "       'rockabilly', 'rockalternative', 'rockindie', 'rockother',\n",
       "       'romance', 'roots', 'ruspop', 'rusrap', 'rusrock', 'russian',\n",
       "       'salsa', 'samba', 'scenic', 'schlager', 'self', 'sertanejo',\n",
       "       'shanson', 'shoegazing', 'showtunes', 'singer', 'ska', 'skarock',\n",
       "       'slow', 'smooth', 'soft', 'soul', 'soulful', 'sound', 'soundtrack',\n",
       "       'southern', 'specialty', 'speech', 'spiritual', 'sport',\n",
       "       'stonerrock', 'surf', 'swing', 'synthpop', 'synthrock',\n",
       "       'sängerportrait', 'tango', 'tanzorchester', 'taraftar', 'tatar',\n",
       "       'tech', 'techno', 'teen', 'thrash', 'top', 'traditional',\n",
       "       'tradjazz', 'trance', 'tribal', 'trip', 'triphop', 'tropical',\n",
       "       'türk', 'türkçe', 'ukrrock', 'unknown', 'urban', 'uzbek',\n",
       "       'variété', 'vi', 'videogame', 'vocal', 'western', 'world',\n",
       "       'worldbeat', 'ïîï'], dtype=object)"
      ]
     },
     "execution_count": 17,
     "metadata": {},
     "output_type": "execute_result"
    }
   ],
   "source": [
    "df['genre'].sort_values().unique() # Проверка на неявные дубликаты"
   ]
  },
  {
   "cell_type": "markdown",
   "metadata": {},
   "source": [
    "Теперь в списке уникальных значений столбца `genre` есть только один вариант жанра хип-хоп."
   ]
  },
  {
   "cell_type": "markdown",
   "metadata": {
    "id": "jz6a9-7HQUDd"
   },
   "source": [
    "**Выводы**\n",
    "\n",
    "Предобработка обнаружила три проблемы в данных:\n",
    "\n",
    "- нарушения в стиле заголовков,\n",
    "- пропущенные значения,\n",
    "- дубликаты — явные и неявные.\n",
    "\n",
    "Мы исправили заголовки, чтобы упростить работу с таблицей. Без дубликатов исследование станет более точным.\n",
    "\n",
    "Пропущенные значения мы заменили на `'unknown'`. Ещё предстоит увидеть, не повредят ли исследованию пропуски в колонке `genre`.\n",
    "\n",
    "Теперь можно перейти к проверке гипотез. "
   ]
  },
  {
   "cell_type": "markdown",
   "metadata": {
    "id": "WttZHXH0SqKk"
   },
   "source": [
    "## Проверка гипотез"
   ]
  },
  {
   "cell_type": "markdown",
   "metadata": {
    "id": "Im936VVi_Zcu"
   },
   "source": [
    "### Сравнение поведения пользователей двух столиц"
   ]
  },
  {
   "cell_type": "markdown",
   "metadata": {
    "id": "nwt_MuaL_Zcu"
   },
   "source": [
    "Первая гипотеза утверждает, что пользователи по-разному слушают музыку в Москве и Санкт-Петербурге. Проверим это предположение по данным о трёх днях недели — понедельнике, среде и пятнице. Для этого:\n",
    "\n",
    "* Разделим пользователей Москвы и Санкт-Петербурга\n",
    "* Сравним, сколько треков послушала каждая группа пользователей в понедельник, среду и пятницу.\n"
   ]
  },
  {
   "cell_type": "markdown",
   "metadata": {
    "id": "8Dw_YMmT_Zcu"
   },
   "source": [
    "Для тренировки сначала выполним каждый из расчётов по отдельности. \n",
    "\n",
    "Оценим активность пользователей в каждом городе. Сгруппируем данные по городу и посчитаем прослушивания в каждой группе.\n",
    "\n"
   ]
  },
  {
   "cell_type": "code",
   "execution_count": 18,
   "metadata": {
    "id": "0_Qs96oh_Zcu"
   },
   "outputs": [
    {
     "data": {
      "text/plain": [
       "city\n",
       "Moscow              42741\n",
       "Saint-Petersburg    18512\n",
       "Name: city, dtype: int64"
      ]
     },
     "execution_count": 18,
     "metadata": {},
     "output_type": "execute_result"
    }
   ],
   "source": [
    "city_grouping = df.groupby('city')['city'].count() # Подсчёт прослушиваний в каждом городе\n",
    "city_grouping"
   ]
  },
  {
   "cell_type": "markdown",
   "metadata": {
    "id": "dzli3w8o_Zcu"
   },
   "source": [
    "В Москве прослушиваний больше, чем в Петербурге. Из этого не следует, что московские пользователи чаще слушают музыку. Просто самих пользователей в Москве больше.\n",
    "\n",
    "Теперь сгруппируем данные по дню недели и подсчитаем прослушивания в понедельник, среду и пятницу. Мы будем учитывать, что в данных есть информация о прослушиваниях только за эти дни.\n"
   ]
  },
  {
   "cell_type": "code",
   "execution_count": 19,
   "metadata": {
    "id": "uZMKjiJz_Zcu",
    "scrolled": true
   },
   "outputs": [
    {
     "data": {
      "text/plain": [
       "day\n",
       "Friday       21840\n",
       "Monday       21354\n",
       "Wednesday    18059\n",
       "Name: day, dtype: int64"
      ]
     },
     "execution_count": 19,
     "metadata": {},
     "output_type": "execute_result"
    }
   ],
   "source": [
    "day_grouping = df.groupby('day')['day'].count() # Подсчёт прослушиваний в каждый из трёх дней\n",
    "day_grouping"
   ]
  },
  {
   "cell_type": "markdown",
   "metadata": {
    "id": "cC2tNrlL_Zcu"
   },
   "source": [
    "В среднем пользователи из двух городов менее активны по средам. Но картина может измениться, если рассмотреть каждый город в отдельности."
   ]
  },
  {
   "cell_type": "markdown",
   "metadata": {
    "id": "POzs8bGa_Zcu"
   },
   "source": [
    "Мы видели, как работает группировка по городу и по дням недели. Теперь напишем функцию, которая объединит два эти расчёта.\n",
    "\n",
    "Создадим функцию `number_tracks()`, которая посчитает прослушивания для заданного дня и города. Ей понадобятся два параметра:\n",
    "* день недели,\n",
    "* название города.\n",
    "\n",
    "В функции сохраним в переменную строки исходной таблицы, у которых значение:\n",
    "  * в колонке `day` равно параметру `day`,\n",
    "  * в колонке `city` равно параметру `city`.\n",
    "\n",
    "Для этого применим последовательную фильтрацию с логической индексацией.\n",
    "\n",
    "Затем посчитаем значения в столбце `user_id` получившейся таблицы. Результат сохраним в новую переменную. Вернём эту переменную из функции."
   ]
  },
  {
   "cell_type": "code",
   "execution_count": 20,
   "metadata": {
    "id": "Nz3GdQB1_Zcu"
   },
   "outputs": [],
   "source": [
    "\"\"\"\n",
    "<создание функции number_tracks()>\n",
    "Объявляется функция с двумя параметрами: day, city.\n",
    "В переменной track_list сохраняются те строки таблицы df, для которых значение в столбце 'day' равно параметру day и \n",
    "одновременно значение в столбце 'city' равно параметру city (используем последовательную фильтрацию с помощью \n",
    "логической индексации).\n",
    "В переменной track_list_count сохраняется число значений столбца 'user_id', рассчитанное методом count() для таблицы track_list.\n",
    "Функция возвращает число - значение track_list_count.\n",
    "Функция для подсчёта прослушиваний для конкретного города и дня.\n",
    "С помощью последовательной фильтрации с логической индексацией она сначала получит из исходной таблицы строки с нужным днём,\n",
    "затем из результата отфильтрует строки с нужным городом, методом count() посчитает количество значений в колонке user_id. \n",
    "Это количество функция вернёт в качестве результата\n",
    "\"\"\"\n",
    "def number_tracks(day, city):\n",
    "    track_list = df[df['day'] == day]\n",
    "    track_list = track_list[track_list['city'] == city]\n",
    "    track_list_count = track_list['user_id'].count()\n",
    "    return track_list_count"
   ]
  },
  {
   "cell_type": "markdown",
   "metadata": {
    "id": "ytf7xFrFJQ2r"
   },
   "source": [
    "Вызовите `number_tracks()` шесть раз, меняя значение параметров — так, чтобы получить данные для каждого города в каждый из трёх дней."
   ]
  },
  {
   "cell_type": "code",
   "execution_count": 21,
   "metadata": {
    "id": "rJcRATNQ_Zcu"
   },
   "outputs": [
    {
     "data": {
      "text/plain": [
       "15740"
      ]
     },
     "execution_count": 21,
     "metadata": {},
     "output_type": "execute_result"
    }
   ],
   "source": [
    "number_tracks('Monday', 'Moscow') # количество прослушиваний в Москве по понедельникам"
   ]
  },
  {
   "cell_type": "code",
   "execution_count": 22,
   "metadata": {
    "id": "hq_ncZ5T_Zcu"
   },
   "outputs": [
    {
     "data": {
      "text/plain": [
       "5614"
      ]
     },
     "execution_count": 22,
     "metadata": {},
     "output_type": "execute_result"
    }
   ],
   "source": [
    "number_tracks('Monday', 'Saint-Petersburg') # количество прослушиваний в Санкт-Петербурге по понедельникам"
   ]
  },
  {
   "cell_type": "code",
   "execution_count": 23,
   "metadata": {
    "id": "_NTy2VPU_Zcu"
   },
   "outputs": [
    {
     "data": {
      "text/plain": [
       "11056"
      ]
     },
     "execution_count": 23,
     "metadata": {},
     "output_type": "execute_result"
    }
   ],
   "source": [
    "number_tracks('Wednesday', 'Moscow') # количество прослушиваний в Москве по средам"
   ]
  },
  {
   "cell_type": "code",
   "execution_count": 24,
   "metadata": {
    "id": "j2y3TAwo_Zcu"
   },
   "outputs": [
    {
     "data": {
      "text/plain": [
       "7003"
      ]
     },
     "execution_count": 24,
     "metadata": {},
     "output_type": "execute_result"
    }
   ],
   "source": [
    "number_tracks('Wednesday', 'Saint-Petersburg') # количество прослушиваний в Санкт-Петербурге по средам"
   ]
  },
  {
   "cell_type": "code",
   "execution_count": 25,
   "metadata": {
    "id": "vYDw5u_K_Zcu",
    "scrolled": true
   },
   "outputs": [
    {
     "data": {
      "text/plain": [
       "15945"
      ]
     },
     "execution_count": 25,
     "metadata": {},
     "output_type": "execute_result"
    }
   ],
   "source": [
    "number_tracks('Friday', 'Moscow') # количество прослушиваний в Москве по пятницам"
   ]
  },
  {
   "cell_type": "code",
   "execution_count": 26,
   "metadata": {
    "id": "8_yzFtW3_Zcu"
   },
   "outputs": [
    {
     "data": {
      "text/plain": [
       "5895"
      ]
     },
     "execution_count": 26,
     "metadata": {},
     "output_type": "execute_result"
    }
   ],
   "source": [
    "number_tracks('Friday', 'Saint-Petersburg') # количество прослушиваний в Санкт-Петербурге по пятницам"
   ]
  },
  {
   "cell_type": "markdown",
   "metadata": {
    "id": "7QXffbO-_Zcu"
   },
   "source": [
    "Создайте c помощью конструктора `pd.DataFrame` таблицу, где\n",
    "* названия колонок — `['city', 'monday', 'wednesday', 'friday']`;\n",
    "* данные — результаты, которые вы получили с помощью `number_tracks`."
   ]
  },
  {
   "cell_type": "code",
   "execution_count": 27,
   "metadata": {
    "id": "APAcLpOr_Zcu"
   },
   "outputs": [
    {
     "data": {
      "text/html": [
       "<div>\n",
       "<style scoped>\n",
       "    .dataframe tbody tr th:only-of-type {\n",
       "        vertical-align: middle;\n",
       "    }\n",
       "\n",
       "    .dataframe tbody tr th {\n",
       "        vertical-align: top;\n",
       "    }\n",
       "\n",
       "    .dataframe thead th {\n",
       "        text-align: right;\n",
       "    }\n",
       "</style>\n",
       "<table border=\"1\" class=\"dataframe\">\n",
       "  <thead>\n",
       "    <tr style=\"text-align: right;\">\n",
       "      <th></th>\n",
       "      <th>city</th>\n",
       "      <th>monday</th>\n",
       "      <th>wednesday</th>\n",
       "      <th>friday</th>\n",
       "    </tr>\n",
       "  </thead>\n",
       "  <tbody>\n",
       "    <tr>\n",
       "      <th>0</th>\n",
       "      <td>Moscow</td>\n",
       "      <td>15740</td>\n",
       "      <td>11056</td>\n",
       "      <td>15945</td>\n",
       "    </tr>\n",
       "    <tr>\n",
       "      <th>1</th>\n",
       "      <td>Saint-Petersburg</td>\n",
       "      <td>5614</td>\n",
       "      <td>7003</td>\n",
       "      <td>5895</td>\n",
       "    </tr>\n",
       "  </tbody>\n",
       "</table>\n",
       "</div>"
      ],
      "text/plain": [
       "               city  monday  wednesday  friday\n",
       "0            Moscow   15740      11056   15945\n",
       "1  Saint-Petersburg    5614       7003    5895"
      ]
     },
     "execution_count": 27,
     "metadata": {},
     "output_type": "execute_result"
    }
   ],
   "source": [
    "# Таблица с результатами\n",
    "data = [['Moscow', 15740, 11056, 15945],\n",
    "       ['Saint-Petersburg', 5614, 7003, 5895]]\n",
    "columns = ['city', 'monday', 'wednesday', 'friday']\n",
    "pd.DataFrame(data=data, columns=columns)"
   ]
  },
  {
   "cell_type": "markdown",
   "metadata": {
    "id": "-EgPIHYu_Zcu"
   },
   "source": [
    "**Выводы**\n",
    "\n",
    "Данные показывают разницу поведения пользователей:\n",
    "\n",
    "- В Москве пик прослушиваний приходится на понедельник и пятницу, а в среду заметен спад.\n",
    "- В Петербурге, наоборот, больше слушают музыку по средам. Активность в понедельник и пятницу здесь почти в равной мере уступает среде.\n",
    "\n",
    "Значит, данные говорят в пользу первой гипотезы."
   ]
  },
  {
   "cell_type": "markdown",
   "metadata": {
    "id": "atZAxtq4_Zcu"
   },
   "source": [
    "### Музыка в начале и в конце недели"
   ]
  },
  {
   "cell_type": "markdown",
   "metadata": {
    "id": "eXrQqXFH_Zcu"
   },
   "source": [
    "Согласно второй гипотезе, утром в понедельник в Москве преобладают одни жанры, а в Петербурге — другие. Так же и вечером пятницы преобладают разные жанры — в зависимости от города."
   ]
  },
  {
   "cell_type": "markdown",
   "metadata": {
    "id": "S8UcW6Hw_Zcu"
   },
   "source": [
    "Сохраним таблицы с данными в две переменные:\n",
    "* по Москве — в `moscow_general`;\n",
    "* по Санкт-Петербургу — в `spb_general`."
   ]
  },
  {
   "cell_type": "code",
   "execution_count": 28,
   "metadata": {
    "id": "qeaFfM_P_Zcu"
   },
   "outputs": [],
   "source": [
    "# получение таблицы moscow_general из тех строк таблицы df, \n",
    "# для которых значение в столбце 'city' равно 'Moscow'\n",
    "moscow_general = df[df['city'] == 'Moscow']"
   ]
  },
  {
   "cell_type": "code",
   "execution_count": 29,
   "metadata": {
    "id": "ORaVRKto_Zcu"
   },
   "outputs": [],
   "source": [
    "# получение таблицы spb_general из тех строк таблицы df,\n",
    "# для которых значение в столбце 'city' равно 'Saint-Petersburg'\n",
    "spb_general = df[df['city'] == 'Saint-Petersburg']"
   ]
  },
  {
   "cell_type": "markdown",
   "metadata": {
    "id": "MEJV-CX2_Zcu"
   },
   "source": [
    "Создаём функцию `genre_weekday()` с четырьмя параметрами:\n",
    "* таблица (датафрейм) с данными,\n",
    "* день недели,\n",
    "* начальная временная метка в формате 'hh:mm', \n",
    "* последняя временная метка в формате 'hh:mm'.\n",
    "\n",
    "Функция должна вернуть информацию о топ-10 жанров тех треков, которые прослушивали в указанный день, в промежутке между двумя отметками времени."
   ]
  },
  {
   "cell_type": "code",
   "execution_count": 30,
   "metadata": {
    "id": "laJT9BYl_Zcu"
   },
   "outputs": [],
   "source": [
    "\"\"\"\n",
    "Объявление функции genre_weekday() с параметрами table, day, time1, time2, которая возвращает информацию о\n",
    "самых популярных жанрах в указанный день в заданное время:\n",
    "1) в переменную genre_df сохраним те строки переданного датафрейма table, для которых одновременно:\n",
    "    - значение в столбце day равно значению аргумента day\n",
    "    - значение в столбце time больше значения аргумента time1\n",
    "    - значение в столбце time меньше значения аргумента time2\n",
    "Используем последовательную фильтрацию с помощью логической индексации.\n",
    "2) сгруппируем датафрейм genre_df по столбцу genre, возьмём один из его столбцов и посчитаем методом count()\n",
    "количество записей для каждого из присутствующих жанров, получившийся Series запишем в переменную genre_df_count\n",
    "3) отсортируем genre_df_count по убыванию встречаемости и сохраним в переменную genre_df_sorted\n",
    "4) вернём Series из 10 первых значений genre_df_sorted, это будут топ-10 популярных жанров (в указанный день, в заданное время)\n",
    "\"\"\"\n",
    "def genre_weekday(table, day, time1, time2):\n",
    "    genre_df = table[table['day'] == day]\n",
    "    genre_df = genre_df[genre_df['time'] > time1]\n",
    "    genre_df = genre_df[genre_df['time'] < time2]\n",
    "    genre_df_count = genre_df.groupby('genre')['genre'].count()\n",
    "    genre_df_sorted = genre_df_count.sort_values(ascending=False)\n",
    "    return genre_df_sorted.head(10)"
   ]
  },
  {
   "cell_type": "markdown",
   "metadata": {
    "id": "la2s2_PF_Zcu"
   },
   "source": [
    "Cравним результаты функции `genre_weekday()` для Москвы и Санкт-Петербурга в понедельник утром (с 7:00 до 11:00) и в пятницу вечером (с 17:00 до 23:00):"
   ]
  },
  {
   "cell_type": "code",
   "execution_count": 31,
   "metadata": {
    "id": "yz7itPUQ_Zcu"
   },
   "outputs": [
    {
     "data": {
      "text/plain": [
       "genre\n",
       "pop            781\n",
       "dance          549\n",
       "electronic     480\n",
       "rock           474\n",
       "hiphop         286\n",
       "ruspop         186\n",
       "world          181\n",
       "rusrap         175\n",
       "alternative    164\n",
       "unknown        161\n",
       "Name: genre, dtype: int64"
      ]
     },
     "execution_count": 31,
     "metadata": {},
     "output_type": "execute_result"
    }
   ],
   "source": [
    "# вызов функции для утра понедельника в Москве\n",
    "genre_weekday(moscow_general, 'Monday', '07:00', '11:00')"
   ]
  },
  {
   "cell_type": "code",
   "execution_count": 32,
   "metadata": {
    "id": "kwUcHPdy_Zcu"
   },
   "outputs": [
    {
     "data": {
      "text/plain": [
       "genre\n",
       "pop            218\n",
       "dance          182\n",
       "rock           162\n",
       "electronic     147\n",
       "hiphop          80\n",
       "ruspop          64\n",
       "alternative     58\n",
       "rusrap          55\n",
       "jazz            44\n",
       "classical       40\n",
       "Name: genre, dtype: int64"
      ]
     },
     "execution_count": 32,
     "metadata": {},
     "output_type": "execute_result"
    }
   ],
   "source": [
    "# вызов функции для утра понедельника в Петербурге\n",
    "genre_weekday(spb_general, 'Monday', '07:00', '11:00')"
   ]
  },
  {
   "cell_type": "code",
   "execution_count": 33,
   "metadata": {
    "id": "EzXVRE1o_Zcu"
   },
   "outputs": [
    {
     "data": {
      "text/plain": [
       "genre\n",
       "pop            713\n",
       "rock           517\n",
       "dance          495\n",
       "electronic     482\n",
       "hiphop         273\n",
       "world          208\n",
       "ruspop         170\n",
       "alternative    163\n",
       "classical      163\n",
       "rusrap         142\n",
       "Name: genre, dtype: int64"
      ]
     },
     "execution_count": 33,
     "metadata": {},
     "output_type": "execute_result"
    }
   ],
   "source": [
    "# вызов функции для вечера пятницы в Москве\n",
    "genre_weekday(moscow_general, 'Friday', '17:00', '23:00')"
   ]
  },
  {
   "cell_type": "code",
   "execution_count": 34,
   "metadata": {
    "id": "JZaEKu5v_Zcu",
    "scrolled": true
   },
   "outputs": [
    {
     "data": {
      "text/plain": [
       "genre\n",
       "pop            256\n",
       "electronic     216\n",
       "rock           216\n",
       "dance          210\n",
       "hiphop          97\n",
       "alternative     63\n",
       "jazz            61\n",
       "classical       60\n",
       "rusrap          59\n",
       "world           54\n",
       "Name: genre, dtype: int64"
      ]
     },
     "execution_count": 34,
     "metadata": {},
     "output_type": "execute_result"
    }
   ],
   "source": [
    "# вызов функции для вечера пятницы в Петербурге\n",
    "genre_weekday(spb_general, 'Friday', '17:00', '23:00')"
   ]
  },
  {
   "cell_type": "markdown",
   "metadata": {
    "id": "wrCe4MNX_Zcu"
   },
   "source": [
    "**Выводы**\n",
    "\n",
    "Если сравнить топ-10 жанров в понедельник утром, можно сделать такие выводы:\n",
    "\n",
    "1. В Москве и Петербурге слушают похожую музыку. Единственное отличие — в московский рейтинг вошёл жанр “world”, а в петербургский — джаз и классика.\n",
    "\n",
    "2. В Москве пропущенных значений оказалось так много, что значение `'unknown'` заняло десятое место среди самых популярных жанров. Значит, пропущенные значения занимают существенную долю в данных и угрожают достоверности исследования.\n",
    "\n",
    "Вечер пятницы не меняет эту картину. Некоторые жанры поднимаются немного выше, другие спускаются, но в целом топ-10 остаётся тем же самым.\n",
    "\n",
    "Таким образом, вторая гипотеза подтвердилась лишь частично:\n",
    "* Пользователи слушают похожую музыку в начале недели и в конце.\n",
    "* Разница между Москвой и Петербургом не слишком выражена. В Москве чаще слушают русскую популярную музыку, в Петербурге — джаз.\n",
    "\n",
    "Однако пропуски в данных ставят под сомнение этот результат. В Москве их так много, что рейтинг топ-10 мог бы выглядеть иначе, если бы не утерянные  данные о жанрах."
   ]
  },
  {
   "cell_type": "markdown",
   "metadata": {
    "id": "JolODAqr_Zcu"
   },
   "source": [
    "### Жанровые предпочтения в Москве и Петербурге\n",
    "\n",
    "Гипотеза: Петербург — столица рэпа, музыку этого жанра там слушают чаще, чем в Москве.  А Москва — город контрастов, в котором, тем не менее, преобладает поп-музыка."
   ]
  },
  {
   "cell_type": "markdown",
   "metadata": {
    "id": "DlegSvaT_Zcu"
   },
   "source": [
    "Сгруппируем таблицу `moscow_general` по жанру и посчитаем прослушивания треков каждого жанра методом `count()`. Затем отсортируем результат в порядке убывания и сохраним его в таблице `moscow_genres`."
   ]
  },
  {
   "cell_type": "code",
   "execution_count": 35,
   "metadata": {
    "id": "r19lIPke_Zcu"
   },
   "outputs": [],
   "source": [
    "# группировка таблицы moscow_general по столбцу 'genre', \n",
    "# подсчёт числа значений 'genre' в этой группировке методом count(), \n",
    "# сортировка получившегося Series в порядке убывания и сохранение в moscow_genres:\n",
    "moscow_genres = moscow_general.groupby('genre')['genre'].count().sort_values(ascending=False)"
   ]
  },
  {
   "cell_type": "markdown",
   "metadata": {
    "id": "6kMuomxTiIr8"
   },
   "source": [
    "Выведем на экран первые десять строк `moscow_genres`:"
   ]
  },
  {
   "cell_type": "code",
   "execution_count": 36,
   "metadata": {
    "id": "WhCSooF8_Zcv"
   },
   "outputs": [
    {
     "data": {
      "text/plain": [
       "genre\n",
       "pop            5892\n",
       "dance          4435\n",
       "rock           3965\n",
       "electronic     3786\n",
       "hiphop         2096\n",
       "classical      1616\n",
       "world          1432\n",
       "alternative    1379\n",
       "ruspop         1372\n",
       "rusrap         1161\n",
       "Name: genre, dtype: int64"
      ]
     },
     "execution_count": 36,
     "metadata": {},
     "output_type": "execute_result"
    }
   ],
   "source": [
    "moscow_genres.head(10) # просмотр первых 10 строк moscow_genres"
   ]
  },
  {
   "cell_type": "markdown",
   "metadata": {
    "id": "cnPG2vnN_Zcv"
   },
   "source": [
    "Теперь повторим то же и для Петербурга.\n",
    "\n",
    "Сгруппируем таблицу `spb_general` по жанру. Посчитаем прослушивания треков каждого жанра. Результат отсортируем в порядке убывания и сохраним в таблице `spb_genres`:\n"
   ]
  },
  {
   "cell_type": "code",
   "execution_count": 37,
   "metadata": {
    "id": "gluLIpE7_Zcv"
   },
   "outputs": [],
   "source": [
    "# группировка таблицы spb_general по столбцу 'genre', \n",
    "# подсчёт числа значений 'genre' в этой группировке методом count(), \n",
    "# сортировка получившегося Series в порядке убывания и сохранение в spb_genres\n",
    "spb_genres = spb_general.groupby('genre')['genre'].count().sort_values(ascending=False)"
   ]
  },
  {
   "cell_type": "markdown",
   "metadata": {
    "id": "5Doha_ODgyQ8"
   },
   "source": [
    "Выведите на экран первые десять строк `spb_genres`:"
   ]
  },
  {
   "cell_type": "code",
   "execution_count": 38,
   "metadata": {
    "id": "uaGJHjVU_Zcv",
    "scrolled": true
   },
   "outputs": [
    {
     "data": {
      "text/plain": [
       "genre\n",
       "pop            2431\n",
       "dance          1932\n",
       "rock           1879\n",
       "electronic     1737\n",
       "hiphop          960\n",
       "alternative     649\n",
       "classical       646\n",
       "rusrap          564\n",
       "ruspop          538\n",
       "world           515\n",
       "Name: genre, dtype: int64"
      ]
     },
     "execution_count": 38,
     "metadata": {},
     "output_type": "execute_result"
    }
   ],
   "source": [
    "# просмотр первых 10 строк spb_genres:\n",
    "spb_genres.head(10)"
   ]
  },
  {
   "cell_type": "markdown",
   "metadata": {
    "id": "RY51YJYu_Zcv"
   },
   "source": [
    "**Выводы**"
   ]
  },
  {
   "cell_type": "markdown",
   "metadata": {
    "id": "nVhnJEm__Zcv"
   },
   "source": [
    "Гипотеза частично подтвердилась:\n",
    "* Поп-музыка — самый популярный жанр в Москве, как и предполагала гипотеза. Более того, в топ-10 жанров встречается близкий жанр — русская популярная музыка.\n",
    "* Вопреки ожиданиям, рэп одинаково популярен в Москве и Петербурге. \n"
   ]
  },
  {
   "cell_type": "markdown",
   "metadata": {
    "id": "ykKQ0N65_Zcv"
   },
   "source": [
    "## Итоги исследования"
   ]
  },
  {
   "cell_type": "markdown",
   "metadata": {
    "id": "tjUwbHb3_Zcv"
   },
   "source": [
    "Мы проверили три гипотезы и установили:\n",
    "\n",
    "1. День недели по-разному влияет на активность пользователей в Москве и Петербурге. \n",
    "\n",
    "Первая гипотеза полностью подтвердилась.\n",
    "\n",
    "2. Музыкальные предпочтения не сильно меняются в течение недели — будь то Москва или Петербург. Небольшие различия заметны в начале недели, по понедельникам:\n",
    "* в Москве слушают музыку жанра “world”,\n",
    "* в Петербурге — джаз и классику.\n",
    "\n",
    "Таким образом, вторая гипотеза подтвердилась лишь отчасти. Этот результат мог оказаться иным, если бы не пропуски в данных.\n",
    "\n",
    "3. Во вкусах пользователей Москвы и Петербурга больше общего чем различий. Вопреки ожиданиям, предпочтения жанров в Петербурге напоминают московские.\n",
    "\n",
    "Третья гипотеза не подтвердилась. Если различия в предпочтениях и существуют, на основной массе пользователей они незаметны.\n",
    "\n",
    "**На практике исследования содержат проверки статистических гипотез.**\n",
    "Из данных одного сервиса не всегда можно сделать вывод о всех жителях города.\n",
    "Проверки статистических гипотез покажут, насколько они достоверны, исходя из имеющихся данных. "
   ]
  },
  {
   "cell_type": "markdown",
   "metadata": {},
   "source": [
    "# Проекты для Яндекс.Практикума\n",
    "___\n",
    "Данные проекты были выполнены в ходе обучения в Яндекс.Практикуме по профессии \"Аналитик данных\" / \"Специалист по Data Science\".\n",
    "\n",
    "| Название проекта | Сферы деятельности | Задачи проекта | Ключевые слова | Ключевые навыки |\n",
    "| :--------------- | :----------------- | :------------- | :------------- | :-------------- |\n",
    "| Cравнение пользователей сервиса “Яндекс.Музыка” в Москве и Питере | Интернет-сервис, стриминговые сервисы | С помощью библиотеки Pandas и её возможностей проверить данные Яндекс.Музыки и сравнить поведение и предпочтения пользователей Москвы и Санкт-Петербурга. | обработка данных, дубликаты, пропуски, логическая индексация, группировка, сортировка | Python, Pandas |\n",
    "| Анализ банковских данных (исследование надёжности заёмщиков) | Банковская сфера, кредитование | Исследовать, какие факторы влияют на возврат кредита в срок (например, семейное положение или кол-во детей) | обработка данных, дубликаты, пропуски, категоризация, декомпозиция | предобработка данных, Python, Pandas |\n",
    "| Успешность компьютерных игр | Gamedev, Интернет-магазины | Выявить закономерности, определяющие успешность компьютерной игры, используя исторические данные о продажах игр, оценки пользователей и экспертов | обработка данных, histogram, boxplot, статистический тест, критерий Стьюдента, piechart | Python, Pandas, NumPy, Matplotlib, предобработка данных, исследовательский анализ данных, описательная статистика, проверка статистических гипотез |\n",
    "| Анализ убытков приложения | Интернет-сервисы, Стартапы | Разобраться в причинах убытков развлекательного приложения, несмотря на огромные вложения в рекламу, и помочь компании выйти в плюс. | обработка данных, статистический тест, LTV, CAC, когортный анализ | Python, Pandas, Matplotlib, когортный анализ, юнит-экономика, продуктовые метрики, Seaborn |\n",
    "| A/B-тест. Проверка гипотез | Интернет-магазины | Приоритезировать гипотезы, используя данные интернет-магазина, произвести оценку результатов A/B-тестирования. | A/B-тест, статистический тест, фреймворк, RICE, ICE | Python, Pandas, Matplotlib, SciPy, A/B-тестирование, проверка статистических гипотез |\n",
    "| Исследования рынка общепита в Москве | Стартапы, Бизнес, Оффлайн | Исследовать рынок общественного питания на основе открытых данных, подготовка презентации для инвесторов | обработка данных, визуализация данных, создание презентаций | Python, Pandas, Seaborn, Plotly, визуализация данных |\n",
    "| Анализ пользовательского поведения в мобильном приложении | Стартапы, Бизнес, Интернет-сервисы | Проанализировать воронку продаж на основе данных об использовании мобильного предложения, оценить результаты A/A/B-тестирования  | A/B-тест, визуализация, статистический тест | Python, Pandas, Seaborn, Plotly, Matplotlib, A/B-тестирование, событийная аналитика, продуктовые метрики, проверка статистических гипотез, визуализация данных |\n",
    "| Создание дашборда | Площадки объявлений, Интернет-сервисы | Используя данные канала распространения новостей, статей с сайта построить дашборд с метриками взаимодействия пользователей с карточками статей  | дашборд, пайплайн, Yandex.Cloud, удаленный сервер, виртуальная машина, cron | Python, SQLAlchemy, PostgreSQL, dash, Tableau, продуктовые метрики, построение дашбордов |"
   ]
  },
  {
   "cell_type": "markdown",
   "metadata": {},
   "source": [
    "Пример описания проекта в README.md - Музыка больших городов\n",
    "Данные\n",
    "В наличии были следующие данные о прослушиваниях треков в сервисе Яндекс.Музыка:\n",
    "\n",
    "Название трека\n",
    "Исполнитель\n",
    "Жанр\n",
    "Город\n",
    "День прослушивания\n",
    "Время прослушивания\n",
    "Задача\n",
    "Провести сравнение музыкальных предпочтений у пользователей Яндекс.Музыки, проживающих в Москве и Санкт-Петербурге. Сравнить прослушивания в понедельник, среду и пятницу по городам, а также сравнить жанры, которые слушают пользователи утром в понедельник и вечером в пятницу в Москве и Санкт-Петербурге.\n",
    "\n",
    "Используемые библиотеки\n",
    "pandas"
   ]
  },
  {
   "cell_type": "markdown",
   "metadata": {},
   "source": [
    "| Анализ банковских данных (исследование надёжности заёмщиков) | Банковская сфера, кредитование | Исследовать, какие факторы влияют на возврат кредита в срок (например, семейное положение или кол-во детей)На основе статистики о платёжеспособности клиентов "
   ]
  }
 ],
 "metadata": {
  "ExecuteTimeLog": [
   {
    "duration": 523,
    "start_time": "2022-03-30T17:09:07.318Z"
   },
   {
    "duration": 229,
    "start_time": "2022-03-30T17:15:19.846Z"
   },
   {
    "duration": 165,
    "start_time": "2022-03-30T17:15:38.774Z"
   },
   {
    "duration": 269,
    "start_time": "2022-03-30T17:16:04.884Z"
   },
   {
    "duration": 15,
    "start_time": "2022-03-30T17:16:59.737Z"
   },
   {
    "duration": 33,
    "start_time": "2022-03-30T17:17:57.443Z"
   },
   {
    "duration": 56,
    "start_time": "2022-03-30T17:21:10.126Z"
   },
   {
    "duration": 10,
    "start_time": "2022-03-30T17:34:54.924Z"
   },
   {
    "duration": 5,
    "start_time": "2022-03-30T17:35:05.347Z"
   },
   {
    "duration": 5,
    "start_time": "2022-03-30T17:35:23.935Z"
   },
   {
    "duration": 5,
    "start_time": "2022-03-30T17:35:31.644Z"
   },
   {
    "duration": 30,
    "start_time": "2022-03-30T17:45:56.476Z"
   },
   {
    "duration": 5,
    "start_time": "2022-03-30T17:46:25.658Z"
   },
   {
    "duration": 32,
    "start_time": "2022-03-30T17:50:09.345Z"
   },
   {
    "duration": 31,
    "start_time": "2022-03-30T17:50:19.625Z"
   },
   {
    "duration": 32,
    "start_time": "2022-03-30T17:50:45.174Z"
   },
   {
    "duration": 34,
    "start_time": "2022-03-30T17:50:52.774Z"
   },
   {
    "duration": 2845,
    "start_time": "2022-03-30T17:57:16.220Z"
   },
   {
    "duration": 18,
    "start_time": "2022-03-30T17:57:47.925Z"
   },
   {
    "duration": 54,
    "start_time": "2022-03-30T17:58:08.363Z"
   },
   {
    "duration": 17,
    "start_time": "2022-03-30T17:58:25.819Z"
   },
   {
    "duration": 32,
    "start_time": "2022-03-30T17:58:28.666Z"
   },
   {
    "duration": 33,
    "start_time": "2022-03-30T18:00:13.165Z"
   },
   {
    "duration": 49,
    "start_time": "2022-03-30T18:00:16.803Z"
   },
   {
    "duration": 42,
    "start_time": "2022-03-30T18:00:28.183Z"
   },
   {
    "duration": 4,
    "start_time": "2022-03-30T18:00:28.227Z"
   },
   {
    "duration": 10,
    "start_time": "2022-03-30T18:00:28.233Z"
   },
   {
    "duration": 4,
    "start_time": "2022-03-30T18:00:28.245Z"
   },
   {
    "duration": 6,
    "start_time": "2022-03-30T18:00:28.251Z"
   },
   {
    "duration": 6,
    "start_time": "2022-03-30T18:00:28.259Z"
   },
   {
    "duration": 7,
    "start_time": "2022-03-30T18:00:28.267Z"
   },
   {
    "duration": 8,
    "start_time": "2022-03-30T18:00:28.276Z"
   },
   {
    "duration": 5,
    "start_time": "2022-03-30T18:00:28.286Z"
   },
   {
    "duration": 4,
    "start_time": "2022-03-30T18:00:28.297Z"
   },
   {
    "duration": 40,
    "start_time": "2022-03-30T18:00:28.303Z"
   },
   {
    "duration": 7,
    "start_time": "2022-03-30T18:00:28.346Z"
   },
   {
    "duration": 6,
    "start_time": "2022-03-30T18:00:28.355Z"
   },
   {
    "duration": 5,
    "start_time": "2022-03-30T18:00:28.363Z"
   },
   {
    "duration": 5,
    "start_time": "2022-03-30T18:00:28.371Z"
   },
   {
    "duration": 4,
    "start_time": "2022-03-30T18:00:28.379Z"
   },
   {
    "duration": 9,
    "start_time": "2022-03-30T18:00:28.385Z"
   },
   {
    "duration": 6,
    "start_time": "2022-03-30T18:00:28.396Z"
   },
   {
    "duration": 40,
    "start_time": "2022-03-30T18:00:28.404Z"
   },
   {
    "duration": 6,
    "start_time": "2022-03-30T18:00:28.447Z"
   },
   {
    "duration": 6,
    "start_time": "2022-03-30T18:00:28.455Z"
   },
   {
    "duration": 7,
    "start_time": "2022-03-30T18:00:28.463Z"
   },
   {
    "duration": 6,
    "start_time": "2022-03-30T18:00:28.472Z"
   },
   {
    "duration": 7,
    "start_time": "2022-03-30T18:00:28.480Z"
   },
   {
    "duration": 4,
    "start_time": "2022-03-30T18:00:28.489Z"
   },
   {
    "duration": 5,
    "start_time": "2022-03-30T18:00:28.495Z"
   },
   {
    "duration": 42,
    "start_time": "2022-03-30T18:00:28.502Z"
   },
   {
    "duration": 6,
    "start_time": "2022-03-30T18:00:28.548Z"
   },
   {
    "duration": 18,
    "start_time": "2022-03-30T18:00:28.556Z"
   },
   {
    "duration": 211,
    "start_time": "2022-03-30T18:01:08.473Z"
   },
   {
    "duration": 15,
    "start_time": "2022-03-30T18:04:30.394Z"
   },
   {
    "duration": 153,
    "start_time": "2022-03-30T18:04:38.151Z"
   },
   {
    "duration": 117,
    "start_time": "2022-03-30T18:06:24.706Z"
   },
   {
    "duration": 98,
    "start_time": "2022-03-30T18:06:50.567Z"
   },
   {
    "duration": 10,
    "start_time": "2022-03-30T18:11:07.957Z"
   },
   {
    "duration": 15,
    "start_time": "2022-03-30T18:12:10.333Z"
   },
   {
    "duration": 62,
    "start_time": "2022-03-30T18:13:01.795Z"
   },
   {
    "duration": 95,
    "start_time": "2022-03-30T18:13:13.710Z"
   },
   {
    "duration": 3,
    "start_time": "2022-03-30T18:20:21.784Z"
   },
   {
    "duration": 4,
    "start_time": "2022-03-30T18:24:32.145Z"
   },
   {
    "duration": 13,
    "start_time": "2022-03-30T18:26:01.275Z"
   },
   {
    "duration": 14,
    "start_time": "2022-03-30T18:26:15.064Z"
   },
   {
    "duration": 11,
    "start_time": "2022-03-30T18:26:47.682Z"
   },
   {
    "duration": 4,
    "start_time": "2022-03-30T18:28:35.466Z"
   },
   {
    "duration": 14,
    "start_time": "2022-03-30T18:28:44.850Z"
   },
   {
    "duration": 29,
    "start_time": "2022-03-30T18:28:52.377Z"
   },
   {
    "duration": 52,
    "start_time": "2022-03-30T18:29:13.527Z"
   },
   {
    "duration": 185,
    "start_time": "2022-03-30T18:31:05.104Z"
   },
   {
    "duration": 215,
    "start_time": "2022-03-30T18:47:09.542Z"
   },
   {
    "duration": 40,
    "start_time": "2022-03-30T18:47:18.660Z"
   },
   {
    "duration": 169,
    "start_time": "2022-03-30T18:48:12.473Z"
   },
   {
    "duration": 7,
    "start_time": "2022-03-30T18:49:50.637Z"
   },
   {
    "duration": 7,
    "start_time": "2022-03-30T18:52:24.960Z"
   },
   {
    "duration": 8,
    "start_time": "2022-03-30T18:53:32.553Z"
   },
   {
    "duration": 401,
    "start_time": "2022-03-30T19:06:49.064Z"
   },
   {
    "duration": 150,
    "start_time": "2022-03-30T19:06:49.467Z"
   },
   {
    "duration": 17,
    "start_time": "2022-03-30T19:06:49.619Z"
   },
   {
    "duration": 34,
    "start_time": "2022-03-30T19:06:49.638Z"
   },
   {
    "duration": 3,
    "start_time": "2022-03-30T19:06:49.674Z"
   },
   {
    "duration": 15,
    "start_time": "2022-03-30T19:06:49.679Z"
   },
   {
    "duration": 7,
    "start_time": "2022-03-30T19:06:49.696Z"
   },
   {
    "duration": 31,
    "start_time": "2022-03-30T19:06:49.704Z"
   },
   {
    "duration": 43,
    "start_time": "2022-03-30T19:06:49.736Z"
   },
   {
    "duration": 24,
    "start_time": "2022-03-30T19:06:49.782Z"
   },
   {
    "duration": 77,
    "start_time": "2022-03-30T19:06:49.807Z"
   },
   {
    "duration": 83,
    "start_time": "2022-03-30T19:06:49.886Z"
   },
   {
    "duration": 59,
    "start_time": "2022-03-30T19:06:49.971Z"
   },
   {
    "duration": 45,
    "start_time": "2022-03-30T19:06:50.032Z"
   },
   {
    "duration": 3,
    "start_time": "2022-03-30T19:06:50.078Z"
   },
   {
    "duration": 12,
    "start_time": "2022-03-30T19:06:50.082Z"
   },
   {
    "duration": 36,
    "start_time": "2022-03-30T19:06:50.095Z"
   },
   {
    "duration": 3,
    "start_time": "2022-03-30T19:06:50.133Z"
   },
   {
    "duration": 25,
    "start_time": "2022-03-30T19:06:50.138Z"
   },
   {
    "duration": 5,
    "start_time": "2022-03-30T19:06:50.165Z"
   },
   {
    "duration": 7,
    "start_time": "2022-03-30T19:06:50.172Z"
   },
   {
    "duration": 6,
    "start_time": "2022-03-30T19:06:50.181Z"
   },
   {
    "duration": 9,
    "start_time": "2022-03-30T19:06:50.189Z"
   },
   {
    "duration": 7,
    "start_time": "2022-03-30T19:06:50.200Z"
   },
   {
    "duration": 15,
    "start_time": "2022-03-30T19:06:50.209Z"
   },
   {
    "duration": 10,
    "start_time": "2022-03-30T19:06:50.226Z"
   },
   {
    "duration": 7,
    "start_time": "2022-03-30T19:06:50.237Z"
   },
   {
    "duration": 5,
    "start_time": "2022-03-30T19:06:50.247Z"
   },
   {
    "duration": 5,
    "start_time": "2022-03-30T19:06:50.253Z"
   },
   {
    "duration": 5,
    "start_time": "2022-03-30T19:06:50.260Z"
   },
   {
    "duration": 7,
    "start_time": "2022-03-30T19:06:50.266Z"
   },
   {
    "duration": 5,
    "start_time": "2022-03-30T19:06:50.274Z"
   },
   {
    "duration": 6,
    "start_time": "2022-03-30T19:06:50.280Z"
   },
   {
    "duration": 4,
    "start_time": "2022-03-30T19:06:50.287Z"
   },
   {
    "duration": 7,
    "start_time": "2022-03-30T19:06:50.293Z"
   },
   {
    "duration": 6,
    "start_time": "2022-03-30T19:06:50.301Z"
   },
   {
    "duration": 7,
    "start_time": "2022-03-30T19:06:50.308Z"
   },
   {
    "duration": 11,
    "start_time": "2022-03-30T19:06:50.316Z"
   },
   {
    "duration": 3,
    "start_time": "2022-03-30T19:07:38.792Z"
   },
   {
    "duration": 31,
    "start_time": "2022-03-30T19:07:54.332Z"
   },
   {
    "duration": 27,
    "start_time": "2022-03-30T19:08:35.761Z"
   },
   {
    "duration": 12,
    "start_time": "2022-03-30T19:08:42.781Z"
   },
   {
    "duration": 11,
    "start_time": "2022-03-30T19:08:57.381Z"
   },
   {
    "duration": 11,
    "start_time": "2022-03-30T19:12:48.016Z"
   },
   {
    "duration": 10,
    "start_time": "2022-03-30T19:13:01.195Z"
   },
   {
    "duration": 11,
    "start_time": "2022-03-30T19:13:18.943Z"
   },
   {
    "duration": 3,
    "start_time": "2022-03-30T19:24:46.672Z"
   },
   {
    "duration": 8,
    "start_time": "2022-03-30T19:24:51.861Z"
   },
   {
    "duration": 4,
    "start_time": "2022-03-30T19:25:07.358Z"
   },
   {
    "duration": 12,
    "start_time": "2022-03-30T19:25:09.288Z"
   },
   {
    "duration": 105,
    "start_time": "2022-03-30T19:26:36.219Z"
   },
   {
    "duration": 4,
    "start_time": "2022-03-30T19:26:58.055Z"
   },
   {
    "duration": 17,
    "start_time": "2022-03-30T19:28:11.151Z"
   },
   {
    "duration": 20,
    "start_time": "2022-03-30T19:28:40.456Z"
   },
   {
    "duration": 15,
    "start_time": "2022-03-30T19:28:55.021Z"
   },
   {
    "duration": 16,
    "start_time": "2022-03-30T19:29:39.627Z"
   },
   {
    "duration": 21,
    "start_time": "2022-03-30T19:29:59.817Z"
   },
   {
    "duration": 19,
    "start_time": "2022-03-30T19:30:32.630Z"
   },
   {
    "duration": 21,
    "start_time": "2022-03-30T19:30:51.718Z"
   },
   {
    "duration": 8,
    "start_time": "2022-03-30T19:35:19.546Z"
   },
   {
    "duration": 11,
    "start_time": "2022-03-30T19:40:18.939Z"
   },
   {
    "duration": 10,
    "start_time": "2022-03-30T19:41:00.956Z"
   },
   {
    "duration": 4,
    "start_time": "2022-03-30T19:51:26.059Z"
   },
   {
    "duration": 28,
    "start_time": "2022-03-30T19:52:24.087Z"
   },
   {
    "duration": 4,
    "start_time": "2022-03-30T19:53:04.266Z"
   },
   {
    "duration": 29,
    "start_time": "2022-03-30T19:53:08.552Z"
   },
   {
    "duration": 4,
    "start_time": "2022-03-30T19:53:57.615Z"
   },
   {
    "duration": 29,
    "start_time": "2022-03-30T19:53:59.830Z"
   },
   {
    "duration": 6,
    "start_time": "2022-03-30T19:56:12.351Z"
   },
   {
    "duration": 30,
    "start_time": "2022-03-30T19:56:18.053Z"
   },
   {
    "duration": 4,
    "start_time": "2022-03-30T19:58:03.939Z"
   },
   {
    "duration": 30,
    "start_time": "2022-03-30T19:58:07.295Z"
   },
   {
    "duration": 3,
    "start_time": "2022-03-30T19:58:42.133Z"
   },
   {
    "duration": 25,
    "start_time": "2022-03-30T19:58:54.483Z"
   },
   {
    "duration": 3,
    "start_time": "2022-03-30T20:00:07.837Z"
   },
   {
    "duration": 32,
    "start_time": "2022-03-30T20:00:12.222Z"
   },
   {
    "duration": 5,
    "start_time": "2022-03-30T20:00:43.282Z"
   },
   {
    "duration": 4,
    "start_time": "2022-03-30T20:00:51.056Z"
   },
   {
    "duration": 29,
    "start_time": "2022-03-30T20:00:53.545Z"
   },
   {
    "duration": 4,
    "start_time": "2022-03-30T20:01:07.401Z"
   },
   {
    "duration": 27,
    "start_time": "2022-03-30T20:01:10.810Z"
   },
   {
    "duration": 16,
    "start_time": "2022-03-30T20:02:07.615Z"
   },
   {
    "duration": 28,
    "start_time": "2022-03-30T20:03:35.108Z"
   },
   {
    "duration": 18,
    "start_time": "2022-03-30T20:04:07.380Z"
   },
   {
    "duration": 25,
    "start_time": "2022-03-30T20:05:27.654Z"
   },
   {
    "duration": 17,
    "start_time": "2022-03-30T20:05:38.946Z"
   },
   {
    "duration": 16,
    "start_time": "2022-03-30T20:08:20.532Z"
   },
   {
    "duration": 22,
    "start_time": "2022-03-30T20:08:43.629Z"
   },
   {
    "duration": 102,
    "start_time": "2022-03-30T20:11:05.719Z"
   },
   {
    "duration": 18,
    "start_time": "2022-03-30T20:11:16.821Z"
   },
   {
    "duration": 18,
    "start_time": "2022-03-30T20:12:05.276Z"
   },
   {
    "duration": 68,
    "start_time": "2022-03-30T20:12:36.172Z"
   },
   {
    "duration": 44,
    "start_time": "2022-03-30T20:12:59.231Z"
   },
   {
    "duration": 42,
    "start_time": "2022-03-30T20:13:20.649Z"
   },
   {
    "duration": 17,
    "start_time": "2022-03-30T20:13:50.103Z"
   },
   {
    "duration": 18,
    "start_time": "2022-03-30T20:14:01.951Z"
   },
   {
    "duration": 18,
    "start_time": "2022-03-30T20:14:24.942Z"
   },
   {
    "duration": 11,
    "start_time": "2022-03-30T20:14:56.206Z"
   },
   {
    "duration": 27,
    "start_time": "2022-03-30T20:15:31.798Z"
   },
   {
    "duration": 23,
    "start_time": "2022-03-30T20:16:12.830Z"
   },
   {
    "duration": 5,
    "start_time": "2022-03-30T20:16:18.348Z"
   },
   {
    "duration": 26,
    "start_time": "2022-03-30T20:16:20.343Z"
   },
   {
    "duration": 4,
    "start_time": "2022-03-30T20:17:00.927Z"
   },
   {
    "duration": 23,
    "start_time": "2022-03-30T20:17:03.830Z"
   },
   {
    "duration": 26,
    "start_time": "2022-03-30T20:17:10.218Z"
   },
   {
    "duration": 15,
    "start_time": "2022-03-30T20:17:22.868Z"
   },
   {
    "duration": 28,
    "start_time": "2022-03-30T20:17:28.814Z"
   },
   {
    "duration": 16,
    "start_time": "2022-03-30T20:17:33.699Z"
   },
   {
    "duration": 4,
    "start_time": "2022-03-30T20:20:00.613Z"
   },
   {
    "duration": 24,
    "start_time": "2022-03-30T20:20:03.561Z"
   },
   {
    "duration": 24,
    "start_time": "2022-03-30T20:20:28.522Z"
   },
   {
    "duration": 17,
    "start_time": "2022-03-30T20:23:09.876Z"
   },
   {
    "duration": 12,
    "start_time": "2022-03-30T20:23:43.263Z"
   },
   {
    "duration": 27,
    "start_time": "2022-03-30T20:24:12.353Z"
   },
   {
    "duration": 16,
    "start_time": "2022-03-30T20:24:22.482Z"
   },
   {
    "duration": 27,
    "start_time": "2022-03-30T20:24:38.070Z"
   },
   {
    "duration": 17,
    "start_time": "2022-03-30T20:24:45.760Z"
   },
   {
    "duration": 10,
    "start_time": "2022-03-30T20:29:19.676Z"
   },
   {
    "duration": 38,
    "start_time": "2022-03-30T20:29:29.017Z"
   },
   {
    "duration": 12,
    "start_time": "2022-03-30T20:30:52.723Z"
   },
   {
    "duration": 11,
    "start_time": "2022-03-30T20:30:57.352Z"
   },
   {
    "duration": 8,
    "start_time": "2022-03-30T20:31:04.965Z"
   },
   {
    "duration": 16,
    "start_time": "2022-03-30T20:31:08.329Z"
   },
   {
    "duration": 15,
    "start_time": "2022-03-30T20:31:14.983Z"
   },
   {
    "duration": 15,
    "start_time": "2022-03-30T20:31:18.223Z"
   },
   {
    "duration": 13,
    "start_time": "2022-03-30T20:31:21.146Z"
   },
   {
    "duration": 18,
    "start_time": "2022-03-30T20:31:22.709Z"
   },
   {
    "duration": 16,
    "start_time": "2022-03-30T20:31:23.433Z"
   },
   {
    "duration": 8,
    "start_time": "2022-03-30T20:31:26.792Z"
   },
   {
    "duration": 14,
    "start_time": "2022-03-30T20:31:31.915Z"
   },
   {
    "duration": 11,
    "start_time": "2022-03-30T20:31:33.567Z"
   },
   {
    "duration": 4,
    "start_time": "2022-03-30T20:31:37.047Z"
   },
   {
    "duration": 27,
    "start_time": "2022-03-30T20:31:39.684Z"
   },
   {
    "duration": 18,
    "start_time": "2022-03-30T20:31:53.171Z"
   },
   {
    "duration": 30,
    "start_time": "2022-03-30T20:31:57.355Z"
   },
   {
    "duration": 20,
    "start_time": "2022-03-30T20:32:01.477Z"
   },
   {
    "duration": 44,
    "start_time": "2022-04-01T05:32:29.625Z"
   },
   {
    "duration": 370,
    "start_time": "2022-04-01T05:32:50.996Z"
   },
   {
    "duration": 135,
    "start_time": "2022-04-01T05:32:51.368Z"
   },
   {
    "duration": 15,
    "start_time": "2022-04-01T05:32:51.504Z"
   },
   {
    "duration": 25,
    "start_time": "2022-04-01T05:32:51.521Z"
   },
   {
    "duration": 3,
    "start_time": "2022-04-01T05:32:51.548Z"
   },
   {
    "duration": 31,
    "start_time": "2022-04-01T05:32:51.552Z"
   },
   {
    "duration": 3,
    "start_time": "2022-04-01T05:32:51.585Z"
   },
   {
    "duration": 23,
    "start_time": "2022-04-01T05:32:51.589Z"
   },
   {
    "duration": 16,
    "start_time": "2022-04-01T05:32:51.613Z"
   },
   {
    "duration": 21,
    "start_time": "2022-04-01T05:32:51.631Z"
   },
   {
    "duration": 79,
    "start_time": "2022-04-01T05:32:51.653Z"
   },
   {
    "duration": 77,
    "start_time": "2022-04-01T05:32:51.734Z"
   },
   {
    "duration": 53,
    "start_time": "2022-04-01T05:32:51.813Z"
   },
   {
    "duration": 44,
    "start_time": "2022-04-01T05:32:51.870Z"
   },
   {
    "duration": 3,
    "start_time": "2022-04-01T05:32:51.915Z"
   },
   {
    "duration": 32,
    "start_time": "2022-04-01T05:32:51.919Z"
   },
   {
    "duration": 44,
    "start_time": "2022-04-01T05:32:51.952Z"
   },
   {
    "duration": 10,
    "start_time": "2022-04-01T05:32:51.997Z"
   },
   {
    "duration": 9,
    "start_time": "2022-04-01T05:32:52.008Z"
   },
   {
    "duration": 4,
    "start_time": "2022-04-01T05:32:52.018Z"
   },
   {
    "duration": 22,
    "start_time": "2022-04-01T05:32:52.023Z"
   },
   {
    "duration": 35,
    "start_time": "2022-04-01T05:32:52.046Z"
   },
   {
    "duration": 13,
    "start_time": "2022-04-01T05:32:52.082Z"
   },
   {
    "duration": 11,
    "start_time": "2022-04-01T05:32:52.097Z"
   },
   {
    "duration": 14,
    "start_time": "2022-04-01T05:32:52.110Z"
   },
   {
    "duration": 12,
    "start_time": "2022-04-01T05:32:52.125Z"
   },
   {
    "duration": 7,
    "start_time": "2022-04-01T05:32:52.139Z"
   },
   {
    "duration": 36,
    "start_time": "2022-04-01T05:32:52.147Z"
   },
   {
    "duration": 9,
    "start_time": "2022-04-01T05:32:52.185Z"
   },
   {
    "duration": 4,
    "start_time": "2022-04-01T05:32:52.195Z"
   },
   {
    "duration": 27,
    "start_time": "2022-04-01T05:32:52.200Z"
   },
   {
    "duration": 14,
    "start_time": "2022-04-01T05:32:52.228Z"
   },
   {
    "duration": 56,
    "start_time": "2022-04-01T05:32:52.243Z"
   },
   {
    "duration": 17,
    "start_time": "2022-04-01T05:32:52.300Z"
   },
   {
    "duration": 2,
    "start_time": "2022-04-01T05:32:52.318Z"
   },
   {
    "duration": 5,
    "start_time": "2022-04-01T05:32:52.322Z"
   },
   {
    "duration": 5,
    "start_time": "2022-04-01T05:32:52.329Z"
   },
   {
    "duration": 5,
    "start_time": "2022-04-01T05:32:52.335Z"
   },
   {
    "duration": 2,
    "start_time": "2022-04-01T05:33:23.058Z"
   },
   {
    "duration": 163,
    "start_time": "2022-04-01T05:33:23.064Z"
   },
   {
    "duration": 10,
    "start_time": "2022-04-01T05:33:23.229Z"
   },
   {
    "duration": 28,
    "start_time": "2022-04-01T05:33:23.241Z"
   },
   {
    "duration": 3,
    "start_time": "2022-04-01T05:33:23.281Z"
   },
   {
    "duration": 10,
    "start_time": "2022-04-01T05:33:23.286Z"
   },
   {
    "duration": 3,
    "start_time": "2022-04-01T05:33:23.297Z"
   },
   {
    "duration": 24,
    "start_time": "2022-04-01T05:33:23.302Z"
   },
   {
    "duration": 17,
    "start_time": "2022-04-01T05:33:23.327Z"
   },
   {
    "duration": 46,
    "start_time": "2022-04-01T05:33:23.346Z"
   },
   {
    "duration": 62,
    "start_time": "2022-04-01T05:33:23.393Z"
   },
   {
    "duration": 85,
    "start_time": "2022-04-01T05:33:23.456Z"
   },
   {
    "duration": 56,
    "start_time": "2022-04-01T05:33:23.542Z"
   },
   {
    "duration": 36,
    "start_time": "2022-04-01T05:33:23.599Z"
   },
   {
    "duration": 3,
    "start_time": "2022-04-01T05:33:23.638Z"
   },
   {
    "duration": 6,
    "start_time": "2022-04-01T05:33:23.642Z"
   },
   {
    "duration": 0,
    "start_time": "2022-04-01T05:33:23.649Z"
   },
   {
    "duration": 0,
    "start_time": "2022-04-01T05:33:23.650Z"
   },
   {
    "duration": 0,
    "start_time": "2022-04-01T05:33:23.651Z"
   },
   {
    "duration": 0,
    "start_time": "2022-04-01T05:33:23.652Z"
   },
   {
    "duration": 0,
    "start_time": "2022-04-01T05:33:23.681Z"
   },
   {
    "duration": 0,
    "start_time": "2022-04-01T05:33:23.682Z"
   },
   {
    "duration": 0,
    "start_time": "2022-04-01T05:33:23.683Z"
   },
   {
    "duration": 0,
    "start_time": "2022-04-01T05:33:23.684Z"
   },
   {
    "duration": 0,
    "start_time": "2022-04-01T05:33:23.685Z"
   },
   {
    "duration": 0,
    "start_time": "2022-04-01T05:33:23.685Z"
   },
   {
    "duration": 0,
    "start_time": "2022-04-01T05:33:23.686Z"
   },
   {
    "duration": 0,
    "start_time": "2022-04-01T05:33:23.687Z"
   },
   {
    "duration": 0,
    "start_time": "2022-04-01T05:33:23.688Z"
   },
   {
    "duration": 0,
    "start_time": "2022-04-01T05:33:23.689Z"
   },
   {
    "duration": 0,
    "start_time": "2022-04-01T05:33:23.690Z"
   },
   {
    "duration": 0,
    "start_time": "2022-04-01T05:33:23.691Z"
   },
   {
    "duration": 0,
    "start_time": "2022-04-01T05:33:23.692Z"
   },
   {
    "duration": 0,
    "start_time": "2022-04-01T05:33:23.693Z"
   },
   {
    "duration": 0,
    "start_time": "2022-04-01T05:33:23.694Z"
   },
   {
    "duration": 0,
    "start_time": "2022-04-01T05:33:23.695Z"
   },
   {
    "duration": 0,
    "start_time": "2022-04-01T05:33:23.695Z"
   },
   {
    "duration": 0,
    "start_time": "2022-04-01T05:33:23.697Z"
   },
   {
    "duration": 2,
    "start_time": "2022-04-01T05:34:08.338Z"
   },
   {
    "duration": 155,
    "start_time": "2022-04-01T05:34:08.342Z"
   },
   {
    "duration": 10,
    "start_time": "2022-04-01T05:34:08.499Z"
   },
   {
    "duration": 32,
    "start_time": "2022-04-01T05:34:08.511Z"
   },
   {
    "duration": 3,
    "start_time": "2022-04-01T05:34:08.545Z"
   },
   {
    "duration": 10,
    "start_time": "2022-04-01T05:34:08.549Z"
   },
   {
    "duration": 22,
    "start_time": "2022-04-01T05:34:08.560Z"
   },
   {
    "duration": 24,
    "start_time": "2022-04-01T05:34:08.583Z"
   },
   {
    "duration": 17,
    "start_time": "2022-04-01T05:34:08.608Z"
   },
   {
    "duration": 21,
    "start_time": "2022-04-01T05:34:08.626Z"
   },
   {
    "duration": 79,
    "start_time": "2022-04-01T05:34:08.650Z"
   },
   {
    "duration": 78,
    "start_time": "2022-04-01T05:34:08.730Z"
   },
   {
    "duration": 57,
    "start_time": "2022-04-01T05:34:08.810Z"
   },
   {
    "duration": 48,
    "start_time": "2022-04-01T05:34:08.869Z"
   },
   {
    "duration": 3,
    "start_time": "2022-04-01T05:34:08.919Z"
   },
   {
    "duration": 21,
    "start_time": "2022-04-01T05:34:08.923Z"
   },
   {
    "duration": 53,
    "start_time": "2022-04-01T05:34:08.945Z"
   },
   {
    "duration": 11,
    "start_time": "2022-04-01T05:34:09.000Z"
   },
   {
    "duration": 14,
    "start_time": "2022-04-01T05:34:09.012Z"
   },
   {
    "duration": 3,
    "start_time": "2022-04-01T05:34:09.028Z"
   },
   {
    "duration": 21,
    "start_time": "2022-04-01T05:34:09.033Z"
   },
   {
    "duration": 35,
    "start_time": "2022-04-01T05:34:09.056Z"
   },
   {
    "duration": 14,
    "start_time": "2022-04-01T05:34:09.093Z"
   },
   {
    "duration": 13,
    "start_time": "2022-04-01T05:34:09.109Z"
   },
   {
    "duration": 16,
    "start_time": "2022-04-01T05:34:09.123Z"
   },
   {
    "duration": 46,
    "start_time": "2022-04-01T05:34:09.141Z"
   },
   {
    "duration": 8,
    "start_time": "2022-04-01T05:34:09.189Z"
   },
   {
    "duration": 15,
    "start_time": "2022-04-01T05:34:09.198Z"
   },
   {
    "duration": 11,
    "start_time": "2022-04-01T05:34:09.216Z"
   },
   {
    "duration": 4,
    "start_time": "2022-04-01T05:34:09.228Z"
   },
   {
    "duration": 49,
    "start_time": "2022-04-01T05:34:09.233Z"
   },
   {
    "duration": 16,
    "start_time": "2022-04-01T05:34:09.283Z"
   },
   {
    "duration": 27,
    "start_time": "2022-04-01T05:34:09.300Z"
   },
   {
    "duration": 16,
    "start_time": "2022-04-01T05:34:09.328Z"
   },
   {
    "duration": 3,
    "start_time": "2022-04-01T05:34:09.345Z"
   },
   {
    "duration": 8,
    "start_time": "2022-04-01T05:34:09.349Z"
   },
   {
    "duration": 2,
    "start_time": "2022-04-01T05:34:09.382Z"
   },
   {
    "duration": 7,
    "start_time": "2022-04-01T05:34:09.385Z"
   },
   {
    "duration": 2,
    "start_time": "2022-04-01T05:34:40.416Z"
   },
   {
    "duration": 147,
    "start_time": "2022-04-01T05:34:40.420Z"
   },
   {
    "duration": 15,
    "start_time": "2022-04-01T05:34:40.569Z"
   },
   {
    "duration": 29,
    "start_time": "2022-04-01T05:34:40.585Z"
   },
   {
    "duration": 3,
    "start_time": "2022-04-01T05:34:40.615Z"
   },
   {
    "duration": 12,
    "start_time": "2022-04-01T05:34:40.620Z"
   },
   {
    "duration": 4,
    "start_time": "2022-04-01T05:34:40.633Z"
   },
   {
    "duration": 43,
    "start_time": "2022-04-01T05:34:40.638Z"
   },
   {
    "duration": 17,
    "start_time": "2022-04-01T05:34:40.683Z"
   },
   {
    "duration": 23,
    "start_time": "2022-04-01T05:34:40.702Z"
   },
   {
    "duration": 85,
    "start_time": "2022-04-01T05:34:40.727Z"
   },
   {
    "duration": 76,
    "start_time": "2022-04-01T05:34:40.814Z"
   },
   {
    "duration": 53,
    "start_time": "2022-04-01T05:34:40.892Z"
   },
   {
    "duration": 49,
    "start_time": "2022-04-01T05:34:40.947Z"
   },
   {
    "duration": 3,
    "start_time": "2022-04-01T05:34:40.998Z"
   },
   {
    "duration": 17,
    "start_time": "2022-04-01T05:34:41.002Z"
   },
   {
    "duration": 37,
    "start_time": "2022-04-01T05:34:41.021Z"
   },
   {
    "duration": 27,
    "start_time": "2022-04-01T05:34:41.059Z"
   },
   {
    "duration": 11,
    "start_time": "2022-04-01T05:34:41.087Z"
   },
   {
    "duration": 6,
    "start_time": "2022-04-01T05:34:41.099Z"
   },
   {
    "duration": 19,
    "start_time": "2022-04-01T05:34:41.106Z"
   },
   {
    "duration": 15,
    "start_time": "2022-04-01T05:34:41.126Z"
   },
   {
    "duration": 44,
    "start_time": "2022-04-01T05:34:41.143Z"
   },
   {
    "duration": 15,
    "start_time": "2022-04-01T05:34:41.191Z"
   },
   {
    "duration": 18,
    "start_time": "2022-04-01T05:34:41.207Z"
   },
   {
    "duration": 14,
    "start_time": "2022-04-01T05:34:41.227Z"
   },
   {
    "duration": 41,
    "start_time": "2022-04-01T05:34:41.243Z"
   },
   {
    "duration": 15,
    "start_time": "2022-04-01T05:34:41.286Z"
   },
   {
    "duration": 12,
    "start_time": "2022-04-01T05:34:41.303Z"
   },
   {
    "duration": 4,
    "start_time": "2022-04-01T05:34:41.316Z"
   },
   {
    "duration": 31,
    "start_time": "2022-04-01T05:34:41.322Z"
   },
   {
    "duration": 35,
    "start_time": "2022-04-01T05:34:41.354Z"
   },
   {
    "duration": 26,
    "start_time": "2022-04-01T05:34:41.390Z"
   },
   {
    "duration": 16,
    "start_time": "2022-04-01T05:34:41.417Z"
   },
   {
    "duration": 3,
    "start_time": "2022-04-01T05:34:41.434Z"
   },
   {
    "duration": 10,
    "start_time": "2022-04-01T05:34:41.438Z"
   },
   {
    "duration": 5,
    "start_time": "2022-04-01T05:34:41.449Z"
   },
   {
    "duration": 26,
    "start_time": "2022-04-01T05:34:41.455Z"
   },
   {
    "duration": 17,
    "start_time": "2022-04-01T05:36:25.460Z"
   },
   {
    "duration": 12,
    "start_time": "2022-04-01T05:36:38.276Z"
   },
   {
    "duration": 4,
    "start_time": "2022-04-01T05:37:12.334Z"
   },
   {
    "duration": 24,
    "start_time": "2022-04-01T05:37:15.070Z"
   },
   {
    "duration": 15,
    "start_time": "2022-04-01T05:37:26.809Z"
   },
   {
    "duration": 4,
    "start_time": "2022-04-01T05:38:06.749Z"
   },
   {
    "duration": 24,
    "start_time": "2022-04-01T05:38:09.506Z"
   },
   {
    "duration": 14,
    "start_time": "2022-04-01T05:38:12.578Z"
   },
   {
    "duration": 18,
    "start_time": "2022-04-01T05:39:23.999Z"
   },
   {
    "duration": 10,
    "start_time": "2022-04-01T05:39:41.338Z"
   },
   {
    "duration": 67,
    "start_time": "2022-04-01T05:48:36.236Z"
   },
   {
    "duration": 36,
    "start_time": "2022-04-01T05:48:48.574Z"
   },
   {
    "duration": 2,
    "start_time": "2022-04-01T05:54:05.233Z"
   },
   {
    "duration": 139,
    "start_time": "2022-04-01T05:54:05.237Z"
   },
   {
    "duration": 9,
    "start_time": "2022-04-01T05:54:05.378Z"
   },
   {
    "duration": 28,
    "start_time": "2022-04-01T05:54:05.389Z"
   },
   {
    "duration": 3,
    "start_time": "2022-04-01T05:54:05.419Z"
   },
   {
    "duration": 10,
    "start_time": "2022-04-01T05:54:05.424Z"
   },
   {
    "duration": 3,
    "start_time": "2022-04-01T05:54:05.435Z"
   },
   {
    "duration": 41,
    "start_time": "2022-04-01T05:54:05.440Z"
   },
   {
    "duration": 17,
    "start_time": "2022-04-01T05:54:05.482Z"
   },
   {
    "duration": 26,
    "start_time": "2022-04-01T05:54:05.501Z"
   },
   {
    "duration": 69,
    "start_time": "2022-04-01T05:54:05.530Z"
   },
   {
    "duration": 61,
    "start_time": "2022-04-01T05:54:05.601Z"
   },
   {
    "duration": 61,
    "start_time": "2022-04-01T05:54:05.664Z"
   },
   {
    "duration": 38,
    "start_time": "2022-04-01T05:54:05.727Z"
   },
   {
    "duration": 17,
    "start_time": "2022-04-01T05:54:05.766Z"
   },
   {
    "duration": 16,
    "start_time": "2022-04-01T05:54:05.785Z"
   },
   {
    "duration": 35,
    "start_time": "2022-04-01T05:54:05.803Z"
   },
   {
    "duration": 10,
    "start_time": "2022-04-01T05:54:05.839Z"
   },
   {
    "duration": 31,
    "start_time": "2022-04-01T05:54:05.850Z"
   },
   {
    "duration": 3,
    "start_time": "2022-04-01T05:54:05.883Z"
   },
   {
    "duration": 22,
    "start_time": "2022-04-01T05:54:05.888Z"
   },
   {
    "duration": 13,
    "start_time": "2022-04-01T05:54:05.911Z"
   },
   {
    "duration": 13,
    "start_time": "2022-04-01T05:54:05.926Z"
   },
   {
    "duration": 12,
    "start_time": "2022-04-01T05:54:05.941Z"
   },
   {
    "duration": 39,
    "start_time": "2022-04-01T05:54:05.954Z"
   },
   {
    "duration": 12,
    "start_time": "2022-04-01T05:54:05.994Z"
   },
   {
    "duration": 7,
    "start_time": "2022-04-01T05:54:06.008Z"
   },
   {
    "duration": 17,
    "start_time": "2022-04-01T05:54:06.017Z"
   },
   {
    "duration": 11,
    "start_time": "2022-04-01T05:54:06.037Z"
   },
   {
    "duration": 4,
    "start_time": "2022-04-01T05:54:06.049Z"
   },
   {
    "duration": 24,
    "start_time": "2022-04-01T05:54:06.082Z"
   },
   {
    "duration": 14,
    "start_time": "2022-04-01T05:54:06.107Z"
   },
   {
    "duration": 24,
    "start_time": "2022-04-01T05:54:06.122Z"
   },
   {
    "duration": 40,
    "start_time": "2022-04-01T05:54:06.148Z"
   },
   {
    "duration": 2,
    "start_time": "2022-04-01T05:54:06.189Z"
   },
   {
    "duration": 8,
    "start_time": "2022-04-01T05:54:06.193Z"
   },
   {
    "duration": 6,
    "start_time": "2022-04-01T05:54:06.203Z"
   },
   {
    "duration": 6,
    "start_time": "2022-04-01T05:54:06.210Z"
   },
   {
    "duration": 4,
    "start_time": "2022-04-01T06:08:47.039Z"
   },
   {
    "duration": 23,
    "start_time": "2022-04-01T06:08:49.242Z"
   },
   {
    "duration": 3,
    "start_time": "2022-04-01T06:08:56.893Z"
   },
   {
    "duration": 24,
    "start_time": "2022-04-01T06:08:59.254Z"
   },
   {
    "duration": 29,
    "start_time": "2022-04-01T06:11:12.795Z"
   },
   {
    "duration": 28,
    "start_time": "2022-04-01T06:11:18.813Z"
   },
   {
    "duration": 31,
    "start_time": "2022-04-01T06:11:27.317Z"
   },
   {
    "duration": 28,
    "start_time": "2022-04-01T06:12:06.069Z"
   },
   {
    "duration": 31,
    "start_time": "2022-04-01T06:12:32.983Z"
   },
   {
    "duration": 28,
    "start_time": "2022-04-01T06:13:04.343Z"
   },
   {
    "duration": 16,
    "start_time": "2022-04-01T06:13:33.659Z"
   },
   {
    "duration": 23,
    "start_time": "2022-04-01T06:13:44.943Z"
   },
   {
    "duration": 4,
    "start_time": "2022-04-01T06:14:41.531Z"
   },
   {
    "duration": 17,
    "start_time": "2022-04-01T06:14:44.680Z"
   },
   {
    "duration": 10,
    "start_time": "2022-04-01T06:14:59.906Z"
   },
   {
    "duration": 3,
    "start_time": "2022-04-01T06:15:03.408Z"
   },
   {
    "duration": 151,
    "start_time": "2022-04-01T06:15:03.412Z"
   },
   {
    "duration": 16,
    "start_time": "2022-04-01T06:15:03.565Z"
   },
   {
    "duration": 34,
    "start_time": "2022-04-01T06:15:03.582Z"
   },
   {
    "duration": 4,
    "start_time": "2022-04-01T06:15:03.618Z"
   },
   {
    "duration": 12,
    "start_time": "2022-04-01T06:15:03.623Z"
   },
   {
    "duration": 3,
    "start_time": "2022-04-01T06:15:03.636Z"
   },
   {
    "duration": 41,
    "start_time": "2022-04-01T06:15:03.641Z"
   },
   {
    "duration": 18,
    "start_time": "2022-04-01T06:15:03.684Z"
   },
   {
    "duration": 22,
    "start_time": "2022-04-01T06:15:03.704Z"
   },
   {
    "duration": 73,
    "start_time": "2022-04-01T06:15:03.727Z"
   },
   {
    "duration": 63,
    "start_time": "2022-04-01T06:15:03.802Z"
   },
   {
    "duration": 65,
    "start_time": "2022-04-01T06:15:03.867Z"
   },
   {
    "duration": 49,
    "start_time": "2022-04-01T06:15:03.934Z"
   },
   {
    "duration": 4,
    "start_time": "2022-04-01T06:15:03.984Z"
   },
   {
    "duration": 16,
    "start_time": "2022-04-01T06:15:03.990Z"
   },
   {
    "duration": 36,
    "start_time": "2022-04-01T06:15:04.007Z"
   },
   {
    "duration": 10,
    "start_time": "2022-04-01T06:15:04.044Z"
   },
   {
    "duration": 32,
    "start_time": "2022-04-01T06:15:04.056Z"
   },
   {
    "duration": 3,
    "start_time": "2022-04-01T06:15:04.090Z"
   },
   {
    "duration": 23,
    "start_time": "2022-04-01T06:15:04.095Z"
   },
   {
    "duration": 14,
    "start_time": "2022-04-01T06:15:04.119Z"
   },
   {
    "duration": 14,
    "start_time": "2022-04-01T06:15:04.135Z"
   },
   {
    "duration": 37,
    "start_time": "2022-04-01T06:15:04.153Z"
   },
   {
    "duration": 16,
    "start_time": "2022-04-01T06:15:04.191Z"
   },
   {
    "duration": 13,
    "start_time": "2022-04-01T06:15:04.209Z"
   },
   {
    "duration": 7,
    "start_time": "2022-04-01T06:15:04.224Z"
   },
   {
    "duration": 14,
    "start_time": "2022-04-01T06:15:04.233Z"
   },
   {
    "duration": 41,
    "start_time": "2022-04-01T06:15:04.248Z"
   },
   {
    "duration": 5,
    "start_time": "2022-04-01T06:15:04.290Z"
   },
   {
    "duration": 19,
    "start_time": "2022-04-01T06:15:04.296Z"
   },
   {
    "duration": 11,
    "start_time": "2022-04-01T06:15:04.316Z"
   },
   {
    "duration": 14,
    "start_time": "2022-04-01T06:15:04.328Z"
   },
   {
    "duration": 43,
    "start_time": "2022-04-01T06:15:04.344Z"
   },
   {
    "duration": 2,
    "start_time": "2022-04-01T06:15:04.388Z"
   },
   {
    "duration": 5,
    "start_time": "2022-04-01T06:15:04.392Z"
   },
   {
    "duration": 7,
    "start_time": "2022-04-01T06:15:04.398Z"
   },
   {
    "duration": 4,
    "start_time": "2022-04-01T06:15:04.406Z"
   },
   {
    "duration": 48,
    "start_time": "2022-04-01T06:21:40.869Z"
   },
   {
    "duration": 27,
    "start_time": "2022-04-01T06:22:02.789Z"
   },
   {
    "duration": 8,
    "start_time": "2022-04-01T06:22:17.986Z"
   },
   {
    "duration": 5,
    "start_time": "2022-04-01T06:22:48.117Z"
   },
   {
    "duration": 2,
    "start_time": "2022-04-01T06:23:46.820Z"
   },
   {
    "duration": 6,
    "start_time": "2022-04-01T06:24:12.221Z"
   },
   {
    "duration": 5,
    "start_time": "2022-04-01T06:24:27.417Z"
   },
   {
    "duration": 5,
    "start_time": "2022-04-01T06:24:50.238Z"
   },
   {
    "duration": 2,
    "start_time": "2022-04-01T06:26:22.630Z"
   },
   {
    "duration": 179,
    "start_time": "2022-04-01T06:26:22.635Z"
   },
   {
    "duration": 12,
    "start_time": "2022-04-01T06:26:22.815Z"
   },
   {
    "duration": 30,
    "start_time": "2022-04-01T06:26:22.829Z"
   },
   {
    "duration": 3,
    "start_time": "2022-04-01T06:26:22.861Z"
   },
   {
    "duration": 9,
    "start_time": "2022-04-01T06:26:22.881Z"
   },
   {
    "duration": 3,
    "start_time": "2022-04-01T06:26:22.892Z"
   },
   {
    "duration": 26,
    "start_time": "2022-04-01T06:26:22.896Z"
   },
   {
    "duration": 17,
    "start_time": "2022-04-01T06:26:22.924Z"
   },
   {
    "duration": 39,
    "start_time": "2022-04-01T06:26:22.943Z"
   },
   {
    "duration": 66,
    "start_time": "2022-04-01T06:26:22.983Z"
   },
   {
    "duration": 92,
    "start_time": "2022-04-01T06:26:23.051Z"
   },
   {
    "duration": 64,
    "start_time": "2022-04-01T06:26:23.145Z"
   },
   {
    "duration": 40,
    "start_time": "2022-04-01T06:26:23.210Z"
   },
   {
    "duration": 3,
    "start_time": "2022-04-01T06:26:23.252Z"
   },
   {
    "duration": 29,
    "start_time": "2022-04-01T06:26:23.257Z"
   },
   {
    "duration": 35,
    "start_time": "2022-04-01T06:26:23.287Z"
   },
   {
    "duration": 10,
    "start_time": "2022-04-01T06:26:23.323Z"
   },
   {
    "duration": 11,
    "start_time": "2022-04-01T06:26:23.335Z"
   },
   {
    "duration": 3,
    "start_time": "2022-04-01T06:26:23.348Z"
   },
   {
    "duration": 38,
    "start_time": "2022-04-01T06:26:23.352Z"
   },
   {
    "duration": 13,
    "start_time": "2022-04-01T06:26:23.392Z"
   },
   {
    "duration": 14,
    "start_time": "2022-04-01T06:26:23.406Z"
   },
   {
    "duration": 13,
    "start_time": "2022-04-01T06:26:23.423Z"
   },
   {
    "duration": 45,
    "start_time": "2022-04-01T06:26:23.438Z"
   },
   {
    "duration": 15,
    "start_time": "2022-04-01T06:26:23.485Z"
   },
   {
    "duration": 31,
    "start_time": "2022-04-01T06:26:23.502Z"
   },
   {
    "duration": 44,
    "start_time": "2022-04-01T06:26:23.535Z"
   },
   {
    "duration": 11,
    "start_time": "2022-04-01T06:26:23.580Z"
   },
   {
    "duration": 3,
    "start_time": "2022-04-01T06:26:23.593Z"
   },
   {
    "duration": 21,
    "start_time": "2022-04-01T06:26:23.598Z"
   },
   {
    "duration": 11,
    "start_time": "2022-04-01T06:26:23.620Z"
   },
   {
    "duration": 15,
    "start_time": "2022-04-01T06:26:23.632Z"
   },
   {
    "duration": 34,
    "start_time": "2022-04-01T06:26:23.648Z"
   },
   {
    "duration": 9,
    "start_time": "2022-04-01T06:26:23.683Z"
   },
   {
    "duration": 4,
    "start_time": "2022-04-01T06:26:23.694Z"
   },
   {
    "duration": 8,
    "start_time": "2022-04-01T06:26:23.699Z"
   },
   {
    "duration": 4,
    "start_time": "2022-04-01T06:26:23.708Z"
   },
   {
    "duration": 412,
    "start_time": "2022-04-11T20:48:11.210Z"
   },
   {
    "duration": 151,
    "start_time": "2022-04-11T20:48:11.624Z"
   },
   {
    "duration": 17,
    "start_time": "2022-04-11T20:48:11.777Z"
   },
   {
    "duration": 33,
    "start_time": "2022-04-11T20:48:11.796Z"
   },
   {
    "duration": 3,
    "start_time": "2022-04-11T20:48:11.831Z"
   },
   {
    "duration": 13,
    "start_time": "2022-04-11T20:48:11.836Z"
   },
   {
    "duration": 4,
    "start_time": "2022-04-11T20:48:11.851Z"
   },
   {
    "duration": 52,
    "start_time": "2022-04-11T20:48:11.857Z"
   },
   {
    "duration": 17,
    "start_time": "2022-04-11T20:48:11.911Z"
   },
   {
    "duration": 24,
    "start_time": "2022-04-11T20:48:11.931Z"
   },
   {
    "duration": 87,
    "start_time": "2022-04-11T20:48:11.956Z"
   },
   {
    "duration": 79,
    "start_time": "2022-04-11T20:48:12.045Z"
   },
   {
    "duration": 58,
    "start_time": "2022-04-11T20:48:12.126Z"
   },
   {
    "duration": 52,
    "start_time": "2022-04-11T20:48:12.185Z"
   },
   {
    "duration": 3,
    "start_time": "2022-04-11T20:48:12.239Z"
   },
   {
    "duration": 13,
    "start_time": "2022-04-11T20:48:12.244Z"
   },
   {
    "duration": 61,
    "start_time": "2022-04-11T20:48:12.259Z"
   },
   {
    "duration": 11,
    "start_time": "2022-04-11T20:48:12.322Z"
   },
   {
    "duration": 11,
    "start_time": "2022-04-11T20:48:12.335Z"
   },
   {
    "duration": 3,
    "start_time": "2022-04-11T20:48:12.348Z"
   },
   {
    "duration": 22,
    "start_time": "2022-04-11T20:48:12.353Z"
   },
   {
    "duration": 42,
    "start_time": "2022-04-11T20:48:12.376Z"
   },
   {
    "duration": 14,
    "start_time": "2022-04-11T20:48:12.420Z"
   },
   {
    "duration": 14,
    "start_time": "2022-04-11T20:48:12.436Z"
   },
   {
    "duration": 16,
    "start_time": "2022-04-11T20:48:12.452Z"
   },
   {
    "duration": 49,
    "start_time": "2022-04-11T20:48:12.470Z"
   },
   {
    "duration": 9,
    "start_time": "2022-04-11T20:48:12.520Z"
   },
   {
    "duration": 14,
    "start_time": "2022-04-11T20:48:12.532Z"
   },
   {
    "duration": 9,
    "start_time": "2022-04-11T20:48:12.547Z"
   },
   {
    "duration": 8,
    "start_time": "2022-04-11T20:48:12.558Z"
   },
   {
    "duration": 45,
    "start_time": "2022-04-11T20:48:12.567Z"
   },
   {
    "duration": 12,
    "start_time": "2022-04-11T20:48:12.614Z"
   },
   {
    "duration": 15,
    "start_time": "2022-04-11T20:48:12.628Z"
   },
   {
    "duration": 11,
    "start_time": "2022-04-11T20:48:12.645Z"
   },
   {
    "duration": 8,
    "start_time": "2022-04-11T20:48:12.657Z"
   },
   {
    "duration": 4,
    "start_time": "2022-04-11T20:48:12.667Z"
   },
   {
    "duration": 6,
    "start_time": "2022-04-11T20:48:12.709Z"
   },
   {
    "duration": 4,
    "start_time": "2022-04-11T20:48:12.717Z"
   },
   {
    "duration": 378,
    "start_time": "2022-04-11T21:10:07.158Z"
   },
   {
    "duration": 162,
    "start_time": "2022-04-11T21:10:07.538Z"
   },
   {
    "duration": 18,
    "start_time": "2022-04-11T21:10:07.708Z"
   },
   {
    "duration": 31,
    "start_time": "2022-04-11T21:10:07.729Z"
   },
   {
    "duration": 3,
    "start_time": "2022-04-11T21:10:07.762Z"
   },
   {
    "duration": 16,
    "start_time": "2022-04-11T21:10:07.767Z"
   },
   {
    "duration": 3,
    "start_time": "2022-04-11T21:10:07.809Z"
   },
   {
    "duration": 28,
    "start_time": "2022-04-11T21:10:07.814Z"
   },
   {
    "duration": 20,
    "start_time": "2022-04-11T21:10:07.844Z"
   },
   {
    "duration": 55,
    "start_time": "2022-04-11T21:10:07.867Z"
   },
   {
    "duration": 85,
    "start_time": "2022-04-11T21:10:07.924Z"
   },
   {
    "duration": 78,
    "start_time": "2022-04-11T21:10:08.011Z"
   },
   {
    "duration": 74,
    "start_time": "2022-04-11T21:10:08.091Z"
   },
   {
    "duration": 57,
    "start_time": "2022-04-11T21:10:08.167Z"
   },
   {
    "duration": 3,
    "start_time": "2022-04-11T21:10:08.226Z"
   },
   {
    "duration": 16,
    "start_time": "2022-04-11T21:10:08.231Z"
   },
   {
    "duration": 41,
    "start_time": "2022-04-11T21:10:08.248Z"
   },
   {
    "duration": 12,
    "start_time": "2022-04-11T21:10:08.309Z"
   },
   {
    "duration": 11,
    "start_time": "2022-04-11T21:10:08.323Z"
   },
   {
    "duration": 4,
    "start_time": "2022-04-11T21:10:08.336Z"
   },
   {
    "duration": 25,
    "start_time": "2022-04-11T21:10:08.341Z"
   },
   {
    "duration": 46,
    "start_time": "2022-04-11T21:10:08.367Z"
   },
   {
    "duration": 17,
    "start_time": "2022-04-11T21:10:08.414Z"
   },
   {
    "duration": 14,
    "start_time": "2022-04-11T21:10:08.432Z"
   },
   {
    "duration": 17,
    "start_time": "2022-04-11T21:10:08.448Z"
   },
   {
    "duration": 44,
    "start_time": "2022-04-11T21:10:08.466Z"
   },
   {
    "duration": 9,
    "start_time": "2022-04-11T21:10:08.512Z"
   },
   {
    "duration": 12,
    "start_time": "2022-04-11T21:10:08.524Z"
   },
   {
    "duration": 10,
    "start_time": "2022-04-11T21:10:08.537Z"
   },
   {
    "duration": 4,
    "start_time": "2022-04-11T21:10:08.549Z"
   },
   {
    "duration": 55,
    "start_time": "2022-04-11T21:10:08.555Z"
   },
   {
    "duration": 14,
    "start_time": "2022-04-11T21:10:08.612Z"
   },
   {
    "duration": 18,
    "start_time": "2022-04-11T21:10:08.627Z"
   },
   {
    "duration": 12,
    "start_time": "2022-04-11T21:10:08.646Z"
   },
   {
    "duration": 9,
    "start_time": "2022-04-11T21:10:08.659Z"
   },
   {
    "duration": 40,
    "start_time": "2022-04-11T21:10:08.669Z"
   },
   {
    "duration": 6,
    "start_time": "2022-04-11T21:10:08.711Z"
   },
   {
    "duration": 5,
    "start_time": "2022-04-11T21:10:08.719Z"
   },
   {
    "duration": 69,
    "start_time": "2022-04-11T21:10:08.725Z"
   },
   {
    "duration": 45,
    "start_time": "2022-04-12T06:39:45.951Z"
   },
   {
    "duration": 385,
    "start_time": "2022-04-12T06:39:57.792Z"
   },
   {
    "duration": 151,
    "start_time": "2022-04-12T06:39:58.179Z"
   },
   {
    "duration": 19,
    "start_time": "2022-04-12T06:39:58.331Z"
   },
   {
    "duration": 38,
    "start_time": "2022-04-12T06:39:58.352Z"
   },
   {
    "duration": 4,
    "start_time": "2022-04-12T06:39:58.392Z"
   },
   {
    "duration": 20,
    "start_time": "2022-04-12T06:39:58.397Z"
   },
   {
    "duration": 9,
    "start_time": "2022-04-12T06:39:58.419Z"
   },
   {
    "duration": 27,
    "start_time": "2022-04-12T06:39:58.430Z"
   },
   {
    "duration": 17,
    "start_time": "2022-04-12T06:39:58.473Z"
   },
   {
    "duration": 22,
    "start_time": "2022-04-12T06:39:58.493Z"
   },
   {
    "duration": 76,
    "start_time": "2022-04-12T06:39:58.517Z"
   },
   {
    "duration": 79,
    "start_time": "2022-04-12T06:39:58.595Z"
   },
   {
    "duration": 55,
    "start_time": "2022-04-12T06:39:58.675Z"
   },
   {
    "duration": 48,
    "start_time": "2022-04-12T06:39:58.732Z"
   },
   {
    "duration": 3,
    "start_time": "2022-04-12T06:39:58.782Z"
   },
   {
    "duration": 18,
    "start_time": "2022-04-12T06:39:58.787Z"
   },
   {
    "duration": 37,
    "start_time": "2022-04-12T06:39:58.806Z"
   },
   {
    "duration": 31,
    "start_time": "2022-04-12T06:39:58.844Z"
   },
   {
    "duration": 10,
    "start_time": "2022-04-12T06:39:58.876Z"
   },
   {
    "duration": 3,
    "start_time": "2022-04-12T06:39:58.888Z"
   },
   {
    "duration": 23,
    "start_time": "2022-04-12T06:39:58.893Z"
   },
   {
    "duration": 14,
    "start_time": "2022-04-12T06:39:58.918Z"
   },
   {
    "duration": 41,
    "start_time": "2022-04-12T06:39:58.933Z"
   },
   {
    "duration": 14,
    "start_time": "2022-04-12T06:39:58.976Z"
   },
   {
    "duration": 16,
    "start_time": "2022-04-12T06:39:58.992Z"
   },
   {
    "duration": 14,
    "start_time": "2022-04-12T06:39:59.009Z"
   },
   {
    "duration": 9,
    "start_time": "2022-04-12T06:39:59.024Z"
   },
   {
    "duration": 40,
    "start_time": "2022-04-12T06:39:59.036Z"
   },
   {
    "duration": 9,
    "start_time": "2022-04-12T06:39:59.078Z"
   },
   {
    "duration": 5,
    "start_time": "2022-04-12T06:39:59.088Z"
   },
   {
    "duration": 22,
    "start_time": "2022-04-12T06:39:59.095Z"
   },
   {
    "duration": 11,
    "start_time": "2022-04-12T06:39:59.119Z"
   },
   {
    "duration": 15,
    "start_time": "2022-04-12T06:39:59.132Z"
   },
   {
    "duration": 12,
    "start_time": "2022-04-12T06:39:59.173Z"
   },
   {
    "duration": 12,
    "start_time": "2022-04-12T06:39:59.186Z"
   },
   {
    "duration": 5,
    "start_time": "2022-04-12T06:39:59.199Z"
   },
   {
    "duration": 7,
    "start_time": "2022-04-12T06:39:59.205Z"
   },
   {
    "duration": 5,
    "start_time": "2022-04-12T06:39:59.213Z"
   },
   {
    "duration": 82,
    "start_time": "2022-04-12T06:41:36.508Z"
   },
   {
    "duration": 4,
    "start_time": "2022-04-12T06:43:41.144Z"
   },
   {
    "duration": 4,
    "start_time": "2022-04-12T06:49:25.089Z"
   },
   {
    "duration": 87,
    "start_time": "2022-04-12T06:50:42.268Z"
   },
   {
    "duration": 10,
    "start_time": "2022-04-12T06:51:55.735Z"
   },
   {
    "duration": 23,
    "start_time": "2022-04-12T06:52:14.013Z"
   },
   {
    "duration": 22,
    "start_time": "2022-04-12T06:52:36.939Z"
   },
   {
    "duration": 23,
    "start_time": "2022-04-12T06:52:48.855Z"
   },
   {
    "duration": 3,
    "start_time": "2022-04-12T06:52:54.260Z"
   },
   {
    "duration": 154,
    "start_time": "2022-04-12T06:52:54.265Z"
   },
   {
    "duration": 9,
    "start_time": "2022-04-12T06:52:54.421Z"
   },
   {
    "duration": 44,
    "start_time": "2022-04-12T06:52:54.432Z"
   },
   {
    "duration": 4,
    "start_time": "2022-04-12T06:52:54.478Z"
   },
   {
    "duration": 10,
    "start_time": "2022-04-12T06:52:54.483Z"
   },
   {
    "duration": 4,
    "start_time": "2022-04-12T06:52:54.495Z"
   },
   {
    "duration": 26,
    "start_time": "2022-04-12T06:52:54.500Z"
   },
   {
    "duration": 47,
    "start_time": "2022-04-12T06:52:54.527Z"
   },
   {
    "duration": 24,
    "start_time": "2022-04-12T06:52:54.576Z"
   },
   {
    "duration": 71,
    "start_time": "2022-04-12T06:52:54.603Z"
   },
   {
    "duration": 65,
    "start_time": "2022-04-12T06:52:54.676Z"
   },
   {
    "duration": 71,
    "start_time": "2022-04-12T06:52:54.743Z"
   },
   {
    "duration": 37,
    "start_time": "2022-04-12T06:52:54.816Z"
   },
   {
    "duration": 3,
    "start_time": "2022-04-12T06:52:54.855Z"
   },
   {
    "duration": 26,
    "start_time": "2022-04-12T06:52:54.859Z"
   },
   {
    "duration": 36,
    "start_time": "2022-04-12T06:52:54.887Z"
   },
   {
    "duration": 11,
    "start_time": "2022-04-12T06:52:54.925Z"
   },
   {
    "duration": 39,
    "start_time": "2022-04-12T06:52:54.938Z"
   },
   {
    "duration": 3,
    "start_time": "2022-04-12T06:52:54.978Z"
   },
   {
    "duration": 27,
    "start_time": "2022-04-12T06:52:54.983Z"
   },
   {
    "duration": 15,
    "start_time": "2022-04-12T06:52:55.012Z"
   },
   {
    "duration": 13,
    "start_time": "2022-04-12T06:52:55.029Z"
   },
   {
    "duration": 34,
    "start_time": "2022-04-12T06:52:55.044Z"
   },
   {
    "duration": 16,
    "start_time": "2022-04-12T06:52:55.079Z"
   },
   {
    "duration": 13,
    "start_time": "2022-04-12T06:52:55.096Z"
   },
   {
    "duration": 8,
    "start_time": "2022-04-12T06:52:55.110Z"
   },
   {
    "duration": 13,
    "start_time": "2022-04-12T06:52:55.119Z"
   },
   {
    "duration": 9,
    "start_time": "2022-04-12T06:52:55.134Z"
   },
   {
    "duration": 4,
    "start_time": "2022-04-12T06:52:55.173Z"
   },
   {
    "duration": 22,
    "start_time": "2022-04-12T06:52:55.179Z"
   },
   {
    "duration": 11,
    "start_time": "2022-04-12T06:52:55.202Z"
   },
   {
    "duration": 18,
    "start_time": "2022-04-12T06:52:55.214Z"
   },
   {
    "duration": 10,
    "start_time": "2022-04-12T06:52:55.234Z"
   },
   {
    "duration": 28,
    "start_time": "2022-04-12T06:52:55.245Z"
   },
   {
    "duration": 6,
    "start_time": "2022-04-12T06:52:55.274Z"
   },
   {
    "duration": 7,
    "start_time": "2022-04-12T06:52:55.281Z"
   },
   {
    "duration": 5,
    "start_time": "2022-04-12T06:52:55.289Z"
   },
   {
    "duration": 23,
    "start_time": "2022-04-12T06:53:36.082Z"
   },
   {
    "duration": 36,
    "start_time": "2022-04-12T06:53:49.645Z"
   },
   {
    "duration": 39,
    "start_time": "2022-04-12T06:54:02.160Z"
   },
   {
    "duration": 11,
    "start_time": "2022-04-12T06:54:22.531Z"
   },
   {
    "duration": 9,
    "start_time": "2022-04-12T06:54:27.918Z"
   },
   {
    "duration": 11,
    "start_time": "2022-04-12T06:54:31.340Z"
   },
   {
    "duration": 11,
    "start_time": "2022-04-12T06:54:38.145Z"
   },
   {
    "duration": 9,
    "start_time": "2022-04-12T06:55:01.587Z"
   },
   {
    "duration": 4,
    "start_time": "2022-04-12T06:57:13.550Z"
   },
   {
    "duration": 3,
    "start_time": "2022-04-12T06:57:41.637Z"
   },
   {
    "duration": 179,
    "start_time": "2022-04-12T06:57:41.643Z"
   },
   {
    "duration": 11,
    "start_time": "2022-04-12T06:57:41.824Z"
   },
   {
    "duration": 50,
    "start_time": "2022-04-12T06:57:41.837Z"
   },
   {
    "duration": 7,
    "start_time": "2022-04-12T06:57:41.890Z"
   },
   {
    "duration": 27,
    "start_time": "2022-04-12T06:57:41.898Z"
   },
   {
    "duration": 15,
    "start_time": "2022-04-12T06:57:41.927Z"
   },
   {
    "duration": 48,
    "start_time": "2022-04-12T06:57:41.943Z"
   },
   {
    "duration": 28,
    "start_time": "2022-04-12T06:57:41.993Z"
   },
   {
    "duration": 39,
    "start_time": "2022-04-12T06:57:42.022Z"
   },
   {
    "duration": 86,
    "start_time": "2022-04-12T06:57:42.064Z"
   },
   {
    "duration": 70,
    "start_time": "2022-04-12T06:57:42.151Z"
   },
   {
    "duration": 62,
    "start_time": "2022-04-12T06:57:42.223Z"
   },
   {
    "duration": 40,
    "start_time": "2022-04-12T06:57:42.287Z"
   },
   {
    "duration": 3,
    "start_time": "2022-04-12T06:57:42.329Z"
   },
   {
    "duration": 43,
    "start_time": "2022-04-12T06:57:42.334Z"
   },
   {
    "duration": 42,
    "start_time": "2022-04-12T06:57:42.379Z"
   },
   {
    "duration": 34,
    "start_time": "2022-04-12T06:57:42.422Z"
   },
   {
    "duration": 31,
    "start_time": "2022-04-12T06:57:42.458Z"
   },
   {
    "duration": 8,
    "start_time": "2022-04-12T06:57:42.490Z"
   },
   {
    "duration": 69,
    "start_time": "2022-04-12T06:57:42.500Z"
   },
   {
    "duration": 30,
    "start_time": "2022-04-12T06:57:42.571Z"
   },
   {
    "duration": 27,
    "start_time": "2022-04-12T06:57:42.603Z"
   },
   {
    "duration": 38,
    "start_time": "2022-04-12T06:57:42.631Z"
   },
   {
    "duration": 31,
    "start_time": "2022-04-12T06:57:42.670Z"
   },
   {
    "duration": 22,
    "start_time": "2022-04-12T06:57:42.703Z"
   },
   {
    "duration": 18,
    "start_time": "2022-04-12T06:57:42.726Z"
   },
   {
    "duration": 36,
    "start_time": "2022-04-12T06:57:42.745Z"
   },
   {
    "duration": 21,
    "start_time": "2022-04-12T06:57:42.785Z"
   },
   {
    "duration": 23,
    "start_time": "2022-04-12T06:57:42.807Z"
   },
   {
    "duration": 54,
    "start_time": "2022-04-12T06:57:42.831Z"
   },
   {
    "duration": 26,
    "start_time": "2022-04-12T06:57:42.886Z"
   },
   {
    "duration": 22,
    "start_time": "2022-04-12T06:57:42.914Z"
   },
   {
    "duration": 26,
    "start_time": "2022-04-12T06:57:42.937Z"
   },
   {
    "duration": 27,
    "start_time": "2022-04-12T06:57:42.965Z"
   },
   {
    "duration": 11,
    "start_time": "2022-04-12T06:57:42.994Z"
   },
   {
    "duration": 31,
    "start_time": "2022-04-12T06:57:43.007Z"
   },
   {
    "duration": 20,
    "start_time": "2022-04-12T06:57:43.040Z"
   },
   {
    "duration": 672,
    "start_time": "2022-04-21T11:17:54.521Z"
   },
   {
    "duration": 314,
    "start_time": "2022-04-21T11:17:55.195Z"
   },
   {
    "duration": 19,
    "start_time": "2022-04-21T11:17:55.511Z"
   },
   {
    "duration": 91,
    "start_time": "2022-04-21T11:17:55.532Z"
   },
   {
    "duration": 4,
    "start_time": "2022-04-21T11:17:55.624Z"
   },
   {
    "duration": 68,
    "start_time": "2022-04-21T11:17:55.630Z"
   },
   {
    "duration": 9,
    "start_time": "2022-04-21T11:17:55.700Z"
   },
   {
    "duration": 86,
    "start_time": "2022-04-21T11:17:55.711Z"
   },
   {
    "duration": 22,
    "start_time": "2022-04-21T11:17:55.799Z"
   },
   {
    "duration": 91,
    "start_time": "2022-04-21T11:17:55.823Z"
   },
   {
    "duration": 189,
    "start_time": "2022-04-21T11:17:55.916Z"
   },
   {
    "duration": 186,
    "start_time": "2022-04-21T11:17:56.107Z"
   },
   {
    "duration": 115,
    "start_time": "2022-04-21T11:17:56.294Z"
   },
   {
    "duration": 98,
    "start_time": "2022-04-21T11:17:56.410Z"
   },
   {
    "duration": 3,
    "start_time": "2022-04-21T11:17:56.511Z"
   },
   {
    "duration": 80,
    "start_time": "2022-04-21T11:17:56.516Z"
   },
   {
    "duration": 100,
    "start_time": "2022-04-21T11:17:56.598Z"
   },
   {
    "duration": 13,
    "start_time": "2022-04-21T11:17:56.700Z"
   },
   {
    "duration": 12,
    "start_time": "2022-04-21T11:17:56.715Z"
   },
   {
    "duration": 64,
    "start_time": "2022-04-21T11:17:56.729Z"
   },
   {
    "duration": 22,
    "start_time": "2022-04-21T11:17:56.795Z"
   },
   {
    "duration": 85,
    "start_time": "2022-04-21T11:17:56.819Z"
   },
   {
    "duration": 20,
    "start_time": "2022-04-21T11:17:56.906Z"
   },
   {
    "duration": 73,
    "start_time": "2022-04-21T11:17:56.928Z"
   },
   {
    "duration": 18,
    "start_time": "2022-04-21T11:17:57.003Z"
   },
   {
    "duration": 87,
    "start_time": "2022-04-21T11:17:57.022Z"
   },
   {
    "duration": 11,
    "start_time": "2022-04-21T11:17:57.111Z"
   },
   {
    "duration": 71,
    "start_time": "2022-04-21T11:17:57.125Z"
   },
   {
    "duration": 14,
    "start_time": "2022-04-21T11:17:57.198Z"
   },
   {
    "duration": 4,
    "start_time": "2022-04-21T11:17:57.214Z"
   },
   {
    "duration": 81,
    "start_time": "2022-04-21T11:17:57.220Z"
   },
   {
    "duration": 13,
    "start_time": "2022-04-21T11:17:57.303Z"
   },
   {
    "duration": 78,
    "start_time": "2022-04-21T11:17:57.317Z"
   },
   {
    "duration": 13,
    "start_time": "2022-04-21T11:17:57.396Z"
   },
   {
    "duration": 9,
    "start_time": "2022-04-21T11:17:57.411Z"
   },
   {
    "duration": 5,
    "start_time": "2022-04-21T11:17:57.422Z"
   },
   {
    "duration": 68,
    "start_time": "2022-04-21T11:17:57.428Z"
   },
   {
    "duration": 6,
    "start_time": "2022-04-21T11:17:57.498Z"
   },
   {
    "duration": 400,
    "start_time": "2022-11-21T05:51:32.464Z"
   },
   {
    "duration": 468,
    "start_time": "2022-11-21T05:52:08.505Z"
   },
   {
    "duration": 15,
    "start_time": "2022-11-21T05:52:29.614Z"
   }
  ],
  "colab": {
   "collapsed_sections": [
    "E0vqbgi9ay0H",
    "VUC88oWjTJw2"
   ],
   "name": "yandex_music_project.ipynb",
   "provenance": []
  },
  "kernelspec": {
   "display_name": "Python 3 (ipykernel)",
   "language": "python",
   "name": "python3"
  },
  "language_info": {
   "codemirror_mode": {
    "name": "ipython",
    "version": 3
   },
   "file_extension": ".py",
   "mimetype": "text/x-python",
   "name": "python",
   "nbconvert_exporter": "python",
   "pygments_lexer": "ipython3",
   "version": "3.9.5"
  },
  "toc": {
   "base_numbering": 1,
   "nav_menu": {},
   "number_sections": true,
   "sideBar": true,
   "skip_h1_title": true,
   "title_cell": "Table of Contents",
   "title_sidebar": "Contents",
   "toc_cell": false,
   "toc_position": {
    "height": "calc(100% - 180px)",
    "left": "10px",
    "top": "150px",
    "width": "165px"
   },
   "toc_section_display": true,
   "toc_window_display": true
  }
 },
 "nbformat": 4,
 "nbformat_minor": 1
}
