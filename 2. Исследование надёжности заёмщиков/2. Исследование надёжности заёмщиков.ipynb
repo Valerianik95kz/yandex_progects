{
 "cells": [
  {
   "cell_type": "markdown",
   "id": "f16d2bbe",
   "metadata": {
    "toc": true
   },
   "source": [
    "<h1>Содержание<span class=\"tocSkip\"></span></h1>\n",
    "<div class=\"toc\"><ul class=\"toc-item\"><li><span><a href=\"#Обзор-данных\" data-toc-modified-id=\"Обзор-данных-1\"><span class=\"toc-item-num\">1&nbsp;&nbsp;</span>Обзор данных</a></span></li><li><span><a href=\"#Предобработка-данных\" data-toc-modified-id=\"Предобработка-данных-2\"><span class=\"toc-item-num\">2&nbsp;&nbsp;</span>Предобработка данных</a></span><ul class=\"toc-item\"><li><span><a href=\"#Заполнение-пропусков\" data-toc-modified-id=\"Заполнение-пропусков-2.1\"><span class=\"toc-item-num\">2.1&nbsp;&nbsp;</span>Заполнение пропусков</a></span></li><li><span><a href=\"#Проверка-данных-на-аномалии-и-исправления\" data-toc-modified-id=\"Проверка-данных-на-аномалии-и-исправления-2.2\"><span class=\"toc-item-num\">2.2&nbsp;&nbsp;</span>Проверка данных на аномалии и исправления</a></span></li><li><span><a href=\"#Изменение-типов-данных\" data-toc-modified-id=\"Изменение-типов-данных-2.3\"><span class=\"toc-item-num\">2.3&nbsp;&nbsp;</span>Изменение типов данных</a></span></li><li><span><a href=\"#Формирование-дополнительных-датафреймов-словарей,-декомпозиция-исходного-датафрейма.\" data-toc-modified-id=\"Формирование-дополнительных-датафреймов-словарей,-декомпозиция-исходного-датафрейма.-2.4\"><span class=\"toc-item-num\">2.4&nbsp;&nbsp;</span>Формирование дополнительных датафреймов словарей, декомпозиция исходного датафрейма.</a></span></li><li><span><a href=\"#Категоризация-дохода-и-целей-кредита\" data-toc-modified-id=\"Категоризация-дохода-и-целей-кредита-2.5\"><span class=\"toc-item-num\">2.5&nbsp;&nbsp;</span>Категоризация дохода и целей кредита</a></span></li></ul></li><li><span><a href=\"#Ответы-на-вопросы\" data-toc-modified-id=\"Ответы-на-вопросы-3\"><span class=\"toc-item-num\">3&nbsp;&nbsp;</span>Ответы на вопросы</a></span><ul class=\"toc-item\"><li><span><a href=\"#Вопрос-1:-Есть-ли-зависимость-между-количеством-детей-и-возвратом-кредита-в-срок?\" data-toc-modified-id=\"Вопрос-1:-Есть-ли-зависимость-между-количеством-детей-и-возвратом-кредита-в-срок?-3.1\"><span class=\"toc-item-num\">3.1&nbsp;&nbsp;</span>Вопрос 1: Есть ли зависимость между количеством детей и возвратом кредита в срок?</a></span></li><li><span><a href=\"#Вопрос-2:-Есть-ли-зависимость-между-семейным-положением-и-возвратом-кредита-в-срок?\" data-toc-modified-id=\"Вопрос-2:-Есть-ли-зависимость-между-семейным-положением-и-возвратом-кредита-в-срок?-3.2\"><span class=\"toc-item-num\">3.2&nbsp;&nbsp;</span>Вопрос 2: Есть ли зависимость между семейным положением и возвратом кредита в срок?</a></span></li><li><span><a href=\"#Вопрос-3:-Есть-ли-зависимость-между-уровнем-дохода-и-возвратом-кредита-в-срок?\" data-toc-modified-id=\"Вопрос-3:-Есть-ли-зависимость-между-уровнем-дохода-и-возвратом-кредита-в-срок?-3.3\"><span class=\"toc-item-num\">3.3&nbsp;&nbsp;</span>Вопрос 3: Есть ли зависимость между уровнем дохода и возвратом кредита в срок?</a></span></li><li><span><a href=\"#Вопрос-4:-Как-разные-цели-кредита-влияют-на-его-возврат-в-срок?\" data-toc-modified-id=\"Вопрос-4:-Как-разные-цели-кредита-влияют-на-его-возврат-в-срок?-3.4\"><span class=\"toc-item-num\">3.4&nbsp;&nbsp;</span>Вопрос 4: Как разные цели кредита влияют на его возврат в срок?</a></span></li></ul></li><li><span><a href=\"#Общий-вывод:\" data-toc-modified-id=\"Общий-вывод:-4\"><span class=\"toc-item-num\">4&nbsp;&nbsp;</span>Общий вывод:</a></span></li></ul></div>"
   ]
  },
  {
   "cell_type": "markdown",
   "id": "91f8778a",
   "metadata": {},
   "source": [
    "# Исследование надежности заемщиков"
   ]
  },
  {
   "cell_type": "markdown",
   "id": "ec14618d",
   "metadata": {},
   "source": [
    "Заказчик данного исследования — кредитный отдел банка.\n",
    "\n",
    "Нужно разобраться, влияет ли семейное положение и количество детей клиента на факт погашения кредита в срок.\n",
    "\n",
    "Входные данные от банка — статистика о платёжеспособности клиентов.\n",
    "\n",
    "Результаты исследования будут учтены при построении модели кредитного скоринга — специальной системы,\n",
    "которая оценивает способность потенциального заёмщика вернуть кредит банку.\n",
    "\n",
    "**Цель исследования** — ответить на вопросы:\n",
    "1. Есть ли зависимость между количеством детей и возвратом кредита в срок?\n",
    "2. Есть ли зависимость между семейным положением и возвратом кредита в срок?\n",
    "3. Есть ли зависимость между уровнем дохода и возвратом кредита в срок?\n",
    "4. Как разные цели кредита влияют на его возврат в срок?\n",
    "\n",
    "**Ход исследования**\n",
    "\n",
    "О качестве данных ничего не известно. Поэтому перед проверкой гипотез понадобится обзор данных. \n",
    "\n",
    "Мы проверим данные на ошибки и оценим их влияние на исследование. Затем, на этапе предобработки мы поищем возможность исправить самые критичные ошибки данных.\n",
    "\n",
    "Когда данные будут готовы к обработке мы приступим к ответу на поставленные вопросы.\n",
    " \n",
    "Таким образом, исследование пройдёт в *три этапа*:\n",
    " 1. Обзор данных.\n",
    " 2. Предобработка данных.\n",
    " 3. Поиск ответов на вопросы."
   ]
  },
  {
   "cell_type": "markdown",
   "id": "b47f78ad",
   "metadata": {},
   "source": [
    "## Обзор данных "
   ]
  },
  {
   "cell_type": "markdown",
   "id": "1ff03c22",
   "metadata": {},
   "source": [
    "Мы начнём наше исследование со знакомства с данными. <a id='obzor'></a>\n",
    "\n",
    "Для этого импортируем библиотеку `pandas`,\n",
    "затем прочитаем файл `data.csv` из папки `/datasets` и сохраним его в переменной `df`.              \n",
    "\n",
    "Выведем на экран первые десять строк таблицы, чтобы с ней ознакомиться:"
   ]
  },
  {
   "cell_type": "code",
   "execution_count": 1,
   "id": "5d349157",
   "metadata": {},
   "outputs": [],
   "source": [
    "import pandas as pd # импорт библиотеки pandas\n",
    "import seaborn as sb # импорт библиотеки seaborn"
   ]
  },
  {
   "cell_type": "code",
   "execution_count": 2,
   "id": "f4a23f8a",
   "metadata": {
    "scrolled": true
   },
   "outputs": [
    {
     "data": {
      "text/html": [
       "<div>\n",
       "<style scoped>\n",
       "    .dataframe tbody tr th:only-of-type {\n",
       "        vertical-align: middle;\n",
       "    }\n",
       "\n",
       "    .dataframe tbody tr th {\n",
       "        vertical-align: top;\n",
       "    }\n",
       "\n",
       "    .dataframe thead th {\n",
       "        text-align: right;\n",
       "    }\n",
       "</style>\n",
       "<table border=\"1\" class=\"dataframe\">\n",
       "  <thead>\n",
       "    <tr style=\"text-align: right;\">\n",
       "      <th></th>\n",
       "      <th>children</th>\n",
       "      <th>days_employed</th>\n",
       "      <th>dob_years</th>\n",
       "      <th>education</th>\n",
       "      <th>education_id</th>\n",
       "      <th>family_status</th>\n",
       "      <th>family_status_id</th>\n",
       "      <th>gender</th>\n",
       "      <th>income_type</th>\n",
       "      <th>debt</th>\n",
       "      <th>total_income</th>\n",
       "      <th>purpose</th>\n",
       "    </tr>\n",
       "  </thead>\n",
       "  <tbody>\n",
       "    <tr>\n",
       "      <th>0</th>\n",
       "      <td>1</td>\n",
       "      <td>-8437.673028</td>\n",
       "      <td>42</td>\n",
       "      <td>высшее</td>\n",
       "      <td>0</td>\n",
       "      <td>женат / замужем</td>\n",
       "      <td>0</td>\n",
       "      <td>F</td>\n",
       "      <td>сотрудник</td>\n",
       "      <td>0</td>\n",
       "      <td>253875.639453</td>\n",
       "      <td>покупка жилья</td>\n",
       "    </tr>\n",
       "    <tr>\n",
       "      <th>1</th>\n",
       "      <td>1</td>\n",
       "      <td>-4024.803754</td>\n",
       "      <td>36</td>\n",
       "      <td>среднее</td>\n",
       "      <td>1</td>\n",
       "      <td>женат / замужем</td>\n",
       "      <td>0</td>\n",
       "      <td>F</td>\n",
       "      <td>сотрудник</td>\n",
       "      <td>0</td>\n",
       "      <td>112080.014102</td>\n",
       "      <td>приобретение автомобиля</td>\n",
       "    </tr>\n",
       "    <tr>\n",
       "      <th>2</th>\n",
       "      <td>0</td>\n",
       "      <td>-5623.422610</td>\n",
       "      <td>33</td>\n",
       "      <td>Среднее</td>\n",
       "      <td>1</td>\n",
       "      <td>женат / замужем</td>\n",
       "      <td>0</td>\n",
       "      <td>M</td>\n",
       "      <td>сотрудник</td>\n",
       "      <td>0</td>\n",
       "      <td>145885.952297</td>\n",
       "      <td>покупка жилья</td>\n",
       "    </tr>\n",
       "    <tr>\n",
       "      <th>3</th>\n",
       "      <td>3</td>\n",
       "      <td>-4124.747207</td>\n",
       "      <td>32</td>\n",
       "      <td>среднее</td>\n",
       "      <td>1</td>\n",
       "      <td>женат / замужем</td>\n",
       "      <td>0</td>\n",
       "      <td>M</td>\n",
       "      <td>сотрудник</td>\n",
       "      <td>0</td>\n",
       "      <td>267628.550329</td>\n",
       "      <td>дополнительное образование</td>\n",
       "    </tr>\n",
       "    <tr>\n",
       "      <th>4</th>\n",
       "      <td>0</td>\n",
       "      <td>340266.072047</td>\n",
       "      <td>53</td>\n",
       "      <td>среднее</td>\n",
       "      <td>1</td>\n",
       "      <td>гражданский брак</td>\n",
       "      <td>1</td>\n",
       "      <td>F</td>\n",
       "      <td>пенсионер</td>\n",
       "      <td>0</td>\n",
       "      <td>158616.077870</td>\n",
       "      <td>сыграть свадьбу</td>\n",
       "    </tr>\n",
       "    <tr>\n",
       "      <th>5</th>\n",
       "      <td>0</td>\n",
       "      <td>-926.185831</td>\n",
       "      <td>27</td>\n",
       "      <td>высшее</td>\n",
       "      <td>0</td>\n",
       "      <td>гражданский брак</td>\n",
       "      <td>1</td>\n",
       "      <td>M</td>\n",
       "      <td>компаньон</td>\n",
       "      <td>0</td>\n",
       "      <td>255763.565419</td>\n",
       "      <td>покупка жилья</td>\n",
       "    </tr>\n",
       "    <tr>\n",
       "      <th>6</th>\n",
       "      <td>0</td>\n",
       "      <td>-2879.202052</td>\n",
       "      <td>43</td>\n",
       "      <td>высшее</td>\n",
       "      <td>0</td>\n",
       "      <td>женат / замужем</td>\n",
       "      <td>0</td>\n",
       "      <td>F</td>\n",
       "      <td>компаньон</td>\n",
       "      <td>0</td>\n",
       "      <td>240525.971920</td>\n",
       "      <td>операции с жильем</td>\n",
       "    </tr>\n",
       "    <tr>\n",
       "      <th>7</th>\n",
       "      <td>0</td>\n",
       "      <td>-152.779569</td>\n",
       "      <td>50</td>\n",
       "      <td>СРЕДНЕЕ</td>\n",
       "      <td>1</td>\n",
       "      <td>женат / замужем</td>\n",
       "      <td>0</td>\n",
       "      <td>M</td>\n",
       "      <td>сотрудник</td>\n",
       "      <td>0</td>\n",
       "      <td>135823.934197</td>\n",
       "      <td>образование</td>\n",
       "    </tr>\n",
       "    <tr>\n",
       "      <th>8</th>\n",
       "      <td>2</td>\n",
       "      <td>-6929.865299</td>\n",
       "      <td>35</td>\n",
       "      <td>ВЫСШЕЕ</td>\n",
       "      <td>0</td>\n",
       "      <td>гражданский брак</td>\n",
       "      <td>1</td>\n",
       "      <td>F</td>\n",
       "      <td>сотрудник</td>\n",
       "      <td>0</td>\n",
       "      <td>95856.832424</td>\n",
       "      <td>на проведение свадьбы</td>\n",
       "    </tr>\n",
       "    <tr>\n",
       "      <th>9</th>\n",
       "      <td>0</td>\n",
       "      <td>-2188.756445</td>\n",
       "      <td>41</td>\n",
       "      <td>среднее</td>\n",
       "      <td>1</td>\n",
       "      <td>женат / замужем</td>\n",
       "      <td>0</td>\n",
       "      <td>M</td>\n",
       "      <td>сотрудник</td>\n",
       "      <td>0</td>\n",
       "      <td>144425.938277</td>\n",
       "      <td>покупка жилья для семьи</td>\n",
       "    </tr>\n",
       "  </tbody>\n",
       "</table>\n",
       "</div>"
      ],
      "text/plain": [
       "   children  days_employed  dob_years education  education_id  \\\n",
       "0         1   -8437.673028         42    высшее             0   \n",
       "1         1   -4024.803754         36   среднее             1   \n",
       "2         0   -5623.422610         33   Среднее             1   \n",
       "3         3   -4124.747207         32   среднее             1   \n",
       "4         0  340266.072047         53   среднее             1   \n",
       "5         0    -926.185831         27    высшее             0   \n",
       "6         0   -2879.202052         43    высшее             0   \n",
       "7         0    -152.779569         50   СРЕДНЕЕ             1   \n",
       "8         2   -6929.865299         35    ВЫСШЕЕ             0   \n",
       "9         0   -2188.756445         41   среднее             1   \n",
       "\n",
       "      family_status  family_status_id gender income_type  debt   total_income  \\\n",
       "0   женат / замужем                 0      F   сотрудник     0  253875.639453   \n",
       "1   женат / замужем                 0      F   сотрудник     0  112080.014102   \n",
       "2   женат / замужем                 0      M   сотрудник     0  145885.952297   \n",
       "3   женат / замужем                 0      M   сотрудник     0  267628.550329   \n",
       "4  гражданский брак                 1      F   пенсионер     0  158616.077870   \n",
       "5  гражданский брак                 1      M   компаньон     0  255763.565419   \n",
       "6   женат / замужем                 0      F   компаньон     0  240525.971920   \n",
       "7   женат / замужем                 0      M   сотрудник     0  135823.934197   \n",
       "8  гражданский брак                 1      F   сотрудник     0   95856.832424   \n",
       "9   женат / замужем                 0      M   сотрудник     0  144425.938277   \n",
       "\n",
       "                      purpose  \n",
       "0               покупка жилья  \n",
       "1     приобретение автомобиля  \n",
       "2               покупка жилья  \n",
       "3  дополнительное образование  \n",
       "4             сыграть свадьбу  \n",
       "5               покупка жилья  \n",
       "6           операции с жильем  \n",
       "7                 образование  \n",
       "8       на проведение свадьбы  \n",
       "9     покупка жилья для семьи  "
      ]
     },
     "execution_count": 2,
     "metadata": {},
     "output_type": "execute_result"
    }
   ],
   "source": [
    "df = pd.read_csv('/datasets/data.csv') # чтение файла с данными и сохранение в df\n",
    "df.head(10) # получение первых 10 строк таблицы df"
   ]
  },
  {
   "cell_type": "markdown",
   "id": "9087ea14",
   "metadata": {},
   "source": [
    "<a id='obzor'></a>\n",
    "[обратно к предобработке](#predobrabotka)"
   ]
  },
  {
   "cell_type": "markdown",
   "id": "e638be74",
   "metadata": {},
   "source": [
    "Теперь посмотрим общую информацию о таблице:"
   ]
  },
  {
   "cell_type": "code",
   "execution_count": 3,
   "id": "972875a3",
   "metadata": {},
   "outputs": [
    {
     "name": "stdout",
     "output_type": "stream",
     "text": [
      "<class 'pandas.core.frame.DataFrame'>\n",
      "RangeIndex: 21525 entries, 0 to 21524\n",
      "Data columns (total 12 columns):\n",
      " #   Column            Non-Null Count  Dtype  \n",
      "---  ------            --------------  -----  \n",
      " 0   children          21525 non-null  int64  \n",
      " 1   days_employed     19351 non-null  float64\n",
      " 2   dob_years         21525 non-null  int64  \n",
      " 3   education         21525 non-null  object \n",
      " 4   education_id      21525 non-null  int64  \n",
      " 5   family_status     21525 non-null  object \n",
      " 6   family_status_id  21525 non-null  int64  \n",
      " 7   gender            21525 non-null  object \n",
      " 8   income_type       21525 non-null  object \n",
      " 9   debt              21525 non-null  int64  \n",
      " 10  total_income      19351 non-null  float64\n",
      " 11  purpose           21525 non-null  object \n",
      "dtypes: float64(2), int64(5), object(5)\n",
      "memory usage: 2.0+ MB\n"
     ]
    }
   ],
   "source": [
    "df.info() # получение общей информации о данных в таблице df"
   ]
  },
  {
   "cell_type": "markdown",
   "id": "2862c7be",
   "metadata": {},
   "source": [
    "Итак, в таблице одинадцать столбцов. В них встречаются все три типа данных `pandas`: `float64`, `int64`, `object`.\n",
    "\n",
    "Согласно документации к данным:\n",
    "\n",
    "* `children` — количество детей в семье;\n",
    "* `days_employed` — общий трудовой стаж в днях;\n",
    "* `dob_years` — возраст клиента в годах;\n",
    "* `education` — уровень образования клиента;\n",
    "* `education_id` — идентификатор уровня образования;\n",
    "* `family_status` — семейное положение;\n",
    "* `family_status_id` — идентификатор семейного положения;\n",
    "* `gender` — пол клиента;\n",
    "* `income_type` — тип занятости;\n",
    "* `debt` — имел ли задолженность по возврату кредитов;\n",
    "* `total_income` — ежемесячный доход;\n",
    "* `purpose` — цель получения кредита.\n",
    "\n",
    "Названия колонок соответствуют хорошему стилю, однако сразу видны некоторые несовершенства в данных, которые необходимо будет обработать перед тем, как начать анализировать их:\n",
    "1. В двух из одиннадцати столбцах (`days_employed` и `total_income`) количество значений отличается от остальных (19351 против 21525), это означает, что в столбцах пропущены данные. Интересно, что в обоих столбцах одинаковое количество пропусков, нужно проверить возможную их связь и устранить пропуски.\n",
    "2. В столбце `days_employed` мы видим отрицательные значения, которые выглядят как аномалия, с которой следует разобраться.\n",
    "3. В столбце `education`есть одни и те же значения, но записанные по-разному: с использованием заглавных и строчных букв. Приведём их к одному регистру и проверим остальные столбцы. Также нужно будет проверить данные на другие неявные и явные дубликаты.\n",
    "4. В данных присутствуют два столбца `education_id` и `family_status_id`, которые отображают идентификаторы столбцов `education` и `family_status`, соответственно. Наличие всех четырёх столбцов в одном датафрейме затрудняет его чтение, а также занимает больше памяти, что увеличивает время работы кода. Поэтому мы вынесем эти столбцы в отдельные датафреймы (сделаем словари индексов), оставив в основном только индексы."
   ]
  },
  {
   "cell_type": "markdown",
   "id": "75399d18",
   "metadata": {},
   "source": [
    "Итак, что мы имеем после знакомства с данными?\n",
    "\n",
    "В каждой строке таблицы — данные о клиенте банка. Они описывают его социально-демографические показатели, а также цель, с которой берётся кредит.\n",
    "\n",
    "Предварительно можно утверждать, что, данных достаточно для того, чтобы ответить на поставленные вопросы, но в данных есть несовершенства, устранением которых мы займёмся в первую очередь.\n",
    "\n",
    "Сейчас мы переходим к самой масштабной и важной части грамотного исследования - предобработке данных."
   ]
  },
  {
   "cell_type": "markdown",
   "id": "44c5c741",
   "metadata": {},
   "source": [
    "## Предобработка данных"
   ]
  },
  {
   "cell_type": "markdown",
   "id": "67b99985",
   "metadata": {},
   "source": [
    "Мы приступаем к предобработке данных. Выше подробно описаны недочёты полученных нами данных, которые мы последовательно исправим."
   ]
  },
  {
   "cell_type": "markdown",
   "id": "ce063d22",
   "metadata": {},
   "source": [
    "### Заполнение пропусков"
   ]
  },
  {
   "cell_type": "markdown",
   "id": "0e566772",
   "metadata": {},
   "source": [
    "На этапе знакомства с данными мы видели, что в двух столбцах `days_employed` и `total_income` количество значений отличается от остальных. Давайте узнаем точное количество пропусков в них:"
   ]
  },
  {
   "cell_type": "code",
   "execution_count": 4,
   "id": "467fbf3a",
   "metadata": {
    "scrolled": false
   },
   "outputs": [
    {
     "data": {
      "text/plain": [
       "children               0\n",
       "days_employed       2174\n",
       "dob_years              0\n",
       "education              0\n",
       "education_id           0\n",
       "family_status          0\n",
       "family_status_id       0\n",
       "gender                 0\n",
       "income_type            0\n",
       "debt                   0\n",
       "total_income        2174\n",
       "purpose                0\n",
       "dtype: int64"
      ]
     },
     "execution_count": 4,
     "metadata": {},
     "output_type": "execute_result"
    }
   ],
   "source": [
    "df.isna().sum() # подсчёт пропусков"
   ]
  },
  {
   "cell_type": "markdown",
   "id": "033b9c94",
   "metadata": {},
   "source": [
    "Теперь нам нужно выяснить, какую долю всего датасета составляют строки с пропущенными значениями в одном и другом столбце. Для этого мы посчитаем пропуски в конкретном столбце и разделим это число на длину всего датасета:"
   ]
  },
  {
   "cell_type": "code",
   "execution_count": 5,
   "id": "3128a2e8",
   "metadata": {},
   "outputs": [
    {
     "data": {
      "text/plain": [
       "0.10099883855981417"
      ]
     },
     "execution_count": 5,
     "metadata": {},
     "output_type": "execute_result"
    }
   ],
   "source": [
    "df['days_employed'].isna().sum() / len(df) # подсчёт доли пропусков в столбце `days_employed`"
   ]
  },
  {
   "cell_type": "code",
   "execution_count": 6,
   "id": "05d5b0f4",
   "metadata": {
    "scrolled": true
   },
   "outputs": [
    {
     "data": {
      "text/plain": [
       "0.10099883855981417"
      ]
     },
     "execution_count": 6,
     "metadata": {},
     "output_type": "execute_result"
    }
   ],
   "source": [
    "df['total_income'].isna().sum() / len(df) # подсчёт доли пропусков в столбце `total income`"
   ]
  },
  {
   "cell_type": "code",
   "execution_count": 7,
   "id": "f44b11f1",
   "metadata": {},
   "outputs": [
    {
     "data": {
      "text/html": [
       "<style  type=\"text/css\" >\n",
       "#T_49be1_row0_col0,#T_49be1_row2_col0,#T_49be1_row3_col0,#T_49be1_row4_col0,#T_49be1_row5_col0,#T_49be1_row6_col0,#T_49be1_row7_col0,#T_49be1_row8_col0,#T_49be1_row9_col0,#T_49be1_row11_col0{\n",
       "            background-color:  #3b4cc0;\n",
       "            color:  #f1f1f1;\n",
       "        }#T_49be1_row1_col0,#T_49be1_row10_col0{\n",
       "            background-color:  #b40426;\n",
       "            color:  #f1f1f1;\n",
       "        }</style><table id=\"T_49be1_\" ><thead>    <tr>        <th class=\"blank level0\" ></th>        <th class=\"col_heading level0 col0\" >NaNs, %</th>    </tr></thead><tbody>\n",
       "                <tr>\n",
       "                        <th id=\"T_49be1_level0_row0\" class=\"row_heading level0 row0\" >children</th>\n",
       "                        <td id=\"T_49be1_row0_col0\" class=\"data row0 col0\" >0.00</td>\n",
       "            </tr>\n",
       "            <tr>\n",
       "                        <th id=\"T_49be1_level0_row1\" class=\"row_heading level0 row1\" >days_employed</th>\n",
       "                        <td id=\"T_49be1_row1_col0\" class=\"data row1 col0\" >10.10</td>\n",
       "            </tr>\n",
       "            <tr>\n",
       "                        <th id=\"T_49be1_level0_row2\" class=\"row_heading level0 row2\" >dob_years</th>\n",
       "                        <td id=\"T_49be1_row2_col0\" class=\"data row2 col0\" >0.00</td>\n",
       "            </tr>\n",
       "            <tr>\n",
       "                        <th id=\"T_49be1_level0_row3\" class=\"row_heading level0 row3\" >education</th>\n",
       "                        <td id=\"T_49be1_row3_col0\" class=\"data row3 col0\" >0.00</td>\n",
       "            </tr>\n",
       "            <tr>\n",
       "                        <th id=\"T_49be1_level0_row4\" class=\"row_heading level0 row4\" >education_id</th>\n",
       "                        <td id=\"T_49be1_row4_col0\" class=\"data row4 col0\" >0.00</td>\n",
       "            </tr>\n",
       "            <tr>\n",
       "                        <th id=\"T_49be1_level0_row5\" class=\"row_heading level0 row5\" >family_status</th>\n",
       "                        <td id=\"T_49be1_row5_col0\" class=\"data row5 col0\" >0.00</td>\n",
       "            </tr>\n",
       "            <tr>\n",
       "                        <th id=\"T_49be1_level0_row6\" class=\"row_heading level0 row6\" >family_status_id</th>\n",
       "                        <td id=\"T_49be1_row6_col0\" class=\"data row6 col0\" >0.00</td>\n",
       "            </tr>\n",
       "            <tr>\n",
       "                        <th id=\"T_49be1_level0_row7\" class=\"row_heading level0 row7\" >gender</th>\n",
       "                        <td id=\"T_49be1_row7_col0\" class=\"data row7 col0\" >0.00</td>\n",
       "            </tr>\n",
       "            <tr>\n",
       "                        <th id=\"T_49be1_level0_row8\" class=\"row_heading level0 row8\" >income_type</th>\n",
       "                        <td id=\"T_49be1_row8_col0\" class=\"data row8 col0\" >0.00</td>\n",
       "            </tr>\n",
       "            <tr>\n",
       "                        <th id=\"T_49be1_level0_row9\" class=\"row_heading level0 row9\" >debt</th>\n",
       "                        <td id=\"T_49be1_row9_col0\" class=\"data row9 col0\" >0.00</td>\n",
       "            </tr>\n",
       "            <tr>\n",
       "                        <th id=\"T_49be1_level0_row10\" class=\"row_heading level0 row10\" >total_income</th>\n",
       "                        <td id=\"T_49be1_row10_col0\" class=\"data row10 col0\" >10.10</td>\n",
       "            </tr>\n",
       "            <tr>\n",
       "                        <th id=\"T_49be1_level0_row11\" class=\"row_heading level0 row11\" >purpose</th>\n",
       "                        <td id=\"T_49be1_row11_col0\" class=\"data row11 col0\" >0.00</td>\n",
       "            </tr>\n",
       "    </tbody></table>"
      ],
      "text/plain": [
       "<pandas.io.formats.style.Styler at 0x7faf33d6cac0>"
      ]
     },
     "execution_count": 7,
     "metadata": {},
     "output_type": "execute_result"
    }
   ],
   "source": [
    "pd.DataFrame(round((df.isna().mean()*100),2), columns=['NaNs, %']).style.format('{:.2f}').background_gradient('coolwarm')"
   ]
  },
  {
   "cell_type": "markdown",
   "id": "9213c909",
   "metadata": {},
   "source": [
    "Как мы видим, доля пропусков составляет 10% от общего количества в обоих случаях (этого и следовало ожидать, так как мы получили одинаковое число пропусков в обоих столбцах). Теперь проверим, действительно ли пропуски в обоих столбцах встречаются в одних и тех же строках. Для этого применим последовательную логическую индексацию и метод `len()`:"
   ]
  },
  {
   "cell_type": "code",
   "execution_count": 8,
   "id": "48569149",
   "metadata": {
    "scrolled": true
   },
   "outputs": [
    {
     "data": {
      "text/plain": [
       "2174"
      ]
     },
     "execution_count": 8,
     "metadata": {},
     "output_type": "execute_result"
    }
   ],
   "source": [
    "\"\"\"\n",
    "Объявим новый датасет, в который войдут только строки с пропущенными значениями в столбце `days_employed`\n",
    "затем зададим ещё одно условие, при котором в датасете останутся только строки с пропусками в столце `total income`\n",
    "вернём длину нового датасета\n",
    "\"\"\"\n",
    "df_isna = df[df['days_employed'].isna()]  \n",
    "df_isna = df_isna[df_isna['total_income'].isna()]\n",
    "len(df_isna)"
   ]
  },
  {
   "cell_type": "markdown",
   "id": "7111d76d",
   "metadata": {},
   "source": [
    "В результате наших действий мы получили число 2174, которое соответствует числу пропусков в обоих столбцах, а это значит, что в данных есть 2174 строки, в которых пропущены значения и в столбце `days_employed`, и в столбце `total income`. Выходит, что вероятность встретить пропуск в одном из двух столбцов, о которых идёт речь, если есть пропуск в другом - 100%. Давайте также взглянем на первые 10 строк таблицы, чтобы проверить, нет ли связи с другими столбцами и посмотреть на тип пропусков:"
   ]
  },
  {
   "cell_type": "code",
   "execution_count": 9,
   "id": "d3770754",
   "metadata": {
    "scrolled": true
   },
   "outputs": [
    {
     "data": {
      "text/html": [
       "<div>\n",
       "<style scoped>\n",
       "    .dataframe tbody tr th:only-of-type {\n",
       "        vertical-align: middle;\n",
       "    }\n",
       "\n",
       "    .dataframe tbody tr th {\n",
       "        vertical-align: top;\n",
       "    }\n",
       "\n",
       "    .dataframe thead th {\n",
       "        text-align: right;\n",
       "    }\n",
       "</style>\n",
       "<table border=\"1\" class=\"dataframe\">\n",
       "  <thead>\n",
       "    <tr style=\"text-align: right;\">\n",
       "      <th></th>\n",
       "      <th>children</th>\n",
       "      <th>days_employed</th>\n",
       "      <th>dob_years</th>\n",
       "      <th>education</th>\n",
       "      <th>education_id</th>\n",
       "      <th>family_status</th>\n",
       "      <th>family_status_id</th>\n",
       "      <th>gender</th>\n",
       "      <th>income_type</th>\n",
       "      <th>debt</th>\n",
       "      <th>total_income</th>\n",
       "      <th>purpose</th>\n",
       "    </tr>\n",
       "  </thead>\n",
       "  <tbody>\n",
       "    <tr>\n",
       "      <th>12</th>\n",
       "      <td>0</td>\n",
       "      <td>NaN</td>\n",
       "      <td>65</td>\n",
       "      <td>среднее</td>\n",
       "      <td>1</td>\n",
       "      <td>гражданский брак</td>\n",
       "      <td>1</td>\n",
       "      <td>M</td>\n",
       "      <td>пенсионер</td>\n",
       "      <td>0</td>\n",
       "      <td>NaN</td>\n",
       "      <td>сыграть свадьбу</td>\n",
       "    </tr>\n",
       "    <tr>\n",
       "      <th>26</th>\n",
       "      <td>0</td>\n",
       "      <td>NaN</td>\n",
       "      <td>41</td>\n",
       "      <td>среднее</td>\n",
       "      <td>1</td>\n",
       "      <td>женат / замужем</td>\n",
       "      <td>0</td>\n",
       "      <td>M</td>\n",
       "      <td>госслужащий</td>\n",
       "      <td>0</td>\n",
       "      <td>NaN</td>\n",
       "      <td>образование</td>\n",
       "    </tr>\n",
       "    <tr>\n",
       "      <th>29</th>\n",
       "      <td>0</td>\n",
       "      <td>NaN</td>\n",
       "      <td>63</td>\n",
       "      <td>среднее</td>\n",
       "      <td>1</td>\n",
       "      <td>Не женат / не замужем</td>\n",
       "      <td>4</td>\n",
       "      <td>F</td>\n",
       "      <td>пенсионер</td>\n",
       "      <td>0</td>\n",
       "      <td>NaN</td>\n",
       "      <td>строительство жилой недвижимости</td>\n",
       "    </tr>\n",
       "    <tr>\n",
       "      <th>41</th>\n",
       "      <td>0</td>\n",
       "      <td>NaN</td>\n",
       "      <td>50</td>\n",
       "      <td>среднее</td>\n",
       "      <td>1</td>\n",
       "      <td>женат / замужем</td>\n",
       "      <td>0</td>\n",
       "      <td>F</td>\n",
       "      <td>госслужащий</td>\n",
       "      <td>0</td>\n",
       "      <td>NaN</td>\n",
       "      <td>сделка с подержанным автомобилем</td>\n",
       "    </tr>\n",
       "    <tr>\n",
       "      <th>55</th>\n",
       "      <td>0</td>\n",
       "      <td>NaN</td>\n",
       "      <td>54</td>\n",
       "      <td>среднее</td>\n",
       "      <td>1</td>\n",
       "      <td>гражданский брак</td>\n",
       "      <td>1</td>\n",
       "      <td>F</td>\n",
       "      <td>пенсионер</td>\n",
       "      <td>1</td>\n",
       "      <td>NaN</td>\n",
       "      <td>сыграть свадьбу</td>\n",
       "    </tr>\n",
       "    <tr>\n",
       "      <th>65</th>\n",
       "      <td>0</td>\n",
       "      <td>NaN</td>\n",
       "      <td>21</td>\n",
       "      <td>среднее</td>\n",
       "      <td>1</td>\n",
       "      <td>Не женат / не замужем</td>\n",
       "      <td>4</td>\n",
       "      <td>M</td>\n",
       "      <td>компаньон</td>\n",
       "      <td>0</td>\n",
       "      <td>NaN</td>\n",
       "      <td>операции с коммерческой недвижимостью</td>\n",
       "    </tr>\n",
       "    <tr>\n",
       "      <th>67</th>\n",
       "      <td>0</td>\n",
       "      <td>NaN</td>\n",
       "      <td>52</td>\n",
       "      <td>высшее</td>\n",
       "      <td>0</td>\n",
       "      <td>женат / замужем</td>\n",
       "      <td>0</td>\n",
       "      <td>F</td>\n",
       "      <td>пенсионер</td>\n",
       "      <td>0</td>\n",
       "      <td>NaN</td>\n",
       "      <td>покупка жилья для семьи</td>\n",
       "    </tr>\n",
       "    <tr>\n",
       "      <th>72</th>\n",
       "      <td>1</td>\n",
       "      <td>NaN</td>\n",
       "      <td>32</td>\n",
       "      <td>высшее</td>\n",
       "      <td>0</td>\n",
       "      <td>женат / замужем</td>\n",
       "      <td>0</td>\n",
       "      <td>M</td>\n",
       "      <td>госслужащий</td>\n",
       "      <td>0</td>\n",
       "      <td>NaN</td>\n",
       "      <td>операции с коммерческой недвижимостью</td>\n",
       "    </tr>\n",
       "    <tr>\n",
       "      <th>82</th>\n",
       "      <td>2</td>\n",
       "      <td>NaN</td>\n",
       "      <td>50</td>\n",
       "      <td>высшее</td>\n",
       "      <td>0</td>\n",
       "      <td>женат / замужем</td>\n",
       "      <td>0</td>\n",
       "      <td>F</td>\n",
       "      <td>сотрудник</td>\n",
       "      <td>0</td>\n",
       "      <td>NaN</td>\n",
       "      <td>жилье</td>\n",
       "    </tr>\n",
       "    <tr>\n",
       "      <th>83</th>\n",
       "      <td>0</td>\n",
       "      <td>NaN</td>\n",
       "      <td>52</td>\n",
       "      <td>среднее</td>\n",
       "      <td>1</td>\n",
       "      <td>женат / замужем</td>\n",
       "      <td>0</td>\n",
       "      <td>M</td>\n",
       "      <td>сотрудник</td>\n",
       "      <td>0</td>\n",
       "      <td>NaN</td>\n",
       "      <td>жилье</td>\n",
       "    </tr>\n",
       "  </tbody>\n",
       "</table>\n",
       "</div>"
      ],
      "text/plain": [
       "    children  days_employed  dob_years education  education_id  \\\n",
       "12         0            NaN         65   среднее             1   \n",
       "26         0            NaN         41   среднее             1   \n",
       "29         0            NaN         63   среднее             1   \n",
       "41         0            NaN         50   среднее             1   \n",
       "55         0            NaN         54   среднее             1   \n",
       "65         0            NaN         21   среднее             1   \n",
       "67         0            NaN         52    высшее             0   \n",
       "72         1            NaN         32    высшее             0   \n",
       "82         2            NaN         50    высшее             0   \n",
       "83         0            NaN         52   среднее             1   \n",
       "\n",
       "            family_status  family_status_id gender  income_type  debt  \\\n",
       "12       гражданский брак                 1      M    пенсионер     0   \n",
       "26        женат / замужем                 0      M  госслужащий     0   \n",
       "29  Не женат / не замужем                 4      F    пенсионер     0   \n",
       "41        женат / замужем                 0      F  госслужащий     0   \n",
       "55       гражданский брак                 1      F    пенсионер     1   \n",
       "65  Не женат / не замужем                 4      M    компаньон     0   \n",
       "67        женат / замужем                 0      F    пенсионер     0   \n",
       "72        женат / замужем                 0      M  госслужащий     0   \n",
       "82        женат / замужем                 0      F    сотрудник     0   \n",
       "83        женат / замужем                 0      M    сотрудник     0   \n",
       "\n",
       "    total_income                                purpose  \n",
       "12           NaN                        сыграть свадьбу  \n",
       "26           NaN                            образование  \n",
       "29           NaN       строительство жилой недвижимости  \n",
       "41           NaN       сделка с подержанным автомобилем  \n",
       "55           NaN                        сыграть свадьбу  \n",
       "65           NaN  операции с коммерческой недвижимостью  \n",
       "67           NaN                покупка жилья для семьи  \n",
       "72           NaN  операции с коммерческой недвижимостью  \n",
       "82           NaN                                  жилье  \n",
       "83           NaN                                  жилье  "
      ]
     },
     "execution_count": 9,
     "metadata": {},
     "output_type": "execute_result"
    }
   ],
   "source": [
    "df_isna.head(10) # получение первых 10 строк таблицы df"
   ]
  },
  {
   "cell_type": "markdown",
   "id": "969453b9",
   "metadata": {},
   "source": [
    "По таблице видно, что мы имеем дело с особым значением `NaN`, которое означает, что число в ячейке отсутствует, и имеет тип данных `float`. С `NaN` можно проводить математические операции, однако его значения могут привести к некорректным результатам при группировке данных, которая нам в дальнейшем понадобится.\n",
    "\n",
    "Как мы видим, значения во всех остальных столбцах самые разнообразные, а значит связь есть только между двумя столбцами с пропущенными данными.\n",
    "\n",
    "Мы не знаем, каким образом банк получал данные о своих клиентах, но можем сделать несколько предположений о пропусках:\n",
    "\n",
    "Если клиенты заполняли анкеты, то они могли не захотеть заполнить графы с трудовым стажем и ежемесячным доходом и оставить их пустыми.\n",
    "\n",
    "Возможно, при передаче данных некоторые данные были утеряны, но в рамках данного исследования мы не можем обратиться к менеджеру и попросить предоставить нам недостающие данные.\n",
    "\n",
    "Как бы то ни было, нам необходимо восполнить пропущенные значения, так как они составляют целых 10% от всех данных и существенно влияют на результаты (к примеру, 1% бы не повлиял существенно). Мы имеем дело с *количественными переменными*, поэтому пропуски заполним *характерными значениями*. Это может быть *среднее арифметическое* или *медиана*, но мы выберем медиану, так как она показывает среднее значение по выборке независимо от выдающихся значений, которые могут повлиять на значение среднего арифметического - это лучшее решение для количественных переменных.\n",
    "\n",
    "На данном этапе исследования мы заполним пропуски только в столбце `total income`, а к столбцу `days_employed` вернёмся чуть позже, так как на этапе [обзора данных](#obzor) в нём были обнаружены аномалии - отрицательные значения, которые помешают нам коректно заполнить пропуски.\n",
    "\n",
    "Пропуски мы заполним медианными значениями с учётом категорий прибыли:"
   ]
  },
  {
   "cell_type": "code",
   "execution_count": 10,
   "id": "18e8c21b",
   "metadata": {
    "scrolled": false
   },
   "outputs": [
    {
     "data": {
      "text/plain": [
       "children               0\n",
       "days_employed       2174\n",
       "dob_years              0\n",
       "education              0\n",
       "education_id           0\n",
       "family_status          0\n",
       "family_status_id       0\n",
       "gender                 0\n",
       "income_type            0\n",
       "debt                   0\n",
       "total_income           0\n",
       "purpose                0\n",
       "dtype: int64"
      ]
     },
     "execution_count": 10,
     "metadata": {},
     "output_type": "execute_result"
    }
   ],
   "source": [
    "df.loc[df['total_income'].isnull(), 'total_income'] = df.groupby('income_type')['total_income'].transform('median') #замена пропусков медианными значениями по категориям\n",
    "df.isnull().sum() #проверяем, что пропусков не осталось"
   ]
  },
  {
   "cell_type": "markdown",
   "id": "2b768de2",
   "metadata": {},
   "source": [
    "После устранения аномалий во втором столбце и заполнения пропусков медианным значением по нему мы снова выведем общую информацию о датафрейме `df`, чтобы полюбоваться одинаковыми числами во всех столбцах и убедиться, что всё восполнение пропусков прошло успешно. А теперь перейдём непосредственно к аномалиям."
   ]
  },
  {
   "cell_type": "markdown",
   "id": "54eb1483",
   "metadata": {},
   "source": [
    "### Проверка данных на аномалии и исправления"
   ]
  },
  {
   "cell_type": "markdown",
   "id": "8f872e25",
   "metadata": {},
   "source": [
    "В данных могут встречаться артефакты (аномалии) — значения, которые не отражают действительность и появились по какой-то ошибке. Ранее мы заметили аномалии в столбце `days_employed`, но они могут встречаться и в других столбцах. Давайте вспомним, как выглядит наш датасет и пройдёмся по каждому столбцу, чтобы найти все аномалии и исправить их."
   ]
  },
  {
   "cell_type": "code",
   "execution_count": 11,
   "id": "7cdecde7",
   "metadata": {
    "scrolled": true
   },
   "outputs": [
    {
     "data": {
      "text/html": [
       "<div>\n",
       "<style scoped>\n",
       "    .dataframe tbody tr th:only-of-type {\n",
       "        vertical-align: middle;\n",
       "    }\n",
       "\n",
       "    .dataframe tbody tr th {\n",
       "        vertical-align: top;\n",
       "    }\n",
       "\n",
       "    .dataframe thead th {\n",
       "        text-align: right;\n",
       "    }\n",
       "</style>\n",
       "<table border=\"1\" class=\"dataframe\">\n",
       "  <thead>\n",
       "    <tr style=\"text-align: right;\">\n",
       "      <th></th>\n",
       "      <th>children</th>\n",
       "      <th>days_employed</th>\n",
       "      <th>dob_years</th>\n",
       "      <th>education</th>\n",
       "      <th>education_id</th>\n",
       "      <th>family_status</th>\n",
       "      <th>family_status_id</th>\n",
       "      <th>gender</th>\n",
       "      <th>income_type</th>\n",
       "      <th>debt</th>\n",
       "      <th>total_income</th>\n",
       "      <th>purpose</th>\n",
       "    </tr>\n",
       "  </thead>\n",
       "  <tbody>\n",
       "    <tr>\n",
       "      <th>0</th>\n",
       "      <td>1</td>\n",
       "      <td>-8437.673028</td>\n",
       "      <td>42</td>\n",
       "      <td>высшее</td>\n",
       "      <td>0</td>\n",
       "      <td>женат / замужем</td>\n",
       "      <td>0</td>\n",
       "      <td>F</td>\n",
       "      <td>сотрудник</td>\n",
       "      <td>0</td>\n",
       "      <td>253875.639453</td>\n",
       "      <td>покупка жилья</td>\n",
       "    </tr>\n",
       "    <tr>\n",
       "      <th>1</th>\n",
       "      <td>1</td>\n",
       "      <td>-4024.803754</td>\n",
       "      <td>36</td>\n",
       "      <td>среднее</td>\n",
       "      <td>1</td>\n",
       "      <td>женат / замужем</td>\n",
       "      <td>0</td>\n",
       "      <td>F</td>\n",
       "      <td>сотрудник</td>\n",
       "      <td>0</td>\n",
       "      <td>112080.014102</td>\n",
       "      <td>приобретение автомобиля</td>\n",
       "    </tr>\n",
       "    <tr>\n",
       "      <th>2</th>\n",
       "      <td>0</td>\n",
       "      <td>-5623.422610</td>\n",
       "      <td>33</td>\n",
       "      <td>Среднее</td>\n",
       "      <td>1</td>\n",
       "      <td>женат / замужем</td>\n",
       "      <td>0</td>\n",
       "      <td>M</td>\n",
       "      <td>сотрудник</td>\n",
       "      <td>0</td>\n",
       "      <td>145885.952297</td>\n",
       "      <td>покупка жилья</td>\n",
       "    </tr>\n",
       "    <tr>\n",
       "      <th>3</th>\n",
       "      <td>3</td>\n",
       "      <td>-4124.747207</td>\n",
       "      <td>32</td>\n",
       "      <td>среднее</td>\n",
       "      <td>1</td>\n",
       "      <td>женат / замужем</td>\n",
       "      <td>0</td>\n",
       "      <td>M</td>\n",
       "      <td>сотрудник</td>\n",
       "      <td>0</td>\n",
       "      <td>267628.550329</td>\n",
       "      <td>дополнительное образование</td>\n",
       "    </tr>\n",
       "    <tr>\n",
       "      <th>4</th>\n",
       "      <td>0</td>\n",
       "      <td>340266.072047</td>\n",
       "      <td>53</td>\n",
       "      <td>среднее</td>\n",
       "      <td>1</td>\n",
       "      <td>гражданский брак</td>\n",
       "      <td>1</td>\n",
       "      <td>F</td>\n",
       "      <td>пенсионер</td>\n",
       "      <td>0</td>\n",
       "      <td>158616.077870</td>\n",
       "      <td>сыграть свадьбу</td>\n",
       "    </tr>\n",
       "  </tbody>\n",
       "</table>\n",
       "</div>"
      ],
      "text/plain": [
       "   children  days_employed  dob_years education  education_id  \\\n",
       "0         1   -8437.673028         42    высшее             0   \n",
       "1         1   -4024.803754         36   среднее             1   \n",
       "2         0   -5623.422610         33   Среднее             1   \n",
       "3         3   -4124.747207         32   среднее             1   \n",
       "4         0  340266.072047         53   среднее             1   \n",
       "\n",
       "      family_status  family_status_id gender income_type  debt   total_income  \\\n",
       "0   женат / замужем                 0      F   сотрудник     0  253875.639453   \n",
       "1   женат / замужем                 0      F   сотрудник     0  112080.014102   \n",
       "2   женат / замужем                 0      M   сотрудник     0  145885.952297   \n",
       "3   женат / замужем                 0      M   сотрудник     0  267628.550329   \n",
       "4  гражданский брак                 1      F   пенсионер     0  158616.077870   \n",
       "\n",
       "                      purpose  \n",
       "0               покупка жилья  \n",
       "1     приобретение автомобиля  \n",
       "2               покупка жилья  \n",
       "3  дополнительное образование  \n",
       "4             сыграть свадьбу  "
      ]
     },
     "execution_count": 11,
     "metadata": {},
     "output_type": "execute_result"
    }
   ],
   "source": [
    "df.head(5)"
   ]
  },
  {
   "cell_type": "markdown",
   "id": "c75940a4",
   "metadata": {},
   "source": [
    "<b>Столбец `children`</b>\n",
    "\n",
    "Для того, чтобы найти аномалии в этом столбце, мы проверим, какие уникальные значения в нём есть:"
   ]
  },
  {
   "cell_type": "code",
   "execution_count": 12,
   "id": "af550335",
   "metadata": {
    "scrolled": true
   },
   "outputs": [
    {
     "data": {
      "text/plain": [
       "array([-1,  0,  1,  2,  3,  4,  5, 20])"
      ]
     },
     "execution_count": 12,
     "metadata": {},
     "output_type": "execute_result"
    }
   ],
   "source": [
    "df['children'].sort_values().unique() #вывод уникальных значений столбца `children` с сортировкой по возрастанию"
   ]
  },
  {
   "cell_type": "markdown",
   "id": "90873b8b",
   "metadata": {},
   "source": [
    "Мы видим вполне реальные значения в диапазоне от 0 до 5 детей, однако присутствуют две аномалии: -1 ребёнка точно не может быть в семье, 20 тоже выглядит нереально, хоть и могло положительно повлиять на демографию страны. Давайте посмотрим, сколько аномальных значений в столбце:"
   ]
  },
  {
   "cell_type": "code",
   "execution_count": 13,
   "id": "ffdb8ab1",
   "metadata": {},
   "outputs": [
    {
     "data": {
      "text/plain": [
       "47"
      ]
     },
     "execution_count": 13,
     "metadata": {},
     "output_type": "execute_result"
    }
   ],
   "source": [
    "len(df[df['children'] == -1]) #вывод длины столбца с применением логической индексации"
   ]
  },
  {
   "cell_type": "code",
   "execution_count": 14,
   "id": "e0b3a5da",
   "metadata": {
    "scrolled": true
   },
   "outputs": [
    {
     "data": {
      "text/plain": [
       "76"
      ]
     },
     "execution_count": 14,
     "metadata": {},
     "output_type": "execute_result"
    }
   ],
   "source": [
    "len(df[df['children'] == 20]) #вывод длины столбца с применением логической индексации"
   ]
  },
  {
   "cell_type": "markdown",
   "id": "59359f5d",
   "metadata": {},
   "source": [
    "У нас всего 113 аномальных значений, что составляет совсем небольшую долю от длины всего столбца - 0,5 % (мы помним, что длина нашего датафрейма 21525). Однако, будучи перфекционистами, мы исправим их, предположив, что знак '-' перед единицей появился так же случайно, как и 0 после двойки. Давайте заменим все аномальные значения и посмотрим на уникальные значения в столбце `children` вновь:"
   ]
  },
  {
   "cell_type": "code",
   "execution_count": 15,
   "id": "cfad146a",
   "metadata": {},
   "outputs": [
    {
     "data": {
      "text/plain": [
       "array([0, 1, 2, 3, 4, 5])"
      ]
     },
     "execution_count": 15,
     "metadata": {},
     "output_type": "execute_result"
    }
   ],
   "source": [
    "df['children'] = df['children'].replace(-1, 1) #замена значений '-1' в столбце на '1'\n",
    "df['children'] = df['children'].replace(20, 2) #замена значений '20' в столбце на '2'\n",
    "df['children'].sort_values().unique() #вывод уникальных значений столбца `children` с сортировкой по возрастанию"
   ]
  },
  {
   "cell_type": "markdown",
   "id": "0e1fa315",
   "metadata": {},
   "source": [
    "Как мы видим, замена значений прошла успешно и теперь в столбце с количеством детей нет аномалий."
   ]
  },
  {
   "cell_type": "markdown",
   "id": "a9aa0599",
   "metadata": {},
   "source": [
    "<b>Столбец `days_employed`</b>\n",
    "\n",
    "Это столбец, аномалии которого бросились нам в глаза первыми при знакомстве с данными. Для того, чтобы посмотреть как в нём распределяются данные, мы построим диаграмму рассеяния, где по оси X будут лежать значения трудового стажа, а по оси Y возраст клиентов банка:"
   ]
  },
  {
   "cell_type": "code",
   "execution_count": 16,
   "id": "fb0154ae",
   "metadata": {
    "scrolled": true
   },
   "outputs": [
    {
     "data": {
      "text/plain": [
       "<AxesSubplot:xlabel='days_employed', ylabel='dob_years'>"
      ]
     },
     "execution_count": 16,
     "metadata": {},
     "output_type": "execute_result"
    },
    {
     "data": {
      "image/png": "[encoded data removed]",
      "text/plain": [
       "<Figure size 432x288 with 1 Axes>"
      ]
     },
     "metadata": {
      "needs_background": "light"
     },
     "output_type": "display_data"
    }
   ],
   "source": [
    "sb.scatterplot(x=df['days_employed'], y=df['dob_years']) #построение диаграммы рассеяния"
   ]
  },
  {
   "cell_type": "markdown",
   "id": "6e44744e",
   "metadata": {},
   "source": [
    "На диаграмме мы видим ужасающую картину - абсолютно все значения в столбце `days_employed` аномальные. Мы видим концентрацию значений ниже нуля и больше 300000 дней. По правде говоря, в реалиях нашего проекта, где мы не можем обратиться к менеджеру, который предоставлял нам данные, а столбец с трудовым стажем не нужен нам для ответа на поставленные вопросы, высок соблазн просто удалить его из датасета. Но сильнее всё же желание спасти данные и разгадать загадку этой аномалии.\n",
    "\n",
    "Первым предположением было то, что данные в столбце `days_employed` случайно представлены в часах, а не днях, однако если поделить весь столбец на 24, то аномально огромные значения станут меньше, но всё же останутся несоразмерно возрасту большие, а отрицательные значения останутся отрицательными, но слишком близкими к нулю. То есть трудовой стаж в обоих случаях остаётся неадекватным.\n",
    "\n",
    "Далее мы обратили внимание на то, что значения ниже нуля более правдоподобно распределены относительно возраста, нежели огромные значения. Продемонстрируем:"
   ]
  },
  {
   "cell_type": "code",
   "execution_count": 17,
   "id": "37d3a8ee",
   "metadata": {},
   "outputs": [
    {
     "data": {
      "text/plain": [
       "<AxesSubplot:xlabel='days_employed', ylabel='dob_years'>"
      ]
     },
     "execution_count": 17,
     "metadata": {},
     "output_type": "execute_result"
    },
    {
     "data": {
      "image/png": "[encoded data removed]",
      "text/plain": [
       "<Figure size 432x288 with 1 Axes>"
      ]
     },
     "metadata": {
      "needs_background": "light"
     },
     "output_type": "display_data"
    }
   ],
   "source": [
    "df_below_zero = df[df['days_employed'] < 0] #создание отдельной таблицы, куда попали только строки, где значения трудового стажа ниже нуля\n",
    "sb.scatterplot(x=df_below_zero['days_employed'], y=df_below_zero['dob_years']) #построение диаграммы рассеяния"
   ]
  },
  {
   "cell_type": "code",
   "execution_count": 18,
   "id": "1124913a",
   "metadata": {
    "scrolled": true
   },
   "outputs": [
    {
     "data": {
      "text/plain": [
       "<AxesSubplot:xlabel='days_employed', ylabel='dob_years'>"
      ]
     },
     "execution_count": 18,
     "metadata": {},
     "output_type": "execute_result"
    },
    {
     "data": {
      "image/png": "[encoded data removed]",
      "text/plain": [
       "<Figure size 432x288 with 1 Axes>"
      ]
     },
     "metadata": {
      "needs_background": "light"
     },
     "output_type": "display_data"
    }
   ],
   "source": [
    "df_higher_zero = df[df['days_employed'] > 0] #создание отдельной таблицы, куда попали только строки, где значения трудового стажа выше нуля\n",
    "sb.scatterplot(x=df_higher_zero['days_employed'], y=df_higher_zero['dob_years']) #построение диаграммы рассеяния"
   ]
  },
  {
   "cell_type": "markdown",
   "id": "20a1b9ee",
   "metadata": {},
   "source": [
    "Затем мы проверили, каких значений больше:"
   ]
  },
  {
   "cell_type": "code",
   "execution_count": 19,
   "id": "2ad2beb9",
   "metadata": {
    "scrolled": true
   },
   "outputs": [
    {
     "data": {
      "text/plain": [
       "15906"
      ]
     },
     "execution_count": 19,
     "metadata": {},
     "output_type": "execute_result"
    }
   ],
   "source": [
    "len(df[df['days_employed'] < 0]) #вывод количества строк, в которых значение трудового стажа меньше нуля"
   ]
  },
  {
   "cell_type": "code",
   "execution_count": 20,
   "id": "9a44ffe7",
   "metadata": {
    "scrolled": true
   },
   "outputs": [
    {
     "data": {
      "text/plain": [
       "3445"
      ]
     },
     "execution_count": 20,
     "metadata": {},
     "output_type": "execute_result"
    }
   ],
   "source": [
    "len(df[df['days_employed'] > 0]) #вывод количества строк, в которых значение трудового стажа больше нуля"
   ]
  },
  {
   "cell_type": "markdown",
   "id": "f78caf6e",
   "metadata": {},
   "source": [
    "Невероятно, но значений ниже нуля почти в пять раз больше, чем огромных. Если мы вспомним из предыдущего пункта, что в данном столбце 2174 пропущенных значений, то перед нами предстаёт следующая картина: из 21525 значений в столбце `days_employed` 15906(74%) отрицательных, но адекватных по модулю; 3445(16%) неадекватно огромных и 2174(10%) пропущенных.\n",
    "\n",
    "План действий таков: мы заменим все аномально-огромные и пропущенные значения модулем медианы отрицательных значений, а затем применим метод модуля ко всему столбцу и взглянем на получившуюся диаграму распределения. Нам так же важно обозначить, что мы не упустили из вида то, что некоторые значения возраста равняются нулю, мы исправим это, когда займёмся столбцом `dob_years`."
   ]
  },
  {
   "cell_type": "code",
   "execution_count": 21,
   "id": "f30897bd",
   "metadata": {
    "scrolled": true
   },
   "outputs": [
    {
     "data": {
      "text/plain": [
       "<AxesSubplot:xlabel='days_employed', ylabel='dob_years'>"
      ]
     },
     "execution_count": 21,
     "metadata": {},
     "output_type": "execute_result"
    },
    {
     "data": {
      "image/png": "[encoded data removed]",
      "text/plain": [
       "<Figure size 432x288 with 1 Axes>"
      ]
     },
     "metadata": {
      "needs_background": "light"
     },
     "output_type": "display_data"
    }
   ],
   "source": [
    "days_employed_median = abs(df['days_employed'][df['days_employed'] < 0].median()) #расчёт медианы адекватных значений столбца `days_employed`\n",
    "df['days_employed'] = df['days_employed'].fillna(days_employed_median) #заполнение пропущенных значений медианой\n",
    "for day in range(len(df)):\n",
    "    if df.loc[day, 'days_employed'] < 0:\n",
    "        df.loc[day, 'days_employed'] = abs(df.loc[day, 'days_employed']) #замена отрицательных значений на их модули\n",
    "    else:\n",
    "        df.loc[day, 'days_employed'] = days_employed_median #заполнение аномальных значений пропусками\n",
    "sb.scatterplot(x=df['days_employed'], y=df['dob_years']) #построение диаграммы рассеяния"
   ]
  },
  {
   "cell_type": "markdown",
   "id": "6ad7a901",
   "metadata": {},
   "source": [
    "Теперь диаграмма рассеивания выглядит вполне нормально. Напоминаем также, что мы заполнили пропущенные значения во втором столбце, где они встречались и, как и обещали, проверим общую информацию по датафрейму, стал ли он весь одного размера:"
   ]
  },
  {
   "cell_type": "code",
   "execution_count": 22,
   "id": "c50b9ac1",
   "metadata": {
    "scrolled": true
   },
   "outputs": [
    {
     "name": "stdout",
     "output_type": "stream",
     "text": [
      "<class 'pandas.core.frame.DataFrame'>\n",
      "RangeIndex: 21525 entries, 0 to 21524\n",
      "Data columns (total 12 columns):\n",
      " #   Column            Non-Null Count  Dtype  \n",
      "---  ------            --------------  -----  \n",
      " 0   children          21525 non-null  int64  \n",
      " 1   days_employed     21525 non-null  float64\n",
      " 2   dob_years         21525 non-null  int64  \n",
      " 3   education         21525 non-null  object \n",
      " 4   education_id      21525 non-null  int64  \n",
      " 5   family_status     21525 non-null  object \n",
      " 6   family_status_id  21525 non-null  int64  \n",
      " 7   gender            21525 non-null  object \n",
      " 8   income_type       21525 non-null  object \n",
      " 9   debt              21525 non-null  int64  \n",
      " 10  total_income      21525 non-null  float64\n",
      " 11  purpose           21525 non-null  object \n",
      "dtypes: float64(2), int64(5), object(5)\n",
      "memory usage: 2.0+ MB\n"
     ]
    }
   ],
   "source": [
    "df.info() #получение общей информации о датафрейме df"
   ]
  },
  {
   "cell_type": "markdown",
   "id": "9c6d405b",
   "metadata": {},
   "source": [
    "Ответ: да, стал."
   ]
  },
  {
   "cell_type": "markdown",
   "id": "34f74f7a",
   "metadata": {},
   "source": [
    "<b>Столбец `dob_years`</b>\n",
    "\n",
    "В этом столбце всё очень даже хорошо, кроме того, что у 101-го клиента банка возраст равен нулю:"
   ]
  },
  {
   "cell_type": "code",
   "execution_count": 23,
   "id": "0ab70d7b",
   "metadata": {},
   "outputs": [
    {
     "data": {
      "text/plain": [
       "array([ 0, 19, 20, 21, 22, 23, 24, 25, 26, 27, 28, 29, 30, 31, 32, 33, 34,\n",
       "       35, 36, 37, 38, 39, 40, 41, 42, 43, 44, 45, 46, 47, 48, 49, 50, 51,\n",
       "       52, 53, 54, 55, 56, 57, 58, 59, 60, 61, 62, 63, 64, 65, 66, 67, 68,\n",
       "       69, 70, 71, 72, 73, 74, 75])"
      ]
     },
     "execution_count": 23,
     "metadata": {},
     "output_type": "execute_result"
    }
   ],
   "source": [
    "df['dob_years'].sort_values().unique() #вывод уникальных значений столбца 'dob_years'"
   ]
  },
  {
   "cell_type": "code",
   "execution_count": 24,
   "id": "de85b2e3",
   "metadata": {
    "scrolled": true
   },
   "outputs": [
    {
     "data": {
      "text/plain": [
       "101"
      ]
     },
     "execution_count": 24,
     "metadata": {},
     "output_type": "execute_result"
    }
   ],
   "source": [
    "len(df[df['dob_years'] == 0]) #вывод количества нулей в столбце"
   ]
  },
  {
   "cell_type": "markdown",
   "id": "27321ff0",
   "metadata": {},
   "source": [
    "Очевидно, что это просто ошибка, возможно, пропущенные или неуказанные значения в этом столбце обозначены нулями. Процент совсем небольшой - 0,5%, и мы могли бы его проигнорировать, но мы заменим его медианным значением по столбцу:"
   ]
  },
  {
   "cell_type": "code",
   "execution_count": 25,
   "id": "30347e22",
   "metadata": {
    "scrolled": true
   },
   "outputs": [
    {
     "data": {
      "text/plain": [
       "array([19, 20, 21, 22, 23, 24, 25, 26, 27, 28, 29, 30, 31, 32, 33, 34, 35,\n",
       "       36, 37, 38, 39, 40, 41, 42, 43, 44, 45, 46, 47, 48, 49, 50, 51, 52,\n",
       "       53, 54, 55, 56, 57, 58, 59, 60, 61, 62, 63, 64, 65, 66, 67, 68, 69,\n",
       "       70, 71, 72, 73, 74, 75])"
      ]
     },
     "execution_count": 25,
     "metadata": {},
     "output_type": "execute_result"
    }
   ],
   "source": [
    "df['dob_years'] = df['dob_years'].replace(0, int(df['dob_years'].median())) #замена нулей в столбце на медиану по столбцу\n",
    "df['dob_years'].sort_values().unique()"
   ]
  },
  {
   "cell_type": "markdown",
   "id": "0aeb3342",
   "metadata": {},
   "source": [
    "<b>Столбец `education`</b>\n",
    "\n",
    "В этом столбце много неявных дубликатов, которыми мы займёмся в следующем пункте, но нет никаких аномалий:"
   ]
  },
  {
   "cell_type": "code",
   "execution_count": 26,
   "id": "35b394c2",
   "metadata": {
    "scrolled": true
   },
   "outputs": [
    {
     "data": {
      "text/plain": [
       "array(['ВЫСШЕЕ', 'Высшее', 'НАЧАЛЬНОЕ', 'НЕОКОНЧЕННОЕ ВЫСШЕЕ',\n",
       "       'Начальное', 'Неоконченное высшее', 'СРЕДНЕЕ', 'Среднее',\n",
       "       'УЧЕНАЯ СТЕПЕНЬ', 'Ученая степень', 'высшее', 'начальное',\n",
       "       'неоконченное высшее', 'среднее', 'ученая степень'], dtype=object)"
      ]
     },
     "execution_count": 26,
     "metadata": {},
     "output_type": "execute_result"
    }
   ],
   "source": [
    "df['education'].sort_values().unique() #вывод уникальных значений в столбце"
   ]
  },
  {
   "cell_type": "markdown",
   "id": "b9cea6d9",
   "metadata": {},
   "source": [
    "<b>Столбец `education_id`</b>\n",
    "\n",
    "Количество категорий соответствует количеству уникальных значений в столбце `education` без учёта регистра. Позже мы узнаем о соответствии категорий."
   ]
  },
  {
   "cell_type": "code",
   "execution_count": 27,
   "id": "5145dd82",
   "metadata": {},
   "outputs": [
    {
     "data": {
      "text/plain": [
       "array([0, 1, 2, 3, 4])"
      ]
     },
     "execution_count": 27,
     "metadata": {},
     "output_type": "execute_result"
    }
   ],
   "source": [
    "df['education_id'].sort_values().unique() #вывод уникальных значений в столбце"
   ]
  },
  {
   "cell_type": "markdown",
   "id": "64bf91e3",
   "metadata": {},
   "source": [
    "<b>Столбец `family_status`</b>\n",
    "\n",
    "Здесь всё почти идеально, кроме заглавной 'Н' в значениях 'Не женат / не замужем', что мы так же исправим в следующем пункте."
   ]
  },
  {
   "cell_type": "code",
   "execution_count": 28,
   "id": "d80f4acf",
   "metadata": {
    "scrolled": true
   },
   "outputs": [
    {
     "data": {
      "text/plain": [
       "array(['Не женат / не замужем', 'в разводе', 'вдовец / вдова',\n",
       "       'гражданский брак', 'женат / замужем'], dtype=object)"
      ]
     },
     "execution_count": 28,
     "metadata": {},
     "output_type": "execute_result"
    }
   ],
   "source": [
    "df['family_status'].sort_values().unique() #вывод уникальных значений в столбце"
   ]
  },
  {
   "cell_type": "markdown",
   "id": "3481fb83",
   "metadata": {},
   "source": [
    "<b>Столбец `family_status_id`</b>\n",
    "\n",
    "Количество категорий соответствует количеству уникальных значений в столбце `family_status` без учёта регистра. Позже мы узнаем о соответствии категорий."
   ]
  },
  {
   "cell_type": "code",
   "execution_count": 29,
   "id": "7a3d9b5a",
   "metadata": {},
   "outputs": [
    {
     "data": {
      "text/plain": [
       "array([0, 1, 2, 3, 4])"
      ]
     },
     "execution_count": 29,
     "metadata": {},
     "output_type": "execute_result"
    }
   ],
   "source": [
    "df['family_status_id'].sort_values().unique() #вывод уникальных значений в столбце"
   ]
  },
  {
   "cell_type": "markdown",
   "id": "26bda432",
   "metadata": {},
   "source": [
    "<b>Столбец `gender`</b>\n",
    "\n",
    "Замечен необычный гендер: 'XNA':"
   ]
  },
  {
   "cell_type": "code",
   "execution_count": 30,
   "id": "082ea73d",
   "metadata": {
    "scrolled": true
   },
   "outputs": [
    {
     "data": {
      "text/plain": [
       "array(['F', 'M', 'XNA'], dtype=object)"
      ]
     },
     "execution_count": 30,
     "metadata": {},
     "output_type": "execute_result"
    }
   ],
   "source": [
    "df['gender'].sort_values().unique() #вывод уникальных значений в столбце"
   ]
  },
  {
   "cell_type": "markdown",
   "id": "46a174b1",
   "metadata": {},
   "source": [
    "Посмотрим на всю строку полностью:"
   ]
  },
  {
   "cell_type": "code",
   "execution_count": 31,
   "id": "4ec17722",
   "metadata": {
    "scrolled": true
   },
   "outputs": [
    {
     "data": {
      "text/html": [
       "<div>\n",
       "<style scoped>\n",
       "    .dataframe tbody tr th:only-of-type {\n",
       "        vertical-align: middle;\n",
       "    }\n",
       "\n",
       "    .dataframe tbody tr th {\n",
       "        vertical-align: top;\n",
       "    }\n",
       "\n",
       "    .dataframe thead th {\n",
       "        text-align: right;\n",
       "    }\n",
       "</style>\n",
       "<table border=\"1\" class=\"dataframe\">\n",
       "  <thead>\n",
       "    <tr style=\"text-align: right;\">\n",
       "      <th></th>\n",
       "      <th>children</th>\n",
       "      <th>days_employed</th>\n",
       "      <th>dob_years</th>\n",
       "      <th>education</th>\n",
       "      <th>education_id</th>\n",
       "      <th>family_status</th>\n",
       "      <th>family_status_id</th>\n",
       "      <th>gender</th>\n",
       "      <th>income_type</th>\n",
       "      <th>debt</th>\n",
       "      <th>total_income</th>\n",
       "      <th>purpose</th>\n",
       "    </tr>\n",
       "  </thead>\n",
       "  <tbody>\n",
       "    <tr>\n",
       "      <th>10701</th>\n",
       "      <td>0</td>\n",
       "      <td>2358.600502</td>\n",
       "      <td>24</td>\n",
       "      <td>неоконченное высшее</td>\n",
       "      <td>2</td>\n",
       "      <td>гражданский брак</td>\n",
       "      <td>1</td>\n",
       "      <td>XNA</td>\n",
       "      <td>компаньон</td>\n",
       "      <td>0</td>\n",
       "      <td>203905.157261</td>\n",
       "      <td>покупка недвижимости</td>\n",
       "    </tr>\n",
       "  </tbody>\n",
       "</table>\n",
       "</div>"
      ],
      "text/plain": [
       "       children  days_employed  dob_years            education  education_id  \\\n",
       "10701         0    2358.600502         24  неоконченное высшее             2   \n",
       "\n",
       "          family_status  family_status_id gender income_type  debt  \\\n",
       "10701  гражданский брак                 1    XNA   компаньон     0   \n",
       "\n",
       "        total_income               purpose  \n",
       "10701  203905.157261  покупка недвижимости  "
      ]
     },
     "execution_count": 31,
     "metadata": {},
     "output_type": "execute_result"
    }
   ],
   "source": [
    "df[df['gender'] == 'XNA'] #вывод строки с гендером 'XNA'"
   ]
  },
  {
   "cell_type": "markdown",
   "id": "0071705c",
   "metadata": {},
   "source": [
    "В строке совершенно никаких зацепок, но значение всего одно, явно просто случайность, поэтому заменим более частым значением:"
   ]
  },
  {
   "cell_type": "code",
   "execution_count": 32,
   "id": "560393fa",
   "metadata": {},
   "outputs": [
    {
     "data": {
      "text/plain": [
       "gender\n",
       "F      14236\n",
       "M       7288\n",
       "XNA        1\n",
       "dtype: int64"
      ]
     },
     "execution_count": 32,
     "metadata": {},
     "output_type": "execute_result"
    }
   ],
   "source": [
    "df.value_counts('gender') #вывод количества уникальных значений"
   ]
  },
  {
   "cell_type": "code",
   "execution_count": 33,
   "id": "5169029b",
   "metadata": {
    "scrolled": true
   },
   "outputs": [
    {
     "data": {
      "text/plain": [
       "array(['F', 'M'], dtype=object)"
      ]
     },
     "execution_count": 33,
     "metadata": {},
     "output_type": "execute_result"
    }
   ],
   "source": [
    "df['gender'] = df['gender'].replace('XNA', 'F') #замена аномального гендера на мужской\n",
    "df['gender'].sort_values().unique()"
   ]
  },
  {
   "cell_type": "markdown",
   "id": "bc7438f1",
   "metadata": {},
   "source": [
    "<b>Столбец `income_type`</b>\n",
    "\n",
    "Столбец, в котором всё замечательно:"
   ]
  },
  {
   "cell_type": "code",
   "execution_count": 34,
   "id": "9629dbe7",
   "metadata": {
    "scrolled": true
   },
   "outputs": [
    {
     "data": {
      "text/plain": [
       "array(['безработный', 'в декрете', 'госслужащий', 'компаньон',\n",
       "       'пенсионер', 'предприниматель', 'сотрудник', 'студент'],\n",
       "      dtype=object)"
      ]
     },
     "execution_count": 34,
     "metadata": {},
     "output_type": "execute_result"
    }
   ],
   "source": [
    "df['income_type'].sort_values().unique() #вывод уникальных значений в столбце"
   ]
  },
  {
   "cell_type": "markdown",
   "id": "88f8b3e4",
   "metadata": {},
   "source": [
    "<b>Столбец `debt`</b>\n",
    "\n",
    "Тут всё отлично: долг либо есть, либо его нет."
   ]
  },
  {
   "cell_type": "code",
   "execution_count": 35,
   "id": "a2dd3384",
   "metadata": {
    "scrolled": true
   },
   "outputs": [
    {
     "data": {
      "text/plain": [
       "array([0, 1])"
      ]
     },
     "execution_count": 35,
     "metadata": {},
     "output_type": "execute_result"
    }
   ],
   "source": [
    "df['debt'].sort_values().unique() #вывод уникальных значений в столбце"
   ]
  },
  {
   "cell_type": "markdown",
   "id": "4fa3b9fe",
   "metadata": {},
   "source": [
    "<b>Столбец `total_income`</b>\n",
    "\n",
    "Воспользуемся диаграммой рассеивания, как в столбце `days_employed`, для наглядности поделим значения на тысячу, чтобы значения были читаемыми:"
   ]
  },
  {
   "cell_type": "code",
   "execution_count": 36,
   "id": "c8231809",
   "metadata": {
    "scrolled": true
   },
   "outputs": [
    {
     "data": {
      "text/plain": [
       "<AxesSubplot:xlabel='total_income', ylabel='dob_years'>"
      ]
     },
     "execution_count": 36,
     "metadata": {},
     "output_type": "execute_result"
    },
    {
     "data": {
      "image/png": "[encoded data removed]",
      "text/plain": [
       "<Figure size 432x288 with 1 Axes>"
      ]
     },
     "metadata": {
      "needs_background": "light"
     },
     "output_type": "display_data"
    }
   ],
   "source": [
    "sb.scatterplot(x=df['total_income'] / 1000, y=df['dob_years']) #построение диаграммы рассеяния"
   ]
  },
  {
   "cell_type": "markdown",
   "id": "a9a40fa8",
   "metadata": {},
   "source": [
    "Распределение дохода по возрасту выглядит вполне реалистично, есть немного значений, которые выбиваются из общей массы, но мы не можем исключать того, что это реальны доходад, поэтому здесь оставим всё как есть."
   ]
  },
  {
   "cell_type": "markdown",
   "id": "0d362441",
   "metadata": {},
   "source": [
    "<b>Столбец `purpose`</b>\n",
    "\n",
    "В этом столбце не наблюдается никаких аномалий."
   ]
  },
  {
   "cell_type": "code",
   "execution_count": 37,
   "id": "5b0b9d9b",
   "metadata": {
    "scrolled": false
   },
   "outputs": [
    {
     "data": {
      "text/plain": [
       "array(['автомобили', 'автомобиль', 'высшее образование',\n",
       "       'дополнительное образование', 'жилье',\n",
       "       'заняться высшим образованием', 'заняться образованием',\n",
       "       'на покупку автомобиля', 'на покупку подержанного автомобиля',\n",
       "       'на покупку своего автомобиля', 'на проведение свадьбы',\n",
       "       'недвижимость', 'образование', 'операции с жильем',\n",
       "       'операции с коммерческой недвижимостью',\n",
       "       'операции с недвижимостью', 'операции со своей недвижимостью',\n",
       "       'покупка жилой недвижимости', 'покупка жилья',\n",
       "       'покупка жилья для сдачи', 'покупка жилья для семьи',\n",
       "       'покупка коммерческой недвижимости', 'покупка недвижимости',\n",
       "       'покупка своего жилья', 'получение высшего образования',\n",
       "       'получение дополнительного образования', 'получение образования',\n",
       "       'приобретение автомобиля', 'профильное образование',\n",
       "       'ремонт жилью', 'свадьба', 'свой автомобиль',\n",
       "       'сделка с автомобилем', 'сделка с подержанным автомобилем',\n",
       "       'строительство жилой недвижимости', 'строительство недвижимости',\n",
       "       'строительство собственной недвижимости', 'сыграть свадьбу'],\n",
       "      dtype=object)"
      ]
     },
     "execution_count": 37,
     "metadata": {},
     "output_type": "execute_result"
    }
   ],
   "source": [
    "df['purpose'].sort_values().unique() #вывод уникальных значений в столбце"
   ]
  },
  {
   "cell_type": "markdown",
   "id": "278698f8",
   "metadata": {},
   "source": [
    "После обработки всех столбцов можно заключить, что для поиска аномалий в качественных переменных отлично подходит метод `unique()` в паре с сортировкой значений `sort_values()`, а для количественных мы выбрали диаграмму рассеивания, так как она отлично показывает распределение значений по заданным осям, такой метод визуализации помог нам обнаружить выдающиеся значения и определить их тенденции в интересующих нас направлениях."
   ]
  },
  {
   "cell_type": "code",
   "execution_count": 38,
   "id": "38f8c62a",
   "metadata": {
    "scrolled": true
   },
   "outputs": [
    {
     "data": {
      "text/plain": [
       "55"
      ]
     },
     "execution_count": 38,
     "metadata": {},
     "output_type": "execute_result"
    }
   ],
   "source": [
    "df.duplicated().sum() # подсчёт явных дубликатов"
   ]
  },
  {
   "cell_type": "markdown",
   "id": "61a42c22",
   "metadata": {},
   "source": [
    "Их совсем немного, и мы удалим их одной строкой:"
   ]
  },
  {
   "cell_type": "code",
   "execution_count": 39,
   "id": "4e3870ff",
   "metadata": {
    "scrolled": true
   },
   "outputs": [
    {
     "data": {
      "text/plain": [
       "0"
      ]
     },
     "execution_count": 39,
     "metadata": {},
     "output_type": "execute_result"
    }
   ],
   "source": [
    "df = df.drop_duplicates().reset_index(drop=True) # удаление явных дубликатов (с удалением старых индексов и формированием новых)\n",
    "df.duplicated().sum() # проверка, что явных дубликатов не осталось"
   ]
  },
  {
   "cell_type": "markdown",
   "id": "6a9aaaff",
   "metadata": {},
   "source": [
    "Быстро и просто. А теперь перейдём к дубликатам посложнее, неявным. Мы уже нашли проблемный столбец в предыдущем пункте: `education`.С ним мы легко разберёмся, приведя все буквы к общему регистру:"
   ]
  },
  {
   "cell_type": "code",
   "execution_count": 40,
   "id": "fc9f2ed9",
   "metadata": {
    "scrolled": false
   },
   "outputs": [
    {
     "data": {
      "text/plain": [
       "array(['высшее', 'начальное', 'неоконченное высшее', 'среднее',\n",
       "       'ученая степень'], dtype=object)"
      ]
     },
     "execution_count": 40,
     "metadata": {},
     "output_type": "execute_result"
    }
   ],
   "source": [
    "df['education'] = df['education'].str.lower() #делаем все буквы строчными\n",
    "df['education'].sort_values().unique() #вывод уникальных значений в столбце"
   ]
  },
  {
   "cell_type": "markdown",
   "id": "45d2a799",
   "metadata": {},
   "source": [
    "Попутно мы исправим написание в столбце `family_status` для удобства работы:"
   ]
  },
  {
   "cell_type": "code",
   "execution_count": 41,
   "id": "49bf5c82",
   "metadata": {
    "scrolled": true
   },
   "outputs": [
    {
     "data": {
      "text/plain": [
       "array(['в разводе', 'вдовец / вдова', 'гражданский брак',\n",
       "       'женат / замужем', 'не женат / не замужем'], dtype=object)"
      ]
     },
     "execution_count": 41,
     "metadata": {},
     "output_type": "execute_result"
    }
   ],
   "source": [
    "df['family_status'] = df['family_status'].str.lower() #делаем все буквы строчными\n",
    "df['family_status'].sort_values().unique() #вывод уникальных значений в столбце"
   ]
  },
  {
   "cell_type": "markdown",
   "id": "84e71f94",
   "metadata": {},
   "source": [
    "После устранения неявных дубликатов, давайте ещё раз проверим явные:"
   ]
  },
  {
   "cell_type": "code",
   "execution_count": 42,
   "id": "4c619db1",
   "metadata": {
    "scrolled": true
   },
   "outputs": [
    {
     "data": {
      "text/plain": [
       "17"
      ]
     },
     "execution_count": 42,
     "metadata": {},
     "output_type": "execute_result"
    }
   ],
   "source": [
    "df.duplicated().sum() # подсчёт явных дубликатов"
   ]
  },
  {
   "cell_type": "markdown",
   "id": "eff84b52",
   "metadata": {},
   "source": [
    "Интересно, что появилось ещё 17 дубликатов. Скорее всего, это из-за того, что было много вариантов образования в разном регистре. Вероятно, в будущем лучше сначала заниматься неявными дубликатами, а затем разом удалять все явные, учтём."
   ]
  },
  {
   "cell_type": "code",
   "execution_count": 43,
   "id": "23c0850a",
   "metadata": {
    "scrolled": true
   },
   "outputs": [
    {
     "data": {
      "text/plain": [
       "0"
      ]
     },
     "execution_count": 43,
     "metadata": {},
     "output_type": "execute_result"
    }
   ],
   "source": [
    "df = df.drop_duplicates().reset_index(drop=True) # удаление явных дубликатов (с удалением старых индексов и формированием новых)\n",
    "df.duplicated().sum() # проверка, что явных дубликатов не осталось"
   ]
  },
  {
   "cell_type": "markdown",
   "id": "f76f7cbb",
   "metadata": {},
   "source": [
    "В поиске дубликатов как и в поиске аномалий нашим незаменимым помощником был метод `sort_values()`, он позволяет обнаружить человеческий фактор при занесении данных, а метод `str.lower()` справляется с задачей разных регистров быстрее, чем `replace()`."
   ]
  },
  {
   "cell_type": "markdown",
   "id": "2f2d702b",
   "metadata": {},
   "source": [
    "### Изменение типов данных\n",
    "\n",
    "Что касается типов данных в таблице, то все они соответствуют реальности и находятся на своих местах. Но мы поменяем тип данных в столбцах `total_income` и `days_employed` с `float` на `int`, чтобы в следующем пункте нам было легче распределить доход по категориям:"
   ]
  },
  {
   "cell_type": "code",
   "execution_count": 44,
   "id": "6f34ce72",
   "metadata": {},
   "outputs": [
    {
     "data": {
      "text/html": [
       "<div>\n",
       "<style scoped>\n",
       "    .dataframe tbody tr th:only-of-type {\n",
       "        vertical-align: middle;\n",
       "    }\n",
       "\n",
       "    .dataframe tbody tr th {\n",
       "        vertical-align: top;\n",
       "    }\n",
       "\n",
       "    .dataframe thead th {\n",
       "        text-align: right;\n",
       "    }\n",
       "</style>\n",
       "<table border=\"1\" class=\"dataframe\">\n",
       "  <thead>\n",
       "    <tr style=\"text-align: right;\">\n",
       "      <th></th>\n",
       "      <th>children</th>\n",
       "      <th>days_employed</th>\n",
       "      <th>dob_years</th>\n",
       "      <th>education</th>\n",
       "      <th>education_id</th>\n",
       "      <th>family_status</th>\n",
       "      <th>family_status_id</th>\n",
       "      <th>gender</th>\n",
       "      <th>income_type</th>\n",
       "      <th>debt</th>\n",
       "      <th>total_income</th>\n",
       "      <th>purpose</th>\n",
       "    </tr>\n",
       "  </thead>\n",
       "  <tbody>\n",
       "    <tr>\n",
       "      <th>0</th>\n",
       "      <td>1</td>\n",
       "      <td>8437</td>\n",
       "      <td>42</td>\n",
       "      <td>высшее</td>\n",
       "      <td>0</td>\n",
       "      <td>женат / замужем</td>\n",
       "      <td>0</td>\n",
       "      <td>F</td>\n",
       "      <td>сотрудник</td>\n",
       "      <td>0</td>\n",
       "      <td>253875</td>\n",
       "      <td>покупка жилья</td>\n",
       "    </tr>\n",
       "    <tr>\n",
       "      <th>1</th>\n",
       "      <td>1</td>\n",
       "      <td>4024</td>\n",
       "      <td>36</td>\n",
       "      <td>среднее</td>\n",
       "      <td>1</td>\n",
       "      <td>женат / замужем</td>\n",
       "      <td>0</td>\n",
       "      <td>F</td>\n",
       "      <td>сотрудник</td>\n",
       "      <td>0</td>\n",
       "      <td>112080</td>\n",
       "      <td>приобретение автомобиля</td>\n",
       "    </tr>\n",
       "    <tr>\n",
       "      <th>2</th>\n",
       "      <td>0</td>\n",
       "      <td>5623</td>\n",
       "      <td>33</td>\n",
       "      <td>среднее</td>\n",
       "      <td>1</td>\n",
       "      <td>женат / замужем</td>\n",
       "      <td>0</td>\n",
       "      <td>M</td>\n",
       "      <td>сотрудник</td>\n",
       "      <td>0</td>\n",
       "      <td>145885</td>\n",
       "      <td>покупка жилья</td>\n",
       "    </tr>\n",
       "    <tr>\n",
       "      <th>3</th>\n",
       "      <td>3</td>\n",
       "      <td>4124</td>\n",
       "      <td>32</td>\n",
       "      <td>среднее</td>\n",
       "      <td>1</td>\n",
       "      <td>женат / замужем</td>\n",
       "      <td>0</td>\n",
       "      <td>M</td>\n",
       "      <td>сотрудник</td>\n",
       "      <td>0</td>\n",
       "      <td>267628</td>\n",
       "      <td>дополнительное образование</td>\n",
       "    </tr>\n",
       "    <tr>\n",
       "      <th>4</th>\n",
       "      <td>0</td>\n",
       "      <td>1630</td>\n",
       "      <td>53</td>\n",
       "      <td>среднее</td>\n",
       "      <td>1</td>\n",
       "      <td>гражданский брак</td>\n",
       "      <td>1</td>\n",
       "      <td>F</td>\n",
       "      <td>пенсионер</td>\n",
       "      <td>0</td>\n",
       "      <td>158616</td>\n",
       "      <td>сыграть свадьбу</td>\n",
       "    </tr>\n",
       "  </tbody>\n",
       "</table>\n",
       "</div>"
      ],
      "text/plain": [
       "   children  days_employed  dob_years education  education_id  \\\n",
       "0         1           8437         42    высшее             0   \n",
       "1         1           4024         36   среднее             1   \n",
       "2         0           5623         33   среднее             1   \n",
       "3         3           4124         32   среднее             1   \n",
       "4         0           1630         53   среднее             1   \n",
       "\n",
       "      family_status  family_status_id gender income_type  debt  total_income  \\\n",
       "0   женат / замужем                 0      F   сотрудник     0        253875   \n",
       "1   женат / замужем                 0      F   сотрудник     0        112080   \n",
       "2   женат / замужем                 0      M   сотрудник     0        145885   \n",
       "3   женат / замужем                 0      M   сотрудник     0        267628   \n",
       "4  гражданский брак                 1      F   пенсионер     0        158616   \n",
       "\n",
       "                      purpose  \n",
       "0               покупка жилья  \n",
       "1     приобретение автомобиля  \n",
       "2               покупка жилья  \n",
       "3  дополнительное образование  \n",
       "4             сыграть свадьбу  "
      ]
     },
     "execution_count": 44,
     "metadata": {},
     "output_type": "execute_result"
    }
   ],
   "source": [
    "df['total_income'] = df['total_income'].astype(int) #изменение типа данных в столбце на целочисленный\n",
    "df['days_employed'] = df['days_employed'].astype(int) #изменение типа данных в столбце на целочисленный\n",
    "df.head() #демонстрация первых пяти строк"
   ]
  },
  {
   "cell_type": "markdown",
   "id": "e00a8d8a",
   "metadata": {},
   "source": [
    "### Формирование дополнительных датафреймов словарей, декомпозиция исходного датафрейма."
   ]
  },
  {
   "cell_type": "markdown",
   "id": "919129f9",
   "metadata": {},
   "source": [
    "В исходном датафрейме есть два столбца `education_id` и `family_status_id`, которые заключают в себе уникальные значения к столбцам `education` и `family_status`, соответственно. Для того, чтобы наша таблица была менее загружена, а код работал быстрее, мы создадим отдельные датафреймы-\"словари\", в которых будут храниться пары столбцов с уникальными значениями:"
   ]
  },
  {
   "cell_type": "code",
   "execution_count": 45,
   "id": "6796a3ab",
   "metadata": {
    "scrolled": true
   },
   "outputs": [
    {
     "data": {
      "text/html": [
       "<div>\n",
       "<style scoped>\n",
       "    .dataframe tbody tr th:only-of-type {\n",
       "        vertical-align: middle;\n",
       "    }\n",
       "\n",
       "    .dataframe tbody tr th {\n",
       "        vertical-align: top;\n",
       "    }\n",
       "\n",
       "    .dataframe thead th {\n",
       "        text-align: right;\n",
       "    }\n",
       "</style>\n",
       "<table border=\"1\" class=\"dataframe\">\n",
       "  <thead>\n",
       "    <tr style=\"text-align: right;\">\n",
       "      <th></th>\n",
       "      <th>education</th>\n",
       "      <th>education_id</th>\n",
       "    </tr>\n",
       "  </thead>\n",
       "  <tbody>\n",
       "    <tr>\n",
       "      <th>0</th>\n",
       "      <td>высшее</td>\n",
       "      <td>0</td>\n",
       "    </tr>\n",
       "    <tr>\n",
       "      <th>1</th>\n",
       "      <td>среднее</td>\n",
       "      <td>1</td>\n",
       "    </tr>\n",
       "    <tr>\n",
       "      <th>2</th>\n",
       "      <td>неоконченное высшее</td>\n",
       "      <td>2</td>\n",
       "    </tr>\n",
       "    <tr>\n",
       "      <th>3</th>\n",
       "      <td>начальное</td>\n",
       "      <td>3</td>\n",
       "    </tr>\n",
       "    <tr>\n",
       "      <th>4</th>\n",
       "      <td>ученая степень</td>\n",
       "      <td>4</td>\n",
       "    </tr>\n",
       "  </tbody>\n",
       "</table>\n",
       "</div>"
      ],
      "text/plain": [
       "             education  education_id\n",
       "0               высшее             0\n",
       "1              среднее             1\n",
       "2  неоконченное высшее             2\n",
       "3            начальное             3\n",
       "4       ученая степень             4"
      ]
     },
     "execution_count": 45,
     "metadata": {},
     "output_type": "execute_result"
    }
   ],
   "source": [
    "educ_id_dict = df[['education', 'education_id']] #создание нового датафрейма с идентификаторами образования\n",
    "educ_id_dict = educ_id_dict.drop_duplicates().reset_index(drop=True) #удаление дубликатов с перезаписыванием индексов\n",
    "educ_id_dict #вывод нового датафрейма"
   ]
  },
  {
   "cell_type": "code",
   "execution_count": 46,
   "id": "de18d4d8",
   "metadata": {
    "scrolled": true
   },
   "outputs": [
    {
     "data": {
      "text/html": [
       "<div>\n",
       "<style scoped>\n",
       "    .dataframe tbody tr th:only-of-type {\n",
       "        vertical-align: middle;\n",
       "    }\n",
       "\n",
       "    .dataframe tbody tr th {\n",
       "        vertical-align: top;\n",
       "    }\n",
       "\n",
       "    .dataframe thead th {\n",
       "        text-align: right;\n",
       "    }\n",
       "</style>\n",
       "<table border=\"1\" class=\"dataframe\">\n",
       "  <thead>\n",
       "    <tr style=\"text-align: right;\">\n",
       "      <th></th>\n",
       "      <th>family_status</th>\n",
       "      <th>family_status_id</th>\n",
       "    </tr>\n",
       "  </thead>\n",
       "  <tbody>\n",
       "    <tr>\n",
       "      <th>0</th>\n",
       "      <td>женат / замужем</td>\n",
       "      <td>0</td>\n",
       "    </tr>\n",
       "    <tr>\n",
       "      <th>1</th>\n",
       "      <td>гражданский брак</td>\n",
       "      <td>1</td>\n",
       "    </tr>\n",
       "    <tr>\n",
       "      <th>2</th>\n",
       "      <td>вдовец / вдова</td>\n",
       "      <td>2</td>\n",
       "    </tr>\n",
       "    <tr>\n",
       "      <th>3</th>\n",
       "      <td>в разводе</td>\n",
       "      <td>3</td>\n",
       "    </tr>\n",
       "    <tr>\n",
       "      <th>4</th>\n",
       "      <td>не женат / не замужем</td>\n",
       "      <td>4</td>\n",
       "    </tr>\n",
       "  </tbody>\n",
       "</table>\n",
       "</div>"
      ],
      "text/plain": [
       "           family_status  family_status_id\n",
       "0        женат / замужем                 0\n",
       "1       гражданский брак                 1\n",
       "2         вдовец / вдова                 2\n",
       "3              в разводе                 3\n",
       "4  не женат / не замужем                 4"
      ]
     },
     "execution_count": 46,
     "metadata": {},
     "output_type": "execute_result"
    }
   ],
   "source": [
    "fam_stat_id_dict = df[['family_status', 'family_status_id']] #создание нового датафрейма с идентификаторами образования\n",
    "fam_stat_id_dict = fam_stat_id_dict.drop_duplicates().reset_index(drop=True) #удаление дубликатов с перезаписыванием индексов\n",
    "fam_stat_id_dict #вывод нового датафрейма"
   ]
  },
  {
   "cell_type": "markdown",
   "id": "6e9795c5",
   "metadata": {},
   "source": [
    "Итак, мы создали два новых датафрейма, в которых хранятся \"словари\" индексов образования и семейного положения. Мы удалили все дубликаты, чтобы \"словари\" были компактные и было легко понять, какой индекс соответствует какому образованию или семейному положению. Теперь мы удалим столбцы `education` и `family_status` из исходного датафрейма и оставим только столбцы с идентификаторами:"
   ]
  },
  {
   "cell_type": "code",
   "execution_count": 47,
   "id": "cca16ef4",
   "metadata": {},
   "outputs": [
    {
     "data": {
      "text/html": [
       "<div>\n",
       "<style scoped>\n",
       "    .dataframe tbody tr th:only-of-type {\n",
       "        vertical-align: middle;\n",
       "    }\n",
       "\n",
       "    .dataframe tbody tr th {\n",
       "        vertical-align: top;\n",
       "    }\n",
       "\n",
       "    .dataframe thead th {\n",
       "        text-align: right;\n",
       "    }\n",
       "</style>\n",
       "<table border=\"1\" class=\"dataframe\">\n",
       "  <thead>\n",
       "    <tr style=\"text-align: right;\">\n",
       "      <th></th>\n",
       "      <th>children</th>\n",
       "      <th>days_employed</th>\n",
       "      <th>dob_years</th>\n",
       "      <th>education_id</th>\n",
       "      <th>family_status_id</th>\n",
       "      <th>gender</th>\n",
       "      <th>income_type</th>\n",
       "      <th>debt</th>\n",
       "      <th>total_income</th>\n",
       "      <th>purpose</th>\n",
       "    </tr>\n",
       "  </thead>\n",
       "  <tbody>\n",
       "    <tr>\n",
       "      <th>0</th>\n",
       "      <td>1</td>\n",
       "      <td>8437</td>\n",
       "      <td>42</td>\n",
       "      <td>0</td>\n",
       "      <td>0</td>\n",
       "      <td>F</td>\n",
       "      <td>сотрудник</td>\n",
       "      <td>0</td>\n",
       "      <td>253875</td>\n",
       "      <td>покупка жилья</td>\n",
       "    </tr>\n",
       "    <tr>\n",
       "      <th>1</th>\n",
       "      <td>1</td>\n",
       "      <td>4024</td>\n",
       "      <td>36</td>\n",
       "      <td>1</td>\n",
       "      <td>0</td>\n",
       "      <td>F</td>\n",
       "      <td>сотрудник</td>\n",
       "      <td>0</td>\n",
       "      <td>112080</td>\n",
       "      <td>приобретение автомобиля</td>\n",
       "    </tr>\n",
       "    <tr>\n",
       "      <th>2</th>\n",
       "      <td>0</td>\n",
       "      <td>5623</td>\n",
       "      <td>33</td>\n",
       "      <td>1</td>\n",
       "      <td>0</td>\n",
       "      <td>M</td>\n",
       "      <td>сотрудник</td>\n",
       "      <td>0</td>\n",
       "      <td>145885</td>\n",
       "      <td>покупка жилья</td>\n",
       "    </tr>\n",
       "    <tr>\n",
       "      <th>3</th>\n",
       "      <td>3</td>\n",
       "      <td>4124</td>\n",
       "      <td>32</td>\n",
       "      <td>1</td>\n",
       "      <td>0</td>\n",
       "      <td>M</td>\n",
       "      <td>сотрудник</td>\n",
       "      <td>0</td>\n",
       "      <td>267628</td>\n",
       "      <td>дополнительное образование</td>\n",
       "    </tr>\n",
       "    <tr>\n",
       "      <th>4</th>\n",
       "      <td>0</td>\n",
       "      <td>1630</td>\n",
       "      <td>53</td>\n",
       "      <td>1</td>\n",
       "      <td>1</td>\n",
       "      <td>F</td>\n",
       "      <td>пенсионер</td>\n",
       "      <td>0</td>\n",
       "      <td>158616</td>\n",
       "      <td>сыграть свадьбу</td>\n",
       "    </tr>\n",
       "  </tbody>\n",
       "</table>\n",
       "</div>"
      ],
      "text/plain": [
       "   children  days_employed  dob_years  education_id  family_status_id gender  \\\n",
       "0         1           8437         42             0                 0      F   \n",
       "1         1           4024         36             1                 0      F   \n",
       "2         0           5623         33             1                 0      M   \n",
       "3         3           4124         32             1                 0      M   \n",
       "4         0           1630         53             1                 1      F   \n",
       "\n",
       "  income_type  debt  total_income                     purpose  \n",
       "0   сотрудник     0        253875               покупка жилья  \n",
       "1   сотрудник     0        112080     приобретение автомобиля  \n",
       "2   сотрудник     0        145885               покупка жилья  \n",
       "3   сотрудник     0        267628  дополнительное образование  \n",
       "4   пенсионер     0        158616             сыграть свадьбу  "
      ]
     },
     "execution_count": 47,
     "metadata": {},
     "output_type": "execute_result"
    }
   ],
   "source": [
    "df = df.drop(['education', 'family_status'], axis=1) #удаление столбца 'education' и 'family_status'\n",
    "df.head() #вывод первых пяти строк исходного датафрейма"
   ]
  },
  {
   "cell_type": "markdown",
   "id": "33cda9db",
   "metadata": {},
   "source": [
    "Исходный датафрейм стал компактнее, а к нашим новым датафреймам-\"словарям\" мы сможем обращаться по идентификатору."
   ]
  },
  {
   "cell_type": "markdown",
   "id": "1f73c9b8",
   "metadata": {},
   "source": [
    "### Категоризация дохода и целей кредита\n",
    "\n",
    "В завершение предобработки данных мы категоризируем данные в двух столбцах: `total_income` и `purpose` для того, чтобы было легко их анализировать и находить корреляции.\n",
    "\n",
    "На основании диапазонов, указанных ниже, мы создадим столбец `total_income_category` с категориями:\n",
    "* 0–30000 — 'E';\n",
    "* 30001–50000 — 'D';\n",
    "* 50001–200000 — 'C';\n",
    "* 200001–1000000 — 'B';\n",
    "* 1000001 и выше — 'A'.\n",
    "\n",
    "Например, кредитополучателю с доходом 25000 мы назначим категорию 'E', а клиенту, получающему 235000, — 'B'.\n",
    "\n",
    "Для столбца `purpose` мы создадим функцию, которая на основании данных из столбца сформирует новый столбец `purpose_category`, в который войдут следующие категории:\n",
    "* 'операции с автомобилем';\n",
    "* 'операции с недвижимостью';\n",
    "* 'проведение свадьбы';\n",
    "* 'получение образования'.\n",
    "\n",
    "Например, если в столбце `purpose` находится подстрока 'на покупку автомобиля', то в столбце `purpose_category` появится строка 'операции с автомобилем'.\n",
    "\n",
    "Начнём со столбца `total_income`:"
   ]
  },
  {
   "cell_type": "code",
   "execution_count": 48,
   "id": "12c3cda1",
   "metadata": {},
   "outputs": [
    {
     "name": "stdout",
     "output_type": "stream",
     "text": [
      "E\n",
      "D\n",
      "C\n",
      "B\n",
      "A\n",
      "['A' 'B' 'C' 'D' 'E']\n"
     ]
    }
   ],
   "source": [
    "def total_income_type(income): #создание функции для распределения дохода по категориям\n",
    "    if (income >= 0 and\n",
    "        income <= 30000):\n",
    "        return 'E'\n",
    "    if (income >= 30001 and\n",
    "        income <= 50000):\n",
    "        return 'D'\n",
    "    if (income >= 50001 and\n",
    "        income <= 200000):\n",
    "        return 'C'\n",
    "    if (income >= 200001 and\n",
    "        income <= 1000000):\n",
    "        return 'B'\n",
    "    if (income >= 1000001):\n",
    "        return 'A'\n",
    "    else:\n",
    "        return('категория не определена')\n",
    "\n",
    "print(total_income_type(29999)) #проверка функции с числами в разных диапазонах\n",
    "print(total_income_type(45679))\n",
    "print(total_income_type(150000))\n",
    "print(total_income_type(456700))\n",
    "print(total_income_type(140000000))\n",
    "\n",
    "df['total_income_category'] = df['total_income'].apply(total_income_type) #создание нового столбца с применением к нему созданной функции\n",
    "print(df['total_income_category'].sort_values().unique()) #проверка уникальных значений столбца"
   ]
  },
  {
   "cell_type": "markdown",
   "id": "ad735fd7",
   "metadata": {},
   "source": [
    "Теперь перейдём к столбцу `purpose`. В нём встречается достаточно много уникальных значений, однако многие из них отличаюся лишь формулировкой или относятся к одной сфере. Мы поделим их на 4 категории, опираясь на ключевые слова. Давайте вспомним, какие уникальные значения хранит столбец `purpose`, чтобы решить, какие подстроки будем использовать в функции, распределяющей цели по категориям:"
   ]
  },
  {
   "cell_type": "code",
   "execution_count": 49,
   "id": "e73f9728",
   "metadata": {
    "scrolled": false
   },
   "outputs": [
    {
     "data": {
      "text/plain": [
       "array(['автомобили', 'автомобиль', 'высшее образование',\n",
       "       'дополнительное образование', 'жилье',\n",
       "       'заняться высшим образованием', 'заняться образованием',\n",
       "       'на покупку автомобиля', 'на покупку подержанного автомобиля',\n",
       "       'на покупку своего автомобиля', 'на проведение свадьбы',\n",
       "       'недвижимость', 'образование', 'операции с жильем',\n",
       "       'операции с коммерческой недвижимостью',\n",
       "       'операции с недвижимостью', 'операции со своей недвижимостью',\n",
       "       'покупка жилой недвижимости', 'покупка жилья',\n",
       "       'покупка жилья для сдачи', 'покупка жилья для семьи',\n",
       "       'покупка коммерческой недвижимости', 'покупка недвижимости',\n",
       "       'покупка своего жилья', 'получение высшего образования',\n",
       "       'получение дополнительного образования', 'получение образования',\n",
       "       'приобретение автомобиля', 'профильное образование',\n",
       "       'ремонт жилью', 'свадьба', 'свой автомобиль',\n",
       "       'сделка с автомобилем', 'сделка с подержанным автомобилем',\n",
       "       'строительство жилой недвижимости', 'строительство недвижимости',\n",
       "       'строительство собственной недвижимости', 'сыграть свадьбу'],\n",
       "      dtype=object)"
      ]
     },
     "execution_count": 49,
     "metadata": {},
     "output_type": "execute_result"
    }
   ],
   "source": [
    "df['purpose'].sort_values().unique() #вывод уникальных значений в столбце"
   ]
  },
  {
   "cell_type": "markdown",
   "id": "d4f9370e",
   "metadata": {},
   "source": [
    "Теперь мы видим ключевые слова, которые можно использовать для категорий и применим их в нашей функции:"
   ]
  },
  {
   "cell_type": "code",
   "execution_count": 50,
   "id": "2c49e6fa",
   "metadata": {
    "scrolled": true
   },
   "outputs": [
    {
     "name": "stdout",
     "output_type": "stream",
     "text": [
      "операции с автомобилем\n",
      "получение образования\n",
      "операции с недвижимостью\n",
      "проведение свадьбы\n",
      "категория не определена\n",
      "['операции с автомобилем' 'операции с недвижимостью'\n",
      " 'получение образования' 'проведение свадьбы']\n"
     ]
    }
   ],
   "source": [
    "def purpose_type(purpose): #создание функции для распределения целей по категориям\n",
    "    if 'автомоб' in purpose:\n",
    "        return 'операции с автомобилем'\n",
    "    if 'образов' in purpose:\n",
    "        return 'получение образования'\n",
    "    if ('жил' in purpose or\n",
    "        'недвиж' in purpose):\n",
    "        return 'операции с недвижимостью'\n",
    "    if 'свадьб' in purpose:\n",
    "        return 'проведение свадьбы'\n",
    "    else:\n",
    "        return 'категория не определена'\n",
    "\n",
    "print(purpose_type('автомобили')) #проверка функции на разных значениях\n",
    "print(purpose_type('заняться образованием'))\n",
    "print(purpose_type('покупка недвижимости'))\n",
    "print(purpose_type('сыграть свадьбу'))\n",
    "print(purpose_type('купить видеоигры'))\n",
    "\n",
    "df['purpose_category'] = df['purpose'].apply(purpose_type) #создание нового столбца с применением к нему созданной функции\n",
    "print(df['purpose_category'].sort_values().unique()) #проверка уникальных значений столбца"
   ]
  },
  {
   "cell_type": "markdown",
   "id": "2643b917",
   "metadata": {},
   "source": [
    "Итак, мы категоризировали данные в двух столбцах `total_income` и `purpose` с помощью двух функций: для дохода мы использовали интервалы в условиях, а для целей ключевые слова. Обе функции мы проверили на работоспособность, подставляя разные значения в них, а также вместо конструкции `try...except` для безопасности, мы добавили в обе функции условие `else: return 'категория не определена'` на случай, если значение не подходит ни к одной категории. После применения функций к столбцам мы вернули уникальные значения в новых столбцах `total_income_category` и `purpose_category`, чтобы убедиться, что в них не попала категория 'категория не определена'. Давайте посмотри на новые столбцы в данных и убедимся, что категории соответствуют заявленным:"
   ]
  },
  {
   "cell_type": "code",
   "execution_count": 51,
   "id": "1fa853a9",
   "metadata": {
    "scrolled": true
   },
   "outputs": [
    {
     "data": {
      "text/html": [
       "<div>\n",
       "<style scoped>\n",
       "    .dataframe tbody tr th:only-of-type {\n",
       "        vertical-align: middle;\n",
       "    }\n",
       "\n",
       "    .dataframe tbody tr th {\n",
       "        vertical-align: top;\n",
       "    }\n",
       "\n",
       "    .dataframe thead th {\n",
       "        text-align: right;\n",
       "    }\n",
       "</style>\n",
       "<table border=\"1\" class=\"dataframe\">\n",
       "  <thead>\n",
       "    <tr style=\"text-align: right;\">\n",
       "      <th></th>\n",
       "      <th>children</th>\n",
       "      <th>days_employed</th>\n",
       "      <th>dob_years</th>\n",
       "      <th>education_id</th>\n",
       "      <th>family_status_id</th>\n",
       "      <th>gender</th>\n",
       "      <th>income_type</th>\n",
       "      <th>debt</th>\n",
       "      <th>total_income</th>\n",
       "      <th>purpose</th>\n",
       "      <th>total_income_category</th>\n",
       "      <th>purpose_category</th>\n",
       "    </tr>\n",
       "  </thead>\n",
       "  <tbody>\n",
       "    <tr>\n",
       "      <th>0</th>\n",
       "      <td>1</td>\n",
       "      <td>8437</td>\n",
       "      <td>42</td>\n",
       "      <td>0</td>\n",
       "      <td>0</td>\n",
       "      <td>F</td>\n",
       "      <td>сотрудник</td>\n",
       "      <td>0</td>\n",
       "      <td>253875</td>\n",
       "      <td>покупка жилья</td>\n",
       "      <td>B</td>\n",
       "      <td>операции с недвижимостью</td>\n",
       "    </tr>\n",
       "    <tr>\n",
       "      <th>1</th>\n",
       "      <td>1</td>\n",
       "      <td>4024</td>\n",
       "      <td>36</td>\n",
       "      <td>1</td>\n",
       "      <td>0</td>\n",
       "      <td>F</td>\n",
       "      <td>сотрудник</td>\n",
       "      <td>0</td>\n",
       "      <td>112080</td>\n",
       "      <td>приобретение автомобиля</td>\n",
       "      <td>C</td>\n",
       "      <td>операции с автомобилем</td>\n",
       "    </tr>\n",
       "    <tr>\n",
       "      <th>2</th>\n",
       "      <td>0</td>\n",
       "      <td>5623</td>\n",
       "      <td>33</td>\n",
       "      <td>1</td>\n",
       "      <td>0</td>\n",
       "      <td>M</td>\n",
       "      <td>сотрудник</td>\n",
       "      <td>0</td>\n",
       "      <td>145885</td>\n",
       "      <td>покупка жилья</td>\n",
       "      <td>C</td>\n",
       "      <td>операции с недвижимостью</td>\n",
       "    </tr>\n",
       "    <tr>\n",
       "      <th>3</th>\n",
       "      <td>3</td>\n",
       "      <td>4124</td>\n",
       "      <td>32</td>\n",
       "      <td>1</td>\n",
       "      <td>0</td>\n",
       "      <td>M</td>\n",
       "      <td>сотрудник</td>\n",
       "      <td>0</td>\n",
       "      <td>267628</td>\n",
       "      <td>дополнительное образование</td>\n",
       "      <td>B</td>\n",
       "      <td>получение образования</td>\n",
       "    </tr>\n",
       "    <tr>\n",
       "      <th>4</th>\n",
       "      <td>0</td>\n",
       "      <td>1630</td>\n",
       "      <td>53</td>\n",
       "      <td>1</td>\n",
       "      <td>1</td>\n",
       "      <td>F</td>\n",
       "      <td>пенсионер</td>\n",
       "      <td>0</td>\n",
       "      <td>158616</td>\n",
       "      <td>сыграть свадьбу</td>\n",
       "      <td>C</td>\n",
       "      <td>проведение свадьбы</td>\n",
       "    </tr>\n",
       "  </tbody>\n",
       "</table>\n",
       "</div>"
      ],
      "text/plain": [
       "   children  days_employed  dob_years  education_id  family_status_id gender  \\\n",
       "0         1           8437         42             0                 0      F   \n",
       "1         1           4024         36             1                 0      F   \n",
       "2         0           5623         33             1                 0      M   \n",
       "3         3           4124         32             1                 0      M   \n",
       "4         0           1630         53             1                 1      F   \n",
       "\n",
       "  income_type  debt  total_income                     purpose  \\\n",
       "0   сотрудник     0        253875               покупка жилья   \n",
       "1   сотрудник     0        112080     приобретение автомобиля   \n",
       "2   сотрудник     0        145885               покупка жилья   \n",
       "3   сотрудник     0        267628  дополнительное образование   \n",
       "4   пенсионер     0        158616             сыграть свадьбу   \n",
       "\n",
       "  total_income_category          purpose_category  \n",
       "0                     B  операции с недвижимостью  \n",
       "1                     C    операции с автомобилем  \n",
       "2                     C  операции с недвижимостью  \n",
       "3                     B     получение образования  \n",
       "4                     C        проведение свадьбы  "
      ]
     },
     "execution_count": 51,
     "metadata": {},
     "output_type": "execute_result"
    }
   ],
   "source": [
    "df.head() #демонстрация первых пяти строчек датафрейма для проверки категоризации"
   ]
  },
  {
   "cell_type": "markdown",
   "id": "548de61f",
   "metadata": {},
   "source": [
    "Напоследок давайте вновь посмотрим на общую информацию по датафрейму, чтобы убедиться, что все нужные нам столбцы на месте и не появилось пропущенных значений:"
   ]
  },
  {
   "cell_type": "code",
   "execution_count": 52,
   "id": "d3edc5c4",
   "metadata": {
    "scrolled": true
   },
   "outputs": [
    {
     "name": "stdout",
     "output_type": "stream",
     "text": [
      "<class 'pandas.core.frame.DataFrame'>\n",
      "RangeIndex: 21453 entries, 0 to 21452\n",
      "Data columns (total 12 columns):\n",
      " #   Column                 Non-Null Count  Dtype \n",
      "---  ------                 --------------  ----- \n",
      " 0   children               21453 non-null  int64 \n",
      " 1   days_employed          21453 non-null  int64 \n",
      " 2   dob_years              21453 non-null  int64 \n",
      " 3   education_id           21453 non-null  int64 \n",
      " 4   family_status_id       21453 non-null  int64 \n",
      " 5   gender                 21453 non-null  object\n",
      " 6   income_type            21453 non-null  object\n",
      " 7   debt                   21453 non-null  int64 \n",
      " 8   total_income           21453 non-null  int64 \n",
      " 9   purpose                21453 non-null  object\n",
      " 10  total_income_category  21453 non-null  object\n",
      " 11  purpose_category       21453 non-null  object\n",
      "dtypes: int64(7), object(5)\n",
      "memory usage: 2.0+ MB\n"
     ]
    }
   ],
   "source": [
    "df.info()"
   ]
  },
  {
   "cell_type": "markdown",
   "id": "7b16d221",
   "metadata": {},
   "source": [
    "На этом мы завершаем грандиозный этам проекта - предобработку данных.\n",
    "\n",
    "Была проделана обширная работа с данными, в ходе которой мы:\n",
    "\n",
    "* Заполнили пропуски в столбцах `days_employed` и `total_income` медианными значениями по столбцам;\n",
    "* Устранили аномалии в столбцах `days_employed`, `children`, `dob_years` и `gender`;\n",
    "* Избавились от явных дубликатов во всём датафрейме, а также от неявных в столбце `education`;\n",
    "* Поменяли тип данных в столбце `total_income` с `float` на `int`;\n",
    "* Создали два новых датафрейма-\"словаря\" `educ_id_dict` и `fam_stat_id_dict` для пар столбцов `education` - `education_id` и `family_status` - `family_status_id`, соответственно, удалив из исходного датафрейма столбцы `education` и `family_status`;\n",
    "* Категоризировали данные в столбцах `total_income` и `purpose`, создав новые столбцы `total_income_category` и `purpose_category`.\n",
    "\n",
    "По итогу работы мы не уменьшили память, занимаемую датафреймом, однако мы исправили все недочёты, которые могли помешать нам при анализе данных и усовершенствовали таблицу. Теперь мы можем переходить непосредственно к ответам на поставленные в начале исследования вопросы."
   ]
  },
  {
   "cell_type": "markdown",
   "id": "fa386497",
   "metadata": {},
   "source": [
    "## Ответы на вопросы"
   ]
  },
  {
   "cell_type": "markdown",
   "id": "97e4bca2",
   "metadata": {},
   "source": [
    "### Вопрос 1: Есть ли зависимость между количеством детей и возвратом кредита в срок?\n",
    "\n",
    "Для того, чтобы узнать, есть ли взаимосвязь между количеством детей и возвратом кредита в срок, мы создадим сводную таблицу. Мы сгруппируем данные по столбцу `children` из исходного датафрейма и заполним таблицу агрегированными данными из столбца `debt`:"
   ]
  },
  {
   "cell_type": "code",
   "execution_count": 55,
   "id": "654f569e",
   "metadata": {},
   "outputs": [
    {
     "data": {
      "text/html": [
       "<div>\n",
       "<style scoped>\n",
       "    .dataframe tbody tr th:only-of-type {\n",
       "        vertical-align: middle;\n",
       "    }\n",
       "\n",
       "    .dataframe tbody tr th {\n",
       "        vertical-align: top;\n",
       "    }\n",
       "\n",
       "    .dataframe thead th {\n",
       "        text-align: right;\n",
       "    }\n",
       "</style>\n",
       "<table border=\"1\" class=\"dataframe\">\n",
       "  <thead>\n",
       "    <tr style=\"text-align: right;\">\n",
       "      <th></th>\n",
       "      <th>all</th>\n",
       "      <th>debtors</th>\n",
       "      <th>%</th>\n",
       "    </tr>\n",
       "    <tr>\n",
       "      <th>children</th>\n",
       "      <th></th>\n",
       "      <th></th>\n",
       "      <th></th>\n",
       "    </tr>\n",
       "  </thead>\n",
       "  <tbody>\n",
       "    <tr>\n",
       "      <th>0</th>\n",
       "      <td>14090</td>\n",
       "      <td>1063</td>\n",
       "      <td>0.075444</td>\n",
       "    </tr>\n",
       "    <tr>\n",
       "      <th>1</th>\n",
       "      <td>4855</td>\n",
       "      <td>445</td>\n",
       "      <td>0.091658</td>\n",
       "    </tr>\n",
       "    <tr>\n",
       "      <th>2</th>\n",
       "      <td>2128</td>\n",
       "      <td>202</td>\n",
       "      <td>0.094925</td>\n",
       "    </tr>\n",
       "    <tr>\n",
       "      <th>3</th>\n",
       "      <td>330</td>\n",
       "      <td>27</td>\n",
       "      <td>0.081818</td>\n",
       "    </tr>\n",
       "    <tr>\n",
       "      <th>4</th>\n",
       "      <td>41</td>\n",
       "      <td>4</td>\n",
       "      <td>0.097561</td>\n",
       "    </tr>\n",
       "    <tr>\n",
       "      <th>5</th>\n",
       "      <td>9</td>\n",
       "      <td>0</td>\n",
       "      <td>0.000000</td>\n",
       "    </tr>\n",
       "  </tbody>\n",
       "</table>\n",
       "</div>"
      ],
      "text/plain": [
       "            all  debtors         %\n",
       "children                          \n",
       "0         14090     1063  0.075444\n",
       "1          4855      445  0.091658\n",
       "2          2128      202  0.094925\n",
       "3           330       27  0.081818\n",
       "4            41        4  0.097561\n",
       "5             9        0  0.000000"
      ]
     },
     "execution_count": 55,
     "metadata": {},
     "output_type": "execute_result"
    }
   ],
   "source": [
    "def debt_pivot_table(column): #функция для построения сводной таблицы по заданному столбцу\n",
    "    df_debt_pivot = df.pivot_table(index=[column], values='debt', aggfunc=['count','sum', 'mean']) #создание сводной таблицы\n",
    "    df_debt_pivot.columns = ['all', 'debtors', '%']\n",
    "    #df_debt_pivot['%'] = df_debt_pivot['debtors'] / df_debt_pivot['all'] * 100 #добавление нового столбца\n",
    "    return df_debt_pivot #вывод таблицы\n",
    "\n",
    "debt_pivot_table('children')"
   ]
  },
  {
   "cell_type": "markdown",
   "id": "50d559a4",
   "metadata": {},
   "source": [
    "В столбце `children` получившейся таблицы мы видим количество детей, далее у нас два столбца, которые отражают общее количество кредитополучателей, у которых количество детей соответствует указанному в столбце  `children`, и число должников из них. Затем мы добавили ещё один столбец `%` в таблицу, который показывает долю должников.\n",
    "\n",
    "Если бы для ответа на вопрос мы просто проверили число должников с разным количеством детей, то мы могли бы ошибочно заявить, что чем больше у человека детей, тем больше вероятность, что он вернёт долг в срок. Однако, мы понимаем, что нужно учитывать факт общего количества кредитополучателей с определённым количеством детей, именно поэтому мы добавили эти цифры в таблицу, а затем нашли кореляцию.\n",
    "\n",
    "Выводы:\n",
    "1. Кредитополучатели без детей возвращают кредит в срок в среднем на 1,5% вероятнее, чем кредитополучатели с детьми.\n",
    "2. Среди кредитополучателей с детьми вероянее возвращают кредит в срок люди с тремя детьми.\n",
    "3. Кредитополучатели с пятью детьми всегда возвращают кредит в срок.\n",
    "\n",
    "Мы также можем наблюдать по таблице, что чем больше количество детей, тем меньше общее количество кредитополучателей. На основе этого можно сделать вывод, что чем больше у человека детей, тем меньше вероятность, что он обратится в банк за кредитом, однако мы не можем делать такое заявление, не зная общее число людей с определённым количеством детей. \n",
    "\n",
    "После всех умозаключений, мы можем дать следующий ответ на вопрос: зависимость между количеством детей и возвратом кредита в срок есть, но небольшая. Предпочтение можно отдать кредитополучателям без детей или с тремя детьми."
   ]
  },
  {
   "cell_type": "markdown",
   "id": "4e6f9685",
   "metadata": {},
   "source": [
    "### Вопрос 2: Есть ли зависимость между семейным положением и возвратом кредита в срок?"
   ]
  },
  {
   "cell_type": "markdown",
   "id": "110eafba",
   "metadata": {},
   "source": [
    "Для ответа на следующий вопрос: есть ли взаимосвязь между семейным положением и возвратом кредита в срок, мы также создадим сводную таблиц. Сгруппируем данные по столбцу `family_status_id` из исходного датафрейма и заполним таблицу агрегированными данными из столбца `debt`:"
   ]
  },
  {
   "cell_type": "code",
   "execution_count": null,
   "id": "b05f8ffc",
   "metadata": {
    "scrolled": true
   },
   "outputs": [],
   "source": [
    "#создание сводной таблицы с помощью собственной функции и присоединение к ней датасета-\"словаря\"\n",
    "df_fam_stat_pivot =  debt_pivot_table('family_status_id').merge(fam_stat_id_dict, on='family_status_id')\n",
    "df_fam_stat_pivot"
   ]
  },
  {
   "cell_type": "markdown",
   "id": "78e06274",
   "metadata": {},
   "source": [
    "В столбце `family_status_id` получившейся таблицы `df_fam_stat_pivot` мы видим идентификаторы семейного положения, под таблицей мы также вывели датасет-\"словарь\", в котором можем проверить идентификаторы; столбцы `all` и `debtors` отражают общее количество кредитополучателей, у которых семейное положение соответствует указанному в столбце  `family_status_id`, и число должников из них. В таблицу добавлен ещё один столбец `%`, который показывает процент должников среди кредитополучателей с разным семейным положением.\n",
    "По таблице мы можем сделать следующие выводы:\n",
    "1. Самыми добросовестными кредитополучателями являются вдовцы/вдовы, имея самый низкий процент по задолженностям - 6,5%\n",
    "2. Самый высокий процент по задолженностям у холостяков и людей в гражданском браке, в среднем 9,5 %\n",
    "3. Процент по задолженностям у разведённых и находящихся в браке почти одинаковый, в среднем - 7,3%\n",
    "\n",
    "Обобщая вышеперечисленное, можно сказать, что предпочтение в выдаче кредита можно отдать вдовцам/вдовам, и менее охотно выдавать его холостякам и людям в гражданском браке. Также нет особой разницы в выборе между женатыми и разведёнными."
   ]
  },
  {
   "cell_type": "markdown",
   "id": "e5b7f91e",
   "metadata": {},
   "source": [
    "### Вопрос 3: Есть ли зависимость между уровнем дохода и возвратом кредита в срок?\n",
    "\n",
    "Метод сводных таблиц поможет нам и для ответа на этот вопрос. Мы сгруппировали данные по столбцу `total_income_category` из исходного датафрейма и заполнили таблицу агрегированными данными из столбца `debt`:"
   ]
  },
  {
   "cell_type": "code",
   "execution_count": null,
   "id": "5788dae7",
   "metadata": {
    "scrolled": true
   },
   "outputs": [],
   "source": [
    "debt_pivot_table('total_income_category') #создание сводной таблицы с помощью собственной функции"
   ]
  },
  {
   "cell_type": "markdown",
   "id": "563a5410",
   "metadata": {},
   "source": [
    "В столбце `total_income_category` получившейся таблицы мы видим категории дохода, на которые мы разбили его ранее, напомним:\n",
    "* 0–30000 — 'E';\n",
    "* 30001–50000 — 'D';\n",
    "* 50001–200000 — 'C';\n",
    "* 200001–1000000 — 'B';\n",
    "* 1000001 и выше — 'A'\n",
    "\n",
    "столбцы `all` и `debtors` отражают общее количество кредитополучателей, у которых уровень дохода соответствует категории, указанной в столбце  `total_income_category`, и число должников из них. В таблицу добавлен ещё один столбец `%`, который показывает процент должников среди кредитополучателей в указанной группе.\n",
    "\n",
    "Выводы:\n",
    "1. Самый низкий процент по задолженностям у кредитополучателей с доходом от 30-ти до 50-ти тысяч - 6%.\n",
    "2. Самый высокий процент по задолженностям у кредитополучателей с доходом до 30-ти тысяч - 9%\n",
    "3. Больше всего кредитополучателей в категории с доходом от 50-ти до 200-т тысяч.\n",
    "\n",
    "Уровень дохода действительно влияет на возврат кредита в срок."
   ]
  },
  {
   "cell_type": "markdown",
   "id": "737b3535",
   "metadata": {},
   "source": [
    "### Вопрос 4: Как разные цели кредита влияют на его возврат в срок?\n",
    "\n",
    "Для ответа на последний вопрос мы сгруппировали данные по столбцу `purpose_category` из исходного датафрейма и заполнили таблицу агрегированными данными из столбца `debt`:"
   ]
  },
  {
   "cell_type": "code",
   "execution_count": null,
   "id": "ed920333",
   "metadata": {
    "scrolled": true
   },
   "outputs": [],
   "source": [
    "debt_pivot_table('purpose_category')"
   ]
  },
  {
   "cell_type": "markdown",
   "id": "94ab23bf",
   "metadata": {},
   "source": [
    "В столбце `purpose_category` мы видим цели, по которым берут кредит; столбцы `all` и `debtors` отражают общее количество кредитополучателей, у которых цель кредита соответствует указанной в столбце  `purpose_category`, и число должников из них. В таблицу добавлен ещё один столбец `%`, который показывает процент должникоы среди кредитополучателей с разными целями кредита.\n",
    "\n",
    "Выводы:\n",
    "1. На возврат кредита в срок в равной степени влияют такие цели как получение образования и операции с автомобилем.\n",
    "2. Самый высокий процент задолженности у кредитополучателей, целью которых являлись получение образования и операции с автомобилем.\n",
    "3. Самый низкий процент задолженности у кредитополучателей, целью которых являлись операции с недвижимостью.\n",
    "\n",
    "Мы можем сделать вывод, что цели кредита действительно влияют на его возврат в срок, так, кредитополучатели, которые взяли кредит на операции с недвижимостью вероятнее вернут его в срок, чем те, кто взял кредит на получение образования или операции с автомобилем."
   ]
  },
  {
   "cell_type": "markdown",
   "id": "d5ee7cc1",
   "metadata": {},
   "source": [
    "## Общий вывод:"
   ]
  },
  {
   "cell_type": "markdown",
   "id": "34af54c9",
   "metadata": {},
   "source": [
    "Мы ответили на четыре вопроса, поставленных в начале исследования и выяснили:\n",
    "\n",
    "* Зависимость между количеством детей и возвратом кредита в срок есть, особенно она прослеживается у кредитополучателей без детей и с одним - четырьмя, а многодетные семьи с 5-ю детьми по предоставленным данным кажутся самыми добросовестными кредитополучателями.\n",
    "\n",
    "* Семейное положение влияет на возврат кредита в срок, холостяки и люди в гражданском браке менее охотно возвращают долги по кредиту, чем женатые или разведённые, а вдовцы показали самый высокий процент возврата долга в срок.\n",
    "\n",
    "* Уровень дохода действительно влияет на возврат кредита в срок, кредитополучатели с доходом от 30-ти до 50-ти остаются должниками реже, чем с доходом но 30-ти тысяч.\n",
    "\n",
    "* Кредитополучатели, которые взяли кредит на операции с недвижимостью вероятнее вернут его в срок, чем те, кто взял кредит на получение образования или операции с автомобилем.\n",
    "\n",
    "Мы увидели, что множество факторов могут повлиять на возврат кредита в срок. Лучший способ найти зависимость это посчитать долю должников среди нужной нам группы кредитополучателей."
   ]
  }
 ],
 "metadata": {
  "ExecuteTimeLog": [
   {
    "duration": 94,
    "start_time": "2022-04-12T09:00:04.346Z"
   },
   {
    "duration": 458,
    "start_time": "2022-04-12T09:00:25.120Z"
   },
   {
    "duration": 647,
    "start_time": "2022-04-12T17:12:46.948Z"
   },
   {
    "duration": 92,
    "start_time": "2022-04-12T17:49:02.971Z"
   },
   {
    "duration": 127,
    "start_time": "2022-04-12T17:49:46.116Z"
   },
   {
    "duration": 102,
    "start_time": "2022-04-12T17:50:10.472Z"
   },
   {
    "duration": 89,
    "start_time": "2022-04-12T17:50:24.524Z"
   },
   {
    "duration": 89,
    "start_time": "2022-04-12T18:15:08.309Z"
   },
   {
    "duration": 25,
    "start_time": "2022-04-12T18:27:50.733Z"
   },
   {
    "duration": 86,
    "start_time": "2022-04-12T18:37:02.617Z"
   },
   {
    "duration": 90,
    "start_time": "2022-04-12T18:37:44.671Z"
   },
   {
    "duration": 43,
    "start_time": "2022-04-13T06:46:41.368Z"
   },
   {
    "duration": 423,
    "start_time": "2022-04-13T06:47:15.098Z"
   },
   {
    "duration": 15,
    "start_time": "2022-04-13T06:47:15.523Z"
   },
   {
    "duration": 10,
    "start_time": "2022-04-13T06:47:15.539Z"
   },
   {
    "duration": 10,
    "start_time": "2022-04-13T06:48:04.842Z"
   },
   {
    "duration": 5,
    "start_time": "2022-04-13T06:50:11.255Z"
   },
   {
    "duration": 5,
    "start_time": "2022-04-13T06:51:13.419Z"
   },
   {
    "duration": 5,
    "start_time": "2022-04-13T06:52:11.166Z"
   },
   {
    "duration": 5,
    "start_time": "2022-04-13T06:52:18.893Z"
   },
   {
    "duration": 115,
    "start_time": "2022-04-13T06:54:18.235Z"
   },
   {
    "duration": 110,
    "start_time": "2022-04-13T06:54:42.306Z"
   },
   {
    "duration": 117,
    "start_time": "2022-04-13T06:54:59.253Z"
   },
   {
    "duration": 119,
    "start_time": "2022-04-13T06:56:13.257Z"
   },
   {
    "duration": 115,
    "start_time": "2022-04-13T06:56:24.699Z"
   },
   {
    "duration": 5,
    "start_time": "2022-04-13T06:56:42.942Z"
   },
   {
    "duration": 5,
    "start_time": "2022-04-13T06:57:53.638Z"
   },
   {
    "duration": 27,
    "start_time": "2022-04-13T06:59:12.152Z"
   },
   {
    "duration": 4,
    "start_time": "2022-04-13T06:59:22.975Z"
   },
   {
    "duration": 147,
    "start_time": "2022-04-13T06:59:42.926Z"
   },
   {
    "duration": 4,
    "start_time": "2022-04-13T06:59:47.807Z"
   },
   {
    "duration": 5,
    "start_time": "2022-04-13T06:59:58.223Z"
   },
   {
    "duration": 194,
    "start_time": "2022-04-13T07:03:08.082Z"
   },
   {
    "duration": 115,
    "start_time": "2022-04-13T07:04:05.109Z"
   },
   {
    "duration": 103,
    "start_time": "2022-04-13T07:04:25.068Z"
   },
   {
    "duration": 115,
    "start_time": "2022-04-13T07:04:59.474Z"
   },
   {
    "duration": 5,
    "start_time": "2022-04-13T07:05:13.751Z"
   },
   {
    "duration": 5,
    "start_time": "2022-04-13T07:05:38.240Z"
   },
   {
    "duration": 11,
    "start_time": "2022-04-13T07:07:35.985Z"
   },
   {
    "duration": 6,
    "start_time": "2022-04-13T07:08:11.739Z"
   },
   {
    "duration": 5,
    "start_time": "2022-04-13T07:08:59.908Z"
   },
   {
    "duration": 20,
    "start_time": "2022-04-13T07:09:31.360Z"
   },
   {
    "duration": 45,
    "start_time": "2022-04-14T06:56:43.738Z"
   },
   {
    "duration": 418,
    "start_time": "2022-04-14T06:56:55.958Z"
   },
   {
    "duration": 14,
    "start_time": "2022-04-14T06:56:56.378Z"
   },
   {
    "duration": 14,
    "start_time": "2022-04-14T06:56:56.394Z"
   },
   {
    "duration": 5,
    "start_time": "2022-04-14T06:56:56.409Z"
   },
   {
    "duration": 5,
    "start_time": "2022-04-14T06:56:56.415Z"
   },
   {
    "duration": 7,
    "start_time": "2022-04-14T06:56:56.421Z"
   },
   {
    "duration": 22,
    "start_time": "2022-04-14T06:57:21.083Z"
   },
   {
    "duration": 7,
    "start_time": "2022-04-14T06:57:47.736Z"
   },
   {
    "duration": 13,
    "start_time": "2022-04-14T07:01:37.018Z"
   },
   {
    "duration": 68,
    "start_time": "2022-04-14T07:02:19.191Z"
   },
   {
    "duration": 8,
    "start_time": "2022-04-14T07:13:11.220Z"
   },
   {
    "duration": 5,
    "start_time": "2022-04-14T07:31:21.763Z"
   },
   {
    "duration": 4,
    "start_time": "2022-04-14T07:31:38.098Z"
   },
   {
    "duration": 8,
    "start_time": "2022-04-14T07:31:41.927Z"
   },
   {
    "duration": 13,
    "start_time": "2022-04-14T07:45:26.936Z"
   },
   {
    "duration": 4,
    "start_time": "2022-04-14T10:23:51.927Z"
   },
   {
    "duration": 5,
    "start_time": "2022-04-14T10:24:17.569Z"
   },
   {
    "duration": 4,
    "start_time": "2022-04-14T10:26:13.855Z"
   },
   {
    "duration": 5,
    "start_time": "2022-04-14T10:26:17.668Z"
   },
   {
    "duration": 4,
    "start_time": "2022-04-14T10:26:29.753Z"
   },
   {
    "duration": 30,
    "start_time": "2022-04-14T10:27:07.878Z"
   },
   {
    "duration": 7,
    "start_time": "2022-04-14T10:27:16.858Z"
   },
   {
    "duration": 73,
    "start_time": "2022-04-14T10:56:36.869Z"
   },
   {
    "duration": 18,
    "start_time": "2022-04-14T10:56:36.944Z"
   },
   {
    "duration": 13,
    "start_time": "2022-04-14T10:56:36.963Z"
   },
   {
    "duration": 30,
    "start_time": "2022-04-14T10:56:36.978Z"
   },
   {
    "duration": 6,
    "start_time": "2022-04-14T10:56:37.010Z"
   },
   {
    "duration": 9,
    "start_time": "2022-04-14T10:56:37.017Z"
   },
   {
    "duration": 18,
    "start_time": "2022-04-14T10:56:37.028Z"
   },
   {
    "duration": 8,
    "start_time": "2022-04-14T10:56:37.048Z"
   },
   {
    "duration": 9,
    "start_time": "2022-04-14T10:56:37.058Z"
   },
   {
    "duration": 40,
    "start_time": "2022-04-14T10:56:37.069Z"
   },
   {
    "duration": 6,
    "start_time": "2022-04-14T10:56:37.111Z"
   },
   {
    "duration": 9,
    "start_time": "2022-04-14T11:11:05.066Z"
   },
   {
    "duration": 9,
    "start_time": "2022-04-14T11:13:14.804Z"
   },
   {
    "duration": 6,
    "start_time": "2022-04-14T11:13:27.686Z"
   },
   {
    "duration": 17,
    "start_time": "2022-04-14T11:14:47.713Z"
   },
   {
    "duration": 4,
    "start_time": "2022-04-14T11:15:15.276Z"
   },
   {
    "duration": 15,
    "start_time": "2022-04-14T11:15:20.569Z"
   },
   {
    "duration": 7,
    "start_time": "2022-04-14T11:17:24.133Z"
   },
   {
    "duration": 16,
    "start_time": "2022-04-14T12:31:14.623Z"
   },
   {
    "duration": 4,
    "start_time": "2022-04-14T12:31:56.804Z"
   },
   {
    "duration": 4,
    "start_time": "2022-04-14T12:32:26.660Z"
   },
   {
    "duration": 5,
    "start_time": "2022-04-14T12:39:18.028Z"
   },
   {
    "duration": 6,
    "start_time": "2022-04-14T12:40:05.594Z"
   },
   {
    "duration": 6,
    "start_time": "2022-04-14T12:41:06.597Z"
   },
   {
    "duration": 5,
    "start_time": "2022-04-14T12:49:19.095Z"
   },
   {
    "duration": 13,
    "start_time": "2022-04-14T12:49:40.010Z"
   },
   {
    "duration": 6,
    "start_time": "2022-04-14T12:50:01.880Z"
   },
   {
    "duration": 11,
    "start_time": "2022-04-14T12:51:04.981Z"
   },
   {
    "duration": 13,
    "start_time": "2022-04-14T12:52:58.908Z"
   },
   {
    "duration": 14,
    "start_time": "2022-04-14T12:53:14.731Z"
   },
   {
    "duration": 639,
    "start_time": "2022-04-21T09:09:34.409Z"
   },
   {
    "duration": 16,
    "start_time": "2022-04-21T09:09:35.050Z"
   },
   {
    "duration": 23,
    "start_time": "2022-04-21T09:09:35.068Z"
   },
   {
    "duration": 13,
    "start_time": "2022-04-21T09:09:35.093Z"
   },
   {
    "duration": 30,
    "start_time": "2022-04-21T09:09:35.107Z"
   },
   {
    "duration": 20,
    "start_time": "2022-04-21T09:09:35.138Z"
   },
   {
    "duration": 17,
    "start_time": "2022-04-21T09:09:35.160Z"
   },
   {
    "duration": 19,
    "start_time": "2022-04-21T09:09:35.178Z"
   },
   {
    "duration": 10,
    "start_time": "2022-04-21T09:09:35.199Z"
   },
   {
    "duration": 33,
    "start_time": "2022-04-21T09:09:35.211Z"
   },
   {
    "duration": 24,
    "start_time": "2022-04-21T09:09:35.245Z"
   },
   {
    "duration": 24,
    "start_time": "2022-04-21T09:09:35.271Z"
   },
   {
    "duration": 14,
    "start_time": "2022-04-21T09:09:35.297Z"
   },
   {
    "duration": 13,
    "start_time": "2022-04-21T09:09:35.312Z"
   },
   {
    "duration": 21,
    "start_time": "2022-04-21T09:09:35.327Z"
   },
   {
    "duration": 11,
    "start_time": "2022-04-21T09:09:35.350Z"
   },
   {
    "duration": 20,
    "start_time": "2022-04-21T09:09:35.363Z"
   },
   {
    "duration": 12,
    "start_time": "2022-04-21T09:12:08.928Z"
   },
   {
    "duration": 7,
    "start_time": "2022-04-21T09:14:47.276Z"
   },
   {
    "duration": 25,
    "start_time": "2022-04-21T09:15:27.695Z"
   },
   {
    "duration": 5,
    "start_time": "2022-04-21T09:16:04.878Z"
   },
   {
    "duration": 5,
    "start_time": "2022-04-21T09:16:39.156Z"
   },
   {
    "duration": 5,
    "start_time": "2022-04-21T09:16:56.449Z"
   },
   {
    "duration": 6,
    "start_time": "2022-04-21T09:19:50.227Z"
   },
   {
    "duration": 6,
    "start_time": "2022-04-21T09:20:42.317Z"
   },
   {
    "duration": 6,
    "start_time": "2022-04-21T09:24:02.737Z"
   },
   {
    "duration": 5,
    "start_time": "2022-04-21T09:24:05.975Z"
   },
   {
    "duration": 6,
    "start_time": "2022-04-21T09:24:15.423Z"
   },
   {
    "duration": 6,
    "start_time": "2022-04-21T09:24:22.645Z"
   },
   {
    "duration": 8,
    "start_time": "2022-04-21T09:30:29.463Z"
   },
   {
    "duration": 8,
    "start_time": "2022-04-21T10:50:54.424Z"
   },
   {
    "duration": 8,
    "start_time": "2022-04-21T10:51:04.839Z"
   },
   {
    "duration": 5,
    "start_time": "2022-04-21T10:52:27.660Z"
   },
   {
    "duration": 4,
    "start_time": "2022-04-21T10:52:33.047Z"
   },
   {
    "duration": 4,
    "start_time": "2022-04-21T10:52:39.376Z"
   },
   {
    "duration": 67,
    "start_time": "2022-04-21T10:52:48.381Z"
   },
   {
    "duration": 14,
    "start_time": "2022-04-21T10:52:48.450Z"
   },
   {
    "duration": 27,
    "start_time": "2022-04-21T10:52:48.466Z"
   },
   {
    "duration": 4,
    "start_time": "2022-04-21T10:52:48.495Z"
   },
   {
    "duration": 5,
    "start_time": "2022-04-21T10:52:48.501Z"
   },
   {
    "duration": 7,
    "start_time": "2022-04-21T10:52:48.507Z"
   },
   {
    "duration": 13,
    "start_time": "2022-04-21T10:52:48.515Z"
   },
   {
    "duration": 5,
    "start_time": "2022-04-21T10:52:48.530Z"
   },
   {
    "duration": 6,
    "start_time": "2022-04-21T10:52:48.537Z"
   },
   {
    "duration": 50,
    "start_time": "2022-04-21T10:52:48.544Z"
   },
   {
    "duration": 12,
    "start_time": "2022-04-21T10:52:48.596Z"
   },
   {
    "duration": 9,
    "start_time": "2022-04-21T10:52:48.610Z"
   },
   {
    "duration": 6,
    "start_time": "2022-04-21T10:52:48.621Z"
   },
   {
    "duration": 7,
    "start_time": "2022-04-21T10:52:48.629Z"
   },
   {
    "duration": 13,
    "start_time": "2022-04-21T10:52:48.637Z"
   },
   {
    "duration": 14,
    "start_time": "2022-04-21T10:52:48.651Z"
   },
   {
    "duration": 31,
    "start_time": "2022-04-21T10:52:48.666Z"
   },
   {
    "duration": 7,
    "start_time": "2022-04-21T10:52:48.699Z"
   },
   {
    "duration": 13,
    "start_time": "2022-04-21T10:52:48.708Z"
   },
   {
    "duration": 1063,
    "start_time": "2022-04-21T10:57:19.246Z"
   },
   {
    "duration": 84,
    "start_time": "2022-04-21T10:58:22.836Z"
   },
   {
    "duration": 1013,
    "start_time": "2022-04-21T10:58:51.981Z"
   },
   {
    "duration": 163,
    "start_time": "2022-04-21T10:59:39.421Z"
   },
   {
    "duration": 149,
    "start_time": "2022-04-21T11:01:05.674Z"
   },
   {
    "duration": 162,
    "start_time": "2022-04-21T11:01:19.289Z"
   },
   {
    "duration": 5,
    "start_time": "2022-04-21T11:06:51.373Z"
   },
   {
    "duration": 5,
    "start_time": "2022-04-21T11:07:12.940Z"
   },
   {
    "duration": 4,
    "start_time": "2022-04-21T11:07:30.389Z"
   },
   {
    "duration": 161,
    "start_time": "2022-04-21T11:11:48.980Z"
   },
   {
    "duration": 448,
    "start_time": "2022-04-21T11:20:15.337Z"
   },
   {
    "duration": 28,
    "start_time": "2022-04-21T11:20:15.787Z"
   },
   {
    "duration": 17,
    "start_time": "2022-04-21T11:20:15.817Z"
   },
   {
    "duration": 6,
    "start_time": "2022-04-21T11:20:15.836Z"
   },
   {
    "duration": 11,
    "start_time": "2022-04-21T11:20:15.844Z"
   },
   {
    "duration": 37,
    "start_time": "2022-04-21T11:20:15.857Z"
   },
   {
    "duration": 14,
    "start_time": "2022-04-21T11:20:15.896Z"
   },
   {
    "duration": 6,
    "start_time": "2022-04-21T11:20:15.912Z"
   },
   {
    "duration": 7,
    "start_time": "2022-04-21T11:20:15.920Z"
   },
   {
    "duration": 8,
    "start_time": "2022-04-21T11:20:15.930Z"
   },
   {
    "duration": 14,
    "start_time": "2022-04-21T11:20:15.940Z"
   },
   {
    "duration": 40,
    "start_time": "2022-04-21T11:20:15.956Z"
   },
   {
    "duration": 6,
    "start_time": "2022-04-21T11:20:15.998Z"
   },
   {
    "duration": 7,
    "start_time": "2022-04-21T11:20:16.007Z"
   },
   {
    "duration": 11,
    "start_time": "2022-04-21T11:20:16.016Z"
   },
   {
    "duration": 1207,
    "start_time": "2022-04-21T11:20:16.028Z"
   },
   {
    "duration": 7,
    "start_time": "2022-04-21T11:20:17.237Z"
   },
   {
    "duration": 9,
    "start_time": "2022-04-21T11:20:17.246Z"
   },
   {
    "duration": 8,
    "start_time": "2022-04-21T11:20:17.257Z"
   },
   {
    "duration": 525,
    "start_time": "2022-04-21T11:21:46.065Z"
   },
   {
    "duration": 16,
    "start_time": "2022-04-21T11:21:46.592Z"
   },
   {
    "duration": 12,
    "start_time": "2022-04-21T11:21:46.610Z"
   },
   {
    "duration": 5,
    "start_time": "2022-04-21T11:21:46.624Z"
   },
   {
    "duration": 5,
    "start_time": "2022-04-21T11:21:46.631Z"
   },
   {
    "duration": 8,
    "start_time": "2022-04-21T11:21:46.638Z"
   },
   {
    "duration": 46,
    "start_time": "2022-04-21T11:21:46.648Z"
   },
   {
    "duration": 6,
    "start_time": "2022-04-21T11:21:46.696Z"
   },
   {
    "duration": 7,
    "start_time": "2022-04-21T11:21:46.704Z"
   },
   {
    "duration": 8,
    "start_time": "2022-04-21T11:21:46.715Z"
   },
   {
    "duration": 17,
    "start_time": "2022-04-21T11:21:46.725Z"
   },
   {
    "duration": 10,
    "start_time": "2022-04-21T11:21:46.744Z"
   },
   {
    "duration": 44,
    "start_time": "2022-04-21T11:21:46.756Z"
   },
   {
    "duration": 6,
    "start_time": "2022-04-21T11:21:46.802Z"
   },
   {
    "duration": 9,
    "start_time": "2022-04-21T11:21:46.810Z"
   },
   {
    "duration": 1245,
    "start_time": "2022-04-21T11:21:46.821Z"
   },
   {
    "duration": 7,
    "start_time": "2022-04-21T11:21:48.069Z"
   },
   {
    "duration": 22,
    "start_time": "2022-04-21T11:21:48.077Z"
   },
   {
    "duration": 7,
    "start_time": "2022-04-21T11:21:48.101Z"
   },
   {
    "duration": 100,
    "start_time": "2022-04-21T11:24:23.304Z"
   },
   {
    "duration": 98,
    "start_time": "2022-04-21T11:25:32.069Z"
   },
   {
    "duration": 104,
    "start_time": "2022-04-21T11:35:08.520Z"
   },
   {
    "duration": 190,
    "start_time": "2022-04-21T11:35:26.496Z"
   },
   {
    "duration": 168,
    "start_time": "2022-04-21T11:37:56.266Z"
   },
   {
    "duration": 181,
    "start_time": "2022-04-21T11:38:27.356Z"
   },
   {
    "duration": 172,
    "start_time": "2022-04-21T11:38:37.235Z"
   },
   {
    "duration": 176,
    "start_time": "2022-04-21T11:38:41.264Z"
   },
   {
    "duration": 161,
    "start_time": "2022-04-21T11:38:53.120Z"
   },
   {
    "duration": 72,
    "start_time": "2022-04-21T11:38:58.060Z"
   },
   {
    "duration": 16,
    "start_time": "2022-04-21T11:38:58.134Z"
   },
   {
    "duration": 10,
    "start_time": "2022-04-21T11:38:58.151Z"
   },
   {
    "duration": 4,
    "start_time": "2022-04-21T11:38:58.163Z"
   },
   {
    "duration": 71,
    "start_time": "2022-04-21T11:38:58.194Z"
   },
   {
    "duration": 9,
    "start_time": "2022-04-21T11:38:58.267Z"
   },
   {
    "duration": 27,
    "start_time": "2022-04-21T11:38:58.278Z"
   },
   {
    "duration": 5,
    "start_time": "2022-04-21T11:38:58.307Z"
   },
   {
    "duration": 19,
    "start_time": "2022-04-21T11:38:58.314Z"
   },
   {
    "duration": 8,
    "start_time": "2022-04-21T11:38:58.335Z"
   },
   {
    "duration": 15,
    "start_time": "2022-04-21T11:38:58.345Z"
   },
   {
    "duration": 9,
    "start_time": "2022-04-21T11:38:58.361Z"
   },
   {
    "duration": 7,
    "start_time": "2022-04-21T11:38:58.392Z"
   },
   {
    "duration": 7,
    "start_time": "2022-04-21T11:38:58.403Z"
   },
   {
    "duration": 11,
    "start_time": "2022-04-21T11:38:58.412Z"
   },
   {
    "duration": 181,
    "start_time": "2022-04-21T11:38:58.425Z"
   },
   {
    "duration": 193,
    "start_time": "2022-04-21T11:38:58.608Z"
   },
   {
    "duration": 6,
    "start_time": "2022-04-21T11:38:58.803Z"
   },
   {
    "duration": 7,
    "start_time": "2022-04-21T11:38:58.812Z"
   },
   {
    "duration": 8,
    "start_time": "2022-04-21T11:38:58.821Z"
   },
   {
    "duration": 5,
    "start_time": "2022-04-21T11:39:14.260Z"
   },
   {
    "duration": 15,
    "start_time": "2022-04-21T11:39:28.925Z"
   },
   {
    "duration": 166,
    "start_time": "2022-04-21T11:40:34.573Z"
   },
   {
    "duration": 67,
    "start_time": "2022-04-21T11:40:52.965Z"
   },
   {
    "duration": 14,
    "start_time": "2022-04-21T11:40:53.034Z"
   },
   {
    "duration": 10,
    "start_time": "2022-04-21T11:40:53.050Z"
   },
   {
    "duration": 5,
    "start_time": "2022-04-21T11:40:53.062Z"
   },
   {
    "duration": 28,
    "start_time": "2022-04-21T11:40:53.068Z"
   },
   {
    "duration": 9,
    "start_time": "2022-04-21T11:40:53.097Z"
   },
   {
    "duration": 13,
    "start_time": "2022-04-21T11:40:53.107Z"
   },
   {
    "duration": 5,
    "start_time": "2022-04-21T11:40:53.122Z"
   },
   {
    "duration": 7,
    "start_time": "2022-04-21T11:40:53.129Z"
   },
   {
    "duration": 5,
    "start_time": "2022-04-21T11:40:53.138Z"
   },
   {
    "duration": 49,
    "start_time": "2022-04-21T11:40:53.145Z"
   },
   {
    "duration": 6,
    "start_time": "2022-04-21T11:40:53.195Z"
   },
   {
    "duration": 9,
    "start_time": "2022-04-21T11:40:53.203Z"
   },
   {
    "duration": 12,
    "start_time": "2022-04-21T11:40:53.213Z"
   },
   {
    "duration": 12,
    "start_time": "2022-04-21T11:40:53.226Z"
   },
   {
    "duration": 177,
    "start_time": "2022-04-21T11:40:53.240Z"
   },
   {
    "duration": 180,
    "start_time": "2022-04-21T11:40:53.419Z"
   },
   {
    "duration": 5,
    "start_time": "2022-04-21T11:40:53.601Z"
   },
   {
    "duration": 7,
    "start_time": "2022-04-21T11:40:53.608Z"
   },
   {
    "duration": 6,
    "start_time": "2022-04-21T11:40:53.617Z"
   },
   {
    "duration": 184,
    "start_time": "2022-04-21T11:41:28.296Z"
   },
   {
    "duration": 77,
    "start_time": "2022-04-21T11:41:32.332Z"
   },
   {
    "duration": 18,
    "start_time": "2022-04-21T11:41:32.411Z"
   },
   {
    "duration": 12,
    "start_time": "2022-04-21T11:41:32.431Z"
   },
   {
    "duration": 12,
    "start_time": "2022-04-21T11:41:32.445Z"
   },
   {
    "duration": 21,
    "start_time": "2022-04-21T11:41:32.459Z"
   },
   {
    "duration": 16,
    "start_time": "2022-04-21T11:41:32.482Z"
   },
   {
    "duration": 29,
    "start_time": "2022-04-21T11:41:32.500Z"
   },
   {
    "duration": 12,
    "start_time": "2022-04-21T11:41:32.530Z"
   },
   {
    "duration": 14,
    "start_time": "2022-04-21T11:41:32.544Z"
   },
   {
    "duration": 16,
    "start_time": "2022-04-21T11:41:32.561Z"
   },
   {
    "duration": 22,
    "start_time": "2022-04-21T11:41:32.579Z"
   },
   {
    "duration": 9,
    "start_time": "2022-04-21T11:41:32.603Z"
   },
   {
    "duration": 7,
    "start_time": "2022-04-21T11:41:32.615Z"
   },
   {
    "duration": 7,
    "start_time": "2022-04-21T11:41:32.624Z"
   },
   {
    "duration": 23,
    "start_time": "2022-04-21T11:41:32.633Z"
   },
   {
    "duration": 187,
    "start_time": "2022-04-21T11:41:32.658Z"
   },
   {
    "duration": 189,
    "start_time": "2022-04-21T11:41:32.847Z"
   },
   {
    "duration": 6,
    "start_time": "2022-04-21T11:41:33.039Z"
   },
   {
    "duration": 12,
    "start_time": "2022-04-21T11:41:33.047Z"
   },
   {
    "duration": 19,
    "start_time": "2022-04-21T11:41:33.061Z"
   },
   {
    "duration": 22,
    "start_time": "2022-04-21T11:42:05.449Z"
   },
   {
    "duration": 7,
    "start_time": "2022-04-21T11:42:39.397Z"
   },
   {
    "duration": 6,
    "start_time": "2022-04-21T11:43:02.979Z"
   },
   {
    "duration": 19,
    "start_time": "2022-04-21T11:49:57.378Z"
   },
   {
    "duration": 194,
    "start_time": "2022-04-21T11:51:01.061Z"
   },
   {
    "duration": 171,
    "start_time": "2022-04-21T11:51:51.383Z"
   },
   {
    "duration": 68,
    "start_time": "2022-04-21T11:52:10.307Z"
   },
   {
    "duration": 16,
    "start_time": "2022-04-21T11:52:10.377Z"
   },
   {
    "duration": 10,
    "start_time": "2022-04-21T11:52:10.395Z"
   },
   {
    "duration": 4,
    "start_time": "2022-04-21T11:52:10.407Z"
   },
   {
    "duration": 15,
    "start_time": "2022-04-21T11:52:10.413Z"
   },
   {
    "duration": 10,
    "start_time": "2022-04-21T11:52:10.430Z"
   },
   {
    "duration": 18,
    "start_time": "2022-04-21T11:52:10.442Z"
   },
   {
    "duration": 15,
    "start_time": "2022-04-21T11:52:10.461Z"
   },
   {
    "duration": 15,
    "start_time": "2022-04-21T11:52:10.478Z"
   },
   {
    "duration": 8,
    "start_time": "2022-04-21T11:52:10.496Z"
   },
   {
    "duration": 17,
    "start_time": "2022-04-21T11:52:10.506Z"
   },
   {
    "duration": 9,
    "start_time": "2022-04-21T11:52:10.525Z"
   },
   {
    "duration": 7,
    "start_time": "2022-04-21T11:52:10.536Z"
   },
   {
    "duration": 12,
    "start_time": "2022-04-21T11:52:10.545Z"
   },
   {
    "duration": 14,
    "start_time": "2022-04-21T11:52:10.559Z"
   },
   {
    "duration": 183,
    "start_time": "2022-04-21T11:52:10.574Z"
   },
   {
    "duration": 183,
    "start_time": "2022-04-21T11:52:10.759Z"
   },
   {
    "duration": 5,
    "start_time": "2022-04-21T11:52:10.944Z"
   },
   {
    "duration": 9,
    "start_time": "2022-04-21T11:52:10.951Z"
   },
   {
    "duration": 6,
    "start_time": "2022-04-21T11:52:10.961Z"
   },
   {
    "duration": 27,
    "start_time": "2022-04-21T11:52:10.968Z"
   },
   {
    "duration": 6,
    "start_time": "2022-04-21T11:52:10.997Z"
   },
   {
    "duration": 69,
    "start_time": "2022-04-21T11:53:08.287Z"
   },
   {
    "duration": 15,
    "start_time": "2022-04-21T11:53:08.357Z"
   },
   {
    "duration": 22,
    "start_time": "2022-04-21T11:53:08.374Z"
   },
   {
    "duration": 14,
    "start_time": "2022-04-21T11:53:08.399Z"
   },
   {
    "duration": 25,
    "start_time": "2022-04-21T11:53:08.415Z"
   },
   {
    "duration": 26,
    "start_time": "2022-04-21T11:53:08.442Z"
   },
   {
    "duration": 27,
    "start_time": "2022-04-21T11:53:08.470Z"
   },
   {
    "duration": 20,
    "start_time": "2022-04-21T11:53:08.499Z"
   },
   {
    "duration": 26,
    "start_time": "2022-04-21T11:53:08.521Z"
   },
   {
    "duration": 13,
    "start_time": "2022-04-21T11:53:08.551Z"
   },
   {
    "duration": 15,
    "start_time": "2022-04-21T11:53:08.566Z"
   },
   {
    "duration": 13,
    "start_time": "2022-04-21T11:53:08.583Z"
   },
   {
    "duration": 6,
    "start_time": "2022-04-21T11:53:08.598Z"
   },
   {
    "duration": 21,
    "start_time": "2022-04-21T11:53:08.605Z"
   },
   {
    "duration": 24,
    "start_time": "2022-04-21T11:53:08.628Z"
   },
   {
    "duration": 167,
    "start_time": "2022-04-21T11:53:08.654Z"
   },
   {
    "duration": 258,
    "start_time": "2022-04-21T11:53:08.823Z"
   },
   {
    "duration": 11,
    "start_time": "2022-04-21T11:53:09.083Z"
   },
   {
    "duration": 7,
    "start_time": "2022-04-21T11:53:09.095Z"
   },
   {
    "duration": 5,
    "start_time": "2022-04-21T11:53:09.104Z"
   },
   {
    "duration": 6,
    "start_time": "2022-04-21T11:53:09.111Z"
   },
   {
    "duration": 7,
    "start_time": "2022-04-21T11:53:09.118Z"
   },
   {
    "duration": 120,
    "start_time": "2022-04-21T11:53:53.894Z"
   },
   {
    "duration": 74,
    "start_time": "2022-04-21T11:54:01.610Z"
   },
   {
    "duration": 16,
    "start_time": "2022-04-21T11:54:01.686Z"
   },
   {
    "duration": 19,
    "start_time": "2022-04-21T11:54:01.704Z"
   },
   {
    "duration": 9,
    "start_time": "2022-04-21T11:54:01.726Z"
   },
   {
    "duration": 25,
    "start_time": "2022-04-21T11:54:01.737Z"
   },
   {
    "duration": 23,
    "start_time": "2022-04-21T11:54:01.764Z"
   },
   {
    "duration": 26,
    "start_time": "2022-04-21T11:54:01.789Z"
   },
   {
    "duration": 12,
    "start_time": "2022-04-21T11:54:01.817Z"
   },
   {
    "duration": 9,
    "start_time": "2022-04-21T11:54:01.831Z"
   },
   {
    "duration": 13,
    "start_time": "2022-04-21T11:54:01.843Z"
   },
   {
    "duration": 20,
    "start_time": "2022-04-21T11:54:01.858Z"
   },
   {
    "duration": 10,
    "start_time": "2022-04-21T11:54:01.880Z"
   },
   {
    "duration": 16,
    "start_time": "2022-04-21T11:54:01.892Z"
   },
   {
    "duration": 32,
    "start_time": "2022-04-21T11:54:01.910Z"
   },
   {
    "duration": 9,
    "start_time": "2022-04-21T11:54:01.944Z"
   },
   {
    "duration": 182,
    "start_time": "2022-04-21T11:54:01.955Z"
   },
   {
    "duration": 127,
    "start_time": "2022-04-21T11:54:02.139Z"
   },
   {
    "duration": 6,
    "start_time": "2022-04-21T11:54:02.268Z"
   },
   {
    "duration": 5,
    "start_time": "2022-04-21T11:54:02.292Z"
   },
   {
    "duration": 10,
    "start_time": "2022-04-21T11:54:02.299Z"
   },
   {
    "duration": 21,
    "start_time": "2022-04-21T11:54:02.311Z"
   },
   {
    "duration": 19,
    "start_time": "2022-04-21T11:54:02.334Z"
   },
   {
    "duration": 124,
    "start_time": "2022-04-21T11:56:04.525Z"
   },
   {
    "duration": 112,
    "start_time": "2022-04-21T11:56:16.313Z"
   },
   {
    "duration": 68,
    "start_time": "2022-04-21T11:56:21.987Z"
   },
   {
    "duration": 16,
    "start_time": "2022-04-21T11:56:22.057Z"
   },
   {
    "duration": 11,
    "start_time": "2022-04-21T11:56:22.093Z"
   },
   {
    "duration": 5,
    "start_time": "2022-04-21T11:56:22.106Z"
   },
   {
    "duration": 7,
    "start_time": "2022-04-21T11:56:22.112Z"
   },
   {
    "duration": 8,
    "start_time": "2022-04-21T11:56:22.121Z"
   },
   {
    "duration": 13,
    "start_time": "2022-04-21T11:56:22.130Z"
   },
   {
    "duration": 7,
    "start_time": "2022-04-21T11:56:22.145Z"
   },
   {
    "duration": 40,
    "start_time": "2022-04-21T11:56:22.154Z"
   },
   {
    "duration": 6,
    "start_time": "2022-04-21T11:56:22.197Z"
   },
   {
    "duration": 15,
    "start_time": "2022-04-21T11:56:22.205Z"
   },
   {
    "duration": 11,
    "start_time": "2022-04-21T11:56:22.222Z"
   },
   {
    "duration": 7,
    "start_time": "2022-04-21T11:56:22.235Z"
   },
   {
    "duration": 9,
    "start_time": "2022-04-21T11:56:22.244Z"
   },
   {
    "duration": 11,
    "start_time": "2022-04-21T11:56:22.254Z"
   },
   {
    "duration": 163,
    "start_time": "2022-04-21T11:56:22.293Z"
   },
   {
    "duration": 10,
    "start_time": "2022-04-21T11:56:22.458Z"
   },
   {
    "duration": 0,
    "start_time": "2022-04-21T11:56:22.469Z"
   },
   {
    "duration": 0,
    "start_time": "2022-04-21T11:56:22.470Z"
   },
   {
    "duration": 0,
    "start_time": "2022-04-21T11:56:22.472Z"
   },
   {
    "duration": 0,
    "start_time": "2022-04-21T11:56:22.473Z"
   },
   {
    "duration": 0,
    "start_time": "2022-04-21T11:56:22.493Z"
   },
   {
    "duration": 173,
    "start_time": "2022-04-21T11:58:05.179Z"
   },
   {
    "duration": 74,
    "start_time": "2022-04-21T11:58:17.464Z"
   },
   {
    "duration": 16,
    "start_time": "2022-04-21T11:58:17.540Z"
   },
   {
    "duration": 13,
    "start_time": "2022-04-21T11:58:17.558Z"
   },
   {
    "duration": 5,
    "start_time": "2022-04-21T11:58:17.594Z"
   },
   {
    "duration": 9,
    "start_time": "2022-04-21T11:58:17.601Z"
   },
   {
    "duration": 8,
    "start_time": "2022-04-21T11:58:17.611Z"
   },
   {
    "duration": 16,
    "start_time": "2022-04-21T11:58:17.620Z"
   },
   {
    "duration": 6,
    "start_time": "2022-04-21T11:58:17.637Z"
   },
   {
    "duration": 5,
    "start_time": "2022-04-21T11:58:17.645Z"
   },
   {
    "duration": 42,
    "start_time": "2022-04-21T11:58:17.652Z"
   },
   {
    "duration": 13,
    "start_time": "2022-04-21T11:58:17.695Z"
   },
   {
    "duration": 7,
    "start_time": "2022-04-21T11:58:17.710Z"
   },
   {
    "duration": 5,
    "start_time": "2022-04-21T11:58:17.719Z"
   },
   {
    "duration": 11,
    "start_time": "2022-04-21T11:58:17.726Z"
   },
   {
    "duration": 11,
    "start_time": "2022-04-21T11:58:17.738Z"
   },
   {
    "duration": 192,
    "start_time": "2022-04-21T11:58:17.750Z"
   },
   {
    "duration": 182,
    "start_time": "2022-04-21T11:58:17.943Z"
   },
   {
    "duration": 7,
    "start_time": "2022-04-21T11:58:18.126Z"
   },
   {
    "duration": 8,
    "start_time": "2022-04-21T11:58:18.135Z"
   },
   {
    "duration": 9,
    "start_time": "2022-04-21T11:58:18.144Z"
   },
   {
    "duration": 7,
    "start_time": "2022-04-21T11:58:18.155Z"
   },
   {
    "duration": 32,
    "start_time": "2022-04-21T11:58:18.163Z"
   },
   {
    "duration": 74,
    "start_time": "2022-04-21T12:01:32.552Z"
   },
   {
    "duration": 15,
    "start_time": "2022-04-21T12:01:32.628Z"
   },
   {
    "duration": 10,
    "start_time": "2022-04-21T12:01:32.645Z"
   },
   {
    "duration": 5,
    "start_time": "2022-04-21T12:01:32.656Z"
   },
   {
    "duration": 32,
    "start_time": "2022-04-21T12:01:32.663Z"
   },
   {
    "duration": 7,
    "start_time": "2022-04-21T12:01:32.696Z"
   },
   {
    "duration": 14,
    "start_time": "2022-04-21T12:01:32.704Z"
   },
   {
    "duration": 6,
    "start_time": "2022-04-21T12:01:32.719Z"
   },
   {
    "duration": 7,
    "start_time": "2022-04-21T12:01:32.727Z"
   },
   {
    "duration": 5,
    "start_time": "2022-04-21T12:01:32.736Z"
   },
   {
    "duration": 13,
    "start_time": "2022-04-21T12:01:32.743Z"
   },
   {
    "duration": 40,
    "start_time": "2022-04-21T12:01:32.758Z"
   },
   {
    "duration": 4,
    "start_time": "2022-04-21T12:01:32.800Z"
   },
   {
    "duration": 9,
    "start_time": "2022-04-21T12:01:32.807Z"
   },
   {
    "duration": 9,
    "start_time": "2022-04-21T12:01:32.818Z"
   },
   {
    "duration": 179,
    "start_time": "2022-04-21T12:01:32.828Z"
   },
   {
    "duration": 123,
    "start_time": "2022-04-21T12:01:33.009Z"
   },
   {
    "duration": 5,
    "start_time": "2022-04-21T12:01:33.134Z"
   },
   {
    "duration": 5,
    "start_time": "2022-04-21T12:01:33.141Z"
   },
   {
    "duration": 8,
    "start_time": "2022-04-21T12:01:33.148Z"
   },
   {
    "duration": 6,
    "start_time": "2022-04-21T12:01:33.157Z"
   },
   {
    "duration": 32,
    "start_time": "2022-04-21T12:01:33.165Z"
   },
   {
    "duration": 47,
    "start_time": "2022-04-21T12:03:01.289Z"
   },
   {
    "duration": 33,
    "start_time": "2022-04-21T12:03:30.166Z"
   },
   {
    "duration": 119,
    "start_time": "2022-04-21T12:04:00.503Z"
   },
   {
    "duration": 70,
    "start_time": "2022-04-21T12:04:08.911Z"
   },
   {
    "duration": 14,
    "start_time": "2022-04-21T12:04:08.983Z"
   },
   {
    "duration": 11,
    "start_time": "2022-04-21T12:04:08.999Z"
   },
   {
    "duration": 4,
    "start_time": "2022-04-21T12:04:09.012Z"
   },
   {
    "duration": 7,
    "start_time": "2022-04-21T12:04:09.019Z"
   },
   {
    "duration": 10,
    "start_time": "2022-04-21T12:04:09.028Z"
   },
   {
    "duration": 15,
    "start_time": "2022-04-21T12:04:09.039Z"
   },
   {
    "duration": 38,
    "start_time": "2022-04-21T12:04:09.056Z"
   },
   {
    "duration": 7,
    "start_time": "2022-04-21T12:04:09.096Z"
   },
   {
    "duration": 12,
    "start_time": "2022-04-21T12:04:09.105Z"
   },
   {
    "duration": 14,
    "start_time": "2022-04-21T12:04:09.119Z"
   },
   {
    "duration": 9,
    "start_time": "2022-04-21T12:04:09.135Z"
   },
   {
    "duration": 13,
    "start_time": "2022-04-21T12:04:09.146Z"
   },
   {
    "duration": 32,
    "start_time": "2022-04-21T12:04:09.162Z"
   },
   {
    "duration": 10,
    "start_time": "2022-04-21T12:04:09.196Z"
   },
   {
    "duration": 175,
    "start_time": "2022-04-21T12:04:09.208Z"
   },
   {
    "duration": 177,
    "start_time": "2022-04-21T12:04:09.392Z"
   },
   {
    "duration": 6,
    "start_time": "2022-04-21T12:04:09.570Z"
   },
   {
    "duration": 16,
    "start_time": "2022-04-21T12:04:09.577Z"
   },
   {
    "duration": 5,
    "start_time": "2022-04-21T12:04:09.595Z"
   },
   {
    "duration": 7,
    "start_time": "2022-04-21T12:04:09.601Z"
   },
   {
    "duration": 5,
    "start_time": "2022-04-21T12:04:09.610Z"
   },
   {
    "duration": 72,
    "start_time": "2022-04-21T12:06:36.575Z"
   },
   {
    "duration": 15,
    "start_time": "2022-04-21T12:06:36.649Z"
   },
   {
    "duration": 35,
    "start_time": "2022-04-21T12:06:36.666Z"
   },
   {
    "duration": 5,
    "start_time": "2022-04-21T12:06:36.702Z"
   },
   {
    "duration": 6,
    "start_time": "2022-04-21T12:06:36.709Z"
   },
   {
    "duration": 8,
    "start_time": "2022-04-21T12:06:36.717Z"
   },
   {
    "duration": 18,
    "start_time": "2022-04-21T12:06:36.726Z"
   },
   {
    "duration": 9,
    "start_time": "2022-04-21T12:06:36.745Z"
   },
   {
    "duration": 36,
    "start_time": "2022-04-21T12:06:36.756Z"
   },
   {
    "duration": 6,
    "start_time": "2022-04-21T12:06:36.794Z"
   },
   {
    "duration": 12,
    "start_time": "2022-04-21T12:06:36.802Z"
   },
   {
    "duration": 5,
    "start_time": "2022-04-21T12:06:36.816Z"
   },
   {
    "duration": 5,
    "start_time": "2022-04-21T12:06:36.823Z"
   },
   {
    "duration": 12,
    "start_time": "2022-04-21T12:06:36.830Z"
   },
   {
    "duration": 50,
    "start_time": "2022-04-21T12:06:36.843Z"
   },
   {
    "duration": 172,
    "start_time": "2022-04-21T12:06:36.894Z"
   },
   {
    "duration": 111,
    "start_time": "2022-04-21T12:06:37.068Z"
   },
   {
    "duration": 0,
    "start_time": "2022-04-21T12:06:37.180Z"
   },
   {
    "duration": 0,
    "start_time": "2022-04-21T12:06:37.181Z"
   },
   {
    "duration": 0,
    "start_time": "2022-04-21T12:06:37.182Z"
   },
   {
    "duration": 0,
    "start_time": "2022-04-21T12:06:37.183Z"
   },
   {
    "duration": 0,
    "start_time": "2022-04-21T12:06:37.184Z"
   },
   {
    "duration": 74,
    "start_time": "2022-04-21T12:07:18.537Z"
   },
   {
    "duration": 15,
    "start_time": "2022-04-21T12:07:18.613Z"
   },
   {
    "duration": 11,
    "start_time": "2022-04-21T12:07:18.630Z"
   },
   {
    "duration": 5,
    "start_time": "2022-04-21T12:07:18.644Z"
   },
   {
    "duration": 8,
    "start_time": "2022-04-21T12:07:18.651Z"
   },
   {
    "duration": 37,
    "start_time": "2022-04-21T12:07:18.661Z"
   },
   {
    "duration": 21,
    "start_time": "2022-04-21T12:07:18.700Z"
   },
   {
    "duration": 7,
    "start_time": "2022-04-21T12:07:18.723Z"
   },
   {
    "duration": 8,
    "start_time": "2022-04-21T12:07:18.731Z"
   },
   {
    "duration": 9,
    "start_time": "2022-04-21T12:07:18.741Z"
   },
   {
    "duration": 43,
    "start_time": "2022-04-21T12:07:18.751Z"
   },
   {
    "duration": 7,
    "start_time": "2022-04-21T12:07:18.796Z"
   },
   {
    "duration": 7,
    "start_time": "2022-04-21T12:07:18.805Z"
   },
   {
    "duration": 10,
    "start_time": "2022-04-21T12:07:18.814Z"
   },
   {
    "duration": 11,
    "start_time": "2022-04-21T12:07:18.826Z"
   },
   {
    "duration": 236,
    "start_time": "2022-04-21T12:07:18.840Z"
   },
   {
    "duration": 274,
    "start_time": "2022-04-21T12:07:19.079Z"
   },
   {
    "duration": 0,
    "start_time": "2022-04-21T12:07:19.355Z"
   },
   {
    "duration": 0,
    "start_time": "2022-04-21T12:07:19.356Z"
   },
   {
    "duration": 0,
    "start_time": "2022-04-21T12:07:19.357Z"
   },
   {
    "duration": 0,
    "start_time": "2022-04-21T12:07:19.359Z"
   },
   {
    "duration": 0,
    "start_time": "2022-04-21T12:07:19.360Z"
   },
   {
    "duration": 68,
    "start_time": "2022-04-21T12:07:50.994Z"
   },
   {
    "duration": 14,
    "start_time": "2022-04-21T12:07:51.064Z"
   },
   {
    "duration": 23,
    "start_time": "2022-04-21T12:07:51.080Z"
   },
   {
    "duration": 5,
    "start_time": "2022-04-21T12:07:51.105Z"
   },
   {
    "duration": 7,
    "start_time": "2022-04-21T12:07:51.112Z"
   },
   {
    "duration": 6,
    "start_time": "2022-04-21T12:07:51.122Z"
   },
   {
    "duration": 13,
    "start_time": "2022-04-21T12:07:51.130Z"
   },
   {
    "duration": 14,
    "start_time": "2022-04-21T12:07:51.145Z"
   },
   {
    "duration": 33,
    "start_time": "2022-04-21T12:07:51.161Z"
   },
   {
    "duration": 7,
    "start_time": "2022-04-21T12:07:51.196Z"
   },
   {
    "duration": 15,
    "start_time": "2022-04-21T12:07:51.204Z"
   },
   {
    "duration": 10,
    "start_time": "2022-04-21T12:07:51.221Z"
   },
   {
    "duration": 7,
    "start_time": "2022-04-21T12:07:51.232Z"
   },
   {
    "duration": 9,
    "start_time": "2022-04-21T12:07:51.241Z"
   },
   {
    "duration": 11,
    "start_time": "2022-04-21T12:07:51.251Z"
   },
   {
    "duration": 258,
    "start_time": "2022-04-21T12:07:51.292Z"
   },
   {
    "duration": 103,
    "start_time": "2022-04-21T12:07:51.552Z"
   },
   {
    "duration": 0,
    "start_time": "2022-04-21T12:07:51.658Z"
   },
   {
    "duration": 0,
    "start_time": "2022-04-21T12:07:51.659Z"
   },
   {
    "duration": 0,
    "start_time": "2022-04-21T12:07:51.661Z"
   },
   {
    "duration": 0,
    "start_time": "2022-04-21T12:07:51.662Z"
   },
   {
    "duration": 0,
    "start_time": "2022-04-21T12:07:51.663Z"
   },
   {
    "duration": 65,
    "start_time": "2022-04-21T12:08:20.738Z"
   },
   {
    "duration": 16,
    "start_time": "2022-04-21T12:08:20.805Z"
   },
   {
    "duration": 15,
    "start_time": "2022-04-21T12:08:20.822Z"
   },
   {
    "duration": 7,
    "start_time": "2022-04-21T12:08:20.839Z"
   },
   {
    "duration": 6,
    "start_time": "2022-04-21T12:08:20.848Z"
   },
   {
    "duration": 38,
    "start_time": "2022-04-21T12:08:20.856Z"
   },
   {
    "duration": 14,
    "start_time": "2022-04-21T12:08:20.896Z"
   },
   {
    "duration": 6,
    "start_time": "2022-04-21T12:08:20.912Z"
   },
   {
    "duration": 5,
    "start_time": "2022-04-21T12:08:20.920Z"
   },
   {
    "duration": 13,
    "start_time": "2022-04-21T12:08:20.927Z"
   },
   {
    "duration": 20,
    "start_time": "2022-04-21T12:08:20.941Z"
   },
   {
    "duration": 31,
    "start_time": "2022-04-21T12:08:20.963Z"
   },
   {
    "duration": 6,
    "start_time": "2022-04-21T12:08:20.997Z"
   },
   {
    "duration": 10,
    "start_time": "2022-04-21T12:08:21.005Z"
   },
   {
    "duration": 19,
    "start_time": "2022-04-21T12:08:21.018Z"
   },
   {
    "duration": 212,
    "start_time": "2022-04-21T12:08:21.038Z"
   },
   {
    "duration": 13,
    "start_time": "2022-04-21T12:08:21.253Z"
   },
   {
    "duration": 0,
    "start_time": "2022-04-21T12:08:21.267Z"
   },
   {
    "duration": 0,
    "start_time": "2022-04-21T12:08:21.269Z"
   },
   {
    "duration": 0,
    "start_time": "2022-04-21T12:08:21.269Z"
   },
   {
    "duration": 0,
    "start_time": "2022-04-21T12:08:21.271Z"
   },
   {
    "duration": 0,
    "start_time": "2022-04-21T12:08:21.271Z"
   },
   {
    "duration": 82,
    "start_time": "2022-04-21T12:09:12.744Z"
   },
   {
    "duration": 17,
    "start_time": "2022-04-21T12:09:12.828Z"
   },
   {
    "duration": 13,
    "start_time": "2022-04-21T12:09:12.847Z"
   },
   {
    "duration": 6,
    "start_time": "2022-04-21T12:09:12.862Z"
   },
   {
    "duration": 8,
    "start_time": "2022-04-21T12:09:12.893Z"
   },
   {
    "duration": 29,
    "start_time": "2022-04-21T12:09:12.903Z"
   },
   {
    "duration": 34,
    "start_time": "2022-04-21T12:09:12.934Z"
   },
   {
    "duration": 9,
    "start_time": "2022-04-21T12:09:12.970Z"
   },
   {
    "duration": 7,
    "start_time": "2022-04-21T12:09:12.981Z"
   },
   {
    "duration": 9,
    "start_time": "2022-04-21T12:09:12.992Z"
   },
   {
    "duration": 15,
    "start_time": "2022-04-21T12:09:13.003Z"
   },
   {
    "duration": 14,
    "start_time": "2022-04-21T12:09:13.021Z"
   },
   {
    "duration": 16,
    "start_time": "2022-04-21T12:09:13.037Z"
   },
   {
    "duration": 15,
    "start_time": "2022-04-21T12:09:13.055Z"
   },
   {
    "duration": 21,
    "start_time": "2022-04-21T12:09:13.072Z"
   },
   {
    "duration": 176,
    "start_time": "2022-04-21T12:09:13.095Z"
   },
   {
    "duration": 139,
    "start_time": "2022-04-21T12:09:13.273Z"
   },
   {
    "duration": 6,
    "start_time": "2022-04-21T12:09:13.414Z"
   },
   {
    "duration": 12,
    "start_time": "2022-04-21T12:09:13.422Z"
   },
   {
    "duration": 7,
    "start_time": "2022-04-21T12:09:13.436Z"
   },
   {
    "duration": 9,
    "start_time": "2022-04-21T12:09:13.445Z"
   },
   {
    "duration": 6,
    "start_time": "2022-04-21T12:09:13.456Z"
   },
   {
    "duration": 70,
    "start_time": "2022-04-21T12:13:23.770Z"
   },
   {
    "duration": 16,
    "start_time": "2022-04-21T12:13:23.842Z"
   },
   {
    "duration": 9,
    "start_time": "2022-04-21T12:13:23.860Z"
   },
   {
    "duration": 5,
    "start_time": "2022-04-21T12:13:23.893Z"
   },
   {
    "duration": 6,
    "start_time": "2022-04-21T12:13:23.900Z"
   },
   {
    "duration": 7,
    "start_time": "2022-04-21T12:13:23.907Z"
   },
   {
    "duration": 13,
    "start_time": "2022-04-21T12:13:23.916Z"
   },
   {
    "duration": 7,
    "start_time": "2022-04-21T12:13:23.931Z"
   },
   {
    "duration": 9,
    "start_time": "2022-04-21T12:13:23.940Z"
   },
   {
    "duration": 44,
    "start_time": "2022-04-21T12:13:23.952Z"
   },
   {
    "duration": 13,
    "start_time": "2022-04-21T12:13:23.998Z"
   },
   {
    "duration": 7,
    "start_time": "2022-04-21T12:13:24.013Z"
   },
   {
    "duration": 5,
    "start_time": "2022-04-21T12:13:24.022Z"
   },
   {
    "duration": 7,
    "start_time": "2022-04-21T12:13:24.030Z"
   },
   {
    "duration": 9,
    "start_time": "2022-04-21T12:13:24.039Z"
   },
   {
    "duration": 209,
    "start_time": "2022-04-21T12:13:24.050Z"
   },
   {
    "duration": 200,
    "start_time": "2022-04-21T12:13:24.261Z"
   },
   {
    "duration": 6,
    "start_time": "2022-04-21T12:13:24.463Z"
   },
   {
    "duration": 23,
    "start_time": "2022-04-21T12:13:24.471Z"
   },
   {
    "duration": 6,
    "start_time": "2022-04-21T12:13:24.496Z"
   },
   {
    "duration": 8,
    "start_time": "2022-04-21T12:13:24.503Z"
   },
   {
    "duration": 7,
    "start_time": "2022-04-21T12:13:24.513Z"
   },
   {
    "duration": 77,
    "start_time": "2022-04-21T12:14:41.824Z"
   },
   {
    "duration": 15,
    "start_time": "2022-04-21T12:14:41.903Z"
   },
   {
    "duration": 19,
    "start_time": "2022-04-21T12:14:41.919Z"
   },
   {
    "duration": 12,
    "start_time": "2022-04-21T12:14:41.940Z"
   },
   {
    "duration": 10,
    "start_time": "2022-04-21T12:14:41.954Z"
   },
   {
    "duration": 15,
    "start_time": "2022-04-21T12:14:41.966Z"
   },
   {
    "duration": 20,
    "start_time": "2022-04-21T12:14:41.983Z"
   },
   {
    "duration": 24,
    "start_time": "2022-04-21T12:14:42.005Z"
   },
   {
    "duration": 9,
    "start_time": "2022-04-21T12:14:42.031Z"
   },
   {
    "duration": 27,
    "start_time": "2022-04-21T12:14:42.043Z"
   },
   {
    "duration": 16,
    "start_time": "2022-04-21T12:14:42.072Z"
   },
   {
    "duration": 26,
    "start_time": "2022-04-21T12:14:42.090Z"
   },
   {
    "duration": 17,
    "start_time": "2022-04-21T12:14:42.118Z"
   },
   {
    "duration": 31,
    "start_time": "2022-04-21T12:14:42.136Z"
   },
   {
    "duration": 20,
    "start_time": "2022-04-21T12:14:42.169Z"
   },
   {
    "duration": 178,
    "start_time": "2022-04-21T12:14:42.191Z"
   },
   {
    "duration": 182,
    "start_time": "2022-04-21T12:14:42.371Z"
   },
   {
    "duration": 5,
    "start_time": "2022-04-21T12:14:42.555Z"
   },
   {
    "duration": 26,
    "start_time": "2022-04-21T12:14:42.561Z"
   },
   {
    "duration": 21,
    "start_time": "2022-04-21T12:14:42.589Z"
   },
   {
    "duration": 21,
    "start_time": "2022-04-21T12:14:42.611Z"
   },
   {
    "duration": 16,
    "start_time": "2022-04-21T12:14:42.634Z"
   },
   {
    "duration": 71,
    "start_time": "2022-04-21T12:15:18.306Z"
   },
   {
    "duration": 22,
    "start_time": "2022-04-21T12:15:18.379Z"
   },
   {
    "duration": 11,
    "start_time": "2022-04-21T12:15:18.403Z"
   },
   {
    "duration": 5,
    "start_time": "2022-04-21T12:15:18.416Z"
   },
   {
    "duration": 6,
    "start_time": "2022-04-21T12:15:18.423Z"
   },
   {
    "duration": 9,
    "start_time": "2022-04-21T12:15:18.431Z"
   },
   {
    "duration": 20,
    "start_time": "2022-04-21T12:15:18.442Z"
   },
   {
    "duration": 33,
    "start_time": "2022-04-21T12:15:18.464Z"
   },
   {
    "duration": 6,
    "start_time": "2022-04-21T12:15:18.499Z"
   },
   {
    "duration": 6,
    "start_time": "2022-04-21T12:15:18.507Z"
   },
   {
    "duration": 14,
    "start_time": "2022-04-21T12:15:18.515Z"
   },
   {
    "duration": 9,
    "start_time": "2022-04-21T12:15:18.531Z"
   },
   {
    "duration": 7,
    "start_time": "2022-04-21T12:15:18.542Z"
   },
   {
    "duration": 9,
    "start_time": "2022-04-21T12:15:18.552Z"
   },
   {
    "duration": 36,
    "start_time": "2022-04-21T12:15:18.563Z"
   },
   {
    "duration": 177,
    "start_time": "2022-04-21T12:15:18.601Z"
   },
   {
    "duration": 193,
    "start_time": "2022-04-21T12:15:18.780Z"
   },
   {
    "duration": 6,
    "start_time": "2022-04-21T12:15:18.975Z"
   },
   {
    "duration": 11,
    "start_time": "2022-04-21T12:15:18.982Z"
   },
   {
    "duration": 8,
    "start_time": "2022-04-21T12:15:18.995Z"
   },
   {
    "duration": 5,
    "start_time": "2022-04-21T12:15:19.005Z"
   },
   {
    "duration": 6,
    "start_time": "2022-04-21T12:15:19.012Z"
   },
   {
    "duration": 74,
    "start_time": "2022-04-21T12:15:29.048Z"
   },
   {
    "duration": 14,
    "start_time": "2022-04-21T12:15:29.124Z"
   },
   {
    "duration": 11,
    "start_time": "2022-04-21T12:15:29.140Z"
   },
   {
    "duration": 5,
    "start_time": "2022-04-21T12:15:29.153Z"
   },
   {
    "duration": 10,
    "start_time": "2022-04-21T12:15:29.159Z"
   },
   {
    "duration": 10,
    "start_time": "2022-04-21T12:15:29.194Z"
   },
   {
    "duration": 20,
    "start_time": "2022-04-21T12:15:29.207Z"
   },
   {
    "duration": 6,
    "start_time": "2022-04-21T12:15:29.229Z"
   },
   {
    "duration": 8,
    "start_time": "2022-04-21T12:15:29.237Z"
   },
   {
    "duration": 7,
    "start_time": "2022-04-21T12:15:29.247Z"
   },
   {
    "duration": 48,
    "start_time": "2022-04-21T12:15:29.256Z"
   },
   {
    "duration": 7,
    "start_time": "2022-04-21T12:15:29.307Z"
   },
   {
    "duration": 4,
    "start_time": "2022-04-21T12:15:29.316Z"
   },
   {
    "duration": 9,
    "start_time": "2022-04-21T12:15:29.322Z"
   },
   {
    "duration": 12,
    "start_time": "2022-04-21T12:15:29.332Z"
   },
   {
    "duration": 193,
    "start_time": "2022-04-21T12:15:29.347Z"
   },
   {
    "duration": 180,
    "start_time": "2022-04-21T12:15:29.542Z"
   },
   {
    "duration": 7,
    "start_time": "2022-04-21T12:15:29.723Z"
   },
   {
    "duration": 5,
    "start_time": "2022-04-21T12:15:29.732Z"
   },
   {
    "duration": 5,
    "start_time": "2022-04-21T12:15:29.739Z"
   },
   {
    "duration": 6,
    "start_time": "2022-04-21T12:15:29.746Z"
   },
   {
    "duration": 45,
    "start_time": "2022-04-21T12:15:29.753Z"
   },
   {
    "duration": 68,
    "start_time": "2022-04-21T12:16:26.605Z"
   },
   {
    "duration": 22,
    "start_time": "2022-04-21T12:16:26.675Z"
   },
   {
    "duration": 20,
    "start_time": "2022-04-21T12:16:26.699Z"
   },
   {
    "duration": 8,
    "start_time": "2022-04-21T12:16:26.721Z"
   },
   {
    "duration": 8,
    "start_time": "2022-04-21T12:16:26.731Z"
   },
   {
    "duration": 10,
    "start_time": "2022-04-21T12:16:26.741Z"
   },
   {
    "duration": 31,
    "start_time": "2022-04-21T12:16:26.752Z"
   },
   {
    "duration": 10,
    "start_time": "2022-04-21T12:16:26.784Z"
   },
   {
    "duration": 18,
    "start_time": "2022-04-21T12:16:26.799Z"
   },
   {
    "duration": 31,
    "start_time": "2022-04-21T12:16:26.818Z"
   },
   {
    "duration": 16,
    "start_time": "2022-04-21T12:16:26.850Z"
   },
   {
    "duration": 22,
    "start_time": "2022-04-21T12:16:26.868Z"
   },
   {
    "duration": 33,
    "start_time": "2022-04-21T12:16:26.893Z"
   },
   {
    "duration": 11,
    "start_time": "2022-04-21T12:16:26.929Z"
   },
   {
    "duration": 11,
    "start_time": "2022-04-21T12:16:26.942Z"
   },
   {
    "duration": 183,
    "start_time": "2022-04-21T12:16:26.955Z"
   },
   {
    "duration": 10,
    "start_time": "2022-04-21T12:16:27.140Z"
   },
   {
    "duration": 0,
    "start_time": "2022-04-21T12:16:27.151Z"
   },
   {
    "duration": 0,
    "start_time": "2022-04-21T12:16:27.152Z"
   },
   {
    "duration": 0,
    "start_time": "2022-04-21T12:16:27.154Z"
   },
   {
    "duration": 0,
    "start_time": "2022-04-21T12:16:27.155Z"
   },
   {
    "duration": 0,
    "start_time": "2022-04-21T12:16:27.156Z"
   },
   {
    "duration": 188,
    "start_time": "2022-04-21T12:16:43.383Z"
   },
   {
    "duration": 190,
    "start_time": "2022-04-21T12:17:24.871Z"
   },
   {
    "duration": 190,
    "start_time": "2022-04-21T12:17:37.692Z"
   },
   {
    "duration": 71,
    "start_time": "2022-04-21T12:17:43.373Z"
   },
   {
    "duration": 14,
    "start_time": "2022-04-21T12:17:43.446Z"
   },
   {
    "duration": 21,
    "start_time": "2022-04-21T12:17:43.462Z"
   },
   {
    "duration": 10,
    "start_time": "2022-04-21T12:17:43.485Z"
   },
   {
    "duration": 16,
    "start_time": "2022-04-21T12:17:43.498Z"
   },
   {
    "duration": 11,
    "start_time": "2022-04-21T12:17:43.516Z"
   },
   {
    "duration": 13,
    "start_time": "2022-04-21T12:17:43.529Z"
   },
   {
    "duration": 4,
    "start_time": "2022-04-21T12:17:43.564Z"
   },
   {
    "duration": 5,
    "start_time": "2022-04-21T12:17:43.571Z"
   },
   {
    "duration": 20,
    "start_time": "2022-04-21T12:17:43.578Z"
   },
   {
    "duration": 13,
    "start_time": "2022-04-21T12:17:43.601Z"
   },
   {
    "duration": 7,
    "start_time": "2022-04-21T12:17:43.615Z"
   },
   {
    "duration": 11,
    "start_time": "2022-04-21T12:17:43.624Z"
   },
   {
    "duration": 7,
    "start_time": "2022-04-21T12:17:43.640Z"
   },
   {
    "duration": 9,
    "start_time": "2022-04-21T12:17:43.651Z"
   },
   {
    "duration": 192,
    "start_time": "2022-04-21T12:17:43.662Z"
   },
   {
    "duration": 180,
    "start_time": "2022-04-21T12:17:43.856Z"
   },
   {
    "duration": 5,
    "start_time": "2022-04-21T12:17:44.037Z"
   },
   {
    "duration": 10,
    "start_time": "2022-04-21T12:17:44.044Z"
   },
   {
    "duration": 5,
    "start_time": "2022-04-21T12:17:44.056Z"
   },
   {
    "duration": 10,
    "start_time": "2022-04-21T12:17:44.063Z"
   },
   {
    "duration": 29,
    "start_time": "2022-04-21T12:17:44.074Z"
   },
   {
    "duration": 72,
    "start_time": "2022-04-21T12:18:51.372Z"
   },
   {
    "duration": 14,
    "start_time": "2022-04-21T12:18:51.446Z"
   },
   {
    "duration": 10,
    "start_time": "2022-04-21T12:18:51.462Z"
   },
   {
    "duration": 6,
    "start_time": "2022-04-21T12:18:51.493Z"
   },
   {
    "duration": 8,
    "start_time": "2022-04-21T12:18:51.500Z"
   },
   {
    "duration": 11,
    "start_time": "2022-04-21T12:18:51.509Z"
   },
   {
    "duration": 18,
    "start_time": "2022-04-21T12:18:51.522Z"
   },
   {
    "duration": 11,
    "start_time": "2022-04-21T12:18:51.542Z"
   },
   {
    "duration": 5,
    "start_time": "2022-04-21T12:18:51.554Z"
   },
   {
    "duration": 32,
    "start_time": "2022-04-21T12:18:51.561Z"
   },
   {
    "duration": 13,
    "start_time": "2022-04-21T12:18:51.595Z"
   },
   {
    "duration": 6,
    "start_time": "2022-04-21T12:18:51.610Z"
   },
   {
    "duration": 7,
    "start_time": "2022-04-21T12:18:51.617Z"
   },
   {
    "duration": 9,
    "start_time": "2022-04-21T12:18:51.625Z"
   },
   {
    "duration": 13,
    "start_time": "2022-04-21T12:18:51.636Z"
   },
   {
    "duration": 183,
    "start_time": "2022-04-21T12:18:51.650Z"
   },
   {
    "duration": 273,
    "start_time": "2022-04-21T12:18:51.834Z"
   },
   {
    "duration": 5,
    "start_time": "2022-04-21T12:18:52.109Z"
   },
   {
    "duration": 9,
    "start_time": "2022-04-21T12:18:52.116Z"
   },
   {
    "duration": 6,
    "start_time": "2022-04-21T12:18:52.126Z"
   },
   {
    "duration": 6,
    "start_time": "2022-04-21T12:18:52.134Z"
   },
   {
    "duration": 6,
    "start_time": "2022-04-21T12:18:52.141Z"
   },
   {
    "duration": 73,
    "start_time": "2022-04-21T12:19:51.080Z"
   },
   {
    "duration": 15,
    "start_time": "2022-04-21T12:19:51.156Z"
   },
   {
    "duration": 24,
    "start_time": "2022-04-21T12:19:51.173Z"
   },
   {
    "duration": 5,
    "start_time": "2022-04-21T12:19:51.199Z"
   },
   {
    "duration": 8,
    "start_time": "2022-04-21T12:19:51.206Z"
   },
   {
    "duration": 10,
    "start_time": "2022-04-21T12:19:51.215Z"
   },
   {
    "duration": 14,
    "start_time": "2022-04-21T12:19:51.227Z"
   },
   {
    "duration": 5,
    "start_time": "2022-04-21T12:19:51.242Z"
   },
   {
    "duration": 5,
    "start_time": "2022-04-21T12:19:51.249Z"
   },
   {
    "duration": 40,
    "start_time": "2022-04-21T12:19:51.257Z"
   },
   {
    "duration": 15,
    "start_time": "2022-04-21T12:19:51.298Z"
   },
   {
    "duration": 7,
    "start_time": "2022-04-21T12:19:51.315Z"
   },
   {
    "duration": 8,
    "start_time": "2022-04-21T12:19:51.323Z"
   },
   {
    "duration": 8,
    "start_time": "2022-04-21T12:19:51.333Z"
   },
   {
    "duration": 10,
    "start_time": "2022-04-21T12:19:51.342Z"
   },
   {
    "duration": 202,
    "start_time": "2022-04-21T12:19:51.354Z"
   },
   {
    "duration": 151,
    "start_time": "2022-04-21T12:19:51.558Z"
   },
   {
    "duration": 6,
    "start_time": "2022-04-21T12:19:51.711Z"
   },
   {
    "duration": 12,
    "start_time": "2022-04-21T12:19:51.718Z"
   },
   {
    "duration": 9,
    "start_time": "2022-04-21T12:19:51.732Z"
   },
   {
    "duration": 10,
    "start_time": "2022-04-21T12:19:51.742Z"
   },
   {
    "duration": 10,
    "start_time": "2022-04-21T12:19:51.754Z"
   },
   {
    "duration": 71,
    "start_time": "2022-04-21T12:21:39.794Z"
   },
   {
    "duration": 25,
    "start_time": "2022-04-21T12:21:39.867Z"
   },
   {
    "duration": 10,
    "start_time": "2022-04-21T12:21:39.894Z"
   },
   {
    "duration": 10,
    "start_time": "2022-04-21T12:21:39.906Z"
   },
   {
    "duration": 30,
    "start_time": "2022-04-21T12:21:39.917Z"
   },
   {
    "duration": 21,
    "start_time": "2022-04-21T12:21:39.948Z"
   },
   {
    "duration": 22,
    "start_time": "2022-04-21T12:21:39.970Z"
   },
   {
    "duration": 15,
    "start_time": "2022-04-21T12:21:39.993Z"
   },
   {
    "duration": 21,
    "start_time": "2022-04-21T12:21:40.009Z"
   },
   {
    "duration": 14,
    "start_time": "2022-04-21T12:21:40.032Z"
   },
   {
    "duration": 33,
    "start_time": "2022-04-21T12:21:40.048Z"
   },
   {
    "duration": 11,
    "start_time": "2022-04-21T12:21:40.082Z"
   },
   {
    "duration": 13,
    "start_time": "2022-04-21T12:21:40.094Z"
   },
   {
    "duration": 17,
    "start_time": "2022-04-21T12:21:40.108Z"
   },
   {
    "duration": 22,
    "start_time": "2022-04-21T12:21:40.127Z"
   },
   {
    "duration": 177,
    "start_time": "2022-04-21T12:21:40.151Z"
   },
   {
    "duration": 123,
    "start_time": "2022-04-21T12:21:40.330Z"
   },
   {
    "duration": 6,
    "start_time": "2022-04-21T12:21:40.454Z"
   },
   {
    "duration": 19,
    "start_time": "2022-04-21T12:21:40.461Z"
   },
   {
    "duration": 31,
    "start_time": "2022-04-21T12:21:40.482Z"
   },
   {
    "duration": 28,
    "start_time": "2022-04-21T12:21:40.515Z"
   },
   {
    "duration": 33,
    "start_time": "2022-04-21T12:21:40.545Z"
   },
   {
    "duration": 71,
    "start_time": "2022-04-21T12:22:30.054Z"
   },
   {
    "duration": 16,
    "start_time": "2022-04-21T12:22:30.128Z"
   },
   {
    "duration": 12,
    "start_time": "2022-04-21T12:22:30.146Z"
   },
   {
    "duration": 32,
    "start_time": "2022-04-21T12:22:30.160Z"
   },
   {
    "duration": 7,
    "start_time": "2022-04-21T12:22:30.194Z"
   },
   {
    "duration": 15,
    "start_time": "2022-04-21T12:22:30.203Z"
   },
   {
    "duration": 22,
    "start_time": "2022-04-21T12:22:30.220Z"
   },
   {
    "duration": 12,
    "start_time": "2022-04-21T12:22:30.243Z"
   },
   {
    "duration": 14,
    "start_time": "2022-04-21T12:22:30.256Z"
   },
   {
    "duration": 6,
    "start_time": "2022-04-21T12:22:30.273Z"
   },
   {
    "duration": 13,
    "start_time": "2022-04-21T12:22:30.293Z"
   },
   {
    "duration": 25,
    "start_time": "2022-04-21T12:22:30.308Z"
   },
   {
    "duration": 26,
    "start_time": "2022-04-21T12:22:30.335Z"
   },
   {
    "duration": 21,
    "start_time": "2022-04-21T12:22:30.363Z"
   },
   {
    "duration": 12,
    "start_time": "2022-04-21T12:22:30.386Z"
   },
   {
    "duration": 175,
    "start_time": "2022-04-21T12:22:30.400Z"
   },
   {
    "duration": 191,
    "start_time": "2022-04-21T12:22:30.577Z"
   },
   {
    "duration": 5,
    "start_time": "2022-04-21T12:22:30.769Z"
   },
   {
    "duration": 22,
    "start_time": "2022-04-21T12:22:30.776Z"
   },
   {
    "duration": 20,
    "start_time": "2022-04-21T12:22:30.800Z"
   },
   {
    "duration": 19,
    "start_time": "2022-04-21T12:22:30.821Z"
   },
   {
    "duration": 24,
    "start_time": "2022-04-21T12:22:30.841Z"
   },
   {
    "duration": 70,
    "start_time": "2022-04-21T12:22:52.426Z"
   },
   {
    "duration": 15,
    "start_time": "2022-04-21T12:22:52.498Z"
   },
   {
    "duration": 10,
    "start_time": "2022-04-21T12:22:52.515Z"
   },
   {
    "duration": 4,
    "start_time": "2022-04-21T12:22:52.528Z"
   },
   {
    "duration": 5,
    "start_time": "2022-04-21T12:22:52.534Z"
   },
   {
    "duration": 8,
    "start_time": "2022-04-21T12:22:52.540Z"
   },
   {
    "duration": 47,
    "start_time": "2022-04-21T12:22:52.550Z"
   },
   {
    "duration": 9,
    "start_time": "2022-04-21T12:22:52.598Z"
   },
   {
    "duration": 7,
    "start_time": "2022-04-21T12:22:52.609Z"
   },
   {
    "duration": 7,
    "start_time": "2022-04-21T12:22:52.618Z"
   },
   {
    "duration": 14,
    "start_time": "2022-04-21T12:22:52.626Z"
   },
   {
    "duration": 9,
    "start_time": "2022-04-21T12:22:52.642Z"
   },
   {
    "duration": 8,
    "start_time": "2022-04-21T12:22:52.653Z"
   },
   {
    "duration": 32,
    "start_time": "2022-04-21T12:22:52.662Z"
   },
   {
    "duration": 9,
    "start_time": "2022-04-21T12:22:52.695Z"
   },
   {
    "duration": 177,
    "start_time": "2022-04-21T12:22:52.706Z"
   },
   {
    "duration": 166,
    "start_time": "2022-04-21T12:22:52.885Z"
   },
   {
    "duration": 6,
    "start_time": "2022-04-21T12:22:53.052Z"
   },
   {
    "duration": 14,
    "start_time": "2022-04-21T12:22:53.059Z"
   },
   {
    "duration": 19,
    "start_time": "2022-04-21T12:22:53.075Z"
   },
   {
    "duration": 6,
    "start_time": "2022-04-21T12:22:53.095Z"
   },
   {
    "duration": 11,
    "start_time": "2022-04-21T12:22:53.103Z"
   },
   {
    "duration": 73,
    "start_time": "2022-04-21T12:23:09.305Z"
   },
   {
    "duration": 19,
    "start_time": "2022-04-21T12:23:09.380Z"
   },
   {
    "duration": 11,
    "start_time": "2022-04-21T12:23:09.401Z"
   },
   {
    "duration": 4,
    "start_time": "2022-04-21T12:23:09.415Z"
   },
   {
    "duration": 4,
    "start_time": "2022-04-21T12:23:09.421Z"
   },
   {
    "duration": 7,
    "start_time": "2022-04-21T12:23:09.427Z"
   },
   {
    "duration": 14,
    "start_time": "2022-04-21T12:23:09.435Z"
   },
   {
    "duration": 43,
    "start_time": "2022-04-21T12:23:09.450Z"
   },
   {
    "duration": 5,
    "start_time": "2022-04-21T12:23:09.495Z"
   },
   {
    "duration": 5,
    "start_time": "2022-04-21T12:23:09.503Z"
   },
   {
    "duration": 14,
    "start_time": "2022-04-21T12:23:09.510Z"
   },
   {
    "duration": 9,
    "start_time": "2022-04-21T12:23:09.526Z"
   },
   {
    "duration": 12,
    "start_time": "2022-04-21T12:23:09.537Z"
   },
   {
    "duration": 6,
    "start_time": "2022-04-21T12:23:09.551Z"
   },
   {
    "duration": 37,
    "start_time": "2022-04-21T12:23:09.559Z"
   },
   {
    "duration": 173,
    "start_time": "2022-04-21T12:23:09.598Z"
   },
   {
    "duration": 164,
    "start_time": "2022-04-21T12:23:09.773Z"
   },
   {
    "duration": 5,
    "start_time": "2022-04-21T12:23:09.939Z"
   },
   {
    "duration": 7,
    "start_time": "2022-04-21T12:23:09.946Z"
   },
   {
    "duration": 6,
    "start_time": "2022-04-21T12:23:09.954Z"
   },
   {
    "duration": 32,
    "start_time": "2022-04-21T12:23:09.961Z"
   },
   {
    "duration": 7,
    "start_time": "2022-04-21T12:23:09.994Z"
   },
   {
    "duration": 5,
    "start_time": "2022-04-21T12:27:33.248Z"
   },
   {
    "duration": 82,
    "start_time": "2022-04-21T12:28:23.942Z"
   },
   {
    "duration": 17,
    "start_time": "2022-04-21T12:28:24.027Z"
   },
   {
    "duration": 13,
    "start_time": "2022-04-21T12:28:24.046Z"
   },
   {
    "duration": 33,
    "start_time": "2022-04-21T12:28:24.061Z"
   },
   {
    "duration": 7,
    "start_time": "2022-04-21T12:28:24.096Z"
   },
   {
    "duration": 8,
    "start_time": "2022-04-21T12:28:24.105Z"
   },
   {
    "duration": 14,
    "start_time": "2022-04-21T12:28:24.115Z"
   },
   {
    "duration": 7,
    "start_time": "2022-04-21T12:28:24.132Z"
   },
   {
    "duration": 6,
    "start_time": "2022-04-21T12:28:24.141Z"
   },
   {
    "duration": 8,
    "start_time": "2022-04-21T12:28:24.192Z"
   },
   {
    "duration": 14,
    "start_time": "2022-04-21T12:28:24.202Z"
   },
   {
    "duration": 7,
    "start_time": "2022-04-21T12:28:24.218Z"
   },
   {
    "duration": 7,
    "start_time": "2022-04-21T12:28:24.227Z"
   },
   {
    "duration": 7,
    "start_time": "2022-04-21T12:28:24.236Z"
   },
   {
    "duration": 51,
    "start_time": "2022-04-21T12:28:24.245Z"
   },
   {
    "duration": 174,
    "start_time": "2022-04-21T12:28:24.297Z"
   },
   {
    "duration": 8,
    "start_time": "2022-04-21T12:28:24.472Z"
   },
   {
    "duration": 6,
    "start_time": "2022-04-21T12:28:24.493Z"
   },
   {
    "duration": 184,
    "start_time": "2022-04-21T12:28:24.500Z"
   },
   {
    "duration": 8,
    "start_time": "2022-04-21T12:28:24.686Z"
   },
   {
    "duration": 8,
    "start_time": "2022-04-21T12:28:24.695Z"
   },
   {
    "duration": 8,
    "start_time": "2022-04-21T12:28:24.704Z"
   },
   {
    "duration": 7,
    "start_time": "2022-04-21T12:28:24.714Z"
   },
   {
    "duration": 6,
    "start_time": "2022-04-21T12:28:24.723Z"
   },
   {
    "duration": 70,
    "start_time": "2022-04-21T12:29:54.836Z"
   },
   {
    "duration": 15,
    "start_time": "2022-04-21T12:29:54.909Z"
   },
   {
    "duration": 17,
    "start_time": "2022-04-21T12:29:54.926Z"
   },
   {
    "duration": 5,
    "start_time": "2022-04-21T12:29:54.945Z"
   },
   {
    "duration": 5,
    "start_time": "2022-04-21T12:29:54.952Z"
   },
   {
    "duration": 34,
    "start_time": "2022-04-21T12:29:54.959Z"
   },
   {
    "duration": 14,
    "start_time": "2022-04-21T12:29:54.995Z"
   },
   {
    "duration": 7,
    "start_time": "2022-04-21T12:29:55.010Z"
   },
   {
    "duration": 5,
    "start_time": "2022-04-21T12:29:55.019Z"
   },
   {
    "duration": 7,
    "start_time": "2022-04-21T12:29:55.027Z"
   },
   {
    "duration": 14,
    "start_time": "2022-04-21T12:29:55.035Z"
   },
   {
    "duration": 43,
    "start_time": "2022-04-21T12:29:55.051Z"
   },
   {
    "duration": 6,
    "start_time": "2022-04-21T12:29:55.096Z"
   },
   {
    "duration": 15,
    "start_time": "2022-04-21T12:29:55.104Z"
   },
   {
    "duration": 13,
    "start_time": "2022-04-21T12:29:55.121Z"
   },
   {
    "duration": 184,
    "start_time": "2022-04-21T12:29:55.135Z"
   },
   {
    "duration": 7,
    "start_time": "2022-04-21T12:29:55.321Z"
   },
   {
    "duration": 17,
    "start_time": "2022-04-21T12:29:55.330Z"
   },
   {
    "duration": 180,
    "start_time": "2022-04-21T12:29:55.349Z"
   },
   {
    "duration": 5,
    "start_time": "2022-04-21T12:29:55.531Z"
   },
   {
    "duration": 11,
    "start_time": "2022-04-21T12:29:55.538Z"
   },
   {
    "duration": 17,
    "start_time": "2022-04-21T12:29:55.551Z"
   },
   {
    "duration": 6,
    "start_time": "2022-04-21T12:29:55.570Z"
   },
   {
    "duration": 20,
    "start_time": "2022-04-21T12:29:55.578Z"
   },
   {
    "duration": 157,
    "start_time": "2022-04-21T12:37:40.954Z"
   },
   {
    "duration": 100,
    "start_time": "2022-04-21T12:39:04.021Z"
   },
   {
    "duration": 15,
    "start_time": "2022-04-21T12:39:04.124Z"
   },
   {
    "duration": 10,
    "start_time": "2022-04-21T12:39:04.141Z"
   },
   {
    "duration": 5,
    "start_time": "2022-04-21T12:39:04.153Z"
   },
   {
    "duration": 5,
    "start_time": "2022-04-21T12:39:04.160Z"
   },
   {
    "duration": 8,
    "start_time": "2022-04-21T12:39:04.193Z"
   },
   {
    "duration": 17,
    "start_time": "2022-04-21T12:39:04.203Z"
   },
   {
    "duration": 6,
    "start_time": "2022-04-21T12:39:04.222Z"
   },
   {
    "duration": 6,
    "start_time": "2022-04-21T12:39:04.230Z"
   },
   {
    "duration": 6,
    "start_time": "2022-04-21T12:39:04.239Z"
   },
   {
    "duration": 47,
    "start_time": "2022-04-21T12:39:04.246Z"
   },
   {
    "duration": 6,
    "start_time": "2022-04-21T12:39:04.294Z"
   },
   {
    "duration": 17,
    "start_time": "2022-04-21T12:39:04.302Z"
   },
   {
    "duration": 11,
    "start_time": "2022-04-21T12:39:04.320Z"
   },
   {
    "duration": 13,
    "start_time": "2022-04-21T12:39:04.333Z"
   },
   {
    "duration": 249,
    "start_time": "2022-04-21T12:39:04.348Z"
   },
   {
    "duration": 260,
    "start_time": "2022-04-21T12:39:04.599Z"
   },
   {
    "duration": 8,
    "start_time": "2022-04-21T12:39:04.861Z"
   },
   {
    "duration": 23,
    "start_time": "2022-04-21T12:39:04.871Z"
   },
   {
    "duration": 184,
    "start_time": "2022-04-21T12:39:04.896Z"
   },
   {
    "duration": 13,
    "start_time": "2022-04-21T12:39:05.082Z"
   },
   {
    "duration": 6,
    "start_time": "2022-04-21T12:39:05.097Z"
   },
   {
    "duration": 9,
    "start_time": "2022-04-21T12:39:05.105Z"
   },
   {
    "duration": 6,
    "start_time": "2022-04-21T12:39:05.116Z"
   },
   {
    "duration": 6,
    "start_time": "2022-04-21T12:39:05.124Z"
   },
   {
    "duration": 102,
    "start_time": "2022-04-21T12:40:58.967Z"
   },
   {
    "duration": 31,
    "start_time": "2022-04-21T12:40:59.072Z"
   },
   {
    "duration": 16,
    "start_time": "2022-04-21T12:40:59.105Z"
   },
   {
    "duration": 12,
    "start_time": "2022-04-21T12:40:59.124Z"
   },
   {
    "duration": 8,
    "start_time": "2022-04-21T12:40:59.137Z"
   },
   {
    "duration": 10,
    "start_time": "2022-04-21T12:40:59.147Z"
   },
   {
    "duration": 37,
    "start_time": "2022-04-21T12:40:59.158Z"
   },
   {
    "duration": 8,
    "start_time": "2022-04-21T12:40:59.197Z"
   },
   {
    "duration": 21,
    "start_time": "2022-04-21T12:40:59.207Z"
   },
   {
    "duration": 7,
    "start_time": "2022-04-21T12:40:59.231Z"
   },
   {
    "duration": 14,
    "start_time": "2022-04-21T12:40:59.239Z"
   },
   {
    "duration": 8,
    "start_time": "2022-04-21T12:40:59.255Z"
   },
   {
    "duration": 29,
    "start_time": "2022-04-21T12:40:59.265Z"
   },
   {
    "duration": 5,
    "start_time": "2022-04-21T12:40:59.296Z"
   },
   {
    "duration": 11,
    "start_time": "2022-04-21T12:40:59.303Z"
   },
   {
    "duration": 185,
    "start_time": "2022-04-21T12:40:59.316Z"
   },
   {
    "duration": 201,
    "start_time": "2022-04-21T12:40:59.503Z"
   },
   {
    "duration": 196,
    "start_time": "2022-04-21T12:40:59.706Z"
   },
   {
    "duration": 7,
    "start_time": "2022-04-21T12:40:59.904Z"
   },
   {
    "duration": 8,
    "start_time": "2022-04-21T12:40:59.913Z"
   },
   {
    "duration": 343,
    "start_time": "2022-04-21T12:40:59.922Z"
   },
   {
    "duration": 6,
    "start_time": "2022-04-21T12:41:00.267Z"
   },
   {
    "duration": 23,
    "start_time": "2022-04-21T12:41:00.274Z"
   },
   {
    "duration": 6,
    "start_time": "2022-04-21T12:41:00.298Z"
   },
   {
    "duration": 19,
    "start_time": "2022-04-21T12:41:00.305Z"
   },
   {
    "duration": 12,
    "start_time": "2022-04-21T12:41:00.326Z"
   },
   {
    "duration": 74,
    "start_time": "2022-04-21T12:41:48.685Z"
   },
   {
    "duration": 17,
    "start_time": "2022-04-21T12:41:48.761Z"
   },
   {
    "duration": 11,
    "start_time": "2022-04-21T12:41:48.792Z"
   },
   {
    "duration": 6,
    "start_time": "2022-04-21T12:41:48.805Z"
   },
   {
    "duration": 6,
    "start_time": "2022-04-21T12:41:48.814Z"
   },
   {
    "duration": 7,
    "start_time": "2022-04-21T12:41:48.822Z"
   },
   {
    "duration": 15,
    "start_time": "2022-04-21T12:41:48.830Z"
   },
   {
    "duration": 5,
    "start_time": "2022-04-21T12:41:48.847Z"
   },
   {
    "duration": 42,
    "start_time": "2022-04-21T12:41:48.853Z"
   },
   {
    "duration": 6,
    "start_time": "2022-04-21T12:41:48.897Z"
   },
   {
    "duration": 14,
    "start_time": "2022-04-21T12:41:48.905Z"
   },
   {
    "duration": 8,
    "start_time": "2022-04-21T12:41:48.921Z"
   },
   {
    "duration": 7,
    "start_time": "2022-04-21T12:41:48.931Z"
   },
   {
    "duration": 8,
    "start_time": "2022-04-21T12:41:48.941Z"
   },
   {
    "duration": 11,
    "start_time": "2022-04-21T12:41:48.952Z"
   },
   {
    "duration": 250,
    "start_time": "2022-04-21T12:41:48.993Z"
   },
   {
    "duration": 262,
    "start_time": "2022-04-21T12:41:49.245Z"
   },
   {
    "duration": 233,
    "start_time": "2022-04-21T12:41:49.510Z"
   },
   {
    "duration": 7,
    "start_time": "2022-04-21T12:41:49.745Z"
   },
   {
    "duration": 7,
    "start_time": "2022-04-21T12:41:49.754Z"
   },
   {
    "duration": 262,
    "start_time": "2022-04-21T12:41:49.763Z"
   },
   {
    "duration": 6,
    "start_time": "2022-04-21T12:41:50.028Z"
   },
   {
    "duration": 8,
    "start_time": "2022-04-21T12:41:50.036Z"
   },
   {
    "duration": 6,
    "start_time": "2022-04-21T12:41:50.046Z"
   },
   {
    "duration": 6,
    "start_time": "2022-04-21T12:41:50.054Z"
   },
   {
    "duration": 31,
    "start_time": "2022-04-21T12:41:50.062Z"
   },
   {
    "duration": 104,
    "start_time": "2022-04-21T12:42:46.173Z"
   },
   {
    "duration": 68,
    "start_time": "2022-04-21T12:43:03.395Z"
   },
   {
    "duration": 28,
    "start_time": "2022-04-21T12:43:03.465Z"
   },
   {
    "duration": 11,
    "start_time": "2022-04-21T12:43:03.495Z"
   },
   {
    "duration": 5,
    "start_time": "2022-04-21T12:43:03.508Z"
   },
   {
    "duration": 5,
    "start_time": "2022-04-21T12:43:03.517Z"
   },
   {
    "duration": 8,
    "start_time": "2022-04-21T12:43:03.524Z"
   },
   {
    "duration": 12,
    "start_time": "2022-04-21T12:43:03.534Z"
   },
   {
    "duration": 46,
    "start_time": "2022-04-21T12:43:03.548Z"
   },
   {
    "duration": 6,
    "start_time": "2022-04-21T12:43:03.596Z"
   },
   {
    "duration": 6,
    "start_time": "2022-04-21T12:43:03.605Z"
   },
   {
    "duration": 12,
    "start_time": "2022-04-21T12:43:03.613Z"
   },
   {
    "duration": 7,
    "start_time": "2022-04-21T12:43:03.627Z"
   },
   {
    "duration": 12,
    "start_time": "2022-04-21T12:43:03.636Z"
   },
   {
    "duration": 47,
    "start_time": "2022-04-21T12:43:03.651Z"
   },
   {
    "duration": 10,
    "start_time": "2022-04-21T12:43:03.700Z"
   },
   {
    "duration": 183,
    "start_time": "2022-04-21T12:43:03.712Z"
   },
   {
    "duration": 193,
    "start_time": "2022-04-21T12:43:03.897Z"
   },
   {
    "duration": 239,
    "start_time": "2022-04-21T12:43:04.093Z"
   },
   {
    "duration": 9,
    "start_time": "2022-04-21T12:43:04.333Z"
   },
   {
    "duration": 7,
    "start_time": "2022-04-21T12:43:04.344Z"
   },
   {
    "duration": 192,
    "start_time": "2022-04-21T12:43:04.353Z"
   },
   {
    "duration": 5,
    "start_time": "2022-04-21T12:43:04.547Z"
   },
   {
    "duration": 9,
    "start_time": "2022-04-21T12:43:04.554Z"
   },
   {
    "duration": 12,
    "start_time": "2022-04-21T12:43:04.565Z"
   },
   {
    "duration": 6,
    "start_time": "2022-04-21T12:43:04.592Z"
   },
   {
    "duration": 7,
    "start_time": "2022-04-21T12:43:04.600Z"
   },
   {
    "duration": 76,
    "start_time": "2022-04-21T12:57:39.645Z"
   },
   {
    "duration": 16,
    "start_time": "2022-04-21T12:57:39.723Z"
   },
   {
    "duration": 12,
    "start_time": "2022-04-21T12:57:39.741Z"
   },
   {
    "duration": 5,
    "start_time": "2022-04-21T12:57:39.755Z"
   },
   {
    "duration": 34,
    "start_time": "2022-04-21T12:57:39.762Z"
   },
   {
    "duration": 8,
    "start_time": "2022-04-21T12:57:39.798Z"
   },
   {
    "duration": 14,
    "start_time": "2022-04-21T12:57:39.808Z"
   },
   {
    "duration": 5,
    "start_time": "2022-04-21T12:57:39.824Z"
   },
   {
    "duration": 6,
    "start_time": "2022-04-21T12:57:39.831Z"
   },
   {
    "duration": 6,
    "start_time": "2022-04-21T12:57:39.840Z"
   },
   {
    "duration": 55,
    "start_time": "2022-04-21T12:57:39.848Z"
   },
   {
    "duration": 7,
    "start_time": "2022-04-21T12:57:39.905Z"
   },
   {
    "duration": 5,
    "start_time": "2022-04-21T12:57:39.914Z"
   },
   {
    "duration": 9,
    "start_time": "2022-04-21T12:57:39.921Z"
   },
   {
    "duration": 10,
    "start_time": "2022-04-21T12:57:39.932Z"
   },
   {
    "duration": 261,
    "start_time": "2022-04-21T12:57:39.944Z"
   },
   {
    "duration": 255,
    "start_time": "2022-04-21T12:57:40.207Z"
   },
   {
    "duration": 167,
    "start_time": "2022-04-21T12:57:40.464Z"
   },
   {
    "duration": 7,
    "start_time": "2022-04-21T12:57:40.633Z"
   },
   {
    "duration": 10,
    "start_time": "2022-04-21T12:57:40.642Z"
   },
   {
    "duration": 8,
    "start_time": "2022-04-21T12:57:40.653Z"
   },
   {
    "duration": 12,
    "start_time": "2022-04-21T12:57:40.662Z"
   },
   {
    "duration": 21,
    "start_time": "2022-04-21T12:57:40.676Z"
   },
   {
    "duration": 13,
    "start_time": "2022-04-21T12:57:40.698Z"
   },
   {
    "duration": 69,
    "start_time": "2022-04-21T12:57:58.203Z"
   },
   {
    "duration": 28,
    "start_time": "2022-04-21T12:57:58.274Z"
   },
   {
    "duration": 12,
    "start_time": "2022-04-21T12:57:58.304Z"
   },
   {
    "duration": 5,
    "start_time": "2022-04-21T12:57:58.319Z"
   },
   {
    "duration": 6,
    "start_time": "2022-04-21T12:57:58.326Z"
   },
   {
    "duration": 8,
    "start_time": "2022-04-21T12:57:58.334Z"
   },
   {
    "duration": 55,
    "start_time": "2022-04-21T12:57:58.344Z"
   },
   {
    "duration": 6,
    "start_time": "2022-04-21T12:57:58.401Z"
   },
   {
    "duration": 6,
    "start_time": "2022-04-21T12:57:58.409Z"
   },
   {
    "duration": 7,
    "start_time": "2022-04-21T12:57:58.419Z"
   },
   {
    "duration": 13,
    "start_time": "2022-04-21T12:57:58.428Z"
   },
   {
    "duration": 54,
    "start_time": "2022-04-21T12:57:58.443Z"
   },
   {
    "duration": 6,
    "start_time": "2022-04-21T12:57:58.499Z"
   },
   {
    "duration": 6,
    "start_time": "2022-04-21T12:57:58.508Z"
   },
   {
    "duration": 13,
    "start_time": "2022-04-21T12:57:58.516Z"
   },
   {
    "duration": 193,
    "start_time": "2022-04-21T12:57:58.531Z"
   },
   {
    "duration": 189,
    "start_time": "2022-04-21T12:57:58.726Z"
   },
   {
    "duration": 176,
    "start_time": "2022-04-21T12:57:58.916Z"
   },
   {
    "duration": 7,
    "start_time": "2022-04-21T12:57:59.094Z"
   },
   {
    "duration": 7,
    "start_time": "2022-04-21T12:57:59.104Z"
   },
   {
    "duration": 6,
    "start_time": "2022-04-21T12:57:59.113Z"
   },
   {
    "duration": 6,
    "start_time": "2022-04-21T12:57:59.120Z"
   },
   {
    "duration": 6,
    "start_time": "2022-04-21T12:57:59.128Z"
   },
   {
    "duration": 7,
    "start_time": "2022-04-21T12:57:59.136Z"
   },
   {
    "duration": 70,
    "start_time": "2022-04-21T12:59:43.919Z"
   },
   {
    "duration": 14,
    "start_time": "2022-04-21T12:59:43.992Z"
   },
   {
    "duration": 10,
    "start_time": "2022-04-21T12:59:44.008Z"
   },
   {
    "duration": 5,
    "start_time": "2022-04-21T12:59:44.020Z"
   },
   {
    "duration": 6,
    "start_time": "2022-04-21T12:59:44.027Z"
   },
   {
    "duration": 8,
    "start_time": "2022-04-21T12:59:44.035Z"
   },
   {
    "duration": 16,
    "start_time": "2022-04-21T12:59:44.045Z"
   },
   {
    "duration": 34,
    "start_time": "2022-04-21T12:59:44.063Z"
   },
   {
    "duration": 6,
    "start_time": "2022-04-21T12:59:44.099Z"
   },
   {
    "duration": 9,
    "start_time": "2022-04-21T12:59:44.108Z"
   },
   {
    "duration": 14,
    "start_time": "2022-04-21T12:59:44.119Z"
   },
   {
    "duration": 13,
    "start_time": "2022-04-21T12:59:44.135Z"
   },
   {
    "duration": 9,
    "start_time": "2022-04-21T12:59:44.149Z"
   },
   {
    "duration": 6,
    "start_time": "2022-04-21T12:59:44.193Z"
   },
   {
    "duration": 17,
    "start_time": "2022-04-21T12:59:44.200Z"
   },
   {
    "duration": 181,
    "start_time": "2022-04-21T12:59:44.219Z"
   },
   {
    "duration": 186,
    "start_time": "2022-04-21T12:59:44.402Z"
   },
   {
    "duration": 168,
    "start_time": "2022-04-21T12:59:44.593Z"
   },
   {
    "duration": 8,
    "start_time": "2022-04-21T12:59:44.763Z"
   },
   {
    "duration": 21,
    "start_time": "2022-04-21T12:59:44.773Z"
   },
   {
    "duration": 7,
    "start_time": "2022-04-21T12:59:44.795Z"
   },
   {
    "duration": 6,
    "start_time": "2022-04-21T12:59:44.804Z"
   },
   {
    "duration": 10,
    "start_time": "2022-04-21T12:59:44.812Z"
   },
   {
    "duration": 7,
    "start_time": "2022-04-21T12:59:44.824Z"
   },
   {
    "duration": 70,
    "start_time": "2022-04-21T13:00:02.659Z"
   },
   {
    "duration": 15,
    "start_time": "2022-04-21T13:00:02.731Z"
   },
   {
    "duration": 49,
    "start_time": "2022-04-21T13:00:02.747Z"
   },
   {
    "duration": 28,
    "start_time": "2022-04-21T13:00:02.799Z"
   },
   {
    "duration": 27,
    "start_time": "2022-04-21T13:00:02.829Z"
   },
   {
    "duration": 15,
    "start_time": "2022-04-21T13:00:02.857Z"
   },
   {
    "duration": 23,
    "start_time": "2022-04-21T13:00:02.874Z"
   },
   {
    "duration": 12,
    "start_time": "2022-04-21T13:00:02.898Z"
   },
   {
    "duration": 16,
    "start_time": "2022-04-21T13:00:02.912Z"
   },
   {
    "duration": 38,
    "start_time": "2022-04-21T13:00:02.931Z"
   },
   {
    "duration": 26,
    "start_time": "2022-04-21T13:00:02.971Z"
   },
   {
    "duration": 24,
    "start_time": "2022-04-21T13:00:02.999Z"
   },
   {
    "duration": 11,
    "start_time": "2022-04-21T13:00:03.025Z"
   },
   {
    "duration": 25,
    "start_time": "2022-04-21T13:00:03.038Z"
   },
   {
    "duration": 25,
    "start_time": "2022-04-21T13:00:03.064Z"
   },
   {
    "duration": 173,
    "start_time": "2022-04-21T13:00:03.091Z"
   },
   {
    "duration": 187,
    "start_time": "2022-04-21T13:00:03.266Z"
   },
   {
    "duration": 175,
    "start_time": "2022-04-21T13:00:03.455Z"
   },
   {
    "duration": 9,
    "start_time": "2022-04-21T13:00:03.632Z"
   },
   {
    "duration": 16,
    "start_time": "2022-04-21T13:00:03.643Z"
   },
   {
    "duration": 10,
    "start_time": "2022-04-21T13:00:03.661Z"
   },
   {
    "duration": 23,
    "start_time": "2022-04-21T13:00:03.673Z"
   },
   {
    "duration": 10,
    "start_time": "2022-04-21T13:00:03.699Z"
   },
   {
    "duration": 7,
    "start_time": "2022-04-21T13:00:03.712Z"
   },
   {
    "duration": 120,
    "start_time": "2022-04-21T13:01:23.233Z"
   },
   {
    "duration": 7,
    "start_time": "2022-04-21T13:01:36.318Z"
   },
   {
    "duration": 98,
    "start_time": "2022-04-21T13:04:08.966Z"
   },
   {
    "duration": 40,
    "start_time": "2022-04-21T13:04:09.067Z"
   },
   {
    "duration": 17,
    "start_time": "2022-04-21T13:04:09.109Z"
   },
   {
    "duration": 6,
    "start_time": "2022-04-21T13:04:09.128Z"
   },
   {
    "duration": 8,
    "start_time": "2022-04-21T13:04:09.138Z"
   },
   {
    "duration": 12,
    "start_time": "2022-04-21T13:04:09.148Z"
   },
   {
    "duration": 45,
    "start_time": "2022-04-21T13:04:09.162Z"
   },
   {
    "duration": 7,
    "start_time": "2022-04-21T13:04:09.209Z"
   },
   {
    "duration": 7,
    "start_time": "2022-04-21T13:04:09.218Z"
   },
   {
    "duration": 8,
    "start_time": "2022-04-21T13:04:09.227Z"
   },
   {
    "duration": 13,
    "start_time": "2022-04-21T13:04:09.236Z"
   },
   {
    "duration": 47,
    "start_time": "2022-04-21T13:04:09.251Z"
   },
   {
    "duration": 7,
    "start_time": "2022-04-21T13:04:09.300Z"
   },
   {
    "duration": 29,
    "start_time": "2022-04-21T13:04:09.310Z"
   },
   {
    "duration": 12,
    "start_time": "2022-04-21T13:04:09.341Z"
   },
   {
    "duration": 259,
    "start_time": "2022-04-21T13:04:09.355Z"
   },
   {
    "duration": 258,
    "start_time": "2022-04-21T13:04:09.616Z"
   },
   {
    "duration": 238,
    "start_time": "2022-04-21T13:04:09.876Z"
   },
   {
    "duration": 9,
    "start_time": "2022-04-21T13:04:10.117Z"
   },
   {
    "duration": 6,
    "start_time": "2022-04-21T13:04:10.128Z"
   },
   {
    "duration": 271,
    "start_time": "2022-04-21T13:04:10.136Z"
   },
   {
    "duration": 7,
    "start_time": "2022-04-21T13:04:10.409Z"
   },
   {
    "duration": 9,
    "start_time": "2022-04-21T13:04:10.417Z"
   },
   {
    "duration": 8,
    "start_time": "2022-04-21T13:04:10.428Z"
   },
   {
    "duration": 101,
    "start_time": "2022-04-21T13:05:21.799Z"
   },
   {
    "duration": 22,
    "start_time": "2022-04-21T13:05:21.903Z"
   },
   {
    "duration": 16,
    "start_time": "2022-04-21T13:05:21.927Z"
   },
   {
    "duration": 5,
    "start_time": "2022-04-21T13:05:21.946Z"
   },
   {
    "duration": 6,
    "start_time": "2022-04-21T13:05:21.954Z"
   },
   {
    "duration": 8,
    "start_time": "2022-04-21T13:05:21.993Z"
   },
   {
    "duration": 14,
    "start_time": "2022-04-21T13:05:22.003Z"
   },
   {
    "duration": 6,
    "start_time": "2022-04-21T13:05:22.020Z"
   },
   {
    "duration": 6,
    "start_time": "2022-04-21T13:05:22.028Z"
   },
   {
    "duration": 10,
    "start_time": "2022-04-21T13:05:22.036Z"
   },
   {
    "duration": 46,
    "start_time": "2022-04-21T13:05:22.048Z"
   },
   {
    "duration": 7,
    "start_time": "2022-04-21T13:05:22.096Z"
   },
   {
    "duration": 6,
    "start_time": "2022-04-21T13:05:22.105Z"
   },
   {
    "duration": 8,
    "start_time": "2022-04-21T13:05:22.114Z"
   },
   {
    "duration": 14,
    "start_time": "2022-04-21T13:05:22.123Z"
   },
   {
    "duration": 195,
    "start_time": "2022-04-21T13:05:22.139Z"
   },
   {
    "duration": 350,
    "start_time": "2022-04-21T13:05:22.336Z"
   },
   {
    "duration": 172,
    "start_time": "2022-04-21T13:05:22.688Z"
   },
   {
    "duration": 8,
    "start_time": "2022-04-21T13:05:22.862Z"
   },
   {
    "duration": 6,
    "start_time": "2022-04-21T13:05:22.872Z"
   },
   {
    "duration": 201,
    "start_time": "2022-04-21T13:05:22.893Z"
   },
   {
    "duration": 5,
    "start_time": "2022-04-21T13:05:23.096Z"
   },
   {
    "duration": 12,
    "start_time": "2022-04-21T13:05:23.103Z"
   },
   {
    "duration": 9,
    "start_time": "2022-04-21T13:05:23.117Z"
   },
   {
    "duration": 75,
    "start_time": "2022-04-21T13:06:57.341Z"
   },
   {
    "duration": 15,
    "start_time": "2022-04-21T13:06:57.419Z"
   },
   {
    "duration": 11,
    "start_time": "2022-04-21T13:06:57.436Z"
   },
   {
    "duration": 4,
    "start_time": "2022-04-21T13:06:57.449Z"
   },
   {
    "duration": 5,
    "start_time": "2022-04-21T13:06:57.455Z"
   },
   {
    "duration": 36,
    "start_time": "2022-04-21T13:06:57.462Z"
   },
   {
    "duration": 17,
    "start_time": "2022-04-21T13:06:57.500Z"
   },
   {
    "duration": 6,
    "start_time": "2022-04-21T13:06:57.519Z"
   },
   {
    "duration": 7,
    "start_time": "2022-04-21T13:06:57.527Z"
   },
   {
    "duration": 11,
    "start_time": "2022-04-21T13:06:57.536Z"
   },
   {
    "duration": 45,
    "start_time": "2022-04-21T13:06:57.549Z"
   },
   {
    "duration": 7,
    "start_time": "2022-04-21T13:06:57.596Z"
   },
   {
    "duration": 6,
    "start_time": "2022-04-21T13:06:57.606Z"
   },
   {
    "duration": 11,
    "start_time": "2022-04-21T13:06:57.613Z"
   },
   {
    "duration": 11,
    "start_time": "2022-04-21T13:06:57.626Z"
   },
   {
    "duration": 190,
    "start_time": "2022-04-21T13:06:57.638Z"
   },
   {
    "duration": 186,
    "start_time": "2022-04-21T13:06:57.829Z"
   },
   {
    "duration": 162,
    "start_time": "2022-04-21T13:06:58.016Z"
   },
   {
    "duration": 17,
    "start_time": "2022-04-21T13:06:58.180Z"
   },
   {
    "duration": 6,
    "start_time": "2022-04-21T13:06:58.198Z"
   },
   {
    "duration": 209,
    "start_time": "2022-04-21T13:06:58.206Z"
   },
   {
    "duration": 8,
    "start_time": "2022-04-21T13:06:58.417Z"
   },
   {
    "duration": 8,
    "start_time": "2022-04-21T13:06:58.427Z"
   },
   {
    "duration": 8,
    "start_time": "2022-04-21T13:06:58.438Z"
   },
   {
    "duration": 70,
    "start_time": "2022-04-21T13:10:44.226Z"
   },
   {
    "duration": 16,
    "start_time": "2022-04-21T13:10:44.298Z"
   },
   {
    "duration": 11,
    "start_time": "2022-04-21T13:10:44.315Z"
   },
   {
    "duration": 6,
    "start_time": "2022-04-21T13:10:44.328Z"
   },
   {
    "duration": 4,
    "start_time": "2022-04-21T13:10:44.342Z"
   },
   {
    "duration": 17,
    "start_time": "2022-04-21T13:10:44.348Z"
   },
   {
    "duration": 31,
    "start_time": "2022-04-21T13:10:44.367Z"
   },
   {
    "duration": 10,
    "start_time": "2022-04-21T13:10:44.400Z"
   },
   {
    "duration": 6,
    "start_time": "2022-04-21T13:10:44.413Z"
   },
   {
    "duration": 8,
    "start_time": "2022-04-21T13:10:44.421Z"
   },
   {
    "duration": 13,
    "start_time": "2022-04-21T13:10:44.431Z"
   },
   {
    "duration": 47,
    "start_time": "2022-04-21T13:10:44.446Z"
   },
   {
    "duration": 7,
    "start_time": "2022-04-21T13:10:44.495Z"
   },
   {
    "duration": 7,
    "start_time": "2022-04-21T13:10:44.506Z"
   },
   {
    "duration": 10,
    "start_time": "2022-04-21T13:10:44.515Z"
   },
   {
    "duration": 197,
    "start_time": "2022-04-21T13:10:44.527Z"
   },
   {
    "duration": 184,
    "start_time": "2022-04-21T13:10:44.726Z"
   },
   {
    "duration": 173,
    "start_time": "2022-04-21T13:10:44.911Z"
   },
   {
    "duration": 11,
    "start_time": "2022-04-21T13:10:45.086Z"
   },
   {
    "duration": 15,
    "start_time": "2022-04-21T13:10:45.099Z"
   },
   {
    "duration": 2197,
    "start_time": "2022-04-21T13:10:45.115Z"
   },
   {
    "duration": 0,
    "start_time": "2022-04-21T13:10:47.314Z"
   },
   {
    "duration": 0,
    "start_time": "2022-04-21T13:10:47.315Z"
   },
   {
    "duration": 0,
    "start_time": "2022-04-21T13:10:47.317Z"
   },
   {
    "duration": 78,
    "start_time": "2022-04-21T13:12:15.374Z"
   },
   {
    "duration": 15,
    "start_time": "2022-04-21T13:12:15.454Z"
   },
   {
    "duration": 27,
    "start_time": "2022-04-21T13:12:15.471Z"
   },
   {
    "duration": 7,
    "start_time": "2022-04-21T13:12:15.500Z"
   },
   {
    "duration": 6,
    "start_time": "2022-04-21T13:12:15.510Z"
   },
   {
    "duration": 8,
    "start_time": "2022-04-21T13:12:15.518Z"
   },
   {
    "duration": 20,
    "start_time": "2022-04-21T13:12:15.528Z"
   },
   {
    "duration": 47,
    "start_time": "2022-04-21T13:12:15.550Z"
   },
   {
    "duration": 9,
    "start_time": "2022-04-21T13:12:15.599Z"
   },
   {
    "duration": 8,
    "start_time": "2022-04-21T13:12:15.610Z"
   },
   {
    "duration": 16,
    "start_time": "2022-04-21T13:12:15.620Z"
   },
   {
    "duration": 9,
    "start_time": "2022-04-21T13:12:15.637Z"
   },
   {
    "duration": 7,
    "start_time": "2022-04-21T13:12:15.648Z"
   },
   {
    "duration": 38,
    "start_time": "2022-04-21T13:12:15.658Z"
   },
   {
    "duration": 9,
    "start_time": "2022-04-21T13:12:15.698Z"
   },
   {
    "duration": 183,
    "start_time": "2022-04-21T13:12:15.709Z"
   },
   {
    "duration": 191,
    "start_time": "2022-04-21T13:12:15.894Z"
   },
   {
    "duration": 180,
    "start_time": "2022-04-21T13:12:16.087Z"
   },
   {
    "duration": 8,
    "start_time": "2022-04-21T13:12:16.268Z"
   },
   {
    "duration": 18,
    "start_time": "2022-04-21T13:12:16.277Z"
   },
   {
    "duration": 1495,
    "start_time": "2022-04-21T13:12:16.297Z"
   },
   {
    "duration": 5,
    "start_time": "2022-04-21T13:12:17.794Z"
   },
   {
    "duration": 11,
    "start_time": "2022-04-21T13:12:17.800Z"
   },
   {
    "duration": 8,
    "start_time": "2022-04-21T13:12:17.812Z"
   },
   {
    "duration": 90,
    "start_time": "2022-04-21T13:13:34.770Z"
   },
   {
    "duration": 37,
    "start_time": "2022-04-21T13:13:34.862Z"
   },
   {
    "duration": 12,
    "start_time": "2022-04-21T13:13:34.902Z"
   },
   {
    "duration": 6,
    "start_time": "2022-04-21T13:13:34.917Z"
   },
   {
    "duration": 8,
    "start_time": "2022-04-21T13:13:34.925Z"
   },
   {
    "duration": 8,
    "start_time": "2022-04-21T13:13:34.935Z"
   },
   {
    "duration": 14,
    "start_time": "2022-04-21T13:13:34.945Z"
   },
   {
    "duration": 5,
    "start_time": "2022-04-21T13:13:34.994Z"
   },
   {
    "duration": 6,
    "start_time": "2022-04-21T13:13:35.001Z"
   },
   {
    "duration": 6,
    "start_time": "2022-04-21T13:13:35.010Z"
   },
   {
    "duration": 13,
    "start_time": "2022-04-21T13:13:35.018Z"
   },
   {
    "duration": 10,
    "start_time": "2022-04-21T13:13:35.033Z"
   },
   {
    "duration": 49,
    "start_time": "2022-04-21T13:13:35.045Z"
   },
   {
    "duration": 8,
    "start_time": "2022-04-21T13:13:35.096Z"
   },
   {
    "duration": 8,
    "start_time": "2022-04-21T13:13:35.106Z"
   },
   {
    "duration": 212,
    "start_time": "2022-04-21T13:13:35.116Z"
   },
   {
    "duration": 230,
    "start_time": "2022-04-21T13:13:35.330Z"
   },
   {
    "duration": 176,
    "start_time": "2022-04-21T13:13:35.561Z"
   },
   {
    "duration": 8,
    "start_time": "2022-04-21T13:13:35.738Z"
   },
   {
    "duration": 8,
    "start_time": "2022-04-21T13:13:35.747Z"
   },
   {
    "duration": 1938,
    "start_time": "2022-04-21T13:13:35.756Z"
   },
   {
    "duration": 6,
    "start_time": "2022-04-21T13:13:37.696Z"
   },
   {
    "duration": 9,
    "start_time": "2022-04-21T13:13:37.704Z"
   },
   {
    "duration": 7,
    "start_time": "2022-04-21T13:13:37.714Z"
   },
   {
    "duration": 77,
    "start_time": "2022-04-21T13:18:34.588Z"
   },
   {
    "duration": 28,
    "start_time": "2022-04-21T13:18:34.667Z"
   },
   {
    "duration": 11,
    "start_time": "2022-04-21T13:18:34.697Z"
   },
   {
    "duration": 8,
    "start_time": "2022-04-21T13:18:34.710Z"
   },
   {
    "duration": 6,
    "start_time": "2022-04-21T13:18:34.719Z"
   },
   {
    "duration": 9,
    "start_time": "2022-04-21T13:18:34.726Z"
   },
   {
    "duration": 14,
    "start_time": "2022-04-21T13:18:34.737Z"
   },
   {
    "duration": 6,
    "start_time": "2022-04-21T13:18:34.793Z"
   },
   {
    "duration": 6,
    "start_time": "2022-04-21T13:18:34.801Z"
   },
   {
    "duration": 6,
    "start_time": "2022-04-21T13:18:34.811Z"
   },
   {
    "duration": 13,
    "start_time": "2022-04-21T13:18:34.819Z"
   },
   {
    "duration": 7,
    "start_time": "2022-04-21T13:18:34.834Z"
   },
   {
    "duration": 51,
    "start_time": "2022-04-21T13:18:34.843Z"
   },
   {
    "duration": 6,
    "start_time": "2022-04-21T13:18:34.896Z"
   },
   {
    "duration": 9,
    "start_time": "2022-04-21T13:18:34.905Z"
   },
   {
    "duration": 196,
    "start_time": "2022-04-21T13:18:34.916Z"
   },
   {
    "duration": 186,
    "start_time": "2022-04-21T13:18:35.114Z"
   },
   {
    "duration": 182,
    "start_time": "2022-04-21T13:18:35.302Z"
   },
   {
    "duration": 11,
    "start_time": "2022-04-21T13:18:35.486Z"
   },
   {
    "duration": 7,
    "start_time": "2022-04-21T13:18:35.499Z"
   },
   {
    "duration": 13,
    "start_time": "2022-04-21T13:18:35.507Z"
   },
   {
    "duration": 0,
    "start_time": "2022-04-21T13:18:35.521Z"
   },
   {
    "duration": 0,
    "start_time": "2022-04-21T13:18:35.523Z"
   },
   {
    "duration": 0,
    "start_time": "2022-04-21T13:18:35.525Z"
   },
   {
    "duration": 85,
    "start_time": "2022-04-21T13:19:40.345Z"
   },
   {
    "duration": 15,
    "start_time": "2022-04-21T13:19:40.432Z"
   },
   {
    "duration": 16,
    "start_time": "2022-04-21T13:19:40.448Z"
   },
   {
    "duration": 5,
    "start_time": "2022-04-21T13:19:40.466Z"
   },
   {
    "duration": 20,
    "start_time": "2022-04-21T13:19:40.473Z"
   },
   {
    "duration": 8,
    "start_time": "2022-04-21T13:19:40.495Z"
   },
   {
    "duration": 16,
    "start_time": "2022-04-21T13:19:40.504Z"
   },
   {
    "duration": 7,
    "start_time": "2022-04-21T13:19:40.522Z"
   },
   {
    "duration": 11,
    "start_time": "2022-04-21T13:19:40.531Z"
   },
   {
    "duration": 10,
    "start_time": "2022-04-21T13:19:40.545Z"
   },
   {
    "duration": 45,
    "start_time": "2022-04-21T13:19:40.556Z"
   },
   {
    "duration": 7,
    "start_time": "2022-04-21T13:19:40.604Z"
   },
   {
    "duration": 8,
    "start_time": "2022-04-21T13:19:40.613Z"
   },
   {
    "duration": 9,
    "start_time": "2022-04-21T13:19:40.622Z"
   },
   {
    "duration": 13,
    "start_time": "2022-04-21T13:19:40.632Z"
   },
   {
    "duration": 201,
    "start_time": "2022-04-21T13:19:40.646Z"
   },
   {
    "duration": 193,
    "start_time": "2022-04-21T13:19:40.849Z"
   },
   {
    "duration": 178,
    "start_time": "2022-04-21T13:19:41.044Z"
   },
   {
    "duration": 8,
    "start_time": "2022-04-21T13:19:41.223Z"
   },
   {
    "duration": 10,
    "start_time": "2022-04-21T13:19:41.233Z"
   },
   {
    "duration": 13,
    "start_time": "2022-04-21T13:19:41.245Z"
   },
   {
    "duration": 0,
    "start_time": "2022-04-21T13:19:41.260Z"
   },
   {
    "duration": 0,
    "start_time": "2022-04-21T13:19:41.261Z"
   },
   {
    "duration": 0,
    "start_time": "2022-04-21T13:19:41.262Z"
   },
   {
    "duration": 78,
    "start_time": "2022-04-21T13:19:57.355Z"
   },
   {
    "duration": 16,
    "start_time": "2022-04-21T13:19:57.435Z"
   },
   {
    "duration": 11,
    "start_time": "2022-04-21T13:19:57.453Z"
   },
   {
    "duration": 10,
    "start_time": "2022-04-21T13:19:57.465Z"
   },
   {
    "duration": 5,
    "start_time": "2022-04-21T13:19:57.494Z"
   },
   {
    "duration": 12,
    "start_time": "2022-04-21T13:19:57.500Z"
   },
   {
    "duration": 13,
    "start_time": "2022-04-21T13:19:57.514Z"
   },
   {
    "duration": 5,
    "start_time": "2022-04-21T13:19:57.528Z"
   },
   {
    "duration": 5,
    "start_time": "2022-04-21T13:19:57.535Z"
   },
   {
    "duration": 8,
    "start_time": "2022-04-21T13:19:57.541Z"
   },
   {
    "duration": 47,
    "start_time": "2022-04-21T13:19:57.550Z"
   },
   {
    "duration": 10,
    "start_time": "2022-04-21T13:19:57.599Z"
   },
   {
    "duration": 9,
    "start_time": "2022-04-21T13:19:57.611Z"
   },
   {
    "duration": 7,
    "start_time": "2022-04-21T13:19:57.623Z"
   },
   {
    "duration": 18,
    "start_time": "2022-04-21T13:19:57.631Z"
   },
   {
    "duration": 182,
    "start_time": "2022-04-21T13:19:57.651Z"
   },
   {
    "duration": 186,
    "start_time": "2022-04-21T13:19:57.835Z"
   },
   {
    "duration": 173,
    "start_time": "2022-04-21T13:19:58.022Z"
   },
   {
    "duration": 7,
    "start_time": "2022-04-21T13:19:58.197Z"
   },
   {
    "duration": 8,
    "start_time": "2022-04-21T13:19:58.206Z"
   },
   {
    "duration": 6425,
    "start_time": "2022-04-21T13:19:58.216Z"
   },
   {
    "duration": 6,
    "start_time": "2022-04-21T13:20:04.643Z"
   },
   {
    "duration": 8,
    "start_time": "2022-04-21T13:20:04.651Z"
   },
   {
    "duration": 14,
    "start_time": "2022-04-21T13:20:04.661Z"
   },
   {
    "duration": 18,
    "start_time": "2022-04-21T13:23:52.665Z"
   },
   {
    "duration": 7,
    "start_time": "2022-04-21T13:32:46.152Z"
   },
   {
    "duration": 121,
    "start_time": "2022-04-21T13:33:41.922Z"
   },
   {
    "duration": 6,
    "start_time": "2022-04-21T13:33:46.472Z"
   },
   {
    "duration": 1780,
    "start_time": "2022-04-21T13:42:40.793Z"
   },
   {
    "duration": 14,
    "start_time": "2022-04-21T13:42:51.957Z"
   },
   {
    "duration": 78,
    "start_time": "2022-04-21T13:43:52.028Z"
   },
   {
    "duration": 15,
    "start_time": "2022-04-21T13:43:52.108Z"
   },
   {
    "duration": 18,
    "start_time": "2022-04-21T13:43:52.125Z"
   },
   {
    "duration": 11,
    "start_time": "2022-04-21T13:43:52.146Z"
   },
   {
    "duration": 29,
    "start_time": "2022-04-21T13:43:52.158Z"
   },
   {
    "duration": 24,
    "start_time": "2022-04-21T13:43:52.189Z"
   },
   {
    "duration": 24,
    "start_time": "2022-04-21T13:43:52.214Z"
   },
   {
    "duration": 6,
    "start_time": "2022-04-21T13:43:52.240Z"
   },
   {
    "duration": 23,
    "start_time": "2022-04-21T13:43:52.247Z"
   },
   {
    "duration": 10,
    "start_time": "2022-04-21T13:43:52.273Z"
   },
   {
    "duration": 21,
    "start_time": "2022-04-21T13:43:52.285Z"
   },
   {
    "duration": 25,
    "start_time": "2022-04-21T13:43:52.307Z"
   },
   {
    "duration": 14,
    "start_time": "2022-04-21T13:43:52.334Z"
   },
   {
    "duration": 28,
    "start_time": "2022-04-21T13:43:52.350Z"
   },
   {
    "duration": 15,
    "start_time": "2022-04-21T13:43:52.379Z"
   },
   {
    "duration": 167,
    "start_time": "2022-04-21T13:43:52.396Z"
   },
   {
    "duration": 177,
    "start_time": "2022-04-21T13:43:52.565Z"
   },
   {
    "duration": 163,
    "start_time": "2022-04-21T13:43:52.744Z"
   },
   {
    "duration": 7,
    "start_time": "2022-04-21T13:43:52.909Z"
   },
   {
    "duration": 30,
    "start_time": "2022-04-21T13:43:52.918Z"
   },
   {
    "duration": 6314,
    "start_time": "2022-04-21T13:43:52.950Z"
   },
   {
    "duration": 16,
    "start_time": "2022-04-21T13:43:59.266Z"
   },
   {
    "duration": 6,
    "start_time": "2022-04-21T13:43:59.293Z"
   },
   {
    "duration": 7,
    "start_time": "2022-04-21T13:43:59.300Z"
   },
   {
    "duration": 14,
    "start_time": "2022-04-21T13:43:59.309Z"
   },
   {
    "duration": 5,
    "start_time": "2022-04-21T13:43:59.325Z"
   },
   {
    "duration": 23,
    "start_time": "2022-04-21T13:43:59.331Z"
   },
   {
    "duration": 12,
    "start_time": "2022-04-21T13:45:52.781Z"
   },
   {
    "duration": 124,
    "start_time": "2022-04-21T13:46:09.456Z"
   },
   {
    "duration": 9,
    "start_time": "2022-04-21T13:46:28.596Z"
   },
   {
    "duration": 79,
    "start_time": "2022-04-21T13:48:46.176Z"
   },
   {
    "duration": 17,
    "start_time": "2022-04-21T13:48:46.258Z"
   },
   {
    "duration": 20,
    "start_time": "2022-04-21T13:48:46.278Z"
   },
   {
    "duration": 6,
    "start_time": "2022-04-21T13:48:46.301Z"
   },
   {
    "duration": 6,
    "start_time": "2022-04-21T13:48:46.310Z"
   },
   {
    "duration": 8,
    "start_time": "2022-04-21T13:48:46.318Z"
   },
   {
    "duration": 13,
    "start_time": "2022-04-21T13:48:46.327Z"
   },
   {
    "duration": 12,
    "start_time": "2022-04-21T13:48:46.342Z"
   },
   {
    "duration": 38,
    "start_time": "2022-04-21T13:48:46.356Z"
   },
   {
    "duration": 7,
    "start_time": "2022-04-21T13:48:46.396Z"
   },
   {
    "duration": 18,
    "start_time": "2022-04-21T13:48:46.405Z"
   },
   {
    "duration": 50,
    "start_time": "2022-04-21T13:48:46.424Z"
   },
   {
    "duration": 10,
    "start_time": "2022-04-21T13:48:46.475Z"
   },
   {
    "duration": 11,
    "start_time": "2022-04-21T13:48:46.488Z"
   },
   {
    "duration": 11,
    "start_time": "2022-04-21T13:48:46.500Z"
   },
   {
    "duration": 164,
    "start_time": "2022-04-21T13:48:46.512Z"
   },
   {
    "duration": 368,
    "start_time": "2022-04-21T13:48:46.678Z"
   },
   {
    "duration": 160,
    "start_time": "2022-04-21T13:48:47.048Z"
   },
   {
    "duration": 7,
    "start_time": "2022-04-21T13:48:47.209Z"
   },
   {
    "duration": 10,
    "start_time": "2022-04-21T13:48:47.218Z"
   },
   {
    "duration": 6081,
    "start_time": "2022-04-21T13:48:47.230Z"
   },
   {
    "duration": 15,
    "start_time": "2022-04-21T13:48:53.313Z"
   },
   {
    "duration": 6,
    "start_time": "2022-04-21T13:48:53.329Z"
   },
   {
    "duration": 5,
    "start_time": "2022-04-21T13:48:53.337Z"
   },
   {
    "duration": 11,
    "start_time": "2022-04-21T13:48:53.344Z"
   },
   {
    "duration": 36,
    "start_time": "2022-04-21T13:48:53.356Z"
   },
   {
    "duration": 6,
    "start_time": "2022-04-21T13:48:53.394Z"
   },
   {
    "duration": 5,
    "start_time": "2022-04-21T13:51:45.307Z"
   },
   {
    "duration": 15,
    "start_time": "2022-04-21T13:55:26.344Z"
   },
   {
    "duration": 17,
    "start_time": "2022-04-21T13:55:49.570Z"
   },
   {
    "duration": 16,
    "start_time": "2022-04-21T13:56:08.343Z"
   },
   {
    "duration": 7,
    "start_time": "2022-04-21T14:20:59.073Z"
   },
   {
    "duration": 6,
    "start_time": "2022-04-21T14:22:55.189Z"
   },
   {
    "duration": 13,
    "start_time": "2022-04-21T14:24:19.121Z"
   },
   {
    "duration": 9,
    "start_time": "2022-04-21T14:32:23.306Z"
   },
   {
    "duration": 18,
    "start_time": "2022-04-21T14:32:44.372Z"
   },
   {
    "duration": 89,
    "start_time": "2022-04-21T14:34:55.086Z"
   },
   {
    "duration": 28,
    "start_time": "2022-04-21T14:34:55.177Z"
   },
   {
    "duration": 13,
    "start_time": "2022-04-21T14:34:55.208Z"
   },
   {
    "duration": 6,
    "start_time": "2022-04-21T14:34:55.223Z"
   },
   {
    "duration": 7,
    "start_time": "2022-04-21T14:34:55.231Z"
   },
   {
    "duration": 8,
    "start_time": "2022-04-21T14:34:55.240Z"
   },
   {
    "duration": 61,
    "start_time": "2022-04-21T14:34:55.250Z"
   },
   {
    "duration": 8,
    "start_time": "2022-04-21T14:34:55.313Z"
   },
   {
    "duration": 7,
    "start_time": "2022-04-21T14:34:55.323Z"
   },
   {
    "duration": 8,
    "start_time": "2022-04-21T14:34:55.332Z"
   },
   {
    "duration": 14,
    "start_time": "2022-04-21T14:34:55.342Z"
   },
   {
    "duration": 8,
    "start_time": "2022-04-21T14:34:55.393Z"
   },
   {
    "duration": 12,
    "start_time": "2022-04-21T14:34:55.404Z"
   },
   {
    "duration": 6,
    "start_time": "2022-04-21T14:34:55.420Z"
   },
   {
    "duration": 9,
    "start_time": "2022-04-21T14:34:55.429Z"
   },
   {
    "duration": 209,
    "start_time": "2022-04-21T14:34:55.440Z"
   },
   {
    "duration": 210,
    "start_time": "2022-04-21T14:34:55.651Z"
   },
   {
    "duration": 191,
    "start_time": "2022-04-21T14:34:55.864Z"
   },
   {
    "duration": 9,
    "start_time": "2022-04-21T14:34:56.057Z"
   },
   {
    "duration": 6,
    "start_time": "2022-04-21T14:34:56.068Z"
   },
   {
    "duration": 19,
    "start_time": "2022-04-21T14:34:56.094Z"
   },
   {
    "duration": 0,
    "start_time": "2022-04-21T14:34:56.115Z"
   },
   {
    "duration": 0,
    "start_time": "2022-04-21T14:34:56.117Z"
   },
   {
    "duration": 0,
    "start_time": "2022-04-21T14:34:56.119Z"
   },
   {
    "duration": 0,
    "start_time": "2022-04-21T14:34:56.120Z"
   },
   {
    "duration": 0,
    "start_time": "2022-04-21T14:34:56.122Z"
   },
   {
    "duration": 0,
    "start_time": "2022-04-21T14:34:56.123Z"
   },
   {
    "duration": 0,
    "start_time": "2022-04-21T14:34:56.125Z"
   },
   {
    "duration": 0,
    "start_time": "2022-04-21T14:34:56.126Z"
   },
   {
    "duration": 0,
    "start_time": "2022-04-21T14:34:56.128Z"
   },
   {
    "duration": 0,
    "start_time": "2022-04-21T14:34:56.129Z"
   },
   {
    "duration": 0,
    "start_time": "2022-04-21T14:34:56.131Z"
   },
   {
    "duration": 87,
    "start_time": "2022-04-21T14:35:59.387Z"
   },
   {
    "duration": 21,
    "start_time": "2022-04-21T14:35:59.476Z"
   },
   {
    "duration": 15,
    "start_time": "2022-04-21T14:35:59.499Z"
   },
   {
    "duration": 5,
    "start_time": "2022-04-21T14:35:59.517Z"
   },
   {
    "duration": 9,
    "start_time": "2022-04-21T14:35:59.524Z"
   },
   {
    "duration": 12,
    "start_time": "2022-04-21T14:35:59.535Z"
   },
   {
    "duration": 20,
    "start_time": "2022-04-21T14:35:59.549Z"
   },
   {
    "duration": 6,
    "start_time": "2022-04-21T14:35:59.594Z"
   },
   {
    "duration": 11,
    "start_time": "2022-04-21T14:35:59.602Z"
   },
   {
    "duration": 7,
    "start_time": "2022-04-21T14:35:59.616Z"
   },
   {
    "duration": 13,
    "start_time": "2022-04-21T14:35:59.624Z"
   },
   {
    "duration": 15,
    "start_time": "2022-04-21T14:35:59.638Z"
   },
   {
    "duration": 12,
    "start_time": "2022-04-21T14:35:59.655Z"
   },
   {
    "duration": 6,
    "start_time": "2022-04-21T14:35:59.692Z"
   },
   {
    "duration": 19,
    "start_time": "2022-04-21T14:35:59.700Z"
   },
   {
    "duration": 198,
    "start_time": "2022-04-21T14:35:59.721Z"
   },
   {
    "duration": 205,
    "start_time": "2022-04-21T14:35:59.921Z"
   },
   {
    "duration": 181,
    "start_time": "2022-04-21T14:36:00.128Z"
   },
   {
    "duration": 10,
    "start_time": "2022-04-21T14:36:00.312Z"
   },
   {
    "duration": 15,
    "start_time": "2022-04-21T14:36:00.324Z"
   },
   {
    "duration": 28,
    "start_time": "2022-04-21T14:36:00.341Z"
   },
   {
    "duration": 1,
    "start_time": "2022-04-21T14:36:00.370Z"
   },
   {
    "duration": 0,
    "start_time": "2022-04-21T14:36:00.372Z"
   },
   {
    "duration": 0,
    "start_time": "2022-04-21T14:36:00.373Z"
   },
   {
    "duration": 0,
    "start_time": "2022-04-21T14:36:00.374Z"
   },
   {
    "duration": 0,
    "start_time": "2022-04-21T14:36:00.375Z"
   },
   {
    "duration": 0,
    "start_time": "2022-04-21T14:36:00.376Z"
   },
   {
    "duration": 0,
    "start_time": "2022-04-21T14:36:00.377Z"
   },
   {
    "duration": 0,
    "start_time": "2022-04-21T14:36:00.378Z"
   },
   {
    "duration": 0,
    "start_time": "2022-04-21T14:36:00.379Z"
   },
   {
    "duration": 0,
    "start_time": "2022-04-21T14:36:00.394Z"
   },
   {
    "duration": 0,
    "start_time": "2022-04-21T14:36:00.395Z"
   },
   {
    "duration": 81,
    "start_time": "2022-04-21T14:38:17.307Z"
   },
   {
    "duration": 17,
    "start_time": "2022-04-21T14:38:17.390Z"
   },
   {
    "duration": 15,
    "start_time": "2022-04-21T14:38:17.410Z"
   },
   {
    "duration": 5,
    "start_time": "2022-04-21T14:38:17.426Z"
   },
   {
    "duration": 5,
    "start_time": "2022-04-21T14:38:17.434Z"
   },
   {
    "duration": 9,
    "start_time": "2022-04-21T14:38:17.441Z"
   },
   {
    "duration": 54,
    "start_time": "2022-04-21T14:38:17.452Z"
   },
   {
    "duration": 6,
    "start_time": "2022-04-21T14:38:17.509Z"
   },
   {
    "duration": 7,
    "start_time": "2022-04-21T14:38:17.517Z"
   },
   {
    "duration": 7,
    "start_time": "2022-04-21T14:38:17.526Z"
   },
   {
    "duration": 13,
    "start_time": "2022-04-21T14:38:17.535Z"
   },
   {
    "duration": 44,
    "start_time": "2022-04-21T14:38:17.550Z"
   },
   {
    "duration": 15,
    "start_time": "2022-04-21T14:38:17.597Z"
   },
   {
    "duration": 5,
    "start_time": "2022-04-21T14:38:17.616Z"
   },
   {
    "duration": 10,
    "start_time": "2022-04-21T14:38:17.623Z"
   },
   {
    "duration": 198,
    "start_time": "2022-04-21T14:38:17.635Z"
   },
   {
    "duration": 210,
    "start_time": "2022-04-21T14:38:17.835Z"
   },
   {
    "duration": 188,
    "start_time": "2022-04-21T14:38:18.047Z"
   },
   {
    "duration": 7,
    "start_time": "2022-04-21T14:38:18.236Z"
   },
   {
    "duration": 5,
    "start_time": "2022-04-21T14:38:18.245Z"
   },
   {
    "duration": 1575,
    "start_time": "2022-04-21T14:38:18.252Z"
   },
   {
    "duration": 16,
    "start_time": "2022-04-21T14:38:19.829Z"
   },
   {
    "duration": 6,
    "start_time": "2022-04-21T14:38:19.846Z"
   },
   {
    "duration": 7,
    "start_time": "2022-04-21T14:38:19.854Z"
   },
   {
    "duration": 34,
    "start_time": "2022-04-21T14:38:19.862Z"
   },
   {
    "duration": 17,
    "start_time": "2022-04-21T14:38:19.897Z"
   },
   {
    "duration": 6,
    "start_time": "2022-04-21T14:38:19.916Z"
   },
   {
    "duration": 21,
    "start_time": "2022-04-21T14:38:19.924Z"
   },
   {
    "duration": 6,
    "start_time": "2022-04-21T14:38:19.946Z"
   },
   {
    "duration": 56,
    "start_time": "2022-04-21T14:38:19.953Z"
   },
   {
    "duration": 13,
    "start_time": "2022-04-21T14:38:20.011Z"
   },
   {
    "duration": 19,
    "start_time": "2022-04-21T14:38:20.026Z"
   },
   {
    "duration": 83,
    "start_time": "2022-04-21T14:39:11.078Z"
   },
   {
    "duration": 39,
    "start_time": "2022-04-21T14:39:11.163Z"
   },
   {
    "duration": 11,
    "start_time": "2022-04-21T14:39:11.204Z"
   },
   {
    "duration": 22,
    "start_time": "2022-04-21T14:39:11.217Z"
   },
   {
    "duration": 5,
    "start_time": "2022-04-21T14:39:11.240Z"
   },
   {
    "duration": 7,
    "start_time": "2022-04-21T14:39:11.247Z"
   },
   {
    "duration": 13,
    "start_time": "2022-04-21T14:39:11.255Z"
   },
   {
    "duration": 25,
    "start_time": "2022-04-21T14:39:11.269Z"
   },
   {
    "duration": 8,
    "start_time": "2022-04-21T14:39:11.296Z"
   },
   {
    "duration": 14,
    "start_time": "2022-04-21T14:39:11.308Z"
   },
   {
    "duration": 23,
    "start_time": "2022-04-21T14:39:11.324Z"
   },
   {
    "duration": 9,
    "start_time": "2022-04-21T14:39:11.348Z"
   },
   {
    "duration": 7,
    "start_time": "2022-04-21T14:39:11.358Z"
   },
   {
    "duration": 12,
    "start_time": "2022-04-21T14:39:11.367Z"
   },
   {
    "duration": 12,
    "start_time": "2022-04-21T14:39:11.393Z"
   },
   {
    "duration": 174,
    "start_time": "2022-04-21T14:39:11.407Z"
   },
   {
    "duration": 191,
    "start_time": "2022-04-21T14:39:11.583Z"
   },
   {
    "duration": 182,
    "start_time": "2022-04-21T14:39:11.776Z"
   },
   {
    "duration": 7,
    "start_time": "2022-04-21T14:39:11.960Z"
   },
   {
    "duration": 5,
    "start_time": "2022-04-21T14:39:11.969Z"
   },
   {
    "duration": 6783,
    "start_time": "2022-04-21T14:39:11.976Z"
   },
   {
    "duration": 18,
    "start_time": "2022-04-21T14:39:18.761Z"
   },
   {
    "duration": 9,
    "start_time": "2022-04-21T14:39:18.793Z"
   },
   {
    "duration": 15,
    "start_time": "2022-04-21T14:39:18.805Z"
   },
   {
    "duration": 16,
    "start_time": "2022-04-21T14:39:18.823Z"
   },
   {
    "duration": 17,
    "start_time": "2022-04-21T14:39:18.842Z"
   },
   {
    "duration": 36,
    "start_time": "2022-04-21T14:39:18.861Z"
   },
   {
    "duration": 23,
    "start_time": "2022-04-21T14:39:18.901Z"
   },
   {
    "duration": 8,
    "start_time": "2022-04-21T14:39:18.926Z"
   },
   {
    "duration": 17,
    "start_time": "2022-04-21T14:39:18.936Z"
   },
   {
    "duration": 53,
    "start_time": "2022-04-21T14:39:18.955Z"
   },
   {
    "duration": 36,
    "start_time": "2022-04-21T14:39:19.010Z"
   },
   {
    "duration": 26,
    "start_time": "2022-04-21T14:40:24.565Z"
   },
   {
    "duration": 6,
    "start_time": "2022-04-21T14:41:48.005Z"
   },
   {
    "duration": 165,
    "start_time": "2022-04-21T14:43:53.212Z"
   },
   {
    "duration": 93,
    "start_time": "2022-04-21T14:44:06.962Z"
   },
   {
    "duration": 16,
    "start_time": "2022-04-21T14:44:07.057Z"
   },
   {
    "duration": 22,
    "start_time": "2022-04-21T14:44:07.075Z"
   },
   {
    "duration": 5,
    "start_time": "2022-04-21T14:44:07.100Z"
   },
   {
    "duration": 10,
    "start_time": "2022-04-21T14:44:07.107Z"
   },
   {
    "duration": 13,
    "start_time": "2022-04-21T14:44:07.119Z"
   },
   {
    "duration": 15,
    "start_time": "2022-04-21T14:44:07.134Z"
   },
   {
    "duration": 6,
    "start_time": "2022-04-21T14:44:07.151Z"
   },
   {
    "duration": 35,
    "start_time": "2022-04-21T14:44:07.159Z"
   },
   {
    "duration": 7,
    "start_time": "2022-04-21T14:44:07.197Z"
   },
   {
    "duration": 30,
    "start_time": "2022-04-21T14:44:07.207Z"
   },
   {
    "duration": 7,
    "start_time": "2022-04-21T14:44:07.239Z"
   },
   {
    "duration": 5,
    "start_time": "2022-04-21T14:44:07.248Z"
   },
   {
    "duration": 13,
    "start_time": "2022-04-21T14:44:07.254Z"
   },
   {
    "duration": 10,
    "start_time": "2022-04-21T14:44:07.269Z"
   },
   {
    "duration": 185,
    "start_time": "2022-04-21T14:44:07.293Z"
   },
   {
    "duration": 195,
    "start_time": "2022-04-21T14:44:07.480Z"
   },
   {
    "duration": 180,
    "start_time": "2022-04-21T14:44:07.677Z"
   },
   {
    "duration": 7,
    "start_time": "2022-04-21T14:44:07.859Z"
   },
   {
    "duration": 6,
    "start_time": "2022-04-21T14:44:07.868Z"
   },
   {
    "duration": 6812,
    "start_time": "2022-04-21T14:44:07.893Z"
   },
   {
    "duration": 15,
    "start_time": "2022-04-21T14:44:14.708Z"
   },
   {
    "duration": 7,
    "start_time": "2022-04-21T14:44:14.724Z"
   },
   {
    "duration": 5,
    "start_time": "2022-04-21T14:44:14.732Z"
   },
   {
    "duration": 8,
    "start_time": "2022-04-21T14:44:14.739Z"
   },
   {
    "duration": 48,
    "start_time": "2022-04-21T14:44:14.749Z"
   },
   {
    "duration": 6,
    "start_time": "2022-04-21T14:44:14.799Z"
   },
   {
    "duration": 17,
    "start_time": "2022-04-21T14:44:14.809Z"
   },
   {
    "duration": 7,
    "start_time": "2022-04-21T14:44:14.827Z"
   },
   {
    "duration": 16,
    "start_time": "2022-04-21T14:44:14.836Z"
   },
   {
    "duration": 57,
    "start_time": "2022-04-21T14:44:14.853Z"
   },
   {
    "duration": 17,
    "start_time": "2022-04-21T14:44:14.912Z"
   },
   {
    "duration": 17,
    "start_time": "2022-04-21T14:44:14.931Z"
   },
   {
    "duration": 7,
    "start_time": "2022-04-21T14:44:14.950Z"
   },
   {
    "duration": 212,
    "start_time": "2022-04-21T14:44:14.959Z"
   },
   {
    "duration": 179,
    "start_time": "2022-04-21T14:45:07.124Z"
   },
   {
    "duration": 170,
    "start_time": "2022-04-21T14:45:11.177Z"
   },
   {
    "duration": 192,
    "start_time": "2022-04-21T14:45:44.147Z"
   },
   {
    "duration": 22502,
    "start_time": "2022-04-21T14:46:12.949Z"
   },
   {
    "duration": 499,
    "start_time": "2022-04-21T14:46:40.848Z"
   },
   {
    "duration": 16,
    "start_time": "2022-04-21T14:46:41.349Z"
   },
   {
    "duration": 10,
    "start_time": "2022-04-21T14:46:41.367Z"
   },
   {
    "duration": 6,
    "start_time": "2022-04-21T14:46:41.393Z"
   },
   {
    "duration": 8,
    "start_time": "2022-04-21T14:46:41.402Z"
   },
   {
    "duration": 10,
    "start_time": "2022-04-21T14:46:41.413Z"
   },
   {
    "duration": 20,
    "start_time": "2022-04-21T14:46:41.425Z"
   },
   {
    "duration": 7,
    "start_time": "2022-04-21T14:46:41.446Z"
   },
   {
    "duration": 39,
    "start_time": "2022-04-21T14:46:41.455Z"
   },
   {
    "duration": 15,
    "start_time": "2022-04-21T14:46:41.497Z"
   },
   {
    "duration": 18,
    "start_time": "2022-04-21T14:46:41.514Z"
   },
   {
    "duration": 6,
    "start_time": "2022-04-21T14:46:41.534Z"
   },
   {
    "duration": 5,
    "start_time": "2022-04-21T14:46:41.543Z"
   },
   {
    "duration": 45,
    "start_time": "2022-04-21T14:46:41.551Z"
   },
   {
    "duration": 12,
    "start_time": "2022-04-21T14:46:41.599Z"
   },
   {
    "duration": 1026,
    "start_time": "2022-04-21T14:46:41.613Z"
   },
   {
    "duration": 209,
    "start_time": "2022-04-21T14:46:42.641Z"
   },
   {
    "duration": 170,
    "start_time": "2022-04-21T14:46:42.852Z"
   },
   {
    "duration": 8,
    "start_time": "2022-04-21T14:46:43.024Z"
   },
   {
    "duration": 6,
    "start_time": "2022-04-21T14:46:43.034Z"
   },
   {
    "duration": 7226,
    "start_time": "2022-04-21T14:46:43.041Z"
   },
   {
    "duration": 35,
    "start_time": "2022-04-21T14:46:50.270Z"
   },
   {
    "duration": 15,
    "start_time": "2022-04-21T14:46:50.307Z"
   },
   {
    "duration": 5,
    "start_time": "2022-04-21T14:46:50.324Z"
   },
   {
    "duration": 11,
    "start_time": "2022-04-21T14:46:50.331Z"
   },
   {
    "duration": 17,
    "start_time": "2022-04-21T14:46:50.343Z"
   },
   {
    "duration": 31,
    "start_time": "2022-04-21T14:46:50.362Z"
   },
   {
    "duration": 18,
    "start_time": "2022-04-21T14:46:50.395Z"
   },
   {
    "duration": 19,
    "start_time": "2022-04-21T14:46:50.416Z"
   },
   {
    "duration": 15,
    "start_time": "2022-04-21T14:46:50.437Z"
   },
   {
    "duration": 14,
    "start_time": "2022-04-21T14:46:50.453Z"
   },
   {
    "duration": 49,
    "start_time": "2022-04-21T14:46:50.469Z"
   },
   {
    "duration": 20,
    "start_time": "2022-04-21T14:46:50.521Z"
   },
   {
    "duration": 8,
    "start_time": "2022-04-21T14:46:50.543Z"
   },
   {
    "duration": 286,
    "start_time": "2022-04-21T14:46:50.553Z"
   },
   {
    "duration": 70,
    "start_time": "2022-04-21T14:47:36.641Z"
   },
   {
    "duration": 24,
    "start_time": "2022-04-21T14:47:36.713Z"
   },
   {
    "duration": 16,
    "start_time": "2022-04-21T14:47:36.739Z"
   },
   {
    "duration": 4,
    "start_time": "2022-04-21T14:47:36.757Z"
   },
   {
    "duration": 36,
    "start_time": "2022-04-21T14:47:36.764Z"
   },
   {
    "duration": 10,
    "start_time": "2022-04-21T14:47:36.809Z"
   },
   {
    "duration": 19,
    "start_time": "2022-04-21T14:47:36.821Z"
   },
   {
    "duration": 10,
    "start_time": "2022-04-21T14:47:36.842Z"
   },
   {
    "duration": 8,
    "start_time": "2022-04-21T14:47:36.854Z"
   },
   {
    "duration": 13,
    "start_time": "2022-04-21T14:47:36.863Z"
   },
   {
    "duration": 31,
    "start_time": "2022-04-21T14:47:36.878Z"
   },
   {
    "duration": 13,
    "start_time": "2022-04-21T14:47:36.912Z"
   },
   {
    "duration": 8,
    "start_time": "2022-04-21T14:47:36.928Z"
   },
   {
    "duration": 8,
    "start_time": "2022-04-21T14:47:36.942Z"
   },
   {
    "duration": 43,
    "start_time": "2022-04-21T14:47:36.953Z"
   },
   {
    "duration": 264,
    "start_time": "2022-04-21T14:47:36.998Z"
   },
   {
    "duration": 266,
    "start_time": "2022-04-21T14:47:37.264Z"
   },
   {
    "duration": 270,
    "start_time": "2022-04-21T14:47:37.532Z"
   },
   {
    "duration": 9,
    "start_time": "2022-04-21T14:47:37.804Z"
   },
   {
    "duration": 10,
    "start_time": "2022-04-21T14:47:37.816Z"
   },
   {
    "duration": 9973,
    "start_time": "2022-04-21T14:47:37.829Z"
   },
   {
    "duration": 23,
    "start_time": "2022-04-21T14:47:47.805Z"
   },
   {
    "duration": 7,
    "start_time": "2022-04-21T14:47:47.830Z"
   },
   {
    "duration": 6,
    "start_time": "2022-04-21T14:47:47.839Z"
   },
   {
    "duration": 9,
    "start_time": "2022-04-21T14:47:47.847Z"
   },
   {
    "duration": 55,
    "start_time": "2022-04-21T14:47:47.858Z"
   },
   {
    "duration": 7,
    "start_time": "2022-04-21T14:47:47.915Z"
   },
   {
    "duration": 18,
    "start_time": "2022-04-21T14:47:47.923Z"
   },
   {
    "duration": 8,
    "start_time": "2022-04-21T14:47:47.943Z"
   },
   {
    "duration": 60,
    "start_time": "2022-04-21T14:47:47.954Z"
   },
   {
    "duration": 13,
    "start_time": "2022-04-21T14:47:48.016Z"
   },
   {
    "duration": 19,
    "start_time": "2022-04-21T14:47:48.033Z"
   },
   {
    "duration": 44,
    "start_time": "2022-04-21T14:47:48.054Z"
   },
   {
    "duration": 9,
    "start_time": "2022-04-21T14:47:48.100Z"
   },
   {
    "duration": 342,
    "start_time": "2022-04-21T14:47:48.112Z"
   },
   {
    "duration": 123,
    "start_time": "2022-04-21T14:48:47.583Z"
   },
   {
    "duration": 25,
    "start_time": "2022-04-21T14:48:47.709Z"
   },
   {
    "duration": 18,
    "start_time": "2022-04-21T14:48:47.736Z"
   },
   {
    "duration": 6,
    "start_time": "2022-04-21T14:48:47.757Z"
   },
   {
    "duration": 32,
    "start_time": "2022-04-21T14:48:47.764Z"
   },
   {
    "duration": 23,
    "start_time": "2022-04-21T14:48:47.798Z"
   },
   {
    "duration": 14,
    "start_time": "2022-04-21T14:48:47.822Z"
   },
   {
    "duration": 8,
    "start_time": "2022-04-21T14:48:47.838Z"
   },
   {
    "duration": 5,
    "start_time": "2022-04-21T14:48:47.848Z"
   },
   {
    "duration": 6,
    "start_time": "2022-04-21T14:48:47.856Z"
   },
   {
    "duration": 38,
    "start_time": "2022-04-21T14:48:47.863Z"
   },
   {
    "duration": 8,
    "start_time": "2022-04-21T14:48:47.903Z"
   },
   {
    "duration": 16,
    "start_time": "2022-04-21T14:48:47.913Z"
   },
   {
    "duration": 8,
    "start_time": "2022-04-21T14:48:47.931Z"
   },
   {
    "duration": 13,
    "start_time": "2022-04-21T14:48:47.941Z"
   },
   {
    "duration": 220,
    "start_time": "2022-04-21T14:48:47.955Z"
   },
   {
    "duration": 198,
    "start_time": "2022-04-21T14:48:48.177Z"
   },
   {
    "duration": 179,
    "start_time": "2022-04-21T14:48:48.377Z"
   },
   {
    "duration": 7,
    "start_time": "2022-04-21T14:48:48.558Z"
   },
   {
    "duration": 6,
    "start_time": "2022-04-21T14:48:48.566Z"
   },
   {
    "duration": 6355,
    "start_time": "2022-04-21T14:48:48.592Z"
   },
   {
    "duration": 16,
    "start_time": "2022-04-21T14:48:54.949Z"
   },
   {
    "duration": 6,
    "start_time": "2022-04-21T14:48:54.967Z"
   },
   {
    "duration": 5,
    "start_time": "2022-04-21T14:48:54.993Z"
   },
   {
    "duration": 14,
    "start_time": "2022-04-21T14:48:55.000Z"
   },
   {
    "duration": 20,
    "start_time": "2022-04-21T14:48:55.016Z"
   },
   {
    "duration": 11,
    "start_time": "2022-04-21T14:48:55.038Z"
   },
   {
    "duration": 42,
    "start_time": "2022-04-21T14:48:55.052Z"
   },
   {
    "duration": 8,
    "start_time": "2022-04-21T14:48:55.096Z"
   },
   {
    "duration": 24,
    "start_time": "2022-04-21T14:48:55.106Z"
   },
   {
    "duration": 13,
    "start_time": "2022-04-21T14:48:55.132Z"
   },
   {
    "duration": 48,
    "start_time": "2022-04-21T14:48:55.147Z"
   },
   {
    "duration": 18,
    "start_time": "2022-04-21T14:48:55.197Z"
   },
   {
    "duration": 14,
    "start_time": "2022-04-21T14:48:55.217Z"
   },
   {
    "duration": 195,
    "start_time": "2022-04-21T14:48:55.233Z"
   },
   {
    "duration": 70,
    "start_time": "2022-04-21T14:51:12.557Z"
   },
   {
    "duration": 15,
    "start_time": "2022-04-21T14:51:12.630Z"
   },
   {
    "duration": 11,
    "start_time": "2022-04-21T14:51:12.647Z"
   },
   {
    "duration": 5,
    "start_time": "2022-04-21T14:51:12.660Z"
   },
   {
    "duration": 7,
    "start_time": "2022-04-21T14:51:12.692Z"
   },
   {
    "duration": 9,
    "start_time": "2022-04-21T14:51:12.701Z"
   },
   {
    "duration": 13,
    "start_time": "2022-04-21T14:51:12.713Z"
   },
   {
    "duration": 7,
    "start_time": "2022-04-21T14:51:12.728Z"
   },
   {
    "duration": 6,
    "start_time": "2022-04-21T14:51:12.737Z"
   },
   {
    "duration": 6,
    "start_time": "2022-04-21T14:51:12.746Z"
   },
   {
    "duration": 51,
    "start_time": "2022-04-21T14:51:12.753Z"
   },
   {
    "duration": 9,
    "start_time": "2022-04-21T14:51:12.805Z"
   },
   {
    "duration": 6,
    "start_time": "2022-04-21T14:51:12.815Z"
   },
   {
    "duration": 7,
    "start_time": "2022-04-21T14:51:12.823Z"
   },
   {
    "duration": 9,
    "start_time": "2022-04-21T14:51:12.832Z"
   },
   {
    "duration": 225,
    "start_time": "2022-04-21T14:51:12.843Z"
   },
   {
    "duration": 192,
    "start_time": "2022-04-21T14:51:13.070Z"
   },
   {
    "duration": 171,
    "start_time": "2022-04-21T14:51:13.264Z"
   },
   {
    "duration": 8,
    "start_time": "2022-04-21T14:51:13.437Z"
   },
   {
    "duration": 6,
    "start_time": "2022-04-21T14:51:13.447Z"
   },
   {
    "duration": 6272,
    "start_time": "2022-04-21T14:51:13.456Z"
   },
   {
    "duration": 17,
    "start_time": "2022-04-21T14:51:19.731Z"
   },
   {
    "duration": 7,
    "start_time": "2022-04-21T14:51:19.750Z"
   },
   {
    "duration": 35,
    "start_time": "2022-04-21T14:51:19.759Z"
   },
   {
    "duration": 10,
    "start_time": "2022-04-21T14:51:19.796Z"
   },
   {
    "duration": 21,
    "start_time": "2022-04-21T14:51:19.808Z"
   },
   {
    "duration": 6,
    "start_time": "2022-04-21T14:51:19.831Z"
   },
   {
    "duration": 50,
    "start_time": "2022-04-21T14:51:19.842Z"
   },
   {
    "duration": 6,
    "start_time": "2022-04-21T14:51:19.895Z"
   },
   {
    "duration": 17,
    "start_time": "2022-04-21T14:51:19.903Z"
   },
   {
    "duration": 20,
    "start_time": "2022-04-21T14:51:19.922Z"
   },
   {
    "duration": 27,
    "start_time": "2022-04-21T14:51:19.944Z"
   },
   {
    "duration": 28,
    "start_time": "2022-04-21T14:51:19.993Z"
   },
   {
    "duration": 6,
    "start_time": "2022-04-21T14:51:20.023Z"
   },
   {
    "duration": 190,
    "start_time": "2022-04-21T14:51:20.030Z"
   },
   {
    "duration": 117,
    "start_time": "2022-04-21T14:54:11.415Z"
   },
   {
    "duration": 28,
    "start_time": "2022-04-21T14:55:10.508Z"
   },
   {
    "duration": 19,
    "start_time": "2022-04-21T14:58:30.902Z"
   },
   {
    "duration": 20,
    "start_time": "2022-04-21T14:59:32.716Z"
   },
   {
    "duration": 35,
    "start_time": "2022-04-21T14:59:58.007Z"
   },
   {
    "duration": 29,
    "start_time": "2022-04-21T15:08:35.619Z"
   },
   {
    "duration": 34,
    "start_time": "2022-04-21T15:09:33.931Z"
   },
   {
    "duration": 19,
    "start_time": "2022-04-21T15:11:13.460Z"
   },
   {
    "duration": 52,
    "start_time": "2022-04-21T15:13:22.916Z"
   },
   {
    "duration": 4,
    "start_time": "2022-04-21T15:26:54.406Z"
   },
   {
    "duration": 14,
    "start_time": "2022-04-21T15:27:04.761Z"
   },
   {
    "duration": 5,
    "start_time": "2022-04-21T15:27:47.118Z"
   },
   {
    "duration": 13,
    "start_time": "2022-04-21T15:28:08.669Z"
   },
   {
    "duration": 75,
    "start_time": "2022-04-22T08:13:32.288Z"
   },
   {
    "duration": 721,
    "start_time": "2022-04-22T08:13:39.077Z"
   },
   {
    "duration": 33,
    "start_time": "2022-04-22T08:13:39.801Z"
   },
   {
    "duration": 17,
    "start_time": "2022-04-22T08:13:39.836Z"
   },
   {
    "duration": 21,
    "start_time": "2022-04-22T08:13:39.855Z"
   },
   {
    "duration": 10,
    "start_time": "2022-04-22T08:13:39.881Z"
   },
   {
    "duration": 34,
    "start_time": "2022-04-22T08:13:39.894Z"
   },
   {
    "duration": 25,
    "start_time": "2022-04-22T08:13:39.931Z"
   },
   {
    "duration": 15,
    "start_time": "2022-04-22T08:13:39.958Z"
   },
   {
    "duration": 10,
    "start_time": "2022-04-22T08:13:39.975Z"
   },
   {
    "duration": 43,
    "start_time": "2022-04-22T08:13:39.987Z"
   },
   {
    "duration": 25,
    "start_time": "2022-04-22T08:13:40.033Z"
   },
   {
    "duration": 15,
    "start_time": "2022-04-22T08:13:40.061Z"
   },
   {
    "duration": 17,
    "start_time": "2022-04-22T08:13:40.078Z"
   },
   {
    "duration": 26,
    "start_time": "2022-04-22T08:13:40.100Z"
   },
   {
    "duration": 14,
    "start_time": "2022-04-22T08:13:40.128Z"
   },
   {
    "duration": 1707,
    "start_time": "2022-04-22T08:13:40.145Z"
   },
   {
    "duration": 305,
    "start_time": "2022-04-22T08:13:41.854Z"
   },
   {
    "duration": 270,
    "start_time": "2022-04-22T08:13:42.161Z"
   },
   {
    "duration": 11,
    "start_time": "2022-04-22T08:13:42.434Z"
   },
   {
    "duration": 16,
    "start_time": "2022-04-22T08:13:42.447Z"
   },
   {
    "duration": 14769,
    "start_time": "2022-04-22T08:13:42.466Z"
   },
   {
    "duration": 24,
    "start_time": "2022-04-22T08:13:57.237Z"
   },
   {
    "duration": 9,
    "start_time": "2022-04-22T08:13:57.263Z"
   },
   {
    "duration": 7,
    "start_time": "2022-04-22T08:13:57.274Z"
   },
   {
    "duration": 50,
    "start_time": "2022-04-22T08:13:57.283Z"
   },
   {
    "duration": 21,
    "start_time": "2022-04-22T08:13:57.335Z"
   },
   {
    "duration": 9,
    "start_time": "2022-04-22T08:13:57.359Z"
   },
   {
    "duration": 67,
    "start_time": "2022-04-22T08:13:57.371Z"
   },
   {
    "duration": 11,
    "start_time": "2022-04-22T08:13:57.441Z"
   },
   {
    "duration": 29,
    "start_time": "2022-04-22T08:13:57.455Z"
   },
   {
    "duration": 58,
    "start_time": "2022-04-22T08:13:57.489Z"
   },
   {
    "duration": 33,
    "start_time": "2022-04-22T08:13:57.549Z"
   },
   {
    "duration": 56,
    "start_time": "2022-04-22T08:13:57.585Z"
   },
   {
    "duration": 8,
    "start_time": "2022-04-22T08:13:57.644Z"
   },
   {
    "duration": 383,
    "start_time": "2022-04-22T08:13:57.655Z"
   },
   {
    "duration": 25,
    "start_time": "2022-04-22T08:13:58.041Z"
   },
   {
    "duration": 57,
    "start_time": "2022-04-22T08:13:58.068Z"
   },
   {
    "duration": 61,
    "start_time": "2022-04-22T08:13:58.127Z"
   },
   {
    "duration": 63,
    "start_time": "2022-04-22T08:13:58.191Z"
   },
   {
    "duration": 91,
    "start_time": "2022-04-22T08:13:58.256Z"
   },
   {
    "duration": 28,
    "start_time": "2022-04-22T08:13:58.354Z"
   },
   {
    "duration": 77,
    "start_time": "2022-04-22T08:13:58.384Z"
   },
   {
    "duration": 19,
    "start_time": "2022-04-22T08:13:58.464Z"
   },
   {
    "duration": 1446,
    "start_time": "2022-04-22T08:13:58.486Z"
   },
   {
    "duration": 13,
    "start_time": "2022-04-22T08:14:34.991Z"
   },
   {
    "duration": 12,
    "start_time": "2022-04-22T08:14:48.519Z"
   },
   {
    "duration": 13,
    "start_time": "2022-04-22T08:14:53.930Z"
   },
   {
    "duration": 12,
    "start_time": "2022-04-22T08:15:44.778Z"
   },
   {
    "duration": 22,
    "start_time": "2022-04-22T08:18:52.423Z"
   },
   {
    "duration": 25,
    "start_time": "2022-04-22T08:19:21.397Z"
   },
   {
    "duration": 23,
    "start_time": "2022-04-22T08:20:30.730Z"
   },
   {
    "duration": 18,
    "start_time": "2022-04-22T08:20:50.548Z"
   },
   {
    "duration": 16,
    "start_time": "2022-04-22T08:25:36.258Z"
   },
   {
    "duration": 16,
    "start_time": "2022-04-22T08:25:57.154Z"
   },
   {
    "duration": 17,
    "start_time": "2022-04-22T08:29:45.756Z"
   },
   {
    "duration": 17,
    "start_time": "2022-04-22T08:30:00.024Z"
   },
   {
    "duration": 11,
    "start_time": "2022-04-22T08:30:54.550Z"
   },
   {
    "duration": 15,
    "start_time": "2022-04-22T08:31:18.422Z"
   },
   {
    "duration": 18,
    "start_time": "2022-04-22T08:35:54.090Z"
   },
   {
    "duration": 0,
    "start_time": "2022-04-22T08:36:19.194Z"
   },
   {
    "duration": 138,
    "start_time": "2022-04-22T08:36:24.337Z"
   },
   {
    "duration": 53,
    "start_time": "2022-04-22T08:36:24.479Z"
   },
   {
    "duration": 21,
    "start_time": "2022-04-22T08:36:24.535Z"
   },
   {
    "duration": 10,
    "start_time": "2022-04-22T08:36:24.560Z"
   },
   {
    "duration": 21,
    "start_time": "2022-04-22T08:36:24.573Z"
   },
   {
    "duration": 37,
    "start_time": "2022-04-22T08:36:24.597Z"
   },
   {
    "duration": 42,
    "start_time": "2022-04-22T08:36:24.636Z"
   },
   {
    "duration": 25,
    "start_time": "2022-04-22T08:36:24.681Z"
   },
   {
    "duration": 13,
    "start_time": "2022-04-22T08:36:24.709Z"
   },
   {
    "duration": 70,
    "start_time": "2022-04-22T08:36:24.727Z"
   },
   {
    "duration": 19,
    "start_time": "2022-04-22T08:36:24.800Z"
   },
   {
    "duration": 12,
    "start_time": "2022-04-22T08:36:24.821Z"
   },
   {
    "duration": 7,
    "start_time": "2022-04-22T08:36:24.836Z"
   },
   {
    "duration": 15,
    "start_time": "2022-04-22T08:36:24.845Z"
   },
   {
    "duration": 11,
    "start_time": "2022-04-22T08:36:24.862Z"
   },
   {
    "duration": 449,
    "start_time": "2022-04-22T08:36:24.876Z"
   },
   {
    "duration": 345,
    "start_time": "2022-04-22T08:36:25.328Z"
   },
   {
    "duration": 266,
    "start_time": "2022-04-22T08:36:25.675Z"
   },
   {
    "duration": 10,
    "start_time": "2022-04-22T08:36:25.943Z"
   },
   {
    "duration": 8,
    "start_time": "2022-04-22T08:36:25.955Z"
   },
   {
    "duration": 10864,
    "start_time": "2022-04-22T08:36:25.966Z"
   },
   {
    "duration": 22,
    "start_time": "2022-04-22T08:36:36.832Z"
   },
   {
    "duration": 7,
    "start_time": "2022-04-22T08:36:36.857Z"
   },
   {
    "duration": 6,
    "start_time": "2022-04-22T08:36:36.867Z"
   },
   {
    "duration": 51,
    "start_time": "2022-04-22T08:36:36.875Z"
   },
   {
    "duration": 23,
    "start_time": "2022-04-22T08:36:36.928Z"
   },
   {
    "duration": 8,
    "start_time": "2022-04-22T08:36:36.953Z"
   },
   {
    "duration": 20,
    "start_time": "2022-04-22T08:36:36.966Z"
   },
   {
    "duration": 41,
    "start_time": "2022-04-22T08:36:36.987Z"
   },
   {
    "duration": 22,
    "start_time": "2022-04-22T08:36:37.030Z"
   },
   {
    "duration": 27,
    "start_time": "2022-04-22T08:36:37.055Z"
   },
   {
    "duration": 49,
    "start_time": "2022-04-22T08:36:37.085Z"
   },
   {
    "duration": 22,
    "start_time": "2022-04-22T08:36:37.137Z"
   },
   {
    "duration": 11,
    "start_time": "2022-04-22T08:36:37.162Z"
   },
   {
    "duration": 356,
    "start_time": "2022-04-22T08:36:37.176Z"
   },
   {
    "duration": 23,
    "start_time": "2022-04-22T08:36:37.535Z"
   },
   {
    "duration": 27,
    "start_time": "2022-04-22T08:36:37.561Z"
   },
   {
    "duration": 53,
    "start_time": "2022-04-22T08:36:37.624Z"
   },
   {
    "duration": 63,
    "start_time": "2022-04-22T08:36:37.679Z"
   },
   {
    "duration": 47,
    "start_time": "2022-04-22T08:36:37.744Z"
   },
   {
    "duration": 48,
    "start_time": "2022-04-22T08:36:37.793Z"
   },
   {
    "duration": 53,
    "start_time": "2022-04-22T08:36:37.844Z"
   },
   {
    "duration": 41,
    "start_time": "2022-04-22T08:36:37.899Z"
   },
   {
    "duration": 17,
    "start_time": "2022-04-22T08:36:37.942Z"
   },
   {
    "duration": 24,
    "start_time": "2022-04-22T08:36:37.962Z"
   },
   {
    "duration": 59,
    "start_time": "2022-04-22T08:36:37.989Z"
   },
   {
    "duration": 108,
    "start_time": "2022-04-22T10:09:35.141Z"
   },
   {
    "duration": 26,
    "start_time": "2022-04-22T10:09:35.253Z"
   },
   {
    "duration": 55,
    "start_time": "2022-04-22T10:09:35.282Z"
   },
   {
    "duration": 13,
    "start_time": "2022-04-22T10:09:35.344Z"
   },
   {
    "duration": 26,
    "start_time": "2022-04-22T10:09:35.364Z"
   },
   {
    "duration": 14,
    "start_time": "2022-04-22T10:09:35.393Z"
   },
   {
    "duration": 35,
    "start_time": "2022-04-22T10:09:35.410Z"
   },
   {
    "duration": 33,
    "start_time": "2022-04-22T10:09:35.447Z"
   },
   {
    "duration": 8,
    "start_time": "2022-04-22T10:09:35.485Z"
   },
   {
    "duration": 15,
    "start_time": "2022-04-22T10:09:35.495Z"
   },
   {
    "duration": 69,
    "start_time": "2022-04-22T10:09:35.513Z"
   },
   {
    "duration": 10,
    "start_time": "2022-04-22T10:09:35.585Z"
   },
   {
    "duration": 12,
    "start_time": "2022-04-22T10:09:35.598Z"
   },
   {
    "duration": 27,
    "start_time": "2022-04-22T10:09:35.613Z"
   },
   {
    "duration": 39,
    "start_time": "2022-04-22T10:09:35.643Z"
   },
   {
    "duration": 290,
    "start_time": "2022-04-22T10:09:35.685Z"
   },
   {
    "duration": 333,
    "start_time": "2022-04-22T10:09:35.977Z"
   },
   {
    "duration": 336,
    "start_time": "2022-04-22T10:09:36.323Z"
   },
   {
    "duration": 11,
    "start_time": "2022-04-22T10:09:36.663Z"
   },
   {
    "duration": 15,
    "start_time": "2022-04-22T10:09:36.678Z"
   },
   {
    "duration": 12453,
    "start_time": "2022-04-22T10:09:36.696Z"
   },
   {
    "duration": 30,
    "start_time": "2022-04-22T10:09:49.153Z"
   },
   {
    "duration": 13,
    "start_time": "2022-04-22T10:09:49.185Z"
   },
   {
    "duration": 25,
    "start_time": "2022-04-22T10:09:49.230Z"
   },
   {
    "duration": 33,
    "start_time": "2022-04-22T10:09:49.258Z"
   },
   {
    "duration": 21,
    "start_time": "2022-04-22T10:09:49.294Z"
   },
   {
    "duration": 41,
    "start_time": "2022-04-22T10:09:49.320Z"
   },
   {
    "duration": 33,
    "start_time": "2022-04-22T10:09:49.363Z"
   },
   {
    "duration": 8,
    "start_time": "2022-04-22T10:09:49.398Z"
   },
   {
    "duration": 34,
    "start_time": "2022-04-22T10:09:49.409Z"
   },
   {
    "duration": 32,
    "start_time": "2022-04-22T10:09:49.449Z"
   },
   {
    "duration": 29,
    "start_time": "2022-04-22T10:09:49.483Z"
   },
   {
    "duration": 35,
    "start_time": "2022-04-22T10:09:49.514Z"
   },
   {
    "duration": 36,
    "start_time": "2022-04-22T10:09:49.553Z"
   },
   {
    "duration": 314,
    "start_time": "2022-04-22T10:09:49.591Z"
   },
   {
    "duration": 45,
    "start_time": "2022-04-22T10:09:49.907Z"
   },
   {
    "duration": 48,
    "start_time": "2022-04-22T10:09:49.955Z"
   },
   {
    "duration": 74,
    "start_time": "2022-04-22T10:09:50.005Z"
   },
   {
    "duration": 41,
    "start_time": "2022-04-22T10:09:50.081Z"
   },
   {
    "duration": 89,
    "start_time": "2022-04-22T10:09:50.125Z"
   },
   {
    "duration": 56,
    "start_time": "2022-04-22T10:09:50.217Z"
   },
   {
    "duration": 82,
    "start_time": "2022-04-22T10:09:50.275Z"
   },
   {
    "duration": 26,
    "start_time": "2022-04-22T10:09:50.360Z"
   },
   {
    "duration": 51,
    "start_time": "2022-04-22T10:09:50.388Z"
   },
   {
    "duration": 34,
    "start_time": "2022-04-22T10:09:50.442Z"
   },
   {
    "duration": 27,
    "start_time": "2022-04-22T10:09:50.481Z"
   },
   {
    "duration": 8446,
    "start_time": "2022-04-22T10:09:50.511Z"
   },
   {
    "duration": 110,
    "start_time": "2022-04-22T10:12:55.376Z"
   },
   {
    "duration": 70,
    "start_time": "2022-04-22T10:12:55.490Z"
   },
   {
    "duration": 19,
    "start_time": "2022-04-22T10:12:55.566Z"
   },
   {
    "duration": 7,
    "start_time": "2022-04-22T10:12:55.589Z"
   },
   {
    "duration": 9,
    "start_time": "2022-04-22T10:12:55.598Z"
   },
   {
    "duration": 39,
    "start_time": "2022-04-22T10:12:55.609Z"
   },
   {
    "duration": 52,
    "start_time": "2022-04-22T10:12:55.650Z"
   },
   {
    "duration": 13,
    "start_time": "2022-04-22T10:12:55.704Z"
   },
   {
    "duration": 21,
    "start_time": "2022-04-22T10:12:55.720Z"
   },
   {
    "duration": 34,
    "start_time": "2022-04-22T10:12:55.747Z"
   },
   {
    "duration": 20,
    "start_time": "2022-04-22T10:12:55.783Z"
   },
   {
    "duration": 10,
    "start_time": "2022-04-22T10:12:55.805Z"
   },
   {
    "duration": 19,
    "start_time": "2022-04-22T10:12:55.817Z"
   },
   {
    "duration": 42,
    "start_time": "2022-04-22T10:12:55.848Z"
   },
   {
    "duration": 11,
    "start_time": "2022-04-22T10:12:55.892Z"
   },
   {
    "duration": 354,
    "start_time": "2022-04-22T10:12:55.905Z"
   },
   {
    "duration": 335,
    "start_time": "2022-04-22T10:12:56.264Z"
   },
   {
    "duration": 306,
    "start_time": "2022-04-22T10:12:56.602Z"
   },
   {
    "duration": 30,
    "start_time": "2022-04-22T10:12:56.911Z"
   },
   {
    "duration": 39,
    "start_time": "2022-04-22T10:12:56.944Z"
   },
   {
    "duration": 12049,
    "start_time": "2022-04-22T10:12:56.986Z"
   },
   {
    "duration": 32,
    "start_time": "2022-04-22T10:13:09.038Z"
   },
   {
    "duration": 10,
    "start_time": "2022-04-22T10:13:09.074Z"
   },
   {
    "duration": 7,
    "start_time": "2022-04-22T10:13:09.087Z"
   },
   {
    "duration": 54,
    "start_time": "2022-04-22T10:13:09.096Z"
   },
   {
    "duration": 27,
    "start_time": "2022-04-22T10:13:09.156Z"
   },
   {
    "duration": 10,
    "start_time": "2022-04-22T10:13:09.185Z"
   },
   {
    "duration": 60,
    "start_time": "2022-04-22T10:13:09.202Z"
   },
   {
    "duration": 15,
    "start_time": "2022-04-22T10:13:09.268Z"
   },
   {
    "duration": 20,
    "start_time": "2022-04-22T10:13:09.285Z"
   },
   {
    "duration": 40,
    "start_time": "2022-04-22T10:13:09.307Z"
   },
   {
    "duration": 45,
    "start_time": "2022-04-22T10:13:09.353Z"
   },
   {
    "duration": 20,
    "start_time": "2022-04-22T10:13:09.401Z"
   },
   {
    "duration": 39,
    "start_time": "2022-04-22T10:13:09.424Z"
   },
   {
    "duration": 308,
    "start_time": "2022-04-22T10:13:09.466Z"
   },
   {
    "duration": 26,
    "start_time": "2022-04-22T10:13:09.777Z"
   },
   {
    "duration": 59,
    "start_time": "2022-04-22T10:13:09.805Z"
   },
   {
    "duration": 63,
    "start_time": "2022-04-22T10:13:09.867Z"
   },
   {
    "duration": 57,
    "start_time": "2022-04-22T10:13:09.933Z"
   },
   {
    "duration": 87,
    "start_time": "2022-04-22T10:13:09.992Z"
   },
   {
    "duration": 29,
    "start_time": "2022-04-22T10:13:10.082Z"
   },
   {
    "duration": 67,
    "start_time": "2022-04-22T10:13:10.127Z"
   },
   {
    "duration": 50,
    "start_time": "2022-04-22T10:13:10.196Z"
   },
   {
    "duration": 27,
    "start_time": "2022-04-22T10:13:10.253Z"
   },
   {
    "duration": 18,
    "start_time": "2022-04-22T10:13:10.283Z"
   },
   {
    "duration": 49,
    "start_time": "2022-04-22T10:13:10.302Z"
   },
   {
    "duration": 9380,
    "start_time": "2022-04-22T10:13:10.356Z"
   },
   {
    "duration": 126,
    "start_time": "2022-04-22T10:15:42.550Z"
   },
   {
    "duration": 21,
    "start_time": "2022-04-22T10:15:42.679Z"
   },
   {
    "duration": 36,
    "start_time": "2022-04-22T10:15:42.702Z"
   },
   {
    "duration": 33,
    "start_time": "2022-04-22T10:15:42.741Z"
   },
   {
    "duration": 38,
    "start_time": "2022-04-22T10:15:42.776Z"
   },
   {
    "duration": 66,
    "start_time": "2022-04-22T10:15:42.816Z"
   },
   {
    "duration": 59,
    "start_time": "2022-04-22T10:15:42.884Z"
   },
   {
    "duration": 54,
    "start_time": "2022-04-22T10:15:42.946Z"
   },
   {
    "duration": 52,
    "start_time": "2022-04-22T10:15:43.002Z"
   },
   {
    "duration": 38,
    "start_time": "2022-04-22T10:15:43.059Z"
   },
   {
    "duration": 50,
    "start_time": "2022-04-22T10:15:43.100Z"
   },
   {
    "duration": 43,
    "start_time": "2022-04-22T10:15:43.152Z"
   },
   {
    "duration": 25,
    "start_time": "2022-04-22T10:15:43.197Z"
   },
   {
    "duration": 54,
    "start_time": "2022-04-22T10:15:43.228Z"
   },
   {
    "duration": 55,
    "start_time": "2022-04-22T10:15:43.284Z"
   },
   {
    "duration": 318,
    "start_time": "2022-04-22T10:15:43.342Z"
   },
   {
    "duration": 427,
    "start_time": "2022-04-22T10:15:43.665Z"
   },
   {
    "duration": 306,
    "start_time": "2022-04-22T10:15:44.094Z"
   },
   {
    "duration": 10,
    "start_time": "2022-04-22T10:15:44.402Z"
   },
   {
    "duration": 61,
    "start_time": "2022-04-22T10:15:44.414Z"
   },
   {
    "duration": 12651,
    "start_time": "2022-04-22T10:15:44.478Z"
   },
   {
    "duration": 32,
    "start_time": "2022-04-22T10:15:57.133Z"
   },
   {
    "duration": 21,
    "start_time": "2022-04-22T10:15:57.168Z"
   },
   {
    "duration": 14,
    "start_time": "2022-04-22T10:15:57.192Z"
   },
   {
    "duration": 14,
    "start_time": "2022-04-22T10:15:57.235Z"
   },
   {
    "duration": 43,
    "start_time": "2022-04-22T10:15:57.252Z"
   },
   {
    "duration": 14,
    "start_time": "2022-04-22T10:15:57.298Z"
   },
   {
    "duration": 54,
    "start_time": "2022-04-22T10:15:57.317Z"
   },
   {
    "duration": 12,
    "start_time": "2022-04-22T10:15:57.373Z"
   },
   {
    "duration": 21,
    "start_time": "2022-04-22T10:15:57.388Z"
   },
   {
    "duration": 38,
    "start_time": "2022-04-22T10:15:57.412Z"
   },
   {
    "duration": 38,
    "start_time": "2022-04-22T10:15:57.455Z"
   },
   {
    "duration": 20,
    "start_time": "2022-04-22T10:15:57.495Z"
   },
   {
    "duration": 42,
    "start_time": "2022-04-22T10:15:57.517Z"
   },
   {
    "duration": 352,
    "start_time": "2022-04-22T10:15:57.561Z"
   },
   {
    "duration": 44,
    "start_time": "2022-04-22T10:15:57.916Z"
   },
   {
    "duration": 45,
    "start_time": "2022-04-22T10:15:57.963Z"
   },
   {
    "duration": 87,
    "start_time": "2022-04-22T10:15:58.011Z"
   },
   {
    "duration": 72,
    "start_time": "2022-04-22T10:15:58.100Z"
   },
   {
    "duration": 45,
    "start_time": "2022-04-22T10:15:58.174Z"
   },
   {
    "duration": 54,
    "start_time": "2022-04-22T10:15:58.221Z"
   },
   {
    "duration": 81,
    "start_time": "2022-04-22T10:15:58.277Z"
   },
   {
    "duration": 21,
    "start_time": "2022-04-22T10:15:58.363Z"
   },
   {
    "duration": 25,
    "start_time": "2022-04-22T10:15:58.387Z"
   },
   {
    "duration": 52,
    "start_time": "2022-04-22T10:15:58.415Z"
   },
   {
    "duration": 34,
    "start_time": "2022-04-22T10:15:58.469Z"
   },
   {
    "duration": 8101,
    "start_time": "2022-04-22T10:15:58.505Z"
   },
   {
    "duration": 5,
    "start_time": "2022-04-22T10:16:44.382Z"
   },
   {
    "duration": 94,
    "start_time": "2022-04-22T10:33:42.048Z"
   },
   {
    "duration": 23,
    "start_time": "2022-04-22T10:33:42.145Z"
   },
   {
    "duration": 20,
    "start_time": "2022-04-22T10:33:42.171Z"
   },
   {
    "duration": 37,
    "start_time": "2022-04-22T10:33:42.195Z"
   },
   {
    "duration": 25,
    "start_time": "2022-04-22T10:33:42.236Z"
   },
   {
    "duration": 12,
    "start_time": "2022-04-22T10:33:42.264Z"
   },
   {
    "duration": 59,
    "start_time": "2022-04-22T10:33:42.278Z"
   },
   {
    "duration": 7,
    "start_time": "2022-04-22T10:33:42.340Z"
   },
   {
    "duration": 11,
    "start_time": "2022-04-22T10:33:42.349Z"
   },
   {
    "duration": 8,
    "start_time": "2022-04-22T10:33:42.364Z"
   },
   {
    "duration": 56,
    "start_time": "2022-04-22T10:33:42.374Z"
   },
   {
    "duration": 17,
    "start_time": "2022-04-22T10:33:42.433Z"
   },
   {
    "duration": 9,
    "start_time": "2022-04-22T10:33:42.452Z"
   },
   {
    "duration": 9,
    "start_time": "2022-04-22T10:33:42.463Z"
   },
   {
    "duration": 16,
    "start_time": "2022-04-22T10:33:42.475Z"
   },
   {
    "duration": 319,
    "start_time": "2022-04-22T10:33:42.493Z"
   },
   {
    "duration": 310,
    "start_time": "2022-04-22T10:33:42.814Z"
   },
   {
    "duration": 280,
    "start_time": "2022-04-22T10:33:43.127Z"
   },
   {
    "duration": 20,
    "start_time": "2022-04-22T10:33:43.409Z"
   },
   {
    "duration": 10,
    "start_time": "2022-04-22T10:33:43.433Z"
   },
   {
    "duration": 11169,
    "start_time": "2022-04-22T10:33:43.446Z"
   },
   {
    "duration": 26,
    "start_time": "2022-04-22T10:33:54.618Z"
   },
   {
    "duration": 14,
    "start_time": "2022-04-22T10:33:54.647Z"
   },
   {
    "duration": 7,
    "start_time": "2022-04-22T10:33:54.664Z"
   },
   {
    "duration": 12,
    "start_time": "2022-04-22T10:33:54.673Z"
   },
   {
    "duration": 22,
    "start_time": "2022-04-22T10:33:54.730Z"
   },
   {
    "duration": 11,
    "start_time": "2022-04-22T10:33:54.754Z"
   },
   {
    "duration": 21,
    "start_time": "2022-04-22T10:33:54.770Z"
   },
   {
    "duration": 37,
    "start_time": "2022-04-22T10:33:54.793Z"
   },
   {
    "duration": 22,
    "start_time": "2022-04-22T10:33:54.833Z"
   },
   {
    "duration": 26,
    "start_time": "2022-04-22T10:33:54.857Z"
   },
   {
    "duration": 55,
    "start_time": "2022-04-22T10:33:54.885Z"
   },
   {
    "duration": 20,
    "start_time": "2022-04-22T10:33:54.943Z"
   },
   {
    "duration": 10,
    "start_time": "2022-04-22T10:33:54.965Z"
   },
   {
    "duration": 294,
    "start_time": "2022-04-22T10:33:54.977Z"
   },
   {
    "duration": 25,
    "start_time": "2022-04-22T10:33:55.273Z"
   },
   {
    "duration": 48,
    "start_time": "2022-04-22T10:33:55.300Z"
   },
   {
    "duration": 54,
    "start_time": "2022-04-22T10:33:55.351Z"
   },
   {
    "duration": 43,
    "start_time": "2022-04-22T10:33:55.425Z"
   },
   {
    "duration": 76,
    "start_time": "2022-04-22T10:33:55.470Z"
   },
   {
    "duration": 29,
    "start_time": "2022-04-22T10:33:55.548Z"
   },
   {
    "duration": 81,
    "start_time": "2022-04-22T10:33:55.579Z"
   },
   {
    "duration": 18,
    "start_time": "2022-04-22T10:33:55.663Z"
   },
   {
    "duration": 21,
    "start_time": "2022-04-22T10:33:55.683Z"
   },
   {
    "duration": 22,
    "start_time": "2022-04-22T10:33:55.733Z"
   },
   {
    "duration": 18,
    "start_time": "2022-04-22T10:33:55.757Z"
   },
   {
    "duration": 153,
    "start_time": "2022-04-22T10:33:55.777Z"
   },
   {
    "duration": 0,
    "start_time": "2022-04-22T10:33:55.933Z"
   },
   {
    "duration": 101,
    "start_time": "2022-04-22T10:34:06.388Z"
   },
   {
    "duration": 54,
    "start_time": "2022-04-22T10:34:06.492Z"
   },
   {
    "duration": 14,
    "start_time": "2022-04-22T10:34:06.549Z"
   },
   {
    "duration": 16,
    "start_time": "2022-04-22T10:34:06.565Z"
   },
   {
    "duration": 13,
    "start_time": "2022-04-22T10:34:06.585Z"
   },
   {
    "duration": 42,
    "start_time": "2022-04-22T10:34:06.600Z"
   },
   {
    "duration": 25,
    "start_time": "2022-04-22T10:34:06.646Z"
   },
   {
    "duration": 13,
    "start_time": "2022-04-22T10:34:06.673Z"
   },
   {
    "duration": 53,
    "start_time": "2022-04-22T10:34:06.688Z"
   },
   {
    "duration": 14,
    "start_time": "2022-04-22T10:34:06.744Z"
   },
   {
    "duration": 21,
    "start_time": "2022-04-22T10:34:06.761Z"
   },
   {
    "duration": 19,
    "start_time": "2022-04-22T10:34:06.784Z"
   },
   {
    "duration": 23,
    "start_time": "2022-04-22T10:34:06.805Z"
   },
   {
    "duration": 32,
    "start_time": "2022-04-22T10:34:06.836Z"
   },
   {
    "duration": 12,
    "start_time": "2022-04-22T10:34:06.871Z"
   },
   {
    "duration": 289,
    "start_time": "2022-04-22T10:34:06.885Z"
   },
   {
    "duration": 308,
    "start_time": "2022-04-22T10:34:07.176Z"
   },
   {
    "duration": 281,
    "start_time": "2022-04-22T10:34:07.486Z"
   },
   {
    "duration": 10,
    "start_time": "2022-04-22T10:34:07.769Z"
   },
   {
    "duration": 8,
    "start_time": "2022-04-22T10:34:07.781Z"
   },
   {
    "duration": 11618,
    "start_time": "2022-04-22T10:34:07.791Z"
   },
   {
    "duration": 36,
    "start_time": "2022-04-22T10:34:19.412Z"
   },
   {
    "duration": 11,
    "start_time": "2022-04-22T10:34:19.451Z"
   },
   {
    "duration": 9,
    "start_time": "2022-04-22T10:34:19.464Z"
   },
   {
    "duration": 59,
    "start_time": "2022-04-22T10:34:19.476Z"
   },
   {
    "duration": 22,
    "start_time": "2022-04-22T10:34:19.538Z"
   },
   {
    "duration": 7,
    "start_time": "2022-04-22T10:34:19.563Z"
   },
   {
    "duration": 22,
    "start_time": "2022-04-22T10:34:19.572Z"
   },
   {
    "duration": 9,
    "start_time": "2022-04-22T10:34:19.632Z"
   },
   {
    "duration": 23,
    "start_time": "2022-04-22T10:34:19.644Z"
   },
   {
    "duration": 19,
    "start_time": "2022-04-22T10:34:19.669Z"
   },
   {
    "duration": 61,
    "start_time": "2022-04-22T10:34:19.690Z"
   },
   {
    "duration": 22,
    "start_time": "2022-04-22T10:34:19.753Z"
   },
   {
    "duration": 7,
    "start_time": "2022-04-22T10:34:19.778Z"
   },
   {
    "duration": 302,
    "start_time": "2022-04-22T10:34:19.788Z"
   },
   {
    "duration": 34,
    "start_time": "2022-04-22T10:34:20.093Z"
   },
   {
    "duration": 35,
    "start_time": "2022-04-22T10:34:20.129Z"
   },
   {
    "duration": 84,
    "start_time": "2022-04-22T10:34:20.167Z"
   },
   {
    "duration": 41,
    "start_time": "2022-04-22T10:34:20.253Z"
   },
   {
    "duration": 77,
    "start_time": "2022-04-22T10:34:20.296Z"
   },
   {
    "duration": 29,
    "start_time": "2022-04-22T10:34:20.378Z"
   },
   {
    "duration": 65,
    "start_time": "2022-04-22T10:34:20.425Z"
   },
   {
    "duration": 36,
    "start_time": "2022-04-22T10:34:20.492Z"
   },
   {
    "duration": 28,
    "start_time": "2022-04-22T10:34:20.532Z"
   },
   {
    "duration": 20,
    "start_time": "2022-04-22T10:34:20.563Z"
   },
   {
    "duration": 56,
    "start_time": "2022-04-22T10:34:20.586Z"
   },
   {
    "duration": 138,
    "start_time": "2022-04-22T10:34:20.645Z"
   },
   {
    "duration": 7,
    "start_time": "2022-04-22T10:34:20.786Z"
   },
   {
    "duration": 115,
    "start_time": "2022-04-22T10:38:35.340Z"
   },
   {
    "duration": 22,
    "start_time": "2022-04-22T10:38:35.457Z"
   },
   {
    "duration": 15,
    "start_time": "2022-04-22T10:38:35.481Z"
   },
   {
    "duration": 10,
    "start_time": "2022-04-22T10:38:35.528Z"
   },
   {
    "duration": 26,
    "start_time": "2022-04-22T10:38:35.541Z"
   },
   {
    "duration": 46,
    "start_time": "2022-04-22T10:38:35.570Z"
   },
   {
    "duration": 31,
    "start_time": "2022-04-22T10:38:35.618Z"
   },
   {
    "duration": 13,
    "start_time": "2022-04-22T10:38:35.651Z"
   },
   {
    "duration": 16,
    "start_time": "2022-04-22T10:38:35.667Z"
   },
   {
    "duration": 9,
    "start_time": "2022-04-22T10:38:35.690Z"
   },
   {
    "duration": 25,
    "start_time": "2022-04-22T10:38:35.726Z"
   },
   {
    "duration": 16,
    "start_time": "2022-04-22T10:38:35.753Z"
   },
   {
    "duration": 8,
    "start_time": "2022-04-22T10:38:35.771Z"
   },
   {
    "duration": 10,
    "start_time": "2022-04-22T10:38:35.781Z"
   },
   {
    "duration": 48,
    "start_time": "2022-04-22T10:38:35.793Z"
   },
   {
    "duration": 369,
    "start_time": "2022-04-22T10:38:35.844Z"
   },
   {
    "duration": 491,
    "start_time": "2022-04-22T10:38:36.216Z"
   },
   {
    "duration": 279,
    "start_time": "2022-04-22T10:38:36.710Z"
   },
   {
    "duration": 11,
    "start_time": "2022-04-22T10:38:36.992Z"
   },
   {
    "duration": 11,
    "start_time": "2022-04-22T10:38:37.024Z"
   },
   {
    "duration": 10965,
    "start_time": "2022-04-22T10:38:37.038Z"
   },
   {
    "duration": 44,
    "start_time": "2022-04-22T10:38:48.006Z"
   },
   {
    "duration": 9,
    "start_time": "2022-04-22T10:38:48.052Z"
   },
   {
    "duration": 22,
    "start_time": "2022-04-22T10:38:48.063Z"
   },
   {
    "duration": 26,
    "start_time": "2022-04-22T10:38:48.087Z"
   },
   {
    "duration": 48,
    "start_time": "2022-04-22T10:38:48.115Z"
   },
   {
    "duration": 7,
    "start_time": "2022-04-22T10:38:48.165Z"
   },
   {
    "duration": 37,
    "start_time": "2022-04-22T10:38:48.178Z"
   },
   {
    "duration": 17,
    "start_time": "2022-04-22T10:38:48.217Z"
   },
   {
    "duration": 34,
    "start_time": "2022-04-22T10:38:48.237Z"
   },
   {
    "duration": 34,
    "start_time": "2022-04-22T10:38:48.273Z"
   },
   {
    "duration": 42,
    "start_time": "2022-04-22T10:38:48.310Z"
   },
   {
    "duration": 41,
    "start_time": "2022-04-22T10:38:48.355Z"
   },
   {
    "duration": 21,
    "start_time": "2022-04-22T10:38:48.399Z"
   },
   {
    "duration": 287,
    "start_time": "2022-04-22T10:38:48.422Z"
   },
   {
    "duration": 38,
    "start_time": "2022-04-22T10:38:48.712Z"
   },
   {
    "duration": 38,
    "start_time": "2022-04-22T10:38:48.752Z"
   },
   {
    "duration": 78,
    "start_time": "2022-04-22T10:38:48.793Z"
   },
   {
    "duration": 53,
    "start_time": "2022-04-22T10:38:48.874Z"
   },
   {
    "duration": 60,
    "start_time": "2022-04-22T10:38:48.931Z"
   },
   {
    "duration": 56,
    "start_time": "2022-04-22T10:38:48.994Z"
   },
   {
    "duration": 54,
    "start_time": "2022-04-22T10:38:49.053Z"
   },
   {
    "duration": 40,
    "start_time": "2022-04-22T10:38:49.109Z"
   },
   {
    "duration": 24,
    "start_time": "2022-04-22T10:38:49.152Z"
   },
   {
    "duration": 57,
    "start_time": "2022-04-22T10:38:49.178Z"
   },
   {
    "duration": 24,
    "start_time": "2022-04-22T10:38:49.238Z"
   },
   {
    "duration": 61,
    "start_time": "2022-04-22T10:38:49.264Z"
   },
   {
    "duration": 7,
    "start_time": "2022-04-22T10:38:49.327Z"
   },
   {
    "duration": 111,
    "start_time": "2022-04-22T10:41:12.190Z"
   },
   {
    "duration": 49,
    "start_time": "2022-04-22T10:41:12.304Z"
   },
   {
    "duration": 24,
    "start_time": "2022-04-22T10:41:12.355Z"
   },
   {
    "duration": 21,
    "start_time": "2022-04-22T10:41:12.381Z"
   },
   {
    "duration": 37,
    "start_time": "2022-04-22T10:41:12.405Z"
   },
   {
    "duration": 27,
    "start_time": "2022-04-22T10:41:12.445Z"
   },
   {
    "duration": 27,
    "start_time": "2022-04-22T10:41:12.474Z"
   },
   {
    "duration": 16,
    "start_time": "2022-04-22T10:41:12.503Z"
   },
   {
    "duration": 41,
    "start_time": "2022-04-22T10:41:12.521Z"
   },
   {
    "duration": 15,
    "start_time": "2022-04-22T10:41:12.565Z"
   },
   {
    "duration": 40,
    "start_time": "2022-04-22T10:41:12.583Z"
   },
   {
    "duration": 19,
    "start_time": "2022-04-22T10:41:12.630Z"
   },
   {
    "duration": 14,
    "start_time": "2022-04-22T10:41:12.653Z"
   },
   {
    "duration": 9,
    "start_time": "2022-04-22T10:41:12.674Z"
   },
   {
    "duration": 24,
    "start_time": "2022-04-22T10:41:12.685Z"
   },
   {
    "duration": 305,
    "start_time": "2022-04-22T10:41:12.724Z"
   },
   {
    "duration": 311,
    "start_time": "2022-04-22T10:41:13.032Z"
   },
   {
    "duration": 292,
    "start_time": "2022-04-22T10:41:13.346Z"
   },
   {
    "duration": 10,
    "start_time": "2022-04-22T10:41:13.640Z"
   },
   {
    "duration": 12,
    "start_time": "2022-04-22T10:41:13.653Z"
   },
   {
    "duration": 11619,
    "start_time": "2022-04-22T10:41:13.667Z"
   },
   {
    "duration": 21,
    "start_time": "2022-04-22T10:41:25.288Z"
   },
   {
    "duration": 17,
    "start_time": "2022-04-22T10:41:25.326Z"
   },
   {
    "duration": 15,
    "start_time": "2022-04-22T10:41:25.346Z"
   },
   {
    "duration": 33,
    "start_time": "2022-04-22T10:41:25.364Z"
   },
   {
    "duration": 28,
    "start_time": "2022-04-22T10:41:25.399Z"
   },
   {
    "duration": 7,
    "start_time": "2022-04-22T10:41:25.432Z"
   },
   {
    "duration": 33,
    "start_time": "2022-04-22T10:41:25.441Z"
   },
   {
    "duration": 9,
    "start_time": "2022-04-22T10:41:25.476Z"
   },
   {
    "duration": 44,
    "start_time": "2022-04-22T10:41:25.487Z"
   },
   {
    "duration": 22,
    "start_time": "2022-04-22T10:41:25.534Z"
   },
   {
    "duration": 27,
    "start_time": "2022-04-22T10:41:25.558Z"
   },
   {
    "duration": 54,
    "start_time": "2022-04-22T10:41:25.587Z"
   },
   {
    "duration": 9,
    "start_time": "2022-04-22T10:41:25.644Z"
   },
   {
    "duration": 283,
    "start_time": "2022-04-22T10:41:25.656Z"
   },
   {
    "duration": 23,
    "start_time": "2022-04-22T10:41:25.942Z"
   },
   {
    "duration": 27,
    "start_time": "2022-04-22T10:41:25.967Z"
   },
   {
    "duration": 82,
    "start_time": "2022-04-22T10:41:25.996Z"
   },
   {
    "duration": 57,
    "start_time": "2022-04-22T10:41:26.080Z"
   },
   {
    "duration": 54,
    "start_time": "2022-04-22T10:41:26.140Z"
   },
   {
    "duration": 53,
    "start_time": "2022-04-22T10:41:26.199Z"
   },
   {
    "duration": 52,
    "start_time": "2022-04-22T10:41:26.255Z"
   },
   {
    "duration": 28,
    "start_time": "2022-04-22T10:41:26.325Z"
   },
   {
    "duration": 17,
    "start_time": "2022-04-22T10:41:26.355Z"
   },
   {
    "duration": 27,
    "start_time": "2022-04-22T10:41:26.373Z"
   },
   {
    "duration": 39,
    "start_time": "2022-04-22T10:41:26.402Z"
   },
   {
    "duration": 40,
    "start_time": "2022-04-22T10:41:26.443Z"
   },
   {
    "duration": 20,
    "start_time": "2022-04-22T10:41:26.485Z"
   },
   {
    "duration": 24,
    "start_time": "2022-04-22T10:44:52.753Z"
   },
   {
    "duration": 126,
    "start_time": "2022-04-22T10:54:00.628Z"
   },
   {
    "duration": 21,
    "start_time": "2022-04-22T10:54:00.757Z"
   },
   {
    "duration": 14,
    "start_time": "2022-04-22T10:54:00.780Z"
   },
   {
    "duration": 9,
    "start_time": "2022-04-22T10:54:00.831Z"
   },
   {
    "duration": 11,
    "start_time": "2022-04-22T10:54:00.842Z"
   },
   {
    "duration": 38,
    "start_time": "2022-04-22T10:54:00.855Z"
   },
   {
    "duration": 60,
    "start_time": "2022-04-22T10:54:00.896Z"
   },
   {
    "duration": 13,
    "start_time": "2022-04-22T10:54:00.958Z"
   },
   {
    "duration": 22,
    "start_time": "2022-04-22T10:54:00.974Z"
   },
   {
    "duration": 11,
    "start_time": "2022-04-22T10:54:01.000Z"
   },
   {
    "duration": 26,
    "start_time": "2022-04-22T10:54:01.013Z"
   },
   {
    "duration": 10,
    "start_time": "2022-04-22T10:54:01.041Z"
   },
   {
    "duration": 26,
    "start_time": "2022-04-22T10:54:01.053Z"
   },
   {
    "duration": 22,
    "start_time": "2022-04-22T10:54:01.081Z"
   },
   {
    "duration": 31,
    "start_time": "2022-04-22T10:54:01.105Z"
   },
   {
    "duration": 285,
    "start_time": "2022-04-22T10:54:01.138Z"
   },
   {
    "duration": 391,
    "start_time": "2022-04-22T10:54:01.426Z"
   },
   {
    "duration": 282,
    "start_time": "2022-04-22T10:54:01.819Z"
   },
   {
    "duration": 27,
    "start_time": "2022-04-22T10:54:02.103Z"
   },
   {
    "duration": 10,
    "start_time": "2022-04-22T10:54:02.133Z"
   },
   {
    "duration": 11161,
    "start_time": "2022-04-22T10:54:02.146Z"
   },
   {
    "duration": 31,
    "start_time": "2022-04-22T10:54:13.310Z"
   },
   {
    "duration": 21,
    "start_time": "2022-04-22T10:54:13.344Z"
   },
   {
    "duration": 29,
    "start_time": "2022-04-22T10:54:13.367Z"
   },
   {
    "duration": 26,
    "start_time": "2022-04-22T10:54:13.398Z"
   },
   {
    "duration": 28,
    "start_time": "2022-04-22T10:54:13.430Z"
   },
   {
    "duration": 25,
    "start_time": "2022-04-22T10:54:13.460Z"
   },
   {
    "duration": 21,
    "start_time": "2022-04-22T10:54:13.491Z"
   },
   {
    "duration": 15,
    "start_time": "2022-04-22T10:54:13.527Z"
   },
   {
    "duration": 34,
    "start_time": "2022-04-22T10:54:13.545Z"
   },
   {
    "duration": 60,
    "start_time": "2022-04-22T10:54:13.582Z"
   },
   {
    "duration": 39,
    "start_time": "2022-04-22T10:54:13.644Z"
   },
   {
    "duration": 48,
    "start_time": "2022-04-22T10:54:13.686Z"
   },
   {
    "duration": 29,
    "start_time": "2022-04-22T10:54:13.738Z"
   },
   {
    "duration": 298,
    "start_time": "2022-04-22T10:54:13.770Z"
   },
   {
    "duration": 23,
    "start_time": "2022-04-22T10:54:14.071Z"
   },
   {
    "duration": 60,
    "start_time": "2022-04-22T10:54:14.096Z"
   },
   {
    "duration": 54,
    "start_time": "2022-04-22T10:54:14.158Z"
   },
   {
    "duration": 42,
    "start_time": "2022-04-22T10:54:14.230Z"
   },
   {
    "duration": 84,
    "start_time": "2022-04-22T10:54:14.274Z"
   },
   {
    "duration": 31,
    "start_time": "2022-04-22T10:54:14.360Z"
   },
   {
    "duration": 76,
    "start_time": "2022-04-22T10:54:14.393Z"
   },
   {
    "duration": 18,
    "start_time": "2022-04-22T10:54:14.472Z"
   },
   {
    "duration": 36,
    "start_time": "2022-04-22T10:54:14.492Z"
   },
   {
    "duration": 48,
    "start_time": "2022-04-22T10:54:14.531Z"
   },
   {
    "duration": 29,
    "start_time": "2022-04-22T10:54:14.582Z"
   },
   {
    "duration": 42,
    "start_time": "2022-04-22T10:54:14.614Z"
   },
   {
    "duration": 36,
    "start_time": "2022-04-22T10:54:14.659Z"
   },
   {
    "duration": 57,
    "start_time": "2022-04-22T10:54:14.698Z"
   },
   {
    "duration": 22,
    "start_time": "2022-04-22T10:54:14.758Z"
   },
   {
    "duration": 124,
    "start_time": "2022-04-22T10:57:02.110Z"
   },
   {
    "duration": 22,
    "start_time": "2022-04-22T10:57:02.239Z"
   },
   {
    "duration": 16,
    "start_time": "2022-04-22T10:57:02.264Z"
   },
   {
    "duration": 46,
    "start_time": "2022-04-22T10:57:02.284Z"
   },
   {
    "duration": 9,
    "start_time": "2022-04-22T10:57:02.333Z"
   },
   {
    "duration": 16,
    "start_time": "2022-04-22T10:57:02.345Z"
   },
   {
    "duration": 27,
    "start_time": "2022-04-22T10:57:02.363Z"
   },
   {
    "duration": 38,
    "start_time": "2022-04-22T10:57:02.392Z"
   },
   {
    "duration": 22,
    "start_time": "2022-04-22T10:57:02.433Z"
   },
   {
    "duration": 19,
    "start_time": "2022-04-22T10:57:02.459Z"
   },
   {
    "duration": 19,
    "start_time": "2022-04-22T10:57:02.480Z"
   },
   {
    "duration": 27,
    "start_time": "2022-04-22T10:57:02.502Z"
   },
   {
    "duration": 9,
    "start_time": "2022-04-22T10:57:02.532Z"
   },
   {
    "duration": 13,
    "start_time": "2022-04-22T10:57:02.544Z"
   },
   {
    "duration": 13,
    "start_time": "2022-04-22T10:57:02.559Z"
   },
   {
    "duration": 308,
    "start_time": "2022-04-22T10:57:02.574Z"
   },
   {
    "duration": 301,
    "start_time": "2022-04-22T10:57:02.885Z"
   },
   {
    "duration": 297,
    "start_time": "2022-04-22T10:57:03.188Z"
   },
   {
    "duration": 11,
    "start_time": "2022-04-22T10:57:03.488Z"
   },
   {
    "duration": 48,
    "start_time": "2022-04-22T10:57:03.502Z"
   },
   {
    "duration": 11000,
    "start_time": "2022-04-22T10:57:03.552Z"
   },
   {
    "duration": 21,
    "start_time": "2022-04-22T10:57:14.554Z"
   },
   {
    "duration": 9,
    "start_time": "2022-04-22T10:57:14.577Z"
   },
   {
    "duration": 46,
    "start_time": "2022-04-22T10:57:14.589Z"
   },
   {
    "duration": 26,
    "start_time": "2022-04-22T10:57:14.638Z"
   },
   {
    "duration": 23,
    "start_time": "2022-04-22T10:57:14.666Z"
   },
   {
    "duration": 10,
    "start_time": "2022-04-22T10:57:14.692Z"
   },
   {
    "duration": 22,
    "start_time": "2022-04-22T10:57:14.728Z"
   },
   {
    "duration": 8,
    "start_time": "2022-04-22T10:57:14.752Z"
   },
   {
    "duration": 20,
    "start_time": "2022-04-22T10:57:14.762Z"
   },
   {
    "duration": 65,
    "start_time": "2022-04-22T10:57:14.784Z"
   },
   {
    "duration": 22,
    "start_time": "2022-04-22T10:57:14.851Z"
   },
   {
    "duration": 20,
    "start_time": "2022-04-22T10:57:14.875Z"
   },
   {
    "duration": 8,
    "start_time": "2022-04-22T10:57:14.925Z"
   },
   {
    "duration": 426,
    "start_time": "2022-04-22T10:57:14.936Z"
   },
   {
    "duration": 25,
    "start_time": "2022-04-22T10:57:15.365Z"
   },
   {
    "duration": 56,
    "start_time": "2022-04-22T10:57:15.392Z"
   },
   {
    "duration": 50,
    "start_time": "2022-04-22T10:57:15.450Z"
   },
   {
    "duration": 61,
    "start_time": "2022-04-22T10:57:15.503Z"
   },
   {
    "duration": 66,
    "start_time": "2022-04-22T10:57:15.566Z"
   },
   {
    "duration": 34,
    "start_time": "2022-04-22T10:57:15.634Z"
   },
   {
    "duration": 98,
    "start_time": "2022-04-22T10:57:15.671Z"
   },
   {
    "duration": 19,
    "start_time": "2022-04-22T10:57:15.772Z"
   },
   {
    "duration": 39,
    "start_time": "2022-04-22T10:57:15.794Z"
   },
   {
    "duration": 18,
    "start_time": "2022-04-22T10:57:15.837Z"
   },
   {
    "duration": 19,
    "start_time": "2022-04-22T10:57:15.857Z"
   },
   {
    "duration": 83,
    "start_time": "2022-04-22T10:57:15.879Z"
   },
   {
    "duration": 37,
    "start_time": "2022-04-22T10:57:15.965Z"
   },
   {
    "duration": 66,
    "start_time": "2022-04-22T10:57:16.004Z"
   },
   {
    "duration": 21,
    "start_time": "2022-04-22T10:57:16.072Z"
   },
   {
    "duration": 98,
    "start_time": "2022-04-22T10:58:10.746Z"
   },
   {
    "duration": 21,
    "start_time": "2022-04-22T10:58:10.847Z"
   },
   {
    "duration": 13,
    "start_time": "2022-04-22T10:58:11.707Z"
   },
   {
    "duration": 8,
    "start_time": "2022-04-22T10:58:11.723Z"
   },
   {
    "duration": 8,
    "start_time": "2022-04-22T10:58:11.733Z"
   },
   {
    "duration": 12,
    "start_time": "2022-04-22T10:58:11.744Z"
   },
   {
    "duration": 23,
    "start_time": "2022-04-22T10:58:11.759Z"
   },
   {
    "duration": 53,
    "start_time": "2022-04-22T10:58:11.785Z"
   },
   {
    "duration": 8,
    "start_time": "2022-04-22T10:58:11.842Z"
   },
   {
    "duration": 13,
    "start_time": "2022-04-22T10:58:11.852Z"
   },
   {
    "duration": 24,
    "start_time": "2022-04-22T10:58:11.867Z"
   },
   {
    "duration": 42,
    "start_time": "2022-04-22T10:58:11.893Z"
   },
   {
    "duration": 7,
    "start_time": "2022-04-22T10:58:11.938Z"
   },
   {
    "duration": 14,
    "start_time": "2022-04-22T10:58:11.949Z"
   },
   {
    "duration": 22,
    "start_time": "2022-04-22T10:58:11.966Z"
   },
   {
    "duration": 312,
    "start_time": "2022-04-22T10:58:11.990Z"
   },
   {
    "duration": 297,
    "start_time": "2022-04-22T10:58:12.304Z"
   },
   {
    "duration": 280,
    "start_time": "2022-04-22T10:58:12.603Z"
   },
   {
    "duration": 10,
    "start_time": "2022-04-22T10:58:12.885Z"
   },
   {
    "duration": 35,
    "start_time": "2022-04-22T10:58:12.897Z"
   },
   {
    "duration": 11354,
    "start_time": "2022-04-22T10:58:12.936Z"
   },
   {
    "duration": 19,
    "start_time": "2022-04-22T10:58:24.293Z"
   },
   {
    "duration": 11,
    "start_time": "2022-04-22T10:58:24.328Z"
   },
   {
    "duration": 21,
    "start_time": "2022-04-22T10:58:24.342Z"
   },
   {
    "duration": 40,
    "start_time": "2022-04-22T10:58:24.366Z"
   },
   {
    "duration": 69,
    "start_time": "2022-04-22T10:58:24.409Z"
   },
   {
    "duration": 23,
    "start_time": "2022-04-22T10:58:24.480Z"
   },
   {
    "duration": 24,
    "start_time": "2022-04-22T10:58:24.505Z"
   },
   {
    "duration": 11,
    "start_time": "2022-04-22T10:58:24.531Z"
   },
   {
    "duration": 31,
    "start_time": "2022-04-22T10:58:24.546Z"
   },
   {
    "duration": 32,
    "start_time": "2022-04-22T10:58:24.579Z"
   },
   {
    "duration": 57,
    "start_time": "2022-04-22T10:58:24.613Z"
   },
   {
    "duration": 28,
    "start_time": "2022-04-22T10:58:24.672Z"
   },
   {
    "duration": 12,
    "start_time": "2022-04-22T10:58:24.702Z"
   },
   {
    "duration": 285,
    "start_time": "2022-04-22T10:58:24.716Z"
   },
   {
    "duration": 33,
    "start_time": "2022-04-22T10:58:25.003Z"
   },
   {
    "duration": 43,
    "start_time": "2022-04-22T10:58:25.039Z"
   },
   {
    "duration": 64,
    "start_time": "2022-04-22T10:58:25.084Z"
   },
   {
    "duration": 38,
    "start_time": "2022-04-22T10:58:25.150Z"
   },
   {
    "duration": 74,
    "start_time": "2022-04-22T10:58:25.190Z"
   },
   {
    "duration": 27,
    "start_time": "2022-04-22T10:58:25.266Z"
   },
   {
    "duration": 75,
    "start_time": "2022-04-22T10:58:25.295Z"
   },
   {
    "duration": 18,
    "start_time": "2022-04-22T10:58:25.372Z"
   },
   {
    "duration": 50,
    "start_time": "2022-04-22T10:58:25.392Z"
   },
   {
    "duration": 46,
    "start_time": "2022-04-22T10:58:25.444Z"
   },
   {
    "duration": 19,
    "start_time": "2022-04-22T10:58:25.493Z"
   },
   {
    "duration": 40,
    "start_time": "2022-04-22T10:58:25.515Z"
   },
   {
    "duration": 23,
    "start_time": "2022-04-22T10:58:25.557Z"
   },
   {
    "duration": 78,
    "start_time": "2022-04-22T10:58:25.582Z"
   },
   {
    "duration": 21,
    "start_time": "2022-04-22T10:58:25.662Z"
   },
   {
    "duration": 109,
    "start_time": "2022-04-22T11:01:30.820Z"
   },
   {
    "duration": 21,
    "start_time": "2022-04-22T11:01:30.932Z"
   },
   {
    "duration": 22,
    "start_time": "2022-04-22T11:01:30.956Z"
   },
   {
    "duration": 19,
    "start_time": "2022-04-22T11:01:30.981Z"
   },
   {
    "duration": 7,
    "start_time": "2022-04-22T11:01:31.025Z"
   },
   {
    "duration": 36,
    "start_time": "2022-04-22T11:01:31.034Z"
   },
   {
    "duration": 40,
    "start_time": "2022-04-22T11:01:31.072Z"
   },
   {
    "duration": 20,
    "start_time": "2022-04-22T11:01:31.114Z"
   },
   {
    "duration": 32,
    "start_time": "2022-04-22T11:01:31.136Z"
   },
   {
    "duration": 24,
    "start_time": "2022-04-22T11:01:31.172Z"
   },
   {
    "duration": 35,
    "start_time": "2022-04-22T11:01:31.198Z"
   },
   {
    "duration": 20,
    "start_time": "2022-04-22T11:01:31.236Z"
   },
   {
    "duration": 18,
    "start_time": "2022-04-22T11:01:31.258Z"
   },
   {
    "duration": 28,
    "start_time": "2022-04-22T11:01:31.278Z"
   },
   {
    "duration": 16,
    "start_time": "2022-04-22T11:01:31.308Z"
   },
   {
    "duration": 266,
    "start_time": "2022-04-22T11:01:31.325Z"
   },
   {
    "duration": 287,
    "start_time": "2022-04-22T11:01:31.593Z"
   },
   {
    "duration": 269,
    "start_time": "2022-04-22T11:01:31.882Z"
   },
   {
    "duration": 10,
    "start_time": "2022-04-22T11:01:32.153Z"
   },
   {
    "duration": 16,
    "start_time": "2022-04-22T11:01:32.165Z"
   },
   {
    "duration": 10347,
    "start_time": "2022-04-22T11:01:32.183Z"
   },
   {
    "duration": 20,
    "start_time": "2022-04-22T11:01:42.532Z"
   },
   {
    "duration": 9,
    "start_time": "2022-04-22T11:01:42.554Z"
   },
   {
    "duration": 8,
    "start_time": "2022-04-22T11:01:42.565Z"
   },
   {
    "duration": 52,
    "start_time": "2022-04-22T11:01:42.575Z"
   },
   {
    "duration": 21,
    "start_time": "2022-04-22T11:01:42.629Z"
   },
   {
    "duration": 15,
    "start_time": "2022-04-22T11:01:42.652Z"
   },
   {
    "duration": 20,
    "start_time": "2022-04-22T11:01:42.673Z"
   },
   {
    "duration": 32,
    "start_time": "2022-04-22T11:01:42.695Z"
   },
   {
    "duration": 19,
    "start_time": "2022-04-22T11:01:42.730Z"
   },
   {
    "duration": 19,
    "start_time": "2022-04-22T11:01:42.751Z"
   },
   {
    "duration": 61,
    "start_time": "2022-04-22T11:01:42.772Z"
   },
   {
    "duration": 20,
    "start_time": "2022-04-22T11:01:42.835Z"
   },
   {
    "duration": 29,
    "start_time": "2022-04-22T11:01:42.857Z"
   },
   {
    "duration": 263,
    "start_time": "2022-04-22T11:01:42.889Z"
   },
   {
    "duration": 24,
    "start_time": "2022-04-22T11:01:43.154Z"
   },
   {
    "duration": 52,
    "start_time": "2022-04-22T11:01:43.180Z"
   },
   {
    "duration": 55,
    "start_time": "2022-04-22T11:01:43.235Z"
   },
   {
    "duration": 61,
    "start_time": "2022-04-22T11:01:43.293Z"
   },
   {
    "duration": 49,
    "start_time": "2022-04-22T11:01:43.356Z"
   },
   {
    "duration": 30,
    "start_time": "2022-04-22T11:01:43.424Z"
   },
   {
    "duration": 76,
    "start_time": "2022-04-22T11:01:43.456Z"
   },
   {
    "duration": 20,
    "start_time": "2022-04-22T11:01:43.534Z"
   },
   {
    "duration": 24,
    "start_time": "2022-04-22T11:01:43.557Z"
   },
   {
    "duration": 46,
    "start_time": "2022-04-22T11:01:43.583Z"
   },
   {
    "duration": 19,
    "start_time": "2022-04-22T11:01:43.632Z"
   },
   {
    "duration": 37,
    "start_time": "2022-04-22T11:01:43.654Z"
   },
   {
    "duration": 25,
    "start_time": "2022-04-22T11:01:43.725Z"
   },
   {
    "duration": 62,
    "start_time": "2022-04-22T11:01:43.752Z"
   },
   {
    "duration": 22,
    "start_time": "2022-04-22T11:01:43.825Z"
   },
   {
    "duration": 87,
    "start_time": "2022-04-22T11:12:30.887Z"
   },
   {
    "duration": 23,
    "start_time": "2022-04-22T11:12:30.976Z"
   },
   {
    "duration": 31,
    "start_time": "2022-04-22T11:12:31.002Z"
   },
   {
    "duration": 7,
    "start_time": "2022-04-22T11:12:31.368Z"
   },
   {
    "duration": 16,
    "start_time": "2022-04-22T11:12:31.378Z"
   },
   {
    "duration": 10,
    "start_time": "2022-04-22T11:12:31.448Z"
   },
   {
    "duration": 33,
    "start_time": "2022-04-22T11:12:31.460Z"
   },
   {
    "duration": 6,
    "start_time": "2022-04-22T11:12:32.005Z"
   },
   {
    "duration": 59,
    "start_time": "2022-04-22T11:12:32.014Z"
   },
   {
    "duration": 21,
    "start_time": "2022-04-22T11:12:32.076Z"
   },
   {
    "duration": 19,
    "start_time": "2022-04-22T11:12:32.099Z"
   },
   {
    "duration": 22,
    "start_time": "2022-04-22T11:12:32.121Z"
   },
   {
    "duration": 13,
    "start_time": "2022-04-22T11:12:32.145Z"
   },
   {
    "duration": 8,
    "start_time": "2022-04-22T11:12:32.197Z"
   },
   {
    "duration": 10,
    "start_time": "2022-04-22T11:12:32.969Z"
   },
   {
    "duration": 256,
    "start_time": "2022-04-22T11:12:32.982Z"
   },
   {
    "duration": 302,
    "start_time": "2022-04-22T11:12:33.240Z"
   },
   {
    "duration": 280,
    "start_time": "2022-04-22T11:12:33.544Z"
   },
   {
    "duration": 10,
    "start_time": "2022-04-22T11:12:33.828Z"
   },
   {
    "duration": 25,
    "start_time": "2022-04-22T11:12:33.841Z"
   },
   {
    "duration": 10227,
    "start_time": "2022-04-22T11:12:33.868Z"
   },
   {
    "duration": 34,
    "start_time": "2022-04-22T11:12:44.097Z"
   },
   {
    "duration": 8,
    "start_time": "2022-04-22T11:12:44.133Z"
   },
   {
    "duration": 6,
    "start_time": "2022-04-22T11:12:44.144Z"
   },
   {
    "duration": 13,
    "start_time": "2022-04-22T11:12:44.152Z"
   },
   {
    "duration": 59,
    "start_time": "2022-04-22T11:12:44.167Z"
   },
   {
    "duration": 8,
    "start_time": "2022-04-22T11:12:44.230Z"
   },
   {
    "duration": 22,
    "start_time": "2022-04-22T11:12:44.240Z"
   },
   {
    "duration": 7,
    "start_time": "2022-04-22T11:12:44.264Z"
   },
   {
    "duration": 52,
    "start_time": "2022-04-22T11:12:44.274Z"
   },
   {
    "duration": 18,
    "start_time": "2022-04-22T11:12:44.329Z"
   },
   {
    "duration": 27,
    "start_time": "2022-04-22T11:12:44.349Z"
   },
   {
    "duration": 19,
    "start_time": "2022-04-22T11:12:44.378Z"
   },
   {
    "duration": 7,
    "start_time": "2022-04-22T11:12:44.425Z"
   },
   {
    "duration": 269,
    "start_time": "2022-04-22T11:12:44.435Z"
   },
   {
    "duration": 31,
    "start_time": "2022-04-22T11:12:44.707Z"
   },
   {
    "duration": 27,
    "start_time": "2022-04-22T11:12:44.740Z"
   },
   {
    "duration": 77,
    "start_time": "2022-04-22T11:12:44.769Z"
   },
   {
    "duration": 39,
    "start_time": "2022-04-22T11:12:44.849Z"
   },
   {
    "duration": 72,
    "start_time": "2022-04-22T11:12:44.891Z"
   },
   {
    "duration": 29,
    "start_time": "2022-04-22T11:12:44.966Z"
   },
   {
    "duration": 77,
    "start_time": "2022-04-22T11:12:44.999Z"
   },
   {
    "duration": 19,
    "start_time": "2022-04-22T11:12:45.078Z"
   },
   {
    "duration": 39,
    "start_time": "2022-04-22T11:12:45.100Z"
   },
   {
    "duration": 17,
    "start_time": "2022-04-22T11:12:45.141Z"
   },
   {
    "duration": 19,
    "start_time": "2022-04-22T11:12:45.161Z"
   },
   {
    "duration": 71,
    "start_time": "2022-04-22T11:12:45.182Z"
   },
   {
    "duration": 27,
    "start_time": "2022-04-22T11:12:45.255Z"
   },
   {
    "duration": 65,
    "start_time": "2022-04-22T11:12:45.285Z"
   },
   {
    "duration": 19,
    "start_time": "2022-04-22T11:12:45.357Z"
   },
   {
    "duration": 53,
    "start_time": "2022-04-22T11:12:45.378Z"
   },
   {
    "duration": 94,
    "start_time": "2022-04-22T11:24:29.296Z"
   },
   {
    "duration": 46,
    "start_time": "2022-04-22T11:24:29.393Z"
   },
   {
    "duration": 21,
    "start_time": "2022-04-22T11:24:29.441Z"
   },
   {
    "duration": 11,
    "start_time": "2022-04-22T11:24:29.464Z"
   },
   {
    "duration": 21,
    "start_time": "2022-04-22T11:24:29.480Z"
   },
   {
    "duration": 44,
    "start_time": "2022-04-22T11:24:29.504Z"
   },
   {
    "duration": 40,
    "start_time": "2022-04-22T11:24:29.550Z"
   },
   {
    "duration": 19,
    "start_time": "2022-04-22T11:24:29.592Z"
   },
   {
    "duration": 26,
    "start_time": "2022-04-22T11:24:29.613Z"
   },
   {
    "duration": 21,
    "start_time": "2022-04-22T11:24:29.641Z"
   },
   {
    "duration": 41,
    "start_time": "2022-04-22T11:24:29.664Z"
   },
   {
    "duration": 12,
    "start_time": "2022-04-22T11:24:29.708Z"
   },
   {
    "duration": 8,
    "start_time": "2022-04-22T11:24:29.722Z"
   },
   {
    "duration": 8,
    "start_time": "2022-04-22T11:24:29.735Z"
   },
   {
    "duration": 14,
    "start_time": "2022-04-22T11:24:29.745Z"
   },
   {
    "duration": 287,
    "start_time": "2022-04-22T11:24:29.761Z"
   },
   {
    "duration": 293,
    "start_time": "2022-04-22T11:24:30.050Z"
   },
   {
    "duration": 283,
    "start_time": "2022-04-22T11:24:30.346Z"
   },
   {
    "duration": 10,
    "start_time": "2022-04-22T11:24:30.631Z"
   },
   {
    "duration": 22,
    "start_time": "2022-04-22T11:24:30.643Z"
   },
   {
    "duration": 10009,
    "start_time": "2022-04-22T11:24:30.668Z"
   },
   {
    "duration": 20,
    "start_time": "2022-04-22T11:24:40.680Z"
   },
   {
    "duration": 27,
    "start_time": "2022-04-22T11:24:40.702Z"
   },
   {
    "duration": 7,
    "start_time": "2022-04-22T11:24:40.732Z"
   },
   {
    "duration": 10,
    "start_time": "2022-04-22T11:24:40.741Z"
   },
   {
    "duration": 20,
    "start_time": "2022-04-22T11:24:40.753Z"
   },
   {
    "duration": 52,
    "start_time": "2022-04-22T11:24:40.775Z"
   },
   {
    "duration": 20,
    "start_time": "2022-04-22T11:24:40.829Z"
   },
   {
    "duration": 8,
    "start_time": "2022-04-22T11:24:40.851Z"
   },
   {
    "duration": 19,
    "start_time": "2022-04-22T11:24:40.861Z"
   },
   {
    "duration": 52,
    "start_time": "2022-04-22T11:24:40.882Z"
   },
   {
    "duration": 23,
    "start_time": "2022-04-22T11:24:40.937Z"
   },
   {
    "duration": 20,
    "start_time": "2022-04-22T11:24:40.962Z"
   },
   {
    "duration": 41,
    "start_time": "2022-04-22T11:24:40.985Z"
   },
   {
    "duration": 265,
    "start_time": "2022-04-22T11:24:41.028Z"
   },
   {
    "duration": 32,
    "start_time": "2022-04-22T11:24:41.295Z"
   },
   {
    "duration": 27,
    "start_time": "2022-04-22T11:24:41.329Z"
   },
   {
    "duration": 76,
    "start_time": "2022-04-22T11:24:41.358Z"
   },
   {
    "duration": 38,
    "start_time": "2022-04-22T11:24:41.436Z"
   },
   {
    "duration": 67,
    "start_time": "2022-04-22T11:24:41.477Z"
   },
   {
    "duration": 27,
    "start_time": "2022-04-22T11:24:41.552Z"
   },
   {
    "duration": 78,
    "start_time": "2022-04-22T11:24:41.581Z"
   },
   {
    "duration": 20,
    "start_time": "2022-04-22T11:24:41.661Z"
   },
   {
    "duration": 18,
    "start_time": "2022-04-22T11:24:41.683Z"
   },
   {
    "duration": 18,
    "start_time": "2022-04-22T11:24:41.724Z"
   },
   {
    "duration": 18,
    "start_time": "2022-04-22T11:24:41.744Z"
   },
   {
    "duration": 65,
    "start_time": "2022-04-22T11:24:41.764Z"
   },
   {
    "duration": 24,
    "start_time": "2022-04-22T11:24:41.831Z"
   },
   {
    "duration": 33,
    "start_time": "2022-04-22T11:24:41.857Z"
   },
   {
    "duration": 45,
    "start_time": "2022-04-22T11:24:41.892Z"
   },
   {
    "duration": 22,
    "start_time": "2022-04-22T11:24:41.939Z"
   },
   {
    "duration": 83,
    "start_time": "2022-04-22T11:26:17.619Z"
   },
   {
    "duration": 31,
    "start_time": "2022-04-22T11:26:17.704Z"
   },
   {
    "duration": 13,
    "start_time": "2022-04-22T11:26:17.737Z"
   },
   {
    "duration": 18,
    "start_time": "2022-04-22T11:26:17.752Z"
   },
   {
    "duration": 18,
    "start_time": "2022-04-22T11:26:17.773Z"
   },
   {
    "duration": 36,
    "start_time": "2022-04-22T11:26:17.793Z"
   },
   {
    "duration": 21,
    "start_time": "2022-04-22T11:26:17.831Z"
   },
   {
    "duration": 16,
    "start_time": "2022-04-22T11:26:17.854Z"
   },
   {
    "duration": 6,
    "start_time": "2022-04-22T11:26:17.873Z"
   },
   {
    "duration": 8,
    "start_time": "2022-04-22T11:26:17.881Z"
   },
   {
    "duration": 18,
    "start_time": "2022-04-22T11:26:17.925Z"
   },
   {
    "duration": 13,
    "start_time": "2022-04-22T11:26:17.945Z"
   },
   {
    "duration": 7,
    "start_time": "2022-04-22T11:26:17.960Z"
   },
   {
    "duration": 7,
    "start_time": "2022-04-22T11:26:17.972Z"
   },
   {
    "duration": 47,
    "start_time": "2022-04-22T11:26:17.981Z"
   },
   {
    "duration": 261,
    "start_time": "2022-04-22T11:26:18.030Z"
   },
   {
    "duration": 447,
    "start_time": "2022-04-22T11:26:18.293Z"
   },
   {
    "duration": 276,
    "start_time": "2022-04-22T11:26:18.743Z"
   },
   {
    "duration": 12,
    "start_time": "2022-04-22T11:26:19.022Z"
   },
   {
    "duration": 16,
    "start_time": "2022-04-22T11:26:19.038Z"
   },
   {
    "duration": 10267,
    "start_time": "2022-04-22T11:26:19.057Z"
   },
   {
    "duration": 23,
    "start_time": "2022-04-22T11:26:29.327Z"
   },
   {
    "duration": 10,
    "start_time": "2022-04-22T11:26:29.353Z"
   },
   {
    "duration": 12,
    "start_time": "2022-04-22T11:26:29.365Z"
   },
   {
    "duration": 48,
    "start_time": "2022-04-22T11:26:29.380Z"
   },
   {
    "duration": 28,
    "start_time": "2022-04-22T11:26:29.430Z"
   },
   {
    "duration": 8,
    "start_time": "2022-04-22T11:26:29.460Z"
   },
   {
    "duration": 24,
    "start_time": "2022-04-22T11:26:29.470Z"
   },
   {
    "duration": 33,
    "start_time": "2022-04-22T11:26:29.496Z"
   },
   {
    "duration": 22,
    "start_time": "2022-04-22T11:26:29.531Z"
   },
   {
    "duration": 18,
    "start_time": "2022-04-22T11:26:29.555Z"
   },
   {
    "duration": 56,
    "start_time": "2022-04-22T11:26:29.575Z"
   },
   {
    "duration": 20,
    "start_time": "2022-04-22T11:26:29.634Z"
   },
   {
    "duration": 8,
    "start_time": "2022-04-22T11:26:29.656Z"
   },
   {
    "duration": 273,
    "start_time": "2022-04-22T11:26:29.666Z"
   },
   {
    "duration": 23,
    "start_time": "2022-04-22T11:26:29.941Z"
   },
   {
    "duration": 29,
    "start_time": "2022-04-22T11:26:29.966Z"
   },
   {
    "duration": 77,
    "start_time": "2022-04-22T11:26:29.997Z"
   },
   {
    "duration": 56,
    "start_time": "2022-04-22T11:26:30.076Z"
   },
   {
    "duration": 47,
    "start_time": "2022-04-22T11:26:30.134Z"
   },
   {
    "duration": 69,
    "start_time": "2022-04-22T11:26:30.186Z"
   },
   {
    "duration": 100,
    "start_time": "2022-04-22T11:26:30.257Z"
   },
   {
    "duration": 29,
    "start_time": "2022-04-22T11:26:30.359Z"
   },
   {
    "duration": 37,
    "start_time": "2022-04-22T11:26:30.390Z"
   },
   {
    "duration": 36,
    "start_time": "2022-04-22T11:26:30.429Z"
   },
   {
    "duration": 29,
    "start_time": "2022-04-22T11:26:30.467Z"
   },
   {
    "duration": 34,
    "start_time": "2022-04-22T11:26:30.498Z"
   },
   {
    "duration": 23,
    "start_time": "2022-04-22T11:26:30.534Z"
   },
   {
    "duration": 49,
    "start_time": "2022-04-22T11:26:30.559Z"
   },
   {
    "duration": 31,
    "start_time": "2022-04-22T11:26:30.610Z"
   },
   {
    "duration": 27,
    "start_time": "2022-04-22T11:26:30.643Z"
   },
   {
    "duration": 87,
    "start_time": "2022-04-22T14:07:47.668Z"
   },
   {
    "duration": 20,
    "start_time": "2022-04-22T14:07:47.758Z"
   },
   {
    "duration": 45,
    "start_time": "2022-04-22T14:07:47.781Z"
   },
   {
    "duration": 8,
    "start_time": "2022-04-22T14:07:47.829Z"
   },
   {
    "duration": 6,
    "start_time": "2022-04-22T14:07:47.839Z"
   },
   {
    "duration": 12,
    "start_time": "2022-04-22T14:07:47.847Z"
   },
   {
    "duration": 20,
    "start_time": "2022-04-22T14:07:47.862Z"
   },
   {
    "duration": 12,
    "start_time": "2022-04-22T14:07:47.924Z"
   },
   {
    "duration": 7,
    "start_time": "2022-04-22T14:07:47.938Z"
   },
   {
    "duration": 18,
    "start_time": "2022-04-22T14:07:47.949Z"
   },
   {
    "duration": 18,
    "start_time": "2022-04-22T14:07:47.969Z"
   },
   {
    "duration": 37,
    "start_time": "2022-04-22T14:07:47.989Z"
   },
   {
    "duration": 6,
    "start_time": "2022-04-22T14:07:48.029Z"
   },
   {
    "duration": 9,
    "start_time": "2022-04-22T14:07:48.038Z"
   },
   {
    "duration": 11,
    "start_time": "2022-04-22T14:07:48.049Z"
   },
   {
    "duration": 288,
    "start_time": "2022-04-22T14:07:48.062Z"
   },
   {
    "duration": 295,
    "start_time": "2022-04-22T14:07:48.352Z"
   },
   {
    "duration": 264,
    "start_time": "2022-04-22T14:07:48.650Z"
   },
   {
    "duration": 9,
    "start_time": "2022-04-22T14:07:48.924Z"
   },
   {
    "duration": 8,
    "start_time": "2022-04-22T14:07:48.935Z"
   },
   {
    "duration": 10079,
    "start_time": "2022-04-22T14:07:48.945Z"
   },
   {
    "duration": 21,
    "start_time": "2022-04-22T14:07:59.026Z"
   },
   {
    "duration": 11,
    "start_time": "2022-04-22T14:07:59.050Z"
   },
   {
    "duration": 10,
    "start_time": "2022-04-22T14:07:59.064Z"
   },
   {
    "duration": 53,
    "start_time": "2022-04-22T14:07:59.076Z"
   },
   {
    "duration": 21,
    "start_time": "2022-04-22T14:07:59.131Z"
   },
   {
    "duration": 13,
    "start_time": "2022-04-22T14:07:59.154Z"
   },
   {
    "duration": 59,
    "start_time": "2022-04-22T14:07:59.173Z"
   },
   {
    "duration": 8,
    "start_time": "2022-04-22T14:07:59.234Z"
   },
   {
    "duration": 28,
    "start_time": "2022-04-22T14:07:59.245Z"
   },
   {
    "duration": 53,
    "start_time": "2022-04-22T14:07:59.276Z"
   },
   {
    "duration": 33,
    "start_time": "2022-04-22T14:07:59.332Z"
   },
   {
    "duration": 22,
    "start_time": "2022-04-22T14:07:59.367Z"
   },
   {
    "duration": 39,
    "start_time": "2022-04-22T14:07:59.391Z"
   },
   {
    "duration": 283,
    "start_time": "2022-04-22T14:07:59.433Z"
   },
   {
    "duration": 26,
    "start_time": "2022-04-22T14:07:59.725Z"
   },
   {
    "duration": 74,
    "start_time": "2022-04-22T14:07:59.753Z"
   },
   {
    "duration": 53,
    "start_time": "2022-04-22T14:07:59.830Z"
   },
   {
    "duration": 58,
    "start_time": "2022-04-22T14:07:59.885Z"
   },
   {
    "duration": 48,
    "start_time": "2022-04-22T14:07:59.945Z"
   },
   {
    "duration": 54,
    "start_time": "2022-04-22T14:07:59.996Z"
   },
   {
    "duration": 90,
    "start_time": "2022-04-22T14:08:00.052Z"
   },
   {
    "duration": 20,
    "start_time": "2022-04-22T14:08:00.144Z"
   },
   {
    "duration": 43,
    "start_time": "2022-04-22T14:08:00.166Z"
   },
   {
    "duration": 41,
    "start_time": "2022-04-22T14:08:00.211Z"
   },
   {
    "duration": 56,
    "start_time": "2022-04-22T14:08:00.254Z"
   },
   {
    "duration": 56,
    "start_time": "2022-04-22T14:08:00.312Z"
   },
   {
    "duration": 33,
    "start_time": "2022-04-22T14:08:00.370Z"
   },
   {
    "duration": 38,
    "start_time": "2022-04-22T14:08:00.405Z"
   },
   {
    "duration": 49,
    "start_time": "2022-04-22T14:08:00.446Z"
   },
   {
    "duration": 61,
    "start_time": "2022-04-22T14:08:00.498Z"
   },
   {
    "duration": 24,
    "start_time": "2022-04-22T14:08:00.561Z"
   },
   {
    "duration": 93,
    "start_time": "2022-04-22T14:16:57.467Z"
   },
   {
    "duration": 21,
    "start_time": "2022-04-22T14:16:57.562Z"
   },
   {
    "duration": 43,
    "start_time": "2022-04-22T14:16:57.586Z"
   },
   {
    "duration": 7,
    "start_time": "2022-04-22T14:16:57.631Z"
   },
   {
    "duration": 23,
    "start_time": "2022-04-22T14:16:57.640Z"
   },
   {
    "duration": 10,
    "start_time": "2022-04-22T14:16:57.666Z"
   },
   {
    "duration": 20,
    "start_time": "2022-04-22T14:16:57.679Z"
   },
   {
    "duration": 7,
    "start_time": "2022-04-22T14:16:57.725Z"
   },
   {
    "duration": 7,
    "start_time": "2022-04-22T14:16:57.735Z"
   },
   {
    "duration": 10,
    "start_time": "2022-04-22T14:16:57.746Z"
   },
   {
    "duration": 18,
    "start_time": "2022-04-22T14:16:57.758Z"
   },
   {
    "duration": 51,
    "start_time": "2022-04-22T14:16:57.779Z"
   },
   {
    "duration": 26,
    "start_time": "2022-04-22T14:16:57.833Z"
   },
   {
    "duration": 18,
    "start_time": "2022-04-22T14:16:57.861Z"
   },
   {
    "duration": 13,
    "start_time": "2022-04-22T14:16:57.882Z"
   },
   {
    "duration": 278,
    "start_time": "2022-04-22T14:16:57.898Z"
   },
   {
    "duration": 291,
    "start_time": "2022-04-22T14:16:58.178Z"
   },
   {
    "duration": 269,
    "start_time": "2022-04-22T14:16:58.472Z"
   },
   {
    "duration": 10,
    "start_time": "2022-04-22T14:16:58.743Z"
   },
   {
    "duration": 12,
    "start_time": "2022-04-22T14:16:58.755Z"
   },
   {
    "duration": 10378,
    "start_time": "2022-04-22T14:16:58.770Z"
   },
   {
    "duration": 21,
    "start_time": "2022-04-22T14:17:09.150Z"
   },
   {
    "duration": 8,
    "start_time": "2022-04-22T14:17:09.174Z"
   },
   {
    "duration": 42,
    "start_time": "2022-04-22T14:17:09.184Z"
   },
   {
    "duration": 13,
    "start_time": "2022-04-22T14:17:09.229Z"
   },
   {
    "duration": 20,
    "start_time": "2022-04-22T14:17:09.245Z"
   },
   {
    "duration": 7,
    "start_time": "2022-04-22T14:17:09.268Z"
   },
   {
    "duration": 57,
    "start_time": "2022-04-22T14:17:09.281Z"
   },
   {
    "duration": 7,
    "start_time": "2022-04-22T14:17:09.341Z"
   },
   {
    "duration": 22,
    "start_time": "2022-04-22T14:17:09.350Z"
   },
   {
    "duration": 20,
    "start_time": "2022-04-22T14:17:09.374Z"
   },
   {
    "duration": 50,
    "start_time": "2022-04-22T14:17:09.396Z"
   },
   {
    "duration": 21,
    "start_time": "2022-04-22T14:17:09.448Z"
   },
   {
    "duration": 7,
    "start_time": "2022-04-22T14:17:09.472Z"
   },
   {
    "duration": 303,
    "start_time": "2022-04-22T14:17:09.482Z"
   },
   {
    "duration": 38,
    "start_time": "2022-04-22T14:17:09.788Z"
   },
   {
    "duration": 29,
    "start_time": "2022-04-22T14:17:09.828Z"
   },
   {
    "duration": 74,
    "start_time": "2022-04-22T14:17:09.858Z"
   },
   {
    "duration": 41,
    "start_time": "2022-04-22T14:17:09.934Z"
   },
   {
    "duration": 68,
    "start_time": "2022-04-22T14:17:09.977Z"
   },
   {
    "duration": 28,
    "start_time": "2022-04-22T14:17:10.047Z"
   },
   {
    "duration": 81,
    "start_time": "2022-04-22T14:17:10.077Z"
   },
   {
    "duration": 19,
    "start_time": "2022-04-22T14:17:10.160Z"
   },
   {
    "duration": 21,
    "start_time": "2022-04-22T14:17:10.181Z"
   },
   {
    "duration": 18,
    "start_time": "2022-04-22T14:17:10.225Z"
   },
   {
    "duration": 20,
    "start_time": "2022-04-22T14:17:10.245Z"
   },
   {
    "duration": 70,
    "start_time": "2022-04-22T14:17:10.268Z"
   },
   {
    "duration": 27,
    "start_time": "2022-04-22T14:17:10.341Z"
   },
   {
    "duration": 66,
    "start_time": "2022-04-22T14:17:10.371Z"
   },
   {
    "duration": 28,
    "start_time": "2022-04-22T14:17:10.440Z"
   },
   {
    "duration": 33,
    "start_time": "2022-04-22T14:17:10.471Z"
   },
   {
    "duration": 25,
    "start_time": "2022-04-22T14:17:10.507Z"
   },
   {
    "duration": 107,
    "start_time": "2022-04-22T14:22:24.520Z"
   },
   {
    "duration": 25,
    "start_time": "2022-04-22T14:22:24.629Z"
   },
   {
    "duration": 17,
    "start_time": "2022-04-22T14:22:24.657Z"
   },
   {
    "duration": 50,
    "start_time": "2022-04-22T14:22:24.678Z"
   },
   {
    "duration": 12,
    "start_time": "2022-04-22T14:22:24.731Z"
   },
   {
    "duration": 18,
    "start_time": "2022-04-22T14:22:24.746Z"
   },
   {
    "duration": 21,
    "start_time": "2022-04-22T14:22:24.767Z"
   },
   {
    "duration": 36,
    "start_time": "2022-04-22T14:22:24.790Z"
   },
   {
    "duration": 12,
    "start_time": "2022-04-22T14:22:24.828Z"
   },
   {
    "duration": 12,
    "start_time": "2022-04-22T14:22:24.844Z"
   },
   {
    "duration": 34,
    "start_time": "2022-04-22T14:22:24.858Z"
   },
   {
    "duration": 31,
    "start_time": "2022-04-22T14:22:24.894Z"
   },
   {
    "duration": 8,
    "start_time": "2022-04-22T14:22:24.927Z"
   },
   {
    "duration": 18,
    "start_time": "2022-04-22T14:22:24.937Z"
   },
   {
    "duration": 18,
    "start_time": "2022-04-22T14:22:24.957Z"
   },
   {
    "duration": 270,
    "start_time": "2022-04-22T14:22:24.977Z"
   },
   {
    "duration": 290,
    "start_time": "2022-04-22T14:22:25.249Z"
   },
   {
    "duration": 265,
    "start_time": "2022-04-22T14:22:25.541Z"
   },
   {
    "duration": 19,
    "start_time": "2022-04-22T14:22:25.808Z"
   },
   {
    "duration": 8,
    "start_time": "2022-04-22T14:22:25.829Z"
   },
   {
    "duration": 10835,
    "start_time": "2022-04-22T14:22:25.839Z"
   },
   {
    "duration": 21,
    "start_time": "2022-04-22T14:22:36.676Z"
   },
   {
    "duration": 8,
    "start_time": "2022-04-22T14:22:36.699Z"
   },
   {
    "duration": 20,
    "start_time": "2022-04-22T14:22:36.709Z"
   },
   {
    "duration": 12,
    "start_time": "2022-04-22T14:22:36.731Z"
   },
   {
    "duration": 21,
    "start_time": "2022-04-22T14:22:36.746Z"
   },
   {
    "duration": 8,
    "start_time": "2022-04-22T14:22:36.769Z"
   },
   {
    "duration": 62,
    "start_time": "2022-04-22T14:22:36.783Z"
   },
   {
    "duration": 8,
    "start_time": "2022-04-22T14:22:36.847Z"
   },
   {
    "duration": 19,
    "start_time": "2022-04-22T14:22:36.857Z"
   },
   {
    "duration": 52,
    "start_time": "2022-04-22T14:22:36.878Z"
   },
   {
    "duration": 24,
    "start_time": "2022-04-22T14:22:36.932Z"
   },
   {
    "duration": 20,
    "start_time": "2022-04-22T14:22:36.958Z"
   },
   {
    "duration": 7,
    "start_time": "2022-04-22T14:22:36.980Z"
   },
   {
    "duration": 300,
    "start_time": "2022-04-22T14:22:36.989Z"
   },
   {
    "duration": 36,
    "start_time": "2022-04-22T14:22:37.292Z"
   },
   {
    "duration": 27,
    "start_time": "2022-04-22T14:22:37.330Z"
   },
   {
    "duration": 78,
    "start_time": "2022-04-22T14:22:37.360Z"
   },
   {
    "duration": 40,
    "start_time": "2022-04-22T14:22:37.441Z"
   },
   {
    "duration": 66,
    "start_time": "2022-04-22T14:22:37.483Z"
   },
   {
    "duration": 29,
    "start_time": "2022-04-22T14:22:37.551Z"
   },
   {
    "duration": 85,
    "start_time": "2022-04-22T14:22:37.582Z"
   },
   {
    "duration": 19,
    "start_time": "2022-04-22T14:22:37.669Z"
   },
   {
    "duration": 39,
    "start_time": "2022-04-22T14:22:37.690Z"
   },
   {
    "duration": 18,
    "start_time": "2022-04-22T14:22:37.731Z"
   },
   {
    "duration": 17,
    "start_time": "2022-04-22T14:22:37.752Z"
   },
   {
    "duration": 70,
    "start_time": "2022-04-22T14:22:37.771Z"
   },
   {
    "duration": 23,
    "start_time": "2022-04-22T14:22:37.843Z"
   },
   {
    "duration": 55,
    "start_time": "2022-04-22T14:22:37.869Z"
   },
   {
    "duration": 17,
    "start_time": "2022-04-22T14:22:37.927Z"
   },
   {
    "duration": 34,
    "start_time": "2022-04-22T14:22:37.947Z"
   },
   {
    "duration": 19,
    "start_time": "2022-04-22T14:22:37.983Z"
   },
   {
    "duration": 129,
    "start_time": "2022-04-22T14:23:28.027Z"
   },
   {
    "duration": 31,
    "start_time": "2022-04-22T14:23:28.160Z"
   },
   {
    "duration": 16,
    "start_time": "2022-04-22T14:23:28.225Z"
   },
   {
    "duration": 7,
    "start_time": "2022-04-22T14:23:28.245Z"
   },
   {
    "duration": 7,
    "start_time": "2022-04-22T14:23:28.256Z"
   },
   {
    "duration": 26,
    "start_time": "2022-04-22T14:23:28.265Z"
   },
   {
    "duration": 51,
    "start_time": "2022-04-22T14:23:28.294Z"
   },
   {
    "duration": 10,
    "start_time": "2022-04-22T14:23:28.348Z"
   },
   {
    "duration": 9,
    "start_time": "2022-04-22T14:23:28.361Z"
   },
   {
    "duration": 52,
    "start_time": "2022-04-22T14:23:28.372Z"
   },
   {
    "duration": 26,
    "start_time": "2022-04-22T14:23:28.427Z"
   },
   {
    "duration": 10,
    "start_time": "2022-04-22T14:23:28.457Z"
   },
   {
    "duration": 13,
    "start_time": "2022-04-22T14:23:28.470Z"
   },
   {
    "duration": 37,
    "start_time": "2022-04-22T14:23:28.490Z"
   },
   {
    "duration": 12,
    "start_time": "2022-04-22T14:23:28.530Z"
   },
   {
    "duration": 286,
    "start_time": "2022-04-22T14:23:28.544Z"
   },
   {
    "duration": 300,
    "start_time": "2022-04-22T14:23:28.833Z"
   },
   {
    "duration": 267,
    "start_time": "2022-04-22T14:23:29.136Z"
   },
   {
    "duration": 25,
    "start_time": "2022-04-22T14:23:29.406Z"
   },
   {
    "duration": 9,
    "start_time": "2022-04-22T14:23:29.434Z"
   },
   {
    "duration": 11973,
    "start_time": "2022-04-22T14:23:29.445Z"
   },
   {
    "duration": 22,
    "start_time": "2022-04-22T14:23:41.425Z"
   },
   {
    "duration": 9,
    "start_time": "2022-04-22T14:23:41.449Z"
   },
   {
    "duration": 7,
    "start_time": "2022-04-22T14:23:41.460Z"
   },
   {
    "duration": 56,
    "start_time": "2022-04-22T14:23:41.469Z"
   },
   {
    "duration": 21,
    "start_time": "2022-04-22T14:23:41.527Z"
   },
   {
    "duration": 8,
    "start_time": "2022-04-22T14:23:41.551Z"
   },
   {
    "duration": 21,
    "start_time": "2022-04-22T14:23:41.561Z"
   },
   {
    "duration": 45,
    "start_time": "2022-04-22T14:23:41.584Z"
   },
   {
    "duration": 30,
    "start_time": "2022-04-22T14:23:41.631Z"
   },
   {
    "duration": 27,
    "start_time": "2022-04-22T14:23:41.664Z"
   },
   {
    "duration": 23,
    "start_time": "2022-04-22T14:23:41.725Z"
   },
   {
    "duration": 20,
    "start_time": "2022-04-22T14:23:41.750Z"
   },
   {
    "duration": 7,
    "start_time": "2022-04-22T14:23:41.773Z"
   },
   {
    "duration": 295,
    "start_time": "2022-04-22T14:23:41.783Z"
   },
   {
    "duration": 27,
    "start_time": "2022-04-22T14:23:42.081Z"
   },
   {
    "duration": 51,
    "start_time": "2022-04-22T14:23:42.110Z"
   },
   {
    "duration": 76,
    "start_time": "2022-04-22T14:23:42.164Z"
   },
   {
    "duration": 42,
    "start_time": "2022-04-22T14:23:42.242Z"
   },
   {
    "duration": 68,
    "start_time": "2022-04-22T14:23:42.286Z"
   },
   {
    "duration": 29,
    "start_time": "2022-04-22T14:23:42.362Z"
   },
   {
    "duration": 81,
    "start_time": "2022-04-22T14:23:42.394Z"
   },
   {
    "duration": 20,
    "start_time": "2022-04-22T14:23:42.477Z"
   },
   {
    "duration": 43,
    "start_time": "2022-04-22T14:23:42.499Z"
   },
   {
    "duration": 19,
    "start_time": "2022-04-22T14:23:42.544Z"
   },
   {
    "duration": 20,
    "start_time": "2022-04-22T14:23:42.565Z"
   },
   {
    "duration": 34,
    "start_time": "2022-04-22T14:23:42.625Z"
   },
   {
    "duration": 23,
    "start_time": "2022-04-22T14:23:42.661Z"
   },
   {
    "duration": 67,
    "start_time": "2022-04-22T14:23:42.686Z"
   },
   {
    "duration": 18,
    "start_time": "2022-04-22T14:23:42.755Z"
   },
   {
    "duration": 58,
    "start_time": "2022-04-22T14:23:42.776Z"
   },
   {
    "duration": 21,
    "start_time": "2022-04-22T14:23:42.837Z"
   },
   {
    "duration": 86,
    "start_time": "2022-04-22T14:25:37.057Z"
   },
   {
    "duration": 21,
    "start_time": "2022-04-22T14:25:37.146Z"
   },
   {
    "duration": 14,
    "start_time": "2022-04-22T14:25:37.169Z"
   },
   {
    "duration": 43,
    "start_time": "2022-04-22T14:25:37.186Z"
   },
   {
    "duration": 8,
    "start_time": "2022-04-22T14:25:37.231Z"
   },
   {
    "duration": 12,
    "start_time": "2022-04-22T14:25:37.241Z"
   },
   {
    "duration": 19,
    "start_time": "2022-04-22T14:25:37.255Z"
   },
   {
    "duration": 7,
    "start_time": "2022-04-22T14:25:37.276Z"
   },
   {
    "duration": 46,
    "start_time": "2022-04-22T14:25:37.285Z"
   },
   {
    "duration": 8,
    "start_time": "2022-04-22T14:25:37.335Z"
   },
   {
    "duration": 18,
    "start_time": "2022-04-22T14:25:37.345Z"
   },
   {
    "duration": 11,
    "start_time": "2022-04-22T14:25:37.366Z"
   },
   {
    "duration": 50,
    "start_time": "2022-04-22T14:25:37.379Z"
   },
   {
    "duration": 8,
    "start_time": "2022-04-22T14:25:37.431Z"
   },
   {
    "duration": 13,
    "start_time": "2022-04-22T14:25:37.442Z"
   },
   {
    "duration": 283,
    "start_time": "2022-04-22T14:25:37.457Z"
   },
   {
    "duration": 285,
    "start_time": "2022-04-22T14:25:37.742Z"
   },
   {
    "duration": 455,
    "start_time": "2022-04-22T14:25:38.029Z"
   },
   {
    "duration": 10,
    "start_time": "2022-04-22T14:25:38.486Z"
   },
   {
    "duration": 28,
    "start_time": "2022-04-22T14:25:38.498Z"
   },
   {
    "duration": 10239,
    "start_time": "2022-04-22T14:25:38.528Z"
   },
   {
    "duration": 22,
    "start_time": "2022-04-22T14:25:48.769Z"
   },
   {
    "duration": 33,
    "start_time": "2022-04-22T14:25:48.793Z"
   },
   {
    "duration": 8,
    "start_time": "2022-04-22T14:25:48.828Z"
   },
   {
    "duration": 14,
    "start_time": "2022-04-22T14:25:48.839Z"
   },
   {
    "duration": 23,
    "start_time": "2022-04-22T14:25:48.855Z"
   },
   {
    "duration": 44,
    "start_time": "2022-04-22T14:25:48.881Z"
   },
   {
    "duration": 21,
    "start_time": "2022-04-22T14:25:48.931Z"
   },
   {
    "duration": 8,
    "start_time": "2022-04-22T14:25:48.955Z"
   },
   {
    "duration": 21,
    "start_time": "2022-04-22T14:25:48.965Z"
   },
   {
    "duration": 52,
    "start_time": "2022-04-22T14:25:48.989Z"
   },
   {
    "duration": 22,
    "start_time": "2022-04-22T14:25:49.044Z"
   },
   {
    "duration": 20,
    "start_time": "2022-04-22T14:25:49.069Z"
   },
   {
    "duration": 39,
    "start_time": "2022-04-22T14:25:49.091Z"
   },
   {
    "duration": 275,
    "start_time": "2022-04-22T14:25:49.132Z"
   },
   {
    "duration": 27,
    "start_time": "2022-04-22T14:25:49.410Z"
   },
   {
    "duration": 33,
    "start_time": "2022-04-22T14:25:49.440Z"
   },
   {
    "duration": 86,
    "start_time": "2022-04-22T14:25:49.475Z"
   },
   {
    "duration": 86,
    "start_time": "2022-04-22T14:25:49.563Z"
   },
   {
    "duration": 47,
    "start_time": "2022-04-22T14:25:49.651Z"
   },
   {
    "duration": 40,
    "start_time": "2022-04-22T14:25:49.700Z"
   },
   {
    "duration": 59,
    "start_time": "2022-04-22T14:25:49.742Z"
   },
   {
    "duration": 28,
    "start_time": "2022-04-22T14:25:49.804Z"
   },
   {
    "duration": 45,
    "start_time": "2022-04-22T14:25:49.834Z"
   },
   {
    "duration": 36,
    "start_time": "2022-04-22T14:25:49.881Z"
   },
   {
    "duration": 53,
    "start_time": "2022-04-22T14:25:49.919Z"
   },
   {
    "duration": 68,
    "start_time": "2022-04-22T14:25:49.975Z"
   },
   {
    "duration": 71,
    "start_time": "2022-04-22T14:25:50.046Z"
   },
   {
    "duration": 122,
    "start_time": "2022-04-22T14:25:50.119Z"
   },
   {
    "duration": 48,
    "start_time": "2022-04-22T14:25:50.244Z"
   },
   {
    "duration": 32,
    "start_time": "2022-04-22T14:25:50.295Z"
   },
   {
    "duration": 33,
    "start_time": "2022-04-22T14:25:50.330Z"
   },
   {
    "duration": 9,
    "start_time": "2022-04-22T14:28:36.153Z"
   },
   {
    "duration": 15,
    "start_time": "2022-04-22T14:29:35.044Z"
   },
   {
    "duration": 17,
    "start_time": "2022-04-22T14:29:44.609Z"
   },
   {
    "duration": 10,
    "start_time": "2022-04-22T14:35:35.044Z"
   },
   {
    "duration": 34,
    "start_time": "2022-04-22T14:36:15.401Z"
   },
   {
    "duration": 23,
    "start_time": "2022-04-22T14:37:09.976Z"
   },
   {
    "duration": 41,
    "start_time": "2022-04-22T14:39:11.103Z"
   },
   {
    "duration": 129,
    "start_time": "2022-04-22T14:39:18.657Z"
   },
   {
    "duration": 52,
    "start_time": "2022-04-22T14:39:18.789Z"
   },
   {
    "duration": 17,
    "start_time": "2022-04-22T14:39:18.843Z"
   },
   {
    "duration": 8,
    "start_time": "2022-04-22T14:39:18.863Z"
   },
   {
    "duration": 12,
    "start_time": "2022-04-22T14:39:18.873Z"
   },
   {
    "duration": 13,
    "start_time": "2022-04-22T14:39:18.924Z"
   },
   {
    "duration": 23,
    "start_time": "2022-04-22T14:39:18.939Z"
   },
   {
    "duration": 12,
    "start_time": "2022-04-22T14:39:18.964Z"
   },
   {
    "duration": 48,
    "start_time": "2022-04-22T14:39:18.978Z"
   },
   {
    "duration": 8,
    "start_time": "2022-04-22T14:39:19.030Z"
   },
   {
    "duration": 22,
    "start_time": "2022-04-22T14:39:19.041Z"
   },
   {
    "duration": 10,
    "start_time": "2022-04-22T14:39:19.066Z"
   },
   {
    "duration": 46,
    "start_time": "2022-04-22T14:39:19.080Z"
   },
   {
    "duration": 11,
    "start_time": "2022-04-22T14:39:19.129Z"
   },
   {
    "duration": 16,
    "start_time": "2022-04-22T14:39:19.142Z"
   },
   {
    "duration": 365,
    "start_time": "2022-04-22T14:39:19.160Z"
   },
   {
    "duration": 278,
    "start_time": "2022-04-22T14:39:19.528Z"
   },
   {
    "duration": 270,
    "start_time": "2022-04-22T14:39:19.809Z"
   },
   {
    "duration": 9,
    "start_time": "2022-04-22T14:39:20.081Z"
   },
   {
    "duration": 8,
    "start_time": "2022-04-22T14:39:20.093Z"
   },
   {
    "duration": 11379,
    "start_time": "2022-04-22T14:39:20.126Z"
   },
   {
    "duration": 30,
    "start_time": "2022-04-22T14:39:31.507Z"
   },
   {
    "duration": 8,
    "start_time": "2022-04-22T14:39:31.540Z"
   },
   {
    "duration": 8,
    "start_time": "2022-04-22T14:39:31.550Z"
   },
   {
    "duration": 14,
    "start_time": "2022-04-22T14:39:31.560Z"
   },
   {
    "duration": 67,
    "start_time": "2022-04-22T14:39:31.577Z"
   },
   {
    "duration": 10,
    "start_time": "2022-04-22T14:39:31.647Z"
   },
   {
    "duration": 58,
    "start_time": "2022-04-22T14:39:31.665Z"
   },
   {
    "duration": 10,
    "start_time": "2022-04-22T14:39:31.726Z"
   },
   {
    "duration": 23,
    "start_time": "2022-04-22T14:39:31.739Z"
   },
   {
    "duration": 53,
    "start_time": "2022-04-22T14:39:31.765Z"
   },
   {
    "duration": 29,
    "start_time": "2022-04-22T14:39:31.825Z"
   },
   {
    "duration": 23,
    "start_time": "2022-04-22T14:39:31.856Z"
   },
   {
    "duration": 9,
    "start_time": "2022-04-22T14:39:31.882Z"
   },
   {
    "duration": 401,
    "start_time": "2022-04-22T14:39:31.894Z"
   },
   {
    "duration": 39,
    "start_time": "2022-04-22T14:39:32.297Z"
   },
   {
    "duration": 31,
    "start_time": "2022-04-22T14:39:32.339Z"
   },
   {
    "duration": 82,
    "start_time": "2022-04-22T14:39:32.373Z"
   },
   {
    "duration": 41,
    "start_time": "2022-04-22T14:39:32.458Z"
   },
   {
    "duration": 67,
    "start_time": "2022-04-22T14:39:32.501Z"
   },
   {
    "duration": 29,
    "start_time": "2022-04-22T14:39:32.570Z"
   },
   {
    "duration": 77,
    "start_time": "2022-04-22T14:39:32.601Z"
   },
   {
    "duration": 20,
    "start_time": "2022-04-22T14:39:32.680Z"
   },
   {
    "duration": 39,
    "start_time": "2022-04-22T14:39:32.702Z"
   },
   {
    "duration": 28,
    "start_time": "2022-04-22T14:39:32.744Z"
   },
   {
    "duration": 23,
    "start_time": "2022-04-22T14:39:32.775Z"
   },
   {
    "duration": 65,
    "start_time": "2022-04-22T14:39:32.824Z"
   },
   {
    "duration": 26,
    "start_time": "2022-04-22T14:39:32.892Z"
   },
   {
    "duration": 37,
    "start_time": "2022-04-22T14:39:32.921Z"
   },
   {
    "duration": 25,
    "start_time": "2022-04-22T14:39:32.960Z"
   },
   {
    "duration": 38,
    "start_time": "2022-04-22T14:39:32.987Z"
   },
   {
    "duration": 34,
    "start_time": "2022-04-22T14:39:33.028Z"
   },
   {
    "duration": 31,
    "start_time": "2022-04-22T14:39:33.064Z"
   },
   {
    "duration": 25,
    "start_time": "2022-04-22T14:46:26.661Z"
   },
   {
    "duration": 84,
    "start_time": "2022-04-23T06:14:23.614Z"
   },
   {
    "duration": 531,
    "start_time": "2022-04-23T06:15:40.581Z"
   },
   {
    "duration": 16,
    "start_time": "2022-04-23T06:15:41.114Z"
   },
   {
    "duration": 14,
    "start_time": "2022-04-23T06:15:41.132Z"
   },
   {
    "duration": 16,
    "start_time": "2022-04-23T06:15:41.148Z"
   },
   {
    "duration": 11,
    "start_time": "2022-04-23T06:15:41.165Z"
   },
   {
    "duration": 9,
    "start_time": "2022-04-23T06:15:41.178Z"
   },
   {
    "duration": 13,
    "start_time": "2022-04-23T06:15:41.189Z"
   },
   {
    "duration": 7,
    "start_time": "2022-04-23T06:15:41.204Z"
   },
   {
    "duration": 8,
    "start_time": "2022-04-23T06:15:41.212Z"
   },
   {
    "duration": 7,
    "start_time": "2022-04-23T06:15:41.223Z"
   },
   {
    "duration": 43,
    "start_time": "2022-04-23T06:15:41.232Z"
   },
   {
    "duration": 8,
    "start_time": "2022-04-23T06:15:41.276Z"
   },
   {
    "duration": 7,
    "start_time": "2022-04-23T06:15:41.285Z"
   },
   {
    "duration": 7,
    "start_time": "2022-04-23T06:15:41.293Z"
   },
   {
    "duration": 9,
    "start_time": "2022-04-23T06:15:41.301Z"
   },
   {
    "duration": 1109,
    "start_time": "2022-04-23T06:15:41.312Z"
   },
   {
    "duration": 186,
    "start_time": "2022-04-23T06:15:42.423Z"
   },
   {
    "duration": 165,
    "start_time": "2022-04-23T06:15:42.611Z"
   },
   {
    "duration": 7,
    "start_time": "2022-04-23T06:15:42.777Z"
   },
   {
    "duration": 6,
    "start_time": "2022-04-23T06:15:42.786Z"
   },
   {
    "duration": 5439,
    "start_time": "2022-04-23T06:15:42.794Z"
   },
   {
    "duration": 15,
    "start_time": "2022-04-23T06:15:48.235Z"
   },
   {
    "duration": 22,
    "start_time": "2022-04-23T06:15:48.252Z"
   },
   {
    "duration": 5,
    "start_time": "2022-04-23T06:15:48.276Z"
   },
   {
    "duration": 12,
    "start_time": "2022-04-23T06:15:48.283Z"
   },
   {
    "duration": 17,
    "start_time": "2022-04-23T06:15:48.297Z"
   },
   {
    "duration": 5,
    "start_time": "2022-04-23T06:15:48.315Z"
   },
   {
    "duration": 15,
    "start_time": "2022-04-23T06:15:48.324Z"
   },
   {
    "duration": 37,
    "start_time": "2022-04-23T06:15:48.340Z"
   },
   {
    "duration": 15,
    "start_time": "2022-04-23T06:15:48.378Z"
   },
   {
    "duration": 13,
    "start_time": "2022-04-23T06:15:48.395Z"
   },
   {
    "duration": 18,
    "start_time": "2022-04-23T06:15:48.410Z"
   },
   {
    "duration": 14,
    "start_time": "2022-04-23T06:15:48.430Z"
   },
   {
    "duration": 6,
    "start_time": "2022-04-23T06:15:48.474Z"
   },
   {
    "duration": 171,
    "start_time": "2022-04-23T06:15:48.481Z"
   },
   {
    "duration": 27,
    "start_time": "2022-04-23T06:15:48.654Z"
   },
   {
    "duration": 19,
    "start_time": "2022-04-23T06:15:48.683Z"
   },
   {
    "duration": 34,
    "start_time": "2022-04-23T06:15:48.704Z"
   },
   {
    "duration": 52,
    "start_time": "2022-04-23T06:15:48.739Z"
   },
   {
    "duration": 35,
    "start_time": "2022-04-23T06:15:48.793Z"
   },
   {
    "duration": 44,
    "start_time": "2022-04-23T06:15:48.830Z"
   },
   {
    "duration": 39,
    "start_time": "2022-04-23T06:15:48.875Z"
   },
   {
    "duration": 13,
    "start_time": "2022-04-23T06:15:48.915Z"
   },
   {
    "duration": 16,
    "start_time": "2022-04-23T06:15:48.930Z"
   },
   {
    "duration": 37,
    "start_time": "2022-04-23T06:15:48.947Z"
   },
   {
    "duration": 14,
    "start_time": "2022-04-23T06:15:48.986Z"
   },
   {
    "duration": 36,
    "start_time": "2022-04-23T06:15:49.002Z"
   },
   {
    "duration": 39,
    "start_time": "2022-04-23T06:15:49.040Z"
   },
   {
    "duration": 24,
    "start_time": "2022-04-23T06:15:49.081Z"
   },
   {
    "duration": 12,
    "start_time": "2022-04-23T06:15:49.107Z"
   },
   {
    "duration": 22,
    "start_time": "2022-04-23T06:15:49.120Z"
   },
   {
    "duration": 41,
    "start_time": "2022-04-23T06:15:49.143Z"
   },
   {
    "duration": 1476,
    "start_time": "2022-04-23T06:15:49.186Z"
   },
   {
    "duration": 67,
    "start_time": "2022-04-23T06:16:56.648Z"
   },
   {
    "duration": 14,
    "start_time": "2022-04-23T06:16:56.717Z"
   },
   {
    "duration": 10,
    "start_time": "2022-04-23T06:16:56.732Z"
   },
   {
    "duration": 5,
    "start_time": "2022-04-23T06:16:56.774Z"
   },
   {
    "duration": 8,
    "start_time": "2022-04-23T06:16:56.781Z"
   },
   {
    "duration": 8,
    "start_time": "2022-04-23T06:16:56.791Z"
   },
   {
    "duration": 14,
    "start_time": "2022-04-23T06:16:56.800Z"
   },
   {
    "duration": 7,
    "start_time": "2022-04-23T06:16:56.815Z"
   },
   {
    "duration": 16,
    "start_time": "2022-04-23T06:16:56.823Z"
   },
   {
    "duration": 35,
    "start_time": "2022-04-23T06:16:56.842Z"
   },
   {
    "duration": 16,
    "start_time": "2022-04-23T06:16:56.878Z"
   },
   {
    "duration": 9,
    "start_time": "2022-04-23T06:16:56.895Z"
   },
   {
    "duration": 6,
    "start_time": "2022-04-23T06:16:56.906Z"
   },
   {
    "duration": 8,
    "start_time": "2022-04-23T06:16:56.913Z"
   },
   {
    "duration": 13,
    "start_time": "2022-04-23T06:16:56.922Z"
   },
   {
    "duration": 204,
    "start_time": "2022-04-23T06:16:56.937Z"
   },
   {
    "duration": 188,
    "start_time": "2022-04-23T06:16:57.143Z"
   },
   {
    "duration": 171,
    "start_time": "2022-04-23T06:16:57.333Z"
   },
   {
    "duration": 9,
    "start_time": "2022-04-23T06:16:57.506Z"
   },
   {
    "duration": 6,
    "start_time": "2022-04-23T06:16:57.517Z"
   },
   {
    "duration": 5714,
    "start_time": "2022-04-23T06:16:57.525Z"
   },
   {
    "duration": 16,
    "start_time": "2022-04-23T06:17:03.241Z"
   },
   {
    "duration": 19,
    "start_time": "2022-04-23T06:17:03.258Z"
   },
   {
    "duration": 8,
    "start_time": "2022-04-23T06:17:03.279Z"
   },
   {
    "duration": 9,
    "start_time": "2022-04-23T06:17:03.288Z"
   },
   {
    "duration": 18,
    "start_time": "2022-04-23T06:17:03.299Z"
   },
   {
    "duration": 5,
    "start_time": "2022-04-23T06:17:03.318Z"
   },
   {
    "duration": 15,
    "start_time": "2022-04-23T06:17:03.326Z"
   },
   {
    "duration": 34,
    "start_time": "2022-04-23T06:17:03.343Z"
   },
   {
    "duration": 16,
    "start_time": "2022-04-23T06:17:03.379Z"
   },
   {
    "duration": 14,
    "start_time": "2022-04-23T06:17:03.396Z"
   },
   {
    "duration": 18,
    "start_time": "2022-04-23T06:17:03.411Z"
   },
   {
    "duration": 44,
    "start_time": "2022-04-23T06:17:03.430Z"
   },
   {
    "duration": 6,
    "start_time": "2022-04-23T06:17:03.476Z"
   },
   {
    "duration": 253,
    "start_time": "2022-04-23T06:17:03.483Z"
   },
   {
    "duration": 18,
    "start_time": "2022-04-23T06:17:03.737Z"
   },
   {
    "duration": 33,
    "start_time": "2022-04-23T06:17:03.756Z"
   },
   {
    "duration": 34,
    "start_time": "2022-04-23T06:17:03.791Z"
   },
   {
    "duration": 56,
    "start_time": "2022-04-23T06:17:03.827Z"
   },
   {
    "duration": 34,
    "start_time": "2022-04-23T06:17:03.886Z"
   },
   {
    "duration": 19,
    "start_time": "2022-04-23T06:17:03.922Z"
   },
   {
    "duration": 61,
    "start_time": "2022-04-23T06:17:03.943Z"
   },
   {
    "duration": 13,
    "start_time": "2022-04-23T06:17:04.005Z"
   },
   {
    "duration": 13,
    "start_time": "2022-04-23T06:17:04.020Z"
   },
   {
    "duration": 11,
    "start_time": "2022-04-23T06:17:04.035Z"
   },
   {
    "duration": 14,
    "start_time": "2022-04-23T06:17:04.073Z"
   },
   {
    "duration": 25,
    "start_time": "2022-04-23T06:17:04.089Z"
   },
   {
    "duration": 19,
    "start_time": "2022-04-23T06:17:04.116Z"
   },
   {
    "duration": 56,
    "start_time": "2022-04-23T06:17:04.137Z"
   },
   {
    "duration": 13,
    "start_time": "2022-04-23T06:17:04.195Z"
   },
   {
    "duration": 18,
    "start_time": "2022-04-23T06:17:04.209Z"
   },
   {
    "duration": 18,
    "start_time": "2022-04-23T06:17:04.229Z"
   },
   {
    "duration": 16,
    "start_time": "2022-04-23T06:17:04.274Z"
   },
   {
    "duration": 66,
    "start_time": "2022-04-23T06:51:16.866Z"
   },
   {
    "duration": 40,
    "start_time": "2022-04-23T06:51:16.934Z"
   },
   {
    "duration": 11,
    "start_time": "2022-04-23T06:51:16.976Z"
   },
   {
    "duration": 5,
    "start_time": "2022-04-23T06:51:16.989Z"
   },
   {
    "duration": 8,
    "start_time": "2022-04-23T06:51:16.996Z"
   },
   {
    "duration": 9,
    "start_time": "2022-04-23T06:51:17.006Z"
   },
   {
    "duration": 14,
    "start_time": "2022-04-23T06:51:17.016Z"
   },
   {
    "duration": 43,
    "start_time": "2022-04-23T06:51:17.032Z"
   },
   {
    "duration": 8,
    "start_time": "2022-04-23T06:51:17.077Z"
   },
   {
    "duration": 6,
    "start_time": "2022-04-23T06:51:17.089Z"
   },
   {
    "duration": 14,
    "start_time": "2022-04-23T06:51:17.097Z"
   },
   {
    "duration": 8,
    "start_time": "2022-04-23T06:51:17.113Z"
   },
   {
    "duration": 6,
    "start_time": "2022-04-23T06:51:17.123Z"
   },
   {
    "duration": 11,
    "start_time": "2022-04-23T06:51:17.131Z"
   },
   {
    "duration": 8,
    "start_time": "2022-04-23T06:51:17.173Z"
   },
   {
    "duration": 170,
    "start_time": "2022-04-23T06:51:17.183Z"
   },
   {
    "duration": 185,
    "start_time": "2022-04-23T06:51:17.355Z"
   },
   {
    "duration": 162,
    "start_time": "2022-04-23T06:51:17.542Z"
   },
   {
    "duration": 7,
    "start_time": "2022-04-23T06:51:17.706Z"
   },
   {
    "duration": 13,
    "start_time": "2022-04-23T06:51:17.714Z"
   },
   {
    "duration": 5526,
    "start_time": "2022-04-23T06:51:17.728Z"
   },
   {
    "duration": 24,
    "start_time": "2022-04-23T06:51:23.256Z"
   },
   {
    "duration": 7,
    "start_time": "2022-04-23T06:51:23.282Z"
   },
   {
    "duration": 5,
    "start_time": "2022-04-23T06:51:23.291Z"
   },
   {
    "duration": 12,
    "start_time": "2022-04-23T06:51:23.298Z"
   },
   {
    "duration": 17,
    "start_time": "2022-04-23T06:51:23.312Z"
   },
   {
    "duration": 6,
    "start_time": "2022-04-23T06:51:23.331Z"
   },
   {
    "duration": 45,
    "start_time": "2022-04-23T06:51:23.342Z"
   },
   {
    "duration": 7,
    "start_time": "2022-04-23T06:51:23.389Z"
   },
   {
    "duration": 15,
    "start_time": "2022-04-23T06:51:23.397Z"
   },
   {
    "duration": 13,
    "start_time": "2022-04-23T06:51:23.414Z"
   },
   {
    "duration": 46,
    "start_time": "2022-04-23T06:51:23.428Z"
   },
   {
    "duration": 15,
    "start_time": "2022-04-23T06:51:23.476Z"
   },
   {
    "duration": 10,
    "start_time": "2022-04-23T06:51:23.492Z"
   },
   {
    "duration": 183,
    "start_time": "2022-04-23T06:51:23.503Z"
   },
   {
    "duration": 18,
    "start_time": "2022-04-23T06:51:23.688Z"
   },
   {
    "duration": 19,
    "start_time": "2022-04-23T06:51:23.708Z"
   },
   {
    "duration": 62,
    "start_time": "2022-04-23T06:51:23.729Z"
   },
   {
    "duration": 31,
    "start_time": "2022-04-23T06:51:23.793Z"
   },
   {
    "duration": 53,
    "start_time": "2022-04-23T06:51:23.825Z"
   },
   {
    "duration": 19,
    "start_time": "2022-04-23T06:51:23.880Z"
   },
   {
    "duration": 35,
    "start_time": "2022-04-23T06:51:23.901Z"
   },
   {
    "duration": 36,
    "start_time": "2022-04-23T06:51:23.938Z"
   },
   {
    "duration": 14,
    "start_time": "2022-04-23T06:51:23.976Z"
   },
   {
    "duration": 12,
    "start_time": "2022-04-23T06:51:23.992Z"
   },
   {
    "duration": 13,
    "start_time": "2022-04-23T06:51:24.005Z"
   },
   {
    "duration": 54,
    "start_time": "2022-04-23T06:51:24.020Z"
   },
   {
    "duration": 18,
    "start_time": "2022-04-23T06:51:24.075Z"
   },
   {
    "duration": 24,
    "start_time": "2022-04-23T06:51:24.095Z"
   },
   {
    "duration": 12,
    "start_time": "2022-04-23T06:51:24.120Z"
   },
   {
    "duration": 45,
    "start_time": "2022-04-23T06:51:24.134Z"
   },
   {
    "duration": 17,
    "start_time": "2022-04-23T06:51:24.181Z"
   },
   {
    "duration": 14,
    "start_time": "2022-04-23T06:51:24.199Z"
   },
   {
    "duration": 15,
    "start_time": "2022-04-23T06:51:24.215Z"
   },
   {
    "duration": 63,
    "start_time": "2022-04-23T06:51:51.774Z"
   },
   {
    "duration": 15,
    "start_time": "2022-04-23T06:51:51.839Z"
   },
   {
    "duration": 10,
    "start_time": "2022-04-23T06:51:51.873Z"
   },
   {
    "duration": 6,
    "start_time": "2022-04-23T06:51:51.885Z"
   },
   {
    "duration": 6,
    "start_time": "2022-04-23T06:51:51.892Z"
   },
   {
    "duration": 7,
    "start_time": "2022-04-23T06:51:51.899Z"
   },
   {
    "duration": 13,
    "start_time": "2022-04-23T06:51:51.908Z"
   },
   {
    "duration": 9,
    "start_time": "2022-04-23T06:51:51.923Z"
   },
   {
    "duration": 41,
    "start_time": "2022-04-23T06:51:51.934Z"
   },
   {
    "duration": 8,
    "start_time": "2022-04-23T06:51:51.976Z"
   },
   {
    "duration": 12,
    "start_time": "2022-04-23T06:51:51.985Z"
   },
   {
    "duration": 6,
    "start_time": "2022-04-23T06:51:51.999Z"
   },
   {
    "duration": 5,
    "start_time": "2022-04-23T06:51:52.006Z"
   },
   {
    "duration": 5,
    "start_time": "2022-04-23T06:51:52.015Z"
   },
   {
    "duration": 10,
    "start_time": "2022-04-23T06:51:52.021Z"
   },
   {
    "duration": 199,
    "start_time": "2022-04-23T06:51:52.032Z"
   },
   {
    "duration": 179,
    "start_time": "2022-04-23T06:51:52.233Z"
   },
   {
    "duration": 166,
    "start_time": "2022-04-23T06:51:52.414Z"
   },
   {
    "duration": 7,
    "start_time": "2022-04-23T06:51:52.582Z"
   },
   {
    "duration": 10,
    "start_time": "2022-04-23T06:51:52.590Z"
   },
   {
    "duration": 5573,
    "start_time": "2022-04-23T06:51:52.602Z"
   },
   {
    "duration": 16,
    "start_time": "2022-04-23T06:51:58.177Z"
   },
   {
    "duration": 18,
    "start_time": "2022-04-23T06:51:58.195Z"
   },
   {
    "duration": 10,
    "start_time": "2022-04-23T06:51:58.215Z"
   },
   {
    "duration": 12,
    "start_time": "2022-04-23T06:51:58.227Z"
   },
   {
    "duration": 33,
    "start_time": "2022-04-23T06:51:58.241Z"
   },
   {
    "duration": 6,
    "start_time": "2022-04-23T06:51:58.276Z"
   },
   {
    "duration": 16,
    "start_time": "2022-04-23T06:51:58.284Z"
   },
   {
    "duration": 5,
    "start_time": "2022-04-23T06:51:58.302Z"
   },
   {
    "duration": 14,
    "start_time": "2022-04-23T06:51:58.309Z"
   },
   {
    "duration": 13,
    "start_time": "2022-04-23T06:51:58.325Z"
   },
   {
    "duration": 16,
    "start_time": "2022-04-23T06:51:58.373Z"
   },
   {
    "duration": 14,
    "start_time": "2022-04-23T06:51:58.391Z"
   },
   {
    "duration": 5,
    "start_time": "2022-04-23T06:51:58.407Z"
   },
   {
    "duration": 186,
    "start_time": "2022-04-23T06:51:58.414Z"
   },
   {
    "duration": 17,
    "start_time": "2022-04-23T06:51:58.602Z"
   },
   {
    "duration": 18,
    "start_time": "2022-04-23T06:51:58.621Z"
   },
   {
    "duration": 57,
    "start_time": "2022-04-23T06:51:58.641Z"
   },
   {
    "duration": 29,
    "start_time": "2022-04-23T06:51:58.699Z"
   },
   {
    "duration": 45,
    "start_time": "2022-04-23T06:51:58.729Z"
   },
   {
    "duration": 18,
    "start_time": "2022-04-23T06:51:58.778Z"
   },
   {
    "duration": 35,
    "start_time": "2022-04-23T06:51:58.798Z"
   },
   {
    "duration": 12,
    "start_time": "2022-04-23T06:51:58.834Z"
   },
   {
    "duration": 12,
    "start_time": "2022-04-23T06:51:58.873Z"
   },
   {
    "duration": 11,
    "start_time": "2022-04-23T06:51:58.887Z"
   },
   {
    "duration": 12,
    "start_time": "2022-04-23T06:51:58.900Z"
   },
   {
    "duration": 24,
    "start_time": "2022-04-23T06:51:58.914Z"
   },
   {
    "duration": 45,
    "start_time": "2022-04-23T06:51:58.940Z"
   },
   {
    "duration": 23,
    "start_time": "2022-04-23T06:51:58.987Z"
   },
   {
    "duration": 10,
    "start_time": "2022-04-23T06:51:59.012Z"
   },
   {
    "duration": 17,
    "start_time": "2022-04-23T06:51:59.024Z"
   },
   {
    "duration": 43,
    "start_time": "2022-04-23T06:51:59.042Z"
   },
   {
    "duration": 14,
    "start_time": "2022-04-23T06:51:59.086Z"
   },
   {
    "duration": 19,
    "start_time": "2022-04-23T06:51:59.101Z"
   },
   {
    "duration": 66,
    "start_time": "2022-04-23T06:55:56.957Z"
   },
   {
    "duration": 16,
    "start_time": "2022-04-23T06:55:57.024Z"
   },
   {
    "duration": 36,
    "start_time": "2022-04-23T06:55:57.041Z"
   },
   {
    "duration": 5,
    "start_time": "2022-04-23T06:55:57.079Z"
   },
   {
    "duration": 9,
    "start_time": "2022-04-23T06:55:57.085Z"
   },
   {
    "duration": 9,
    "start_time": "2022-04-23T06:55:57.095Z"
   },
   {
    "duration": 14,
    "start_time": "2022-04-23T06:55:57.105Z"
   },
   {
    "duration": 15,
    "start_time": "2022-04-23T06:55:57.120Z"
   },
   {
    "duration": 37,
    "start_time": "2022-04-23T06:55:57.137Z"
   },
   {
    "duration": 7,
    "start_time": "2022-04-23T06:55:57.178Z"
   },
   {
    "duration": 13,
    "start_time": "2022-04-23T06:55:57.187Z"
   },
   {
    "duration": 8,
    "start_time": "2022-04-23T06:55:57.202Z"
   },
   {
    "duration": 6,
    "start_time": "2022-04-23T06:55:57.211Z"
   },
   {
    "duration": 6,
    "start_time": "2022-04-23T06:55:57.219Z"
   },
   {
    "duration": 52,
    "start_time": "2022-04-23T06:55:57.227Z"
   },
   {
    "duration": 173,
    "start_time": "2022-04-23T06:55:57.281Z"
   },
   {
    "duration": 268,
    "start_time": "2022-04-23T06:55:57.456Z"
   },
   {
    "duration": 165,
    "start_time": "2022-04-23T06:55:57.726Z"
   },
   {
    "duration": 7,
    "start_time": "2022-04-23T06:55:57.893Z"
   },
   {
    "duration": 7,
    "start_time": "2022-04-23T06:55:57.902Z"
   },
   {
    "duration": 5673,
    "start_time": "2022-04-23T06:55:57.911Z"
   },
   {
    "duration": 17,
    "start_time": "2022-04-23T06:56:03.586Z"
   },
   {
    "duration": 7,
    "start_time": "2022-04-23T06:56:03.605Z"
   },
   {
    "duration": 6,
    "start_time": "2022-04-23T06:56:03.614Z"
   },
   {
    "duration": 11,
    "start_time": "2022-04-23T06:56:03.621Z"
   },
   {
    "duration": 49,
    "start_time": "2022-04-23T06:56:03.633Z"
   },
   {
    "duration": 6,
    "start_time": "2022-04-23T06:56:03.683Z"
   },
   {
    "duration": 15,
    "start_time": "2022-04-23T06:56:03.693Z"
   },
   {
    "duration": 6,
    "start_time": "2022-04-23T06:56:03.709Z"
   },
   {
    "duration": 16,
    "start_time": "2022-04-23T06:56:03.716Z"
   },
   {
    "duration": 46,
    "start_time": "2022-04-23T06:56:03.733Z"
   },
   {
    "duration": 17,
    "start_time": "2022-04-23T06:56:03.781Z"
   },
   {
    "duration": 14,
    "start_time": "2022-04-23T06:56:03.800Z"
   },
   {
    "duration": 6,
    "start_time": "2022-04-23T06:56:03.816Z"
   },
   {
    "duration": 180,
    "start_time": "2022-04-23T06:56:03.824Z"
   },
   {
    "duration": 17,
    "start_time": "2022-04-23T06:56:04.006Z"
   },
   {
    "duration": 19,
    "start_time": "2022-04-23T06:56:04.025Z"
   },
   {
    "duration": 52,
    "start_time": "2022-04-23T06:56:04.045Z"
   },
   {
    "duration": 29,
    "start_time": "2022-04-23T06:56:04.098Z"
   },
   {
    "duration": 53,
    "start_time": "2022-04-23T06:56:04.128Z"
   },
   {
    "duration": 19,
    "start_time": "2022-04-23T06:56:04.182Z"
   },
   {
    "duration": 35,
    "start_time": "2022-04-23T06:56:04.203Z"
   },
   {
    "duration": 34,
    "start_time": "2022-04-23T06:56:04.240Z"
   },
   {
    "duration": 12,
    "start_time": "2022-04-23T06:56:04.276Z"
   },
   {
    "duration": 12,
    "start_time": "2022-04-23T06:56:04.290Z"
   },
   {
    "duration": 12,
    "start_time": "2022-04-23T06:56:04.304Z"
   },
   {
    "duration": 55,
    "start_time": "2022-04-23T06:56:04.318Z"
   },
   {
    "duration": 18,
    "start_time": "2022-04-23T06:56:04.375Z"
   },
   {
    "duration": 24,
    "start_time": "2022-04-23T06:56:04.395Z"
   },
   {
    "duration": 11,
    "start_time": "2022-04-23T06:56:04.421Z"
   },
   {
    "duration": 43,
    "start_time": "2022-04-23T06:56:04.434Z"
   },
   {
    "duration": 17,
    "start_time": "2022-04-23T06:56:04.479Z"
   },
   {
    "duration": 14,
    "start_time": "2022-04-23T06:56:04.498Z"
   },
   {
    "duration": 19,
    "start_time": "2022-04-23T06:56:04.514Z"
   },
   {
    "duration": 52,
    "start_time": "2022-04-23T06:56:04.535Z"
   },
   {
    "duration": 624,
    "start_time": "2022-04-23T11:59:23.200Z"
   },
   {
    "duration": 20,
    "start_time": "2022-04-23T11:59:23.827Z"
   },
   {
    "duration": 13,
    "start_time": "2022-04-23T11:59:23.849Z"
   },
   {
    "duration": 14,
    "start_time": "2022-04-23T11:59:23.885Z"
   },
   {
    "duration": 9,
    "start_time": "2022-04-23T11:59:23.901Z"
   },
   {
    "duration": 10,
    "start_time": "2022-04-23T11:59:23.912Z"
   },
   {
    "duration": 19,
    "start_time": "2022-04-23T11:59:23.924Z"
   },
   {
    "duration": 41,
    "start_time": "2022-04-23T11:59:23.946Z"
   },
   {
    "duration": 8,
    "start_time": "2022-04-23T11:59:23.990Z"
   },
   {
    "duration": 10,
    "start_time": "2022-04-23T11:59:24.002Z"
   },
   {
    "duration": 17,
    "start_time": "2022-04-23T11:59:24.014Z"
   },
   {
    "duration": 54,
    "start_time": "2022-04-23T11:59:24.033Z"
   },
   {
    "duration": 19,
    "start_time": "2022-04-23T11:59:24.090Z"
   },
   {
    "duration": 7,
    "start_time": "2022-04-23T11:59:24.111Z"
   },
   {
    "duration": 10,
    "start_time": "2022-04-23T11:59:24.120Z"
   },
   {
    "duration": 1690,
    "start_time": "2022-04-23T11:59:24.132Z"
   },
   {
    "duration": 309,
    "start_time": "2022-04-23T11:59:25.824Z"
   },
   {
    "duration": 292,
    "start_time": "2022-04-23T11:59:26.135Z"
   },
   {
    "duration": 9,
    "start_time": "2022-04-23T11:59:26.430Z"
   },
   {
    "duration": 8,
    "start_time": "2022-04-23T11:59:26.441Z"
   },
   {
    "duration": 11745,
    "start_time": "2022-04-23T11:59:26.451Z"
   },
   {
    "duration": 22,
    "start_time": "2022-04-23T11:59:38.198Z"
   },
   {
    "duration": 7,
    "start_time": "2022-04-23T11:59:38.222Z"
   },
   {
    "duration": 7,
    "start_time": "2022-04-23T11:59:38.231Z"
   },
   {
    "duration": 53,
    "start_time": "2022-04-23T11:59:38.239Z"
   },
   {
    "duration": 22,
    "start_time": "2022-04-23T11:59:38.295Z"
   },
   {
    "duration": 9,
    "start_time": "2022-04-23T11:59:38.320Z"
   },
   {
    "duration": 59,
    "start_time": "2022-04-23T11:59:38.336Z"
   },
   {
    "duration": 20,
    "start_time": "2022-04-23T11:59:38.397Z"
   },
   {
    "duration": 21,
    "start_time": "2022-04-23T11:59:38.420Z"
   },
   {
    "duration": 51,
    "start_time": "2022-04-23T11:59:38.443Z"
   },
   {
    "duration": 23,
    "start_time": "2022-04-23T11:59:38.496Z"
   },
   {
    "duration": 21,
    "start_time": "2022-04-23T11:59:38.521Z"
   },
   {
    "duration": 44,
    "start_time": "2022-04-23T11:59:38.544Z"
   },
   {
    "duration": 278,
    "start_time": "2022-04-23T11:59:38.591Z"
   },
   {
    "duration": 33,
    "start_time": "2022-04-23T11:59:38.871Z"
   },
   {
    "duration": 31,
    "start_time": "2022-04-23T11:59:38.906Z"
   },
   {
    "duration": 80,
    "start_time": "2022-04-23T11:59:38.940Z"
   },
   {
    "duration": 39,
    "start_time": "2022-04-23T11:59:39.022Z"
   },
   {
    "duration": 66,
    "start_time": "2022-04-23T11:59:39.063Z"
   },
   {
    "duration": 26,
    "start_time": "2022-04-23T11:59:39.131Z"
   },
   {
    "duration": 79,
    "start_time": "2022-04-23T11:59:39.159Z"
   },
   {
    "duration": 44,
    "start_time": "2022-04-23T11:59:39.241Z"
   },
   {
    "duration": 20,
    "start_time": "2022-04-23T11:59:39.288Z"
   },
   {
    "duration": 17,
    "start_time": "2022-04-23T11:59:39.310Z"
   },
   {
    "duration": 18,
    "start_time": "2022-04-23T11:59:39.329Z"
   },
   {
    "duration": 72,
    "start_time": "2022-04-23T11:59:39.349Z"
   },
   {
    "duration": 24,
    "start_time": "2022-04-23T11:59:39.425Z"
   },
   {
    "duration": 66,
    "start_time": "2022-04-23T11:59:39.451Z"
   },
   {
    "duration": 17,
    "start_time": "2022-04-23T11:59:39.519Z"
   },
   {
    "duration": 50,
    "start_time": "2022-04-23T11:59:39.538Z"
   },
   {
    "duration": 32,
    "start_time": "2022-04-23T11:59:39.591Z"
   },
   {
    "duration": 196,
    "start_time": "2022-04-23T11:59:39.626Z"
   },
   {
    "duration": 0,
    "start_time": "2022-04-23T11:59:39.825Z"
   },
   {
    "duration": 0,
    "start_time": "2022-04-23T11:59:39.827Z"
   },
   {
    "duration": 0,
    "start_time": "2022-04-23T11:59:39.828Z"
   },
   {
    "duration": 18,
    "start_time": "2022-04-23T12:00:03.026Z"
   },
   {
    "duration": 148,
    "start_time": "2022-04-23T12:01:44.942Z"
   },
   {
    "duration": 22,
    "start_time": "2022-04-23T12:01:58.124Z"
   },
   {
    "duration": 18,
    "start_time": "2022-04-23T12:02:17.703Z"
   },
   {
    "duration": 19,
    "start_time": "2022-04-23T12:07:06.836Z"
   },
   {
    "duration": 17,
    "start_time": "2022-04-23T12:07:21.002Z"
   },
   {
    "duration": 127,
    "start_time": "2022-04-23T12:09:41.727Z"
   },
   {
    "duration": 148,
    "start_time": "2022-04-23T12:12:25.377Z"
   },
   {
    "duration": 18,
    "start_time": "2022-04-23T12:12:53.897Z"
   },
   {
    "duration": 14,
    "start_time": "2022-04-23T12:15:26.441Z"
   },
   {
    "duration": 134,
    "start_time": "2022-04-23T12:16:06.169Z"
   },
   {
    "duration": 21,
    "start_time": "2022-04-23T12:16:06.306Z"
   },
   {
    "duration": 68,
    "start_time": "2022-04-23T12:16:06.329Z"
   },
   {
    "duration": 10,
    "start_time": "2022-04-23T12:16:06.401Z"
   },
   {
    "duration": 11,
    "start_time": "2022-04-23T12:16:06.412Z"
   },
   {
    "duration": 12,
    "start_time": "2022-04-23T12:16:06.425Z"
   },
   {
    "duration": 62,
    "start_time": "2022-04-23T12:16:06.439Z"
   },
   {
    "duration": 8,
    "start_time": "2022-04-23T12:16:06.504Z"
   },
   {
    "duration": 7,
    "start_time": "2022-04-23T12:16:06.515Z"
   },
   {
    "duration": 13,
    "start_time": "2022-04-23T12:16:06.526Z"
   },
   {
    "duration": 55,
    "start_time": "2022-04-23T12:16:06.541Z"
   },
   {
    "duration": 12,
    "start_time": "2022-04-23T12:16:06.598Z"
   },
   {
    "duration": 9,
    "start_time": "2022-04-23T12:16:06.613Z"
   },
   {
    "duration": 9,
    "start_time": "2022-04-23T12:16:06.625Z"
   },
   {
    "duration": 10,
    "start_time": "2022-04-23T12:16:06.637Z"
   },
   {
    "duration": 307,
    "start_time": "2022-04-23T12:16:06.649Z"
   },
   {
    "duration": 301,
    "start_time": "2022-04-23T12:16:06.958Z"
   },
   {
    "duration": 280,
    "start_time": "2022-04-23T12:16:07.261Z"
   },
   {
    "duration": 10,
    "start_time": "2022-04-23T12:16:07.544Z"
   },
   {
    "duration": 34,
    "start_time": "2022-04-23T12:16:07.556Z"
   },
   {
    "duration": 11042,
    "start_time": "2022-04-23T12:16:07.594Z"
   },
   {
    "duration": 23,
    "start_time": "2022-04-23T12:16:18.638Z"
   },
   {
    "duration": 15,
    "start_time": "2022-04-23T12:16:18.682Z"
   },
   {
    "duration": 23,
    "start_time": "2022-04-23T12:16:18.699Z"
   },
   {
    "duration": 31,
    "start_time": "2022-04-23T12:16:18.725Z"
   },
   {
    "duration": 21,
    "start_time": "2022-04-23T12:16:18.758Z"
   },
   {
    "duration": 23,
    "start_time": "2022-04-23T12:16:18.783Z"
   },
   {
    "duration": 28,
    "start_time": "2022-04-23T12:16:18.812Z"
   },
   {
    "duration": 7,
    "start_time": "2022-04-23T12:16:18.842Z"
   },
   {
    "duration": 50,
    "start_time": "2022-04-23T12:16:18.851Z"
   },
   {
    "duration": 22,
    "start_time": "2022-04-23T12:16:18.904Z"
   },
   {
    "duration": 24,
    "start_time": "2022-04-23T12:16:18.929Z"
   },
   {
    "duration": 52,
    "start_time": "2022-04-23T12:16:18.955Z"
   },
   {
    "duration": 31,
    "start_time": "2022-04-23T12:16:19.010Z"
   },
   {
    "duration": 407,
    "start_time": "2022-04-23T12:16:19.044Z"
   },
   {
    "duration": 30,
    "start_time": "2022-04-23T12:16:19.453Z"
   },
   {
    "duration": 34,
    "start_time": "2022-04-23T12:16:19.491Z"
   },
   {
    "duration": 75,
    "start_time": "2022-04-23T12:16:19.528Z"
   },
   {
    "duration": 55,
    "start_time": "2022-04-23T12:16:19.605Z"
   },
   {
    "duration": 73,
    "start_time": "2022-04-23T12:16:19.663Z"
   },
   {
    "duration": 48,
    "start_time": "2022-04-23T12:16:19.739Z"
   },
   {
    "duration": 57,
    "start_time": "2022-04-23T12:16:19.790Z"
   },
   {
    "duration": 37,
    "start_time": "2022-04-23T12:16:19.850Z"
   },
   {
    "duration": 45,
    "start_time": "2022-04-23T12:16:19.890Z"
   },
   {
    "duration": 21,
    "start_time": "2022-04-23T12:16:19.937Z"
   },
   {
    "duration": 24,
    "start_time": "2022-04-23T12:16:19.960Z"
   },
   {
    "duration": 39,
    "start_time": "2022-04-23T12:16:19.987Z"
   },
   {
    "duration": 29,
    "start_time": "2022-04-23T12:16:20.028Z"
   },
   {
    "duration": 56,
    "start_time": "2022-04-23T12:16:20.059Z"
   },
   {
    "duration": 17,
    "start_time": "2022-04-23T12:16:20.117Z"
   },
   {
    "duration": 50,
    "start_time": "2022-04-23T12:16:20.135Z"
   },
   {
    "duration": 27,
    "start_time": "2022-04-23T12:16:20.191Z"
   },
   {
    "duration": 18,
    "start_time": "2022-04-23T12:16:20.221Z"
   },
   {
    "duration": 12,
    "start_time": "2022-04-23T12:16:20.241Z"
   },
   {
    "duration": 31,
    "start_time": "2022-04-23T12:16:20.287Z"
   },
   {
    "duration": 27,
    "start_time": "2022-04-23T12:16:20.321Z"
   },
   {
    "duration": 59,
    "start_time": "2022-04-23T12:16:20.350Z"
   },
   {
    "duration": 2145,
    "start_time": "2022-04-23T12:16:31.551Z"
   },
   {
    "duration": 2218,
    "start_time": "2022-04-23T12:16:33.830Z"
   },
   {
    "duration": 22,
    "start_time": "2022-04-23T12:16:56.895Z"
   },
   {
    "duration": 17,
    "start_time": "2022-04-23T12:17:09.553Z"
   },
   {
    "duration": 20,
    "start_time": "2022-04-23T12:17:36.794Z"
   },
   {
    "duration": 149,
    "start_time": "2022-04-23T12:18:23.838Z"
   },
   {
    "duration": 31,
    "start_time": "2022-04-23T12:18:35.610Z"
   },
   {
    "duration": 11,
    "start_time": "2022-04-23T12:49:24.444Z"
   },
   {
    "duration": 20,
    "start_time": "2022-04-23T12:49:33.595Z"
   },
   {
    "duration": 10,
    "start_time": "2022-04-23T12:49:50.011Z"
   },
   {
    "duration": 9,
    "start_time": "2022-04-23T12:50:08.497Z"
   },
   {
    "duration": 7,
    "start_time": "2022-04-23T12:50:33.472Z"
   },
   {
    "duration": 18,
    "start_time": "2022-04-23T12:51:13.966Z"
   },
   {
    "duration": 8,
    "start_time": "2022-04-23T12:51:24.644Z"
   },
   {
    "duration": 26,
    "start_time": "2022-04-23T12:52:18.462Z"
   },
   {
    "duration": 20,
    "start_time": "2022-04-23T12:52:43.637Z"
   },
   {
    "duration": 13,
    "start_time": "2022-04-23T12:53:20.695Z"
   },
   {
    "duration": 14,
    "start_time": "2022-04-23T12:53:30.550Z"
   },
   {
    "duration": 23,
    "start_time": "2022-04-23T12:53:41.019Z"
   },
   {
    "duration": 153,
    "start_time": "2022-04-23T13:32:39.790Z"
   },
   {
    "duration": 38,
    "start_time": "2022-04-23T13:32:58.558Z"
   },
   {
    "duration": 37,
    "start_time": "2022-04-23T13:33:15.735Z"
   },
   {
    "duration": 31,
    "start_time": "2022-04-23T13:33:31.385Z"
   },
   {
    "duration": 41,
    "start_time": "2022-04-23T13:37:18.905Z"
   },
   {
    "duration": 2333,
    "start_time": "2022-04-23T13:38:14.608Z"
   },
   {
    "duration": 37,
    "start_time": "2022-04-23T13:38:31.201Z"
   },
   {
    "duration": 144,
    "start_time": "2022-04-23T13:53:43.832Z"
   },
   {
    "duration": 32,
    "start_time": "2022-04-23T14:48:35.237Z"
   },
   {
    "duration": 25,
    "start_time": "2022-04-23T14:49:52.325Z"
   },
   {
    "duration": 39,
    "start_time": "2022-04-23T14:50:06.867Z"
   },
   {
    "duration": 31,
    "start_time": "2022-04-23T14:59:03.711Z"
   },
   {
    "duration": 39,
    "start_time": "2022-04-23T14:59:34.374Z"
   },
   {
    "duration": 34,
    "start_time": "2022-04-23T14:59:45.506Z"
   },
   {
    "duration": 37,
    "start_time": "2022-04-23T14:59:57.977Z"
   },
   {
    "duration": 36,
    "start_time": "2022-04-23T15:02:19.629Z"
   },
   {
    "duration": 37,
    "start_time": "2022-04-23T15:02:35.335Z"
   },
   {
    "duration": 39,
    "start_time": "2022-04-23T15:04:31.220Z"
   },
   {
    "duration": 48,
    "start_time": "2022-04-23T15:04:49.175Z"
   },
   {
    "duration": 44,
    "start_time": "2022-04-23T15:05:17.351Z"
   },
   {
    "duration": 53,
    "start_time": "2022-04-23T15:05:32.765Z"
   },
   {
    "duration": 141,
    "start_time": "2022-04-23T15:14:39.095Z"
   },
   {
    "duration": 144,
    "start_time": "2022-04-23T15:14:50.347Z"
   },
   {
    "duration": 176,
    "start_time": "2022-04-23T15:15:40.616Z"
   },
   {
    "duration": 33,
    "start_time": "2022-04-23T15:16:35.833Z"
   },
   {
    "duration": 30,
    "start_time": "2022-04-23T15:19:22.439Z"
   },
   {
    "duration": 214,
    "start_time": "2022-04-23T15:19:34.394Z"
   },
   {
    "duration": 32,
    "start_time": "2022-04-23T15:20:08.026Z"
   },
   {
    "duration": 31,
    "start_time": "2022-04-23T15:20:14.627Z"
   },
   {
    "duration": 31,
    "start_time": "2022-04-23T15:53:38.995Z"
   },
   {
    "duration": 44,
    "start_time": "2022-04-23T15:54:49.447Z"
   },
   {
    "duration": 50,
    "start_time": "2022-04-23T15:55:46.332Z"
   },
   {
    "duration": 34,
    "start_time": "2022-04-23T17:11:19.862Z"
   },
   {
    "duration": 473,
    "start_time": "2022-04-24T08:34:24.909Z"
   },
   {
    "duration": 14,
    "start_time": "2022-04-24T08:34:25.383Z"
   },
   {
    "duration": 9,
    "start_time": "2022-04-24T08:34:25.398Z"
   },
   {
    "duration": 5,
    "start_time": "2022-04-24T08:34:25.408Z"
   },
   {
    "duration": 5,
    "start_time": "2022-04-24T08:34:25.415Z"
   },
   {
    "duration": 7,
    "start_time": "2022-04-24T08:34:25.421Z"
   },
   {
    "duration": 11,
    "start_time": "2022-04-24T08:34:25.430Z"
   },
   {
    "duration": 5,
    "start_time": "2022-04-24T08:34:25.442Z"
   },
   {
    "duration": 6,
    "start_time": "2022-04-24T08:34:25.448Z"
   },
   {
    "duration": 6,
    "start_time": "2022-04-24T08:34:25.457Z"
   },
   {
    "duration": 43,
    "start_time": "2022-04-24T08:34:25.464Z"
   },
   {
    "duration": 9,
    "start_time": "2022-04-24T08:34:25.508Z"
   },
   {
    "duration": 5,
    "start_time": "2022-04-24T08:34:25.518Z"
   },
   {
    "duration": 5,
    "start_time": "2022-04-24T08:34:25.525Z"
   },
   {
    "duration": 8,
    "start_time": "2022-04-24T08:34:25.531Z"
   },
   {
    "duration": 1047,
    "start_time": "2022-04-24T08:34:25.540Z"
   },
   {
    "duration": 153,
    "start_time": "2022-04-24T08:34:26.589Z"
   },
   {
    "duration": 152,
    "start_time": "2022-04-24T08:34:26.744Z"
   },
   {
    "duration": 7,
    "start_time": "2022-04-24T08:34:26.897Z"
   },
   {
    "duration": 6,
    "start_time": "2022-04-24T08:34:26.905Z"
   },
   {
    "duration": 5519,
    "start_time": "2022-04-24T08:34:26.913Z"
   },
   {
    "duration": 15,
    "start_time": "2022-04-24T08:34:32.433Z"
   },
   {
    "duration": 6,
    "start_time": "2022-04-24T08:34:32.449Z"
   },
   {
    "duration": 4,
    "start_time": "2022-04-24T08:34:32.456Z"
   },
   {
    "duration": 7,
    "start_time": "2022-04-24T08:34:32.462Z"
   },
   {
    "duration": 37,
    "start_time": "2022-04-24T08:34:32.470Z"
   },
   {
    "duration": 8,
    "start_time": "2022-04-24T08:34:32.509Z"
   },
   {
    "duration": 14,
    "start_time": "2022-04-24T08:34:32.520Z"
   },
   {
    "duration": 4,
    "start_time": "2022-04-24T08:34:32.536Z"
   },
   {
    "duration": 13,
    "start_time": "2022-04-24T08:34:32.542Z"
   },
   {
    "duration": 12,
    "start_time": "2022-04-24T08:34:32.556Z"
   },
   {
    "duration": 14,
    "start_time": "2022-04-24T08:34:32.601Z"
   },
   {
    "duration": 25,
    "start_time": "2022-04-24T08:34:32.617Z"
   },
   {
    "duration": 6,
    "start_time": "2022-04-24T08:34:32.643Z"
   },
   {
    "duration": 150,
    "start_time": "2022-04-24T08:34:32.650Z"
   },
   {
    "duration": 17,
    "start_time": "2022-04-24T08:34:32.801Z"
   },
   {
    "duration": 16,
    "start_time": "2022-04-24T08:34:32.819Z"
   },
   {
    "duration": 29,
    "start_time": "2022-04-24T08:34:32.836Z"
   },
   {
    "duration": 48,
    "start_time": "2022-04-24T08:34:32.867Z"
   },
   {
    "duration": 30,
    "start_time": "2022-04-24T08:34:32.916Z"
   },
   {
    "duration": 17,
    "start_time": "2022-04-24T08:34:32.947Z"
   },
   {
    "duration": 47,
    "start_time": "2022-04-24T08:34:32.965Z"
   },
   {
    "duration": 11,
    "start_time": "2022-04-24T08:34:33.013Z"
   },
   {
    "duration": 11,
    "start_time": "2022-04-24T08:34:33.026Z"
   },
   {
    "duration": 10,
    "start_time": "2022-04-24T08:34:33.038Z"
   },
   {
    "duration": 11,
    "start_time": "2022-04-24T08:34:33.050Z"
   },
   {
    "duration": 51,
    "start_time": "2022-04-24T08:34:33.062Z"
   },
   {
    "duration": 16,
    "start_time": "2022-04-24T08:34:33.115Z"
   },
   {
    "duration": 21,
    "start_time": "2022-04-24T08:34:33.132Z"
   },
   {
    "duration": 10,
    "start_time": "2022-04-24T08:34:33.155Z"
   },
   {
    "duration": 37,
    "start_time": "2022-04-24T08:34:33.166Z"
   },
   {
    "duration": 21,
    "start_time": "2022-04-24T08:34:33.205Z"
   },
   {
    "duration": 22,
    "start_time": "2022-04-24T08:34:33.228Z"
   },
   {
    "duration": 48,
    "start_time": "2022-04-24T08:34:33.252Z"
   },
   {
    "duration": 23,
    "start_time": "2022-04-24T08:34:33.302Z"
   },
   {
    "duration": 23,
    "start_time": "2022-04-24T08:34:55.001Z"
   },
   {
    "duration": 157,
    "start_time": "2022-04-24T08:35:29.566Z"
   },
   {
    "duration": 349,
    "start_time": "2022-04-24T08:35:44.885Z"
   },
   {
    "duration": 24,
    "start_time": "2022-04-24T08:35:54.495Z"
   },
   {
    "duration": 295,
    "start_time": "2022-04-24T08:36:07.470Z"
   },
   {
    "duration": 22,
    "start_time": "2022-04-24T08:36:23.889Z"
   },
   {
    "duration": 24,
    "start_time": "2022-04-24T08:46:53.695Z"
   },
   {
    "duration": 23,
    "start_time": "2022-04-24T10:10:16.645Z"
   },
   {
    "duration": 25,
    "start_time": "2022-04-24T10:27:22.630Z"
   },
   {
    "duration": 77,
    "start_time": "2022-04-24T13:19:38.389Z"
   },
   {
    "duration": 14,
    "start_time": "2022-04-24T13:19:38.468Z"
   },
   {
    "duration": 8,
    "start_time": "2022-04-24T13:19:38.500Z"
   },
   {
    "duration": 5,
    "start_time": "2022-04-24T13:19:38.510Z"
   },
   {
    "duration": 9,
    "start_time": "2022-04-24T13:19:38.516Z"
   },
   {
    "duration": 14,
    "start_time": "2022-04-24T13:19:38.526Z"
   },
   {
    "duration": 11,
    "start_time": "2022-04-24T13:19:38.542Z"
   },
   {
    "duration": 8,
    "start_time": "2022-04-24T13:19:38.555Z"
   },
   {
    "duration": 7,
    "start_time": "2022-04-24T13:19:38.564Z"
   },
   {
    "duration": 28,
    "start_time": "2022-04-24T13:19:38.573Z"
   },
   {
    "duration": 11,
    "start_time": "2022-04-24T13:19:38.602Z"
   },
   {
    "duration": 6,
    "start_time": "2022-04-24T13:19:38.614Z"
   },
   {
    "duration": 6,
    "start_time": "2022-04-24T13:19:38.622Z"
   },
   {
    "duration": 6,
    "start_time": "2022-04-24T13:19:38.629Z"
   },
   {
    "duration": 8,
    "start_time": "2022-04-24T13:19:38.636Z"
   },
   {
    "duration": 173,
    "start_time": "2022-04-24T13:19:38.646Z"
   },
   {
    "duration": 221,
    "start_time": "2022-04-24T13:19:38.821Z"
   },
   {
    "duration": 177,
    "start_time": "2022-04-24T13:19:39.043Z"
   },
   {
    "duration": 6,
    "start_time": "2022-04-24T13:19:39.221Z"
   },
   {
    "duration": 4,
    "start_time": "2022-04-24T13:19:39.229Z"
   },
   {
    "duration": 7837,
    "start_time": "2022-04-24T13:19:39.235Z"
   },
   {
    "duration": 28,
    "start_time": "2022-04-24T13:19:47.074Z"
   },
   {
    "duration": 6,
    "start_time": "2022-04-24T13:19:47.104Z"
   },
   {
    "duration": 5,
    "start_time": "2022-04-24T13:19:47.112Z"
   },
   {
    "duration": 8,
    "start_time": "2022-04-24T13:19:47.119Z"
   },
   {
    "duration": 25,
    "start_time": "2022-04-24T13:19:47.129Z"
   },
   {
    "duration": 6,
    "start_time": "2022-04-24T13:19:47.155Z"
   },
   {
    "duration": 51,
    "start_time": "2022-04-24T13:19:47.165Z"
   },
   {
    "duration": 6,
    "start_time": "2022-04-24T13:19:47.217Z"
   },
   {
    "duration": 21,
    "start_time": "2022-04-24T13:19:47.224Z"
   },
   {
    "duration": 14,
    "start_time": "2022-04-24T13:19:47.246Z"
   },
   {
    "duration": 44,
    "start_time": "2022-04-24T13:19:47.262Z"
   },
   {
    "duration": 21,
    "start_time": "2022-04-24T13:19:47.308Z"
   },
   {
    "duration": 5,
    "start_time": "2022-04-24T13:19:47.331Z"
   },
   {
    "duration": 277,
    "start_time": "2022-04-24T13:19:47.338Z"
   },
   {
    "duration": 27,
    "start_time": "2022-04-24T13:19:47.617Z"
   },
   {
    "duration": 25,
    "start_time": "2022-04-24T13:19:47.646Z"
   },
   {
    "duration": 68,
    "start_time": "2022-04-24T13:19:47.672Z"
   },
   {
    "duration": 46,
    "start_time": "2022-04-24T13:19:47.741Z"
   },
   {
    "duration": 54,
    "start_time": "2022-04-24T13:19:47.799Z"
   },
   {
    "duration": 24,
    "start_time": "2022-04-24T13:19:47.855Z"
   },
   {
    "duration": 48,
    "start_time": "2022-04-24T13:19:47.881Z"
   },
   {
    "duration": 10,
    "start_time": "2022-04-24T13:19:47.931Z"
   },
   {
    "duration": 13,
    "start_time": "2022-04-24T13:19:47.942Z"
   },
   {
    "duration": 12,
    "start_time": "2022-04-24T13:19:47.956Z"
   },
   {
    "duration": 35,
    "start_time": "2022-04-24T13:19:47.970Z"
   },
   {
    "duration": 25,
    "start_time": "2022-04-24T13:19:48.007Z"
   },
   {
    "duration": 14,
    "start_time": "2022-04-24T13:19:48.034Z"
   },
   {
    "duration": 21,
    "start_time": "2022-04-24T13:19:48.050Z"
   },
   {
    "duration": 36,
    "start_time": "2022-04-24T13:19:48.072Z"
   },
   {
    "duration": 15,
    "start_time": "2022-04-24T13:19:48.110Z"
   },
   {
    "duration": 19,
    "start_time": "2022-04-24T13:19:48.127Z"
   },
   {
    "duration": 52,
    "start_time": "2022-04-24T13:19:48.148Z"
   },
   {
    "duration": 29,
    "start_time": "2022-04-24T13:19:48.202Z"
   },
   {
    "duration": 30,
    "start_time": "2022-04-24T13:19:48.232Z"
   },
   {
    "duration": 44,
    "start_time": "2022-05-01T03:20:38.188Z"
   },
   {
    "duration": 466,
    "start_time": "2022-05-01T03:20:41.910Z"
   },
   {
    "duration": 15,
    "start_time": "2022-05-01T03:20:42.378Z"
   },
   {
    "duration": 10,
    "start_time": "2022-05-01T03:20:42.394Z"
   },
   {
    "duration": 5,
    "start_time": "2022-05-01T03:20:42.405Z"
   },
   {
    "duration": 4,
    "start_time": "2022-05-01T03:20:42.412Z"
   },
   {
    "duration": 7,
    "start_time": "2022-05-01T03:20:42.418Z"
   },
   {
    "duration": 12,
    "start_time": "2022-05-01T03:20:42.427Z"
   },
   {
    "duration": 6,
    "start_time": "2022-05-01T03:20:42.440Z"
   },
   {
    "duration": 5,
    "start_time": "2022-05-01T03:20:42.447Z"
   },
   {
    "duration": 8,
    "start_time": "2022-05-01T03:20:42.492Z"
   },
   {
    "duration": 11,
    "start_time": "2022-05-01T03:20:42.501Z"
   },
   {
    "duration": 5,
    "start_time": "2022-05-01T03:20:42.514Z"
   },
   {
    "duration": 5,
    "start_time": "2022-05-01T03:20:42.521Z"
   },
   {
    "duration": 7,
    "start_time": "2022-05-01T03:20:42.529Z"
   },
   {
    "duration": 10,
    "start_time": "2022-05-01T03:20:42.537Z"
   },
   {
    "duration": 1146,
    "start_time": "2022-05-01T03:20:42.548Z"
   },
   {
    "duration": 175,
    "start_time": "2022-05-01T03:20:43.696Z"
   },
   {
    "duration": 154,
    "start_time": "2022-05-01T03:20:43.873Z"
   },
   {
    "duration": 8,
    "start_time": "2022-05-01T03:20:44.029Z"
   },
   {
    "duration": 6,
    "start_time": "2022-05-01T03:20:44.039Z"
   },
   {
    "duration": 5597,
    "start_time": "2022-05-01T03:20:44.047Z"
   },
   {
    "duration": 15,
    "start_time": "2022-05-01T03:20:49.646Z"
   },
   {
    "duration": 5,
    "start_time": "2022-05-01T03:20:49.663Z"
   },
   {
    "duration": 24,
    "start_time": "2022-05-01T03:20:49.669Z"
   },
   {
    "duration": 7,
    "start_time": "2022-05-01T03:20:49.695Z"
   },
   {
    "duration": 24,
    "start_time": "2022-05-01T03:20:49.704Z"
   },
   {
    "duration": 6,
    "start_time": "2022-05-01T03:20:49.729Z"
   },
   {
    "duration": 16,
    "start_time": "2022-05-01T03:20:49.737Z"
   },
   {
    "duration": 5,
    "start_time": "2022-05-01T03:20:49.755Z"
   },
   {
    "duration": 44,
    "start_time": "2022-05-01T03:20:49.761Z"
   },
   {
    "duration": 12,
    "start_time": "2022-05-01T03:20:49.806Z"
   },
   {
    "duration": 17,
    "start_time": "2022-05-01T03:20:49.820Z"
   },
   {
    "duration": 16,
    "start_time": "2022-05-01T03:20:49.838Z"
   },
   {
    "duration": 5,
    "start_time": "2022-05-01T03:20:49.856Z"
   },
   {
    "duration": 190,
    "start_time": "2022-05-01T03:20:49.862Z"
   },
   {
    "duration": 18,
    "start_time": "2022-05-01T03:20:50.054Z"
   },
   {
    "duration": 31,
    "start_time": "2022-05-01T03:20:50.073Z"
   },
   {
    "duration": 33,
    "start_time": "2022-05-01T03:20:50.106Z"
   },
   {
    "duration": 29,
    "start_time": "2022-05-01T03:20:50.141Z"
   },
   {
    "duration": 33,
    "start_time": "2022-05-01T03:20:50.192Z"
   },
   {
    "duration": 18,
    "start_time": "2022-05-01T03:20:50.229Z"
   },
   {
    "duration": 56,
    "start_time": "2022-05-01T03:20:50.249Z"
   },
   {
    "duration": 12,
    "start_time": "2022-05-01T03:20:50.306Z"
   },
   {
    "duration": 16,
    "start_time": "2022-05-01T03:20:50.319Z"
   },
   {
    "duration": 157,
    "start_time": "2022-05-03T09:44:59.548Z"
   },
   {
    "duration": 574,
    "start_time": "2022-05-03T09:45:32.635Z"
   },
   {
    "duration": 26,
    "start_time": "2022-05-03T09:45:33.211Z"
   },
   {
    "duration": 12,
    "start_time": "2022-05-03T09:45:33.239Z"
   },
   {
    "duration": 6,
    "start_time": "2022-05-03T09:45:33.254Z"
   },
   {
    "duration": 10,
    "start_time": "2022-05-03T09:45:33.262Z"
   },
   {
    "duration": 100,
    "start_time": "2022-05-03T09:45:33.273Z"
   },
   {
    "duration": 0,
    "start_time": "2022-05-03T09:45:33.377Z"
   },
   {
    "duration": 0,
    "start_time": "2022-05-03T09:45:33.379Z"
   },
   {
    "duration": 1,
    "start_time": "2022-05-03T09:45:33.379Z"
   },
   {
    "duration": 0,
    "start_time": "2022-05-03T09:45:33.380Z"
   },
   {
    "duration": 0,
    "start_time": "2022-05-03T09:45:33.381Z"
   },
   {
    "duration": 0,
    "start_time": "2022-05-03T09:45:33.382Z"
   },
   {
    "duration": 0,
    "start_time": "2022-05-03T09:45:33.383Z"
   },
   {
    "duration": 0,
    "start_time": "2022-05-03T09:45:33.384Z"
   },
   {
    "duration": 0,
    "start_time": "2022-05-03T09:45:33.385Z"
   },
   {
    "duration": 0,
    "start_time": "2022-05-03T09:45:33.386Z"
   },
   {
    "duration": 0,
    "start_time": "2022-05-03T09:45:33.387Z"
   },
   {
    "duration": 0,
    "start_time": "2022-05-03T09:45:33.388Z"
   },
   {
    "duration": 0,
    "start_time": "2022-05-03T09:45:33.389Z"
   },
   {
    "duration": 0,
    "start_time": "2022-05-03T09:45:33.390Z"
   },
   {
    "duration": 0,
    "start_time": "2022-05-03T09:45:33.391Z"
   },
   {
    "duration": 0,
    "start_time": "2022-05-03T09:45:33.392Z"
   },
   {
    "duration": 0,
    "start_time": "2022-05-03T09:45:33.394Z"
   },
   {
    "duration": 0,
    "start_time": "2022-05-03T09:45:33.394Z"
   },
   {
    "duration": 0,
    "start_time": "2022-05-03T09:45:33.395Z"
   },
   {
    "duration": 0,
    "start_time": "2022-05-03T09:45:33.396Z"
   },
   {
    "duration": 0,
    "start_time": "2022-05-03T09:45:33.397Z"
   },
   {
    "duration": 0,
    "start_time": "2022-05-03T09:45:33.398Z"
   },
   {
    "duration": 0,
    "start_time": "2022-05-03T09:45:33.399Z"
   },
   {
    "duration": 0,
    "start_time": "2022-05-03T09:45:33.400Z"
   },
   {
    "duration": 0,
    "start_time": "2022-05-03T09:45:33.434Z"
   },
   {
    "duration": 0,
    "start_time": "2022-05-03T09:45:33.435Z"
   },
   {
    "duration": 0,
    "start_time": "2022-05-03T09:45:33.437Z"
   },
   {
    "duration": 0,
    "start_time": "2022-05-03T09:45:33.438Z"
   },
   {
    "duration": 0,
    "start_time": "2022-05-03T09:45:33.439Z"
   },
   {
    "duration": 0,
    "start_time": "2022-05-03T09:45:33.441Z"
   },
   {
    "duration": 0,
    "start_time": "2022-05-03T09:45:33.442Z"
   },
   {
    "duration": 0,
    "start_time": "2022-05-03T09:45:33.443Z"
   },
   {
    "duration": 0,
    "start_time": "2022-05-03T09:45:33.444Z"
   },
   {
    "duration": 0,
    "start_time": "2022-05-03T09:45:33.446Z"
   },
   {
    "duration": 0,
    "start_time": "2022-05-03T09:45:33.447Z"
   },
   {
    "duration": 0,
    "start_time": "2022-05-03T09:45:33.448Z"
   },
   {
    "duration": 0,
    "start_time": "2022-05-03T09:45:33.449Z"
   },
   {
    "duration": 0,
    "start_time": "2022-05-03T09:45:33.450Z"
   },
   {
    "duration": 0,
    "start_time": "2022-05-03T09:45:33.452Z"
   },
   {
    "duration": 0,
    "start_time": "2022-05-03T09:45:33.453Z"
   },
   {
    "duration": 0,
    "start_time": "2022-05-03T09:45:33.454Z"
   },
   {
    "duration": 0,
    "start_time": "2022-05-03T09:45:33.455Z"
   },
   {
    "duration": 0,
    "start_time": "2022-05-03T09:45:33.456Z"
   },
   {
    "duration": 0,
    "start_time": "2022-05-03T09:45:33.458Z"
   },
   {
    "duration": 0,
    "start_time": "2022-05-03T09:45:33.459Z"
   },
   {
    "duration": 0,
    "start_time": "2022-05-03T09:45:33.460Z"
   },
   {
    "duration": 0,
    "start_time": "2022-05-03T09:45:33.465Z"
   },
   {
    "duration": 0,
    "start_time": "2022-05-03T09:45:33.467Z"
   },
   {
    "duration": 0,
    "start_time": "2022-05-03T09:45:33.468Z"
   },
   {
    "duration": 0,
    "start_time": "2022-05-03T09:45:33.469Z"
   },
   {
    "duration": 523,
    "start_time": "2022-05-03T09:45:51.887Z"
   },
   {
    "duration": 510,
    "start_time": "2022-05-03T15:16:52.548Z"
   },
   {
    "duration": 15,
    "start_time": "2022-05-03T15:16:53.060Z"
   },
   {
    "duration": 21,
    "start_time": "2022-05-03T15:16:53.076Z"
   },
   {
    "duration": 6,
    "start_time": "2022-05-03T15:16:53.099Z"
   },
   {
    "duration": 5,
    "start_time": "2022-05-03T15:16:53.106Z"
   },
   {
    "duration": 547,
    "start_time": "2022-05-03T15:16:53.113Z"
   },
   {
    "duration": 8,
    "start_time": "2022-05-03T15:16:53.662Z"
   },
   {
    "duration": 22,
    "start_time": "2022-05-03T15:16:53.671Z"
   },
   {
    "duration": 7,
    "start_time": "2022-05-03T15:16:53.695Z"
   },
   {
    "duration": 6,
    "start_time": "2022-05-03T15:16:53.705Z"
   },
   {
    "duration": 7,
    "start_time": "2022-05-03T15:16:53.712Z"
   },
   {
    "duration": 12,
    "start_time": "2022-05-03T15:16:53.720Z"
   },
   {
    "duration": 10,
    "start_time": "2022-05-03T15:16:53.734Z"
   },
   {
    "duration": 47,
    "start_time": "2022-05-03T15:16:53.746Z"
   },
   {
    "duration": 6,
    "start_time": "2022-05-03T15:16:53.795Z"
   },
   {
    "duration": 13,
    "start_time": "2022-05-03T15:16:53.803Z"
   },
   {
    "duration": 878,
    "start_time": "2022-05-03T15:16:53.818Z"
   },
   {
    "duration": 190,
    "start_time": "2022-05-03T15:16:54.698Z"
   },
   {
    "duration": 191,
    "start_time": "2022-05-03T15:16:54.890Z"
   },
   {
    "duration": 14,
    "start_time": "2022-05-03T15:16:55.084Z"
   },
   {
    "duration": 7,
    "start_time": "2022-05-03T15:16:55.100Z"
   },
   {
    "duration": 5974,
    "start_time": "2022-05-03T15:16:55.109Z"
   },
   {
    "duration": 20,
    "start_time": "2022-05-03T15:17:01.085Z"
   },
   {
    "duration": 8,
    "start_time": "2022-05-03T15:17:01.107Z"
   },
   {
    "duration": 8,
    "start_time": "2022-05-03T15:17:01.117Z"
   },
   {
    "duration": 12,
    "start_time": "2022-05-03T15:17:01.127Z"
   },
   {
    "duration": 23,
    "start_time": "2022-05-03T15:17:01.141Z"
   },
   {
    "duration": 29,
    "start_time": "2022-05-03T15:17:01.168Z"
   },
   {
    "duration": 33,
    "start_time": "2022-05-03T15:17:01.198Z"
   },
   {
    "duration": 6,
    "start_time": "2022-05-03T15:17:01.233Z"
   },
   {
    "duration": 26,
    "start_time": "2022-05-03T15:17:01.241Z"
   },
   {
    "duration": 25,
    "start_time": "2022-05-03T15:17:01.269Z"
   },
   {
    "duration": 43,
    "start_time": "2022-05-03T15:17:01.295Z"
   },
   {
    "duration": 45,
    "start_time": "2022-05-03T15:17:01.340Z"
   },
   {
    "duration": 7,
    "start_time": "2022-05-03T15:17:01.387Z"
   },
   {
    "duration": 232,
    "start_time": "2022-05-03T15:17:01.395Z"
   },
   {
    "duration": 21,
    "start_time": "2022-05-03T15:17:01.629Z"
   },
   {
    "duration": 30,
    "start_time": "2022-05-03T15:17:01.652Z"
   },
   {
    "duration": 36,
    "start_time": "2022-05-03T15:17:01.692Z"
   },
   {
    "duration": 31,
    "start_time": "2022-05-03T15:17:01.730Z"
   },
   {
    "duration": 56,
    "start_time": "2022-05-03T15:17:01.763Z"
   },
   {
    "duration": 23,
    "start_time": "2022-05-03T15:17:01.821Z"
   },
   {
    "duration": 51,
    "start_time": "2022-05-03T15:17:01.846Z"
   },
   {
    "duration": 12,
    "start_time": "2022-05-03T15:17:01.898Z"
   },
   {
    "duration": 37,
    "start_time": "2022-05-03T15:17:01.912Z"
   },
   {
    "duration": 23,
    "start_time": "2022-05-03T15:17:01.951Z"
   },
   {
    "duration": 29,
    "start_time": "2022-05-03T15:17:01.976Z"
   },
   {
    "duration": 25,
    "start_time": "2022-05-03T15:17:02.007Z"
   },
   {
    "duration": 25,
    "start_time": "2022-05-03T15:17:02.034Z"
   },
   {
    "duration": 42,
    "start_time": "2022-05-03T15:17:02.060Z"
   },
   {
    "duration": 12,
    "start_time": "2022-05-03T15:17:02.105Z"
   },
   {
    "duration": 22,
    "start_time": "2022-05-03T15:17:02.118Z"
   },
   {
    "duration": 23,
    "start_time": "2022-05-03T15:17:02.142Z"
   },
   {
    "duration": 44,
    "start_time": "2022-05-03T15:17:02.167Z"
   },
   {
    "duration": 25,
    "start_time": "2022-05-03T15:17:02.213Z"
   },
   {
    "duration": 27,
    "start_time": "2022-05-03T15:17:02.240Z"
   },
   {
    "duration": 26,
    "start_time": "2022-05-03T15:18:08.415Z"
   },
   {
    "duration": 17,
    "start_time": "2022-05-03T15:18:23.093Z"
   },
   {
    "duration": 73,
    "start_time": "2022-05-03T15:18:33.376Z"
   },
   {
    "duration": 42,
    "start_time": "2022-05-03T15:18:33.451Z"
   },
   {
    "duration": 12,
    "start_time": "2022-05-03T15:18:33.494Z"
   },
   {
    "duration": 6,
    "start_time": "2022-05-03T15:18:33.508Z"
   },
   {
    "duration": 5,
    "start_time": "2022-05-03T15:18:33.515Z"
   },
   {
    "duration": 17,
    "start_time": "2022-05-03T15:18:33.522Z"
   },
   {
    "duration": 7,
    "start_time": "2022-05-03T15:18:33.541Z"
   },
   {
    "duration": 13,
    "start_time": "2022-05-03T15:18:33.592Z"
   },
   {
    "duration": 12,
    "start_time": "2022-05-03T15:18:33.607Z"
   },
   {
    "duration": 7,
    "start_time": "2022-05-03T15:18:33.621Z"
   },
   {
    "duration": 7,
    "start_time": "2022-05-03T15:18:33.630Z"
   },
   {
    "duration": 13,
    "start_time": "2022-05-03T15:18:33.639Z"
   },
   {
    "duration": 12,
    "start_time": "2022-05-03T15:18:33.654Z"
   },
   {
    "duration": 6,
    "start_time": "2022-05-03T15:18:33.693Z"
   },
   {
    "duration": 6,
    "start_time": "2022-05-03T15:18:33.701Z"
   },
   {
    "duration": 11,
    "start_time": "2022-05-03T15:18:33.709Z"
   },
   {
    "duration": 182,
    "start_time": "2022-05-03T15:18:33.721Z"
   },
   {
    "duration": 225,
    "start_time": "2022-05-03T15:18:33.905Z"
   },
   {
    "duration": 244,
    "start_time": "2022-05-03T15:18:34.132Z"
   },
   {
    "duration": 7,
    "start_time": "2022-05-03T15:18:34.378Z"
   },
   {
    "duration": 6,
    "start_time": "2022-05-03T15:18:34.393Z"
   },
   {
    "duration": 6661,
    "start_time": "2022-05-03T15:18:34.400Z"
   },
   {
    "duration": 14,
    "start_time": "2022-05-03T15:18:41.063Z"
   },
   {
    "duration": 19,
    "start_time": "2022-05-03T15:18:41.079Z"
   },
   {
    "duration": 6,
    "start_time": "2022-05-03T15:18:41.100Z"
   },
   {
    "duration": 13,
    "start_time": "2022-05-03T15:18:41.107Z"
   },
   {
    "duration": 25,
    "start_time": "2022-05-03T15:18:41.122Z"
   },
   {
    "duration": 7,
    "start_time": "2022-05-03T15:18:41.152Z"
   },
   {
    "duration": 26,
    "start_time": "2022-05-03T15:18:41.192Z"
   },
   {
    "duration": 7,
    "start_time": "2022-05-03T15:18:41.220Z"
   },
   {
    "duration": 23,
    "start_time": "2022-05-03T15:18:41.229Z"
   },
   {
    "duration": 13,
    "start_time": "2022-05-03T15:18:41.253Z"
   },
   {
    "duration": 17,
    "start_time": "2022-05-03T15:18:41.294Z"
   },
   {
    "duration": 18,
    "start_time": "2022-05-03T15:18:41.313Z"
   },
   {
    "duration": 6,
    "start_time": "2022-05-03T15:18:41.333Z"
   },
   {
    "duration": 205,
    "start_time": "2022-05-03T15:18:41.341Z"
   },
   {
    "duration": 19,
    "start_time": "2022-05-03T15:18:41.548Z"
   },
   {
    "duration": 36,
    "start_time": "2022-05-03T15:18:41.568Z"
   },
   {
    "duration": 35,
    "start_time": "2022-05-03T15:18:41.605Z"
   },
   {
    "duration": 30,
    "start_time": "2022-05-03T15:18:41.642Z"
   },
   {
    "duration": 52,
    "start_time": "2022-05-03T15:18:41.674Z"
   },
   {
    "duration": 19,
    "start_time": "2022-05-03T15:18:41.728Z"
   },
   {
    "duration": 58,
    "start_time": "2022-05-03T15:18:41.749Z"
   },
   {
    "duration": 12,
    "start_time": "2022-05-03T15:18:41.808Z"
   },
   {
    "duration": 16,
    "start_time": "2022-05-03T15:18:41.822Z"
   },
   {
    "duration": 13,
    "start_time": "2022-05-03T15:18:41.840Z"
   },
   {
    "duration": 41,
    "start_time": "2022-05-03T15:18:41.856Z"
   },
   {
    "duration": 29,
    "start_time": "2022-05-03T15:18:41.899Z"
   },
   {
    "duration": 28,
    "start_time": "2022-05-03T15:18:41.930Z"
   },
   {
    "duration": 48,
    "start_time": "2022-05-03T15:18:41.960Z"
   },
   {
    "duration": 15,
    "start_time": "2022-05-03T15:18:42.010Z"
   },
   {
    "duration": 26,
    "start_time": "2022-05-03T15:18:42.026Z"
   },
   {
    "duration": 49,
    "start_time": "2022-05-03T15:18:42.053Z"
   },
   {
    "duration": 34,
    "start_time": "2022-05-03T15:18:42.104Z"
   },
   {
    "duration": 33,
    "start_time": "2022-05-03T15:18:42.140Z"
   },
   {
    "duration": 28,
    "start_time": "2022-05-03T15:18:42.194Z"
   },
   {
    "duration": 109,
    "start_time": "2022-05-03T15:32:28.578Z"
   },
   {
    "duration": 48,
    "start_time": "2022-05-03T15:33:48.897Z"
   },
   {
    "duration": 7,
    "start_time": "2022-05-03T15:34:38.164Z"
   },
   {
    "duration": 9,
    "start_time": "2022-05-03T15:34:44.286Z"
   },
   {
    "duration": 115,
    "start_time": "2022-05-03T15:36:35.958Z"
   },
   {
    "duration": 9,
    "start_time": "2022-05-03T15:37:01.825Z"
   },
   {
    "duration": 24,
    "start_time": "2022-05-03T15:37:43.871Z"
   },
   {
    "duration": 20,
    "start_time": "2022-05-03T15:40:37.169Z"
   },
   {
    "duration": 5,
    "start_time": "2022-05-03T16:03:34.717Z"
   },
   {
    "duration": 13,
    "start_time": "2022-05-03T16:06:06.183Z"
   },
   {
    "duration": 22,
    "start_time": "2022-05-03T16:06:22.709Z"
   },
   {
    "duration": 14,
    "start_time": "2022-05-03T16:08:04.289Z"
   },
   {
    "duration": 6,
    "start_time": "2022-05-03T16:08:47.662Z"
   },
   {
    "duration": 75,
    "start_time": "2022-05-03T16:09:31.001Z"
   },
   {
    "duration": 36,
    "start_time": "2022-05-03T16:09:31.078Z"
   },
   {
    "duration": 25,
    "start_time": "2022-05-03T16:09:31.116Z"
   },
   {
    "duration": 13,
    "start_time": "2022-05-03T16:09:31.143Z"
   },
   {
    "duration": 15,
    "start_time": "2022-05-03T16:09:31.158Z"
   },
   {
    "duration": 20,
    "start_time": "2022-05-03T16:09:31.196Z"
   },
   {
    "duration": 8,
    "start_time": "2022-05-03T16:09:31.218Z"
   },
   {
    "duration": 22,
    "start_time": "2022-05-03T16:09:31.228Z"
   },
   {
    "duration": 12,
    "start_time": "2022-05-03T16:09:31.252Z"
   },
   {
    "duration": 29,
    "start_time": "2022-05-03T16:09:31.268Z"
   },
   {
    "duration": 15,
    "start_time": "2022-05-03T16:09:31.299Z"
   },
   {
    "duration": 24,
    "start_time": "2022-05-03T16:09:31.316Z"
   },
   {
    "duration": 15,
    "start_time": "2022-05-03T16:09:31.343Z"
   },
   {
    "duration": 8,
    "start_time": "2022-05-03T16:09:31.361Z"
   },
   {
    "duration": 14,
    "start_time": "2022-05-03T16:09:31.371Z"
   },
   {
    "duration": 20,
    "start_time": "2022-05-03T16:09:31.395Z"
   },
   {
    "duration": 176,
    "start_time": "2022-05-03T16:09:31.417Z"
   },
   {
    "duration": 212,
    "start_time": "2022-05-03T16:09:31.595Z"
   },
   {
    "duration": 193,
    "start_time": "2022-05-03T16:09:31.809Z"
   },
   {
    "duration": 10,
    "start_time": "2022-05-03T16:09:32.004Z"
   },
   {
    "duration": 15,
    "start_time": "2022-05-03T16:09:32.016Z"
   },
   {
    "duration": 6733,
    "start_time": "2022-05-03T16:09:32.033Z"
   },
   {
    "duration": 31,
    "start_time": "2022-05-03T16:09:38.769Z"
   },
   {
    "duration": 11,
    "start_time": "2022-05-03T16:09:38.802Z"
   },
   {
    "duration": 13,
    "start_time": "2022-05-03T16:09:38.815Z"
   },
   {
    "duration": 14,
    "start_time": "2022-05-03T16:09:38.830Z"
   },
   {
    "duration": 52,
    "start_time": "2022-05-03T16:09:38.847Z"
   },
   {
    "duration": 9,
    "start_time": "2022-05-03T16:09:38.904Z"
   },
   {
    "duration": 32,
    "start_time": "2022-05-03T16:09:38.914Z"
   },
   {
    "duration": 8,
    "start_time": "2022-05-03T16:09:38.948Z"
   },
   {
    "duration": 54,
    "start_time": "2022-05-03T16:09:38.958Z"
   },
   {
    "duration": 19,
    "start_time": "2022-05-03T16:09:39.016Z"
   },
   {
    "duration": 19,
    "start_time": "2022-05-03T16:09:39.037Z"
   },
   {
    "duration": 35,
    "start_time": "2022-05-03T16:09:39.058Z"
   },
   {
    "duration": 8,
    "start_time": "2022-05-03T16:09:39.095Z"
   },
   {
    "duration": 255,
    "start_time": "2022-05-03T16:09:39.105Z"
   },
   {
    "duration": 40,
    "start_time": "2022-05-03T16:09:39.363Z"
   },
   {
    "duration": 26,
    "start_time": "2022-05-03T16:09:39.406Z"
   },
   {
    "duration": 75,
    "start_time": "2022-05-03T16:09:39.434Z"
   },
   {
    "duration": 54,
    "start_time": "2022-05-03T16:09:39.512Z"
   },
   {
    "duration": 75,
    "start_time": "2022-05-03T16:09:39.568Z"
   },
   {
    "duration": 24,
    "start_time": "2022-05-03T16:09:39.645Z"
   },
   {
    "duration": 64,
    "start_time": "2022-05-03T16:09:39.692Z"
   },
   {
    "duration": 35,
    "start_time": "2022-05-03T16:09:39.758Z"
   },
   {
    "duration": 0,
    "start_time": "2022-05-03T16:09:39.795Z"
   },
   {
    "duration": 0,
    "start_time": "2022-05-03T16:09:39.796Z"
   },
   {
    "duration": 0,
    "start_time": "2022-05-03T16:09:39.798Z"
   },
   {
    "duration": 0,
    "start_time": "2022-05-03T16:09:39.799Z"
   },
   {
    "duration": 0,
    "start_time": "2022-05-03T16:09:39.800Z"
   },
   {
    "duration": 0,
    "start_time": "2022-05-03T16:09:39.802Z"
   },
   {
    "duration": 0,
    "start_time": "2022-05-03T16:09:39.808Z"
   },
   {
    "duration": 0,
    "start_time": "2022-05-03T16:09:39.810Z"
   },
   {
    "duration": 0,
    "start_time": "2022-05-03T16:09:39.811Z"
   },
   {
    "duration": 0,
    "start_time": "2022-05-03T16:09:39.812Z"
   },
   {
    "duration": 0,
    "start_time": "2022-05-03T16:09:39.813Z"
   },
   {
    "duration": 0,
    "start_time": "2022-05-03T16:09:39.815Z"
   },
   {
    "duration": 12,
    "start_time": "2022-05-03T16:10:33.710Z"
   },
   {
    "duration": 8,
    "start_time": "2022-05-03T16:10:51.720Z"
   },
   {
    "duration": 17,
    "start_time": "2022-05-03T16:21:42.007Z"
   },
   {
    "duration": 16,
    "start_time": "2022-05-03T16:22:06.615Z"
   },
   {
    "duration": 5,
    "start_time": "2022-05-03T16:23:01.551Z"
   },
   {
    "duration": 10,
    "start_time": "2022-05-03T16:24:11.431Z"
   },
   {
    "duration": 10,
    "start_time": "2022-05-03T16:24:50.341Z"
   },
   {
    "duration": 8,
    "start_time": "2022-05-03T16:25:03.899Z"
   },
   {
    "duration": 17,
    "start_time": "2022-05-03T16:25:36.351Z"
   },
   {
    "duration": 3,
    "start_time": "2022-05-03T16:43:06.624Z"
   },
   {
    "duration": 76,
    "start_time": "2022-05-03T16:43:06.629Z"
   },
   {
    "duration": 19,
    "start_time": "2022-05-03T16:43:06.707Z"
   },
   {
    "duration": 14,
    "start_time": "2022-05-03T16:43:06.727Z"
   },
   {
    "duration": 6,
    "start_time": "2022-05-03T16:43:06.744Z"
   },
   {
    "duration": 47,
    "start_time": "2022-05-03T16:43:06.751Z"
   },
   {
    "duration": 31,
    "start_time": "2022-05-03T16:43:06.800Z"
   },
   {
    "duration": 7,
    "start_time": "2022-05-03T16:43:06.833Z"
   },
   {
    "duration": 14,
    "start_time": "2022-05-03T16:43:06.842Z"
   },
   {
    "duration": 35,
    "start_time": "2022-05-03T16:43:06.859Z"
   },
   {
    "duration": 14,
    "start_time": "2022-05-03T16:43:06.904Z"
   },
   {
    "duration": 10,
    "start_time": "2022-05-03T16:43:06.919Z"
   },
   {
    "duration": 16,
    "start_time": "2022-05-03T16:43:06.931Z"
   },
   {
    "duration": 11,
    "start_time": "2022-05-03T16:43:06.948Z"
   },
   {
    "duration": 37,
    "start_time": "2022-05-03T16:43:06.961Z"
   },
   {
    "duration": 9,
    "start_time": "2022-05-03T16:43:07.001Z"
   },
   {
    "duration": 9,
    "start_time": "2022-05-03T16:43:07.012Z"
   },
   {
    "duration": 10,
    "start_time": "2022-05-03T16:43:07.023Z"
   },
   {
    "duration": 211,
    "start_time": "2022-05-03T16:43:07.035Z"
   },
   {
    "duration": 196,
    "start_time": "2022-05-03T16:43:07.248Z"
   },
   {
    "duration": 185,
    "start_time": "2022-05-03T16:43:07.446Z"
   },
   {
    "duration": 8,
    "start_time": "2022-05-03T16:43:07.633Z"
   },
   {
    "duration": 9,
    "start_time": "2022-05-03T16:43:07.643Z"
   },
   {
    "duration": 9718,
    "start_time": "2022-05-03T16:43:07.653Z"
   },
   {
    "duration": 29,
    "start_time": "2022-05-03T16:43:17.373Z"
   },
   {
    "duration": 11,
    "start_time": "2022-05-03T16:43:17.404Z"
   },
   {
    "duration": 16,
    "start_time": "2022-05-03T16:43:17.417Z"
   },
   {
    "duration": 11,
    "start_time": "2022-05-03T16:43:17.435Z"
   },
   {
    "duration": 56,
    "start_time": "2022-05-03T16:43:17.451Z"
   },
   {
    "duration": 7,
    "start_time": "2022-05-03T16:43:17.509Z"
   },
   {
    "duration": 18,
    "start_time": "2022-05-03T16:43:17.518Z"
   },
   {
    "duration": 7,
    "start_time": "2022-05-03T16:43:17.538Z"
   },
   {
    "duration": 16,
    "start_time": "2022-05-03T16:43:17.547Z"
   },
   {
    "duration": 51,
    "start_time": "2022-05-03T16:43:17.565Z"
   },
   {
    "duration": 20,
    "start_time": "2022-05-03T16:43:17.618Z"
   },
   {
    "duration": 16,
    "start_time": "2022-05-03T16:43:17.640Z"
   },
   {
    "duration": 6,
    "start_time": "2022-05-03T16:43:17.658Z"
   },
   {
    "duration": 266,
    "start_time": "2022-05-03T16:43:17.696Z"
   },
   {
    "duration": 30,
    "start_time": "2022-05-03T16:43:17.964Z"
   },
   {
    "duration": 25,
    "start_time": "2022-05-03T16:43:17.997Z"
   },
   {
    "duration": 35,
    "start_time": "2022-05-03T16:43:18.024Z"
   },
   {
    "duration": 63,
    "start_time": "2022-05-03T16:43:18.061Z"
   },
   {
    "duration": 59,
    "start_time": "2022-05-03T16:43:18.126Z"
   },
   {
    "duration": 28,
    "start_time": "2022-05-03T16:43:18.187Z"
   },
   {
    "duration": 55,
    "start_time": "2022-05-03T16:43:18.217Z"
   },
   {
    "duration": 23,
    "start_time": "2022-05-03T16:43:18.292Z"
   },
   {
    "duration": 0,
    "start_time": "2022-05-03T16:43:18.318Z"
   },
   {
    "duration": 0,
    "start_time": "2022-05-03T16:43:18.319Z"
   },
   {
    "duration": 0,
    "start_time": "2022-05-03T16:43:18.321Z"
   },
   {
    "duration": 0,
    "start_time": "2022-05-03T16:43:18.322Z"
   },
   {
    "duration": 0,
    "start_time": "2022-05-03T16:43:18.324Z"
   },
   {
    "duration": 0,
    "start_time": "2022-05-03T16:43:18.325Z"
   },
   {
    "duration": 0,
    "start_time": "2022-05-03T16:43:18.327Z"
   },
   {
    "duration": 0,
    "start_time": "2022-05-03T16:43:18.328Z"
   },
   {
    "duration": 0,
    "start_time": "2022-05-03T16:43:18.329Z"
   },
   {
    "duration": 0,
    "start_time": "2022-05-03T16:43:18.331Z"
   },
   {
    "duration": 0,
    "start_time": "2022-05-03T16:43:18.332Z"
   },
   {
    "duration": 0,
    "start_time": "2022-05-03T16:43:18.333Z"
   },
   {
    "duration": 1284,
    "start_time": "2022-05-03T16:45:08.427Z"
   },
   {
    "duration": 101,
    "start_time": "2022-05-03T16:45:09.714Z"
   },
   {
    "duration": 16,
    "start_time": "2022-05-03T16:45:09.817Z"
   },
   {
    "duration": 10,
    "start_time": "2022-05-03T16:45:09.835Z"
   },
   {
    "duration": 5,
    "start_time": "2022-05-03T16:45:09.846Z"
   },
   {
    "duration": 5,
    "start_time": "2022-05-03T16:45:09.852Z"
   },
   {
    "duration": 96,
    "start_time": "2022-05-03T16:45:09.858Z"
   },
   {
    "duration": 8,
    "start_time": "2022-05-03T16:45:09.955Z"
   },
   {
    "duration": 13,
    "start_time": "2022-05-03T16:45:09.964Z"
   },
   {
    "duration": 6,
    "start_time": "2022-05-03T16:45:09.996Z"
   },
   {
    "duration": 16,
    "start_time": "2022-05-03T16:45:10.005Z"
   },
   {
    "duration": 10,
    "start_time": "2022-05-03T16:45:10.022Z"
   },
   {
    "duration": 17,
    "start_time": "2022-05-03T16:45:10.033Z"
   },
   {
    "duration": 11,
    "start_time": "2022-05-03T16:45:10.052Z"
   },
   {
    "duration": 33,
    "start_time": "2022-05-03T16:45:10.065Z"
   },
   {
    "duration": 7,
    "start_time": "2022-05-03T16:45:10.100Z"
   },
   {
    "duration": 7,
    "start_time": "2022-05-03T16:45:10.109Z"
   },
   {
    "duration": 7,
    "start_time": "2022-05-03T16:45:10.117Z"
   },
   {
    "duration": 210,
    "start_time": "2022-05-03T16:45:10.126Z"
   },
   {
    "duration": 209,
    "start_time": "2022-05-03T16:45:10.338Z"
   },
   {
    "duration": 191,
    "start_time": "2022-05-03T16:45:10.549Z"
   },
   {
    "duration": 7,
    "start_time": "2022-05-03T16:45:10.742Z"
   },
   {
    "duration": 13,
    "start_time": "2022-05-03T16:45:10.751Z"
   },
   {
    "duration": 6348,
    "start_time": "2022-05-03T16:45:10.766Z"
   },
   {
    "duration": 16,
    "start_time": "2022-05-03T16:45:17.116Z"
   },
   {
    "duration": 7,
    "start_time": "2022-05-03T16:45:17.133Z"
   },
   {
    "duration": 6,
    "start_time": "2022-05-03T16:45:17.141Z"
   },
   {
    "duration": 9,
    "start_time": "2022-05-03T16:45:17.151Z"
   },
   {
    "duration": 58,
    "start_time": "2022-05-03T16:45:17.161Z"
   },
   {
    "duration": 6,
    "start_time": "2022-05-03T16:45:17.221Z"
   },
   {
    "duration": 16,
    "start_time": "2022-05-03T16:45:17.228Z"
   },
   {
    "duration": 6,
    "start_time": "2022-05-03T16:45:17.245Z"
   },
   {
    "duration": 61,
    "start_time": "2022-05-03T16:45:17.252Z"
   },
   {
    "duration": 13,
    "start_time": "2022-05-03T16:45:17.315Z"
   },
   {
    "duration": 18,
    "start_time": "2022-05-03T16:45:17.329Z"
   },
   {
    "duration": 16,
    "start_time": "2022-05-03T16:45:17.348Z"
   },
   {
    "duration": 32,
    "start_time": "2022-05-03T16:45:17.366Z"
   },
   {
    "duration": 173,
    "start_time": "2022-05-03T16:45:17.400Z"
   },
   {
    "duration": 29,
    "start_time": "2022-05-03T16:45:17.575Z"
   },
   {
    "duration": 26,
    "start_time": "2022-05-03T16:45:17.607Z"
   },
   {
    "duration": 35,
    "start_time": "2022-05-03T16:45:17.635Z"
   },
   {
    "duration": 60,
    "start_time": "2022-05-03T16:45:17.673Z"
   },
   {
    "duration": 36,
    "start_time": "2022-05-03T16:45:17.735Z"
   },
   {
    "duration": 43,
    "start_time": "2022-05-03T16:45:17.773Z"
   },
   {
    "duration": 37,
    "start_time": "2022-05-03T16:45:17.818Z"
   },
   {
    "duration": 136,
    "start_time": "2022-05-03T16:45:17.856Z"
   },
   {
    "duration": 0,
    "start_time": "2022-05-03T16:45:17.994Z"
   },
   {
    "duration": 0,
    "start_time": "2022-05-03T16:45:17.996Z"
   },
   {
    "duration": 0,
    "start_time": "2022-05-03T16:45:17.998Z"
   },
   {
    "duration": 0,
    "start_time": "2022-05-03T16:45:18.000Z"
   },
   {
    "duration": 0,
    "start_time": "2022-05-03T16:45:18.002Z"
   },
   {
    "duration": 0,
    "start_time": "2022-05-03T16:45:18.003Z"
   },
   {
    "duration": 0,
    "start_time": "2022-05-03T16:45:18.005Z"
   },
   {
    "duration": 0,
    "start_time": "2022-05-03T16:45:18.007Z"
   },
   {
    "duration": 0,
    "start_time": "2022-05-03T16:45:18.009Z"
   },
   {
    "duration": 0,
    "start_time": "2022-05-03T16:45:18.010Z"
   },
   {
    "duration": 0,
    "start_time": "2022-05-03T16:45:18.013Z"
   },
   {
    "duration": 0,
    "start_time": "2022-05-03T16:45:18.014Z"
   },
   {
    "duration": 15,
    "start_time": "2022-05-03T16:46:23.860Z"
   },
   {
    "duration": 3,
    "start_time": "2022-05-03T16:46:37.279Z"
   },
   {
    "duration": 92,
    "start_time": "2022-05-03T16:46:37.284Z"
   },
   {
    "duration": 28,
    "start_time": "2022-05-03T16:46:37.378Z"
   },
   {
    "duration": 18,
    "start_time": "2022-05-03T16:46:37.409Z"
   },
   {
    "duration": 6,
    "start_time": "2022-05-03T16:46:37.429Z"
   },
   {
    "duration": 10,
    "start_time": "2022-05-03T16:46:37.437Z"
   },
   {
    "duration": 45,
    "start_time": "2022-05-03T16:46:37.450Z"
   },
   {
    "duration": 10,
    "start_time": "2022-05-03T16:46:37.497Z"
   },
   {
    "duration": 19,
    "start_time": "2022-05-03T16:46:37.511Z"
   },
   {
    "duration": 6,
    "start_time": "2022-05-03T16:46:37.532Z"
   },
   {
    "duration": 7,
    "start_time": "2022-05-03T16:46:37.540Z"
   },
   {
    "duration": 54,
    "start_time": "2022-05-03T16:46:37.549Z"
   },
   {
    "duration": 26,
    "start_time": "2022-05-03T16:46:37.605Z"
   },
   {
    "duration": 13,
    "start_time": "2022-05-03T16:46:37.633Z"
   },
   {
    "duration": 8,
    "start_time": "2022-05-03T16:46:37.648Z"
   },
   {
    "duration": 7,
    "start_time": "2022-05-03T16:46:37.657Z"
   },
   {
    "duration": 38,
    "start_time": "2022-05-03T16:46:37.666Z"
   },
   {
    "duration": 19,
    "start_time": "2022-05-03T16:46:37.706Z"
   },
   {
    "duration": 232,
    "start_time": "2022-05-03T16:46:37.727Z"
   },
   {
    "duration": 198,
    "start_time": "2022-05-03T16:46:37.961Z"
   },
   {
    "duration": 174,
    "start_time": "2022-05-03T16:46:38.161Z"
   },
   {
    "duration": 7,
    "start_time": "2022-05-03T16:46:38.336Z"
   },
   {
    "duration": 9,
    "start_time": "2022-05-03T16:46:38.345Z"
   },
   {
    "duration": 6884,
    "start_time": "2022-05-03T16:46:38.358Z"
   },
   {
    "duration": 16,
    "start_time": "2022-05-03T16:46:45.244Z"
   },
   {
    "duration": 6,
    "start_time": "2022-05-03T16:46:45.261Z"
   },
   {
    "duration": 29,
    "start_time": "2022-05-03T16:46:45.269Z"
   },
   {
    "duration": 11,
    "start_time": "2022-05-03T16:46:45.301Z"
   },
   {
    "duration": 18,
    "start_time": "2022-05-03T16:46:45.314Z"
   },
   {
    "duration": 6,
    "start_time": "2022-05-03T16:46:45.334Z"
   },
   {
    "duration": 17,
    "start_time": "2022-05-03T16:46:45.341Z"
   },
   {
    "duration": 39,
    "start_time": "2022-05-03T16:46:45.359Z"
   },
   {
    "duration": 21,
    "start_time": "2022-05-03T16:46:45.400Z"
   },
   {
    "duration": 13,
    "start_time": "2022-05-03T16:46:45.422Z"
   },
   {
    "duration": 24,
    "start_time": "2022-05-03T16:46:45.437Z"
   },
   {
    "duration": 47,
    "start_time": "2022-05-03T16:46:45.463Z"
   },
   {
    "duration": 6,
    "start_time": "2022-05-03T16:46:45.511Z"
   },
   {
    "duration": 200,
    "start_time": "2022-05-03T16:46:45.519Z"
   },
   {
    "duration": 20,
    "start_time": "2022-05-03T16:46:45.721Z"
   },
   {
    "duration": 19,
    "start_time": "2022-05-03T16:46:45.743Z"
   },
   {
    "duration": 79,
    "start_time": "2022-05-03T16:46:45.763Z"
   },
   {
    "duration": 67,
    "start_time": "2022-05-03T16:46:45.844Z"
   },
   {
    "duration": 60,
    "start_time": "2022-05-03T16:46:45.913Z"
   },
   {
    "duration": 44,
    "start_time": "2022-05-03T16:46:45.974Z"
   },
   {
    "duration": 38,
    "start_time": "2022-05-03T16:46:46.020Z"
   },
   {
    "duration": 39,
    "start_time": "2022-05-03T16:46:46.060Z"
   },
   {
    "duration": 0,
    "start_time": "2022-05-03T16:46:46.101Z"
   },
   {
    "duration": 0,
    "start_time": "2022-05-03T16:46:46.102Z"
   },
   {
    "duration": 0,
    "start_time": "2022-05-03T16:46:46.104Z"
   },
   {
    "duration": 0,
    "start_time": "2022-05-03T16:46:46.105Z"
   },
   {
    "duration": 0,
    "start_time": "2022-05-03T16:46:46.106Z"
   },
   {
    "duration": 0,
    "start_time": "2022-05-03T16:46:46.107Z"
   },
   {
    "duration": 0,
    "start_time": "2022-05-03T16:46:46.108Z"
   },
   {
    "duration": 0,
    "start_time": "2022-05-03T16:46:46.109Z"
   },
   {
    "duration": 0,
    "start_time": "2022-05-03T16:46:46.109Z"
   },
   {
    "duration": 0,
    "start_time": "2022-05-03T16:46:46.110Z"
   },
   {
    "duration": 0,
    "start_time": "2022-05-03T16:46:46.120Z"
   },
   {
    "duration": 0,
    "start_time": "2022-05-03T16:46:46.122Z"
   },
   {
    "duration": 11,
    "start_time": "2022-05-03T16:55:19.931Z"
   },
   {
    "duration": 20,
    "start_time": "2022-05-03T16:55:24.253Z"
   },
   {
    "duration": 15,
    "start_time": "2022-05-03T16:55:35.427Z"
   },
   {
    "duration": 42,
    "start_time": "2022-05-03T16:55:47.489Z"
   },
   {
    "duration": 10,
    "start_time": "2022-05-03T16:59:25.416Z"
   },
   {
    "duration": 10,
    "start_time": "2022-05-03T16:59:32.128Z"
   },
   {
    "duration": 7,
    "start_time": "2022-05-03T16:59:41.812Z"
   },
   {
    "duration": 8,
    "start_time": "2022-05-03T16:59:55.183Z"
   },
   {
    "duration": 18,
    "start_time": "2022-05-03T17:19:11.158Z"
   },
   {
    "duration": 12,
    "start_time": "2022-05-03T17:19:31.679Z"
   },
   {
    "duration": 18,
    "start_time": "2022-05-03T17:19:40.552Z"
   },
   {
    "duration": 14,
    "start_time": "2022-05-03T17:20:35.450Z"
   },
   {
    "duration": 20,
    "start_time": "2022-05-03T17:24:20.515Z"
   },
   {
    "duration": 28,
    "start_time": "2022-05-03T17:25:41.001Z"
   },
   {
    "duration": 10,
    "start_time": "2022-05-03T17:25:49.155Z"
   },
   {
    "duration": 13,
    "start_time": "2022-05-03T17:26:00.118Z"
   },
   {
    "duration": 30,
    "start_time": "2022-05-03T17:26:26.980Z"
   },
   {
    "duration": 32,
    "start_time": "2022-05-03T17:26:52.218Z"
   },
   {
    "duration": 17,
    "start_time": "2022-05-03T17:27:28.049Z"
   },
   {
    "duration": 17,
    "start_time": "2022-05-03T17:27:32.272Z"
   },
   {
    "duration": 14,
    "start_time": "2022-05-03T17:27:34.657Z"
   },
   {
    "duration": 28,
    "start_time": "2022-05-03T17:27:39.726Z"
   },
   {
    "duration": 32,
    "start_time": "2022-05-03T17:27:41.690Z"
   },
   {
    "duration": 2,
    "start_time": "2022-05-03T17:27:52.267Z"
   },
   {
    "duration": 111,
    "start_time": "2022-05-03T17:27:52.274Z"
   },
   {
    "duration": 35,
    "start_time": "2022-05-03T17:27:52.388Z"
   },
   {
    "duration": 33,
    "start_time": "2022-05-03T17:27:52.425Z"
   },
   {
    "duration": 5,
    "start_time": "2022-05-03T17:27:52.460Z"
   },
   {
    "duration": 5,
    "start_time": "2022-05-03T17:27:52.467Z"
   },
   {
    "duration": 44,
    "start_time": "2022-05-03T17:27:52.473Z"
   },
   {
    "duration": 19,
    "start_time": "2022-05-03T17:27:52.519Z"
   },
   {
    "duration": 22,
    "start_time": "2022-05-03T17:27:52.542Z"
   },
   {
    "duration": 8,
    "start_time": "2022-05-03T17:27:52.566Z"
   },
   {
    "duration": 8,
    "start_time": "2022-05-03T17:27:52.577Z"
   },
   {
    "duration": 21,
    "start_time": "2022-05-03T17:27:52.587Z"
   },
   {
    "duration": 57,
    "start_time": "2022-05-03T17:27:52.610Z"
   },
   {
    "duration": 13,
    "start_time": "2022-05-03T17:27:52.669Z"
   },
   {
    "duration": 16,
    "start_time": "2022-05-03T17:27:52.684Z"
   },
   {
    "duration": 37,
    "start_time": "2022-05-03T17:27:52.710Z"
   },
   {
    "duration": 9,
    "start_time": "2022-05-03T17:27:52.749Z"
   },
   {
    "duration": 14,
    "start_time": "2022-05-03T17:27:52.760Z"
   },
   {
    "duration": 208,
    "start_time": "2022-05-03T17:27:52.775Z"
   },
   {
    "duration": 245,
    "start_time": "2022-05-03T17:27:52.985Z"
   },
   {
    "duration": 189,
    "start_time": "2022-05-03T17:27:53.234Z"
   },
   {
    "duration": 9,
    "start_time": "2022-05-03T17:27:53.428Z"
   },
   {
    "duration": 19,
    "start_time": "2022-05-03T17:27:53.439Z"
   },
   {
    "duration": 7750,
    "start_time": "2022-05-03T17:27:53.460Z"
   },
   {
    "duration": 26,
    "start_time": "2022-05-03T17:28:01.212Z"
   },
   {
    "duration": 53,
    "start_time": "2022-05-03T17:28:01.245Z"
   },
   {
    "duration": 66,
    "start_time": "2022-05-03T17:28:01.300Z"
   },
   {
    "duration": 20,
    "start_time": "2022-05-03T17:28:01.368Z"
   },
   {
    "duration": 53,
    "start_time": "2022-05-03T17:28:01.393Z"
   },
   {
    "duration": 74,
    "start_time": "2022-05-03T17:28:01.448Z"
   },
   {
    "duration": 82,
    "start_time": "2022-05-03T17:28:01.524Z"
   },
   {
    "duration": 48,
    "start_time": "2022-05-03T17:28:01.609Z"
   },
   {
    "duration": 50,
    "start_time": "2022-05-03T17:28:01.660Z"
   },
   {
    "duration": 52,
    "start_time": "2022-05-03T17:28:01.712Z"
   },
   {
    "duration": 22,
    "start_time": "2022-05-03T17:28:01.766Z"
   },
   {
    "duration": 30,
    "start_time": "2022-05-03T17:28:01.791Z"
   },
   {
    "duration": 59,
    "start_time": "2022-05-03T17:28:01.823Z"
   },
   {
    "duration": 7,
    "start_time": "2022-05-03T17:28:01.884Z"
   },
   {
    "duration": 261,
    "start_time": "2022-05-03T17:28:01.893Z"
   },
   {
    "duration": 22,
    "start_time": "2022-05-03T17:28:02.156Z"
   },
   {
    "duration": 56,
    "start_time": "2022-05-03T17:28:02.180Z"
   },
   {
    "duration": 76,
    "start_time": "2022-05-03T17:28:02.239Z"
   },
   {
    "duration": 52,
    "start_time": "2022-05-03T17:28:02.318Z"
   },
   {
    "duration": 58,
    "start_time": "2022-05-03T17:28:02.372Z"
   },
   {
    "duration": 23,
    "start_time": "2022-05-03T17:28:02.432Z"
   },
   {
    "duration": 61,
    "start_time": "2022-05-03T17:28:02.457Z"
   },
   {
    "duration": 29,
    "start_time": "2022-05-03T17:28:02.520Z"
   },
   {
    "duration": 0,
    "start_time": "2022-05-03T17:28:02.551Z"
   },
   {
    "duration": 0,
    "start_time": "2022-05-03T17:28:02.552Z"
   },
   {
    "duration": 0,
    "start_time": "2022-05-03T17:28:02.554Z"
   },
   {
    "duration": 0,
    "start_time": "2022-05-03T17:28:02.556Z"
   },
   {
    "duration": 0,
    "start_time": "2022-05-03T17:28:02.558Z"
   },
   {
    "duration": 0,
    "start_time": "2022-05-03T17:28:02.559Z"
   },
   {
    "duration": 0,
    "start_time": "2022-05-03T17:28:02.561Z"
   },
   {
    "duration": 0,
    "start_time": "2022-05-03T17:28:02.562Z"
   },
   {
    "duration": 0,
    "start_time": "2022-05-03T17:28:02.563Z"
   },
   {
    "duration": 0,
    "start_time": "2022-05-03T17:28:02.565Z"
   },
   {
    "duration": 0,
    "start_time": "2022-05-03T17:28:02.566Z"
   },
   {
    "duration": 0,
    "start_time": "2022-05-03T17:28:02.568Z"
   },
   {
    "duration": 16,
    "start_time": "2022-05-03T17:28:13.826Z"
   },
   {
    "duration": 1412,
    "start_time": "2022-05-04T07:11:28.162Z"
   },
   {
    "duration": 87,
    "start_time": "2022-05-04T07:11:29.576Z"
   },
   {
    "duration": 16,
    "start_time": "2022-05-04T07:11:29.665Z"
   },
   {
    "duration": 11,
    "start_time": "2022-05-04T07:11:29.683Z"
   },
   {
    "duration": 11,
    "start_time": "2022-05-04T07:11:29.695Z"
   },
   {
    "duration": 14,
    "start_time": "2022-05-04T07:11:29.707Z"
   },
   {
    "duration": 68,
    "start_time": "2022-05-04T07:11:29.723Z"
   },
   {
    "duration": 8,
    "start_time": "2022-05-04T07:11:29.793Z"
   },
   {
    "duration": 40,
    "start_time": "2022-05-04T07:11:29.802Z"
   },
   {
    "duration": 6,
    "start_time": "2022-05-04T07:11:29.846Z"
   },
   {
    "duration": 14,
    "start_time": "2022-05-04T07:11:29.854Z"
   },
   {
    "duration": 16,
    "start_time": "2022-05-04T07:11:29.870Z"
   },
   {
    "duration": 25,
    "start_time": "2022-05-04T07:11:29.888Z"
   },
   {
    "duration": 13,
    "start_time": "2022-05-04T07:11:29.933Z"
   },
   {
    "duration": 11,
    "start_time": "2022-05-04T07:11:29.948Z"
   },
   {
    "duration": 11,
    "start_time": "2022-05-04T07:11:29.961Z"
   },
   {
    "duration": 11,
    "start_time": "2022-05-04T07:11:29.975Z"
   },
   {
    "duration": 29,
    "start_time": "2022-05-04T07:11:29.989Z"
   },
   {
    "duration": 206,
    "start_time": "2022-05-04T07:11:30.020Z"
   },
   {
    "duration": 204,
    "start_time": "2022-05-04T07:11:30.232Z"
   },
   {
    "duration": 187,
    "start_time": "2022-05-04T07:11:30.438Z"
   },
   {
    "duration": 13,
    "start_time": "2022-05-04T07:11:30.627Z"
   },
   {
    "duration": 33,
    "start_time": "2022-05-04T07:11:30.642Z"
   },
   {
    "duration": 5689,
    "start_time": "2022-05-04T07:11:30.677Z"
   },
   {
    "duration": 16,
    "start_time": "2022-05-04T07:11:36.367Z"
   },
   {
    "duration": 6,
    "start_time": "2022-05-04T07:11:36.385Z"
   },
   {
    "duration": 7,
    "start_time": "2022-05-04T07:11:36.393Z"
   },
   {
    "duration": 36,
    "start_time": "2022-05-04T07:11:36.403Z"
   },
   {
    "duration": 16,
    "start_time": "2022-05-04T07:11:36.441Z"
   },
   {
    "duration": 6,
    "start_time": "2022-05-04T07:11:36.458Z"
   },
   {
    "duration": 18,
    "start_time": "2022-05-04T07:11:36.466Z"
   },
   {
    "duration": 6,
    "start_time": "2022-05-04T07:11:36.486Z"
   },
   {
    "duration": 45,
    "start_time": "2022-05-04T07:11:36.493Z"
   },
   {
    "duration": 17,
    "start_time": "2022-05-04T07:11:36.540Z"
   },
   {
    "duration": 15,
    "start_time": "2022-05-04T07:11:36.559Z"
   },
   {
    "duration": 25,
    "start_time": "2022-05-04T07:11:36.576Z"
   },
   {
    "duration": 16,
    "start_time": "2022-05-04T07:11:36.602Z"
   },
   {
    "duration": 16,
    "start_time": "2022-05-04T07:11:36.620Z"
   },
   {
    "duration": 179,
    "start_time": "2022-05-04T07:11:36.638Z"
   },
   {
    "duration": 23,
    "start_time": "2022-05-04T07:11:36.818Z"
   },
   {
    "duration": 20,
    "start_time": "2022-05-04T07:11:36.843Z"
   },
   {
    "duration": 33,
    "start_time": "2022-05-04T07:11:36.864Z"
   },
   {
    "duration": 54,
    "start_time": "2022-05-04T07:11:36.899Z"
   },
   {
    "duration": 37,
    "start_time": "2022-05-04T07:11:36.954Z"
   },
   {
    "duration": 20,
    "start_time": "2022-05-04T07:11:36.992Z"
   },
   {
    "duration": 55,
    "start_time": "2022-05-04T07:11:37.014Z"
   },
   {
    "duration": 123,
    "start_time": "2022-05-04T07:11:37.071Z"
   },
   {
    "duration": 0,
    "start_time": "2022-05-04T07:11:37.195Z"
   },
   {
    "duration": 0,
    "start_time": "2022-05-04T07:11:37.196Z"
   },
   {
    "duration": 0,
    "start_time": "2022-05-04T07:11:37.197Z"
   },
   {
    "duration": 0,
    "start_time": "2022-05-04T07:11:37.198Z"
   },
   {
    "duration": 0,
    "start_time": "2022-05-04T07:11:37.199Z"
   },
   {
    "duration": 0,
    "start_time": "2022-05-04T07:11:37.200Z"
   },
   {
    "duration": 0,
    "start_time": "2022-05-04T07:11:37.201Z"
   },
   {
    "duration": 0,
    "start_time": "2022-05-04T07:11:37.203Z"
   },
   {
    "duration": 0,
    "start_time": "2022-05-04T07:11:37.205Z"
   },
   {
    "duration": 0,
    "start_time": "2022-05-04T07:11:37.206Z"
   },
   {
    "duration": 0,
    "start_time": "2022-05-04T07:11:37.207Z"
   },
   {
    "duration": 0,
    "start_time": "2022-05-04T07:11:37.208Z"
   },
   {
    "duration": 13,
    "start_time": "2022-05-04T07:12:31.384Z"
   },
   {
    "duration": 8,
    "start_time": "2022-05-04T07:12:39.207Z"
   },
   {
    "duration": 17,
    "start_time": "2022-05-04T07:17:05.829Z"
   },
   {
    "duration": 18,
    "start_time": "2022-05-04T07:17:21.106Z"
   },
   {
    "duration": 17,
    "start_time": "2022-05-04T07:17:40.889Z"
   },
   {
    "duration": 18,
    "start_time": "2022-05-04T07:20:10.111Z"
   },
   {
    "duration": 18,
    "start_time": "2022-05-04T07:20:58.576Z"
   },
   {
    "duration": 18,
    "start_time": "2022-05-04T07:21:18.358Z"
   },
   {
    "duration": 3,
    "start_time": "2022-05-04T07:21:23.024Z"
   },
   {
    "duration": 79,
    "start_time": "2022-05-04T07:21:23.029Z"
   },
   {
    "duration": 25,
    "start_time": "2022-05-04T07:21:23.110Z"
   },
   {
    "duration": 11,
    "start_time": "2022-05-04T07:21:23.137Z"
   },
   {
    "duration": 6,
    "start_time": "2022-05-04T07:21:23.150Z"
   },
   {
    "duration": 10,
    "start_time": "2022-05-04T07:21:23.157Z"
   },
   {
    "duration": 20,
    "start_time": "2022-05-04T07:21:23.169Z"
   },
   {
    "duration": 49,
    "start_time": "2022-05-04T07:21:23.191Z"
   },
   {
    "duration": 14,
    "start_time": "2022-05-04T07:21:23.242Z"
   },
   {
    "duration": 10,
    "start_time": "2022-05-04T07:21:23.258Z"
   },
   {
    "duration": 18,
    "start_time": "2022-05-04T07:21:23.272Z"
   },
   {
    "duration": 50,
    "start_time": "2022-05-04T07:21:23.293Z"
   },
   {
    "duration": 7,
    "start_time": "2022-05-04T07:21:23.345Z"
   },
   {
    "duration": 10,
    "start_time": "2022-05-04T07:21:23.354Z"
   },
   {
    "duration": 11,
    "start_time": "2022-05-04T07:21:23.366Z"
   },
   {
    "duration": 9,
    "start_time": "2022-05-04T07:21:23.379Z"
   },
   {
    "duration": 201,
    "start_time": "2022-05-04T07:21:23.390Z"
   },
   {
    "duration": 197,
    "start_time": "2022-05-04T07:21:23.593Z"
   },
   {
    "duration": 178,
    "start_time": "2022-05-04T07:21:23.792Z"
   },
   {
    "duration": 7,
    "start_time": "2022-05-04T07:21:23.972Z"
   },
   {
    "duration": 7,
    "start_time": "2022-05-04T07:21:23.980Z"
   },
   {
    "duration": 5924,
    "start_time": "2022-05-04T07:21:23.989Z"
   },
   {
    "duration": 21,
    "start_time": "2022-05-04T07:21:29.915Z"
   },
   {
    "duration": 6,
    "start_time": "2022-05-04T07:21:29.938Z"
   },
   {
    "duration": 6,
    "start_time": "2022-05-04T07:21:29.945Z"
   },
   {
    "duration": 12,
    "start_time": "2022-05-04T07:21:29.952Z"
   },
   {
    "duration": 15,
    "start_time": "2022-05-04T07:21:29.966Z"
   },
   {
    "duration": 6,
    "start_time": "2022-05-04T07:21:29.983Z"
   },
   {
    "duration": 54,
    "start_time": "2022-05-04T07:21:29.992Z"
   },
   {
    "duration": 6,
    "start_time": "2022-05-04T07:21:30.048Z"
   },
   {
    "duration": 31,
    "start_time": "2022-05-04T07:21:30.056Z"
   },
   {
    "duration": 20,
    "start_time": "2022-05-04T07:21:30.088Z"
   },
   {
    "duration": 12,
    "start_time": "2022-05-04T07:21:30.110Z"
   },
   {
    "duration": 20,
    "start_time": "2022-05-04T07:21:30.124Z"
   },
   {
    "duration": 16,
    "start_time": "2022-05-04T07:21:30.146Z"
   },
   {
    "duration": 6,
    "start_time": "2022-05-04T07:21:30.164Z"
   },
   {
    "duration": 199,
    "start_time": "2022-05-04T07:21:30.171Z"
   },
   {
    "duration": 19,
    "start_time": "2022-05-04T07:21:30.372Z"
   },
   {
    "duration": 25,
    "start_time": "2022-05-04T07:21:30.393Z"
   },
   {
    "duration": 36,
    "start_time": "2022-05-04T07:21:30.433Z"
   },
   {
    "duration": 30,
    "start_time": "2022-05-04T07:21:30.470Z"
   },
   {
    "duration": 56,
    "start_time": "2022-05-04T07:21:30.502Z"
   },
   {
    "duration": 20,
    "start_time": "2022-05-04T07:21:30.560Z"
   },
   {
    "duration": 54,
    "start_time": "2022-05-04T07:21:30.581Z"
   },
   {
    "duration": 13,
    "start_time": "2022-05-04T07:21:30.637Z"
   },
   {
    "duration": 0,
    "start_time": "2022-05-04T07:21:30.652Z"
   },
   {
    "duration": 0,
    "start_time": "2022-05-04T07:21:30.653Z"
   },
   {
    "duration": 0,
    "start_time": "2022-05-04T07:21:30.655Z"
   },
   {
    "duration": 0,
    "start_time": "2022-05-04T07:21:30.656Z"
   },
   {
    "duration": 0,
    "start_time": "2022-05-04T07:21:30.658Z"
   },
   {
    "duration": 0,
    "start_time": "2022-05-04T07:21:30.659Z"
   },
   {
    "duration": 0,
    "start_time": "2022-05-04T07:21:30.660Z"
   },
   {
    "duration": 0,
    "start_time": "2022-05-04T07:21:30.661Z"
   },
   {
    "duration": 0,
    "start_time": "2022-05-04T07:21:30.663Z"
   },
   {
    "duration": 0,
    "start_time": "2022-05-04T07:21:30.664Z"
   },
   {
    "duration": 0,
    "start_time": "2022-05-04T07:21:30.665Z"
   },
   {
    "duration": 0,
    "start_time": "2022-05-04T07:21:30.666Z"
   },
   {
    "duration": 2409,
    "start_time": "2022-05-04T07:23:17.282Z"
   },
   {
    "duration": 19,
    "start_time": "2022-05-04T07:23:32.527Z"
   },
   {
    "duration": 19,
    "start_time": "2022-05-04T07:24:41.144Z"
   },
   {
    "duration": 18,
    "start_time": "2022-05-04T07:29:18.371Z"
   },
   {
    "duration": 8,
    "start_time": "2022-05-04T07:39:01.672Z"
   },
   {
    "duration": 8,
    "start_time": "2022-05-04T07:39:05.360Z"
   },
   {
    "duration": 15,
    "start_time": "2022-05-04T07:39:46.535Z"
   },
   {
    "duration": 3,
    "start_time": "2022-05-04T07:40:00.306Z"
   },
   {
    "duration": 89,
    "start_time": "2022-05-04T07:40:00.311Z"
   },
   {
    "duration": 39,
    "start_time": "2022-05-04T07:40:00.402Z"
   },
   {
    "duration": 17,
    "start_time": "2022-05-04T07:40:00.443Z"
   },
   {
    "duration": 18,
    "start_time": "2022-05-04T07:40:00.463Z"
   },
   {
    "duration": 24,
    "start_time": "2022-05-04T07:40:00.482Z"
   },
   {
    "duration": 32,
    "start_time": "2022-05-04T07:40:00.507Z"
   },
   {
    "duration": 13,
    "start_time": "2022-05-04T07:40:00.541Z"
   },
   {
    "duration": 18,
    "start_time": "2022-05-04T07:40:00.556Z"
   },
   {
    "duration": 19,
    "start_time": "2022-05-04T07:40:00.576Z"
   },
   {
    "duration": 49,
    "start_time": "2022-05-04T07:40:00.598Z"
   },
   {
    "duration": 19,
    "start_time": "2022-05-04T07:40:00.649Z"
   },
   {
    "duration": 18,
    "start_time": "2022-05-04T07:40:00.670Z"
   },
   {
    "duration": 21,
    "start_time": "2022-05-04T07:40:00.690Z"
   },
   {
    "duration": 16,
    "start_time": "2022-05-04T07:40:00.713Z"
   },
   {
    "duration": 16,
    "start_time": "2022-05-04T07:40:00.731Z"
   },
   {
    "duration": 191,
    "start_time": "2022-05-04T07:40:00.749Z"
   },
   {
    "duration": 204,
    "start_time": "2022-05-04T07:40:00.942Z"
   },
   {
    "duration": 191,
    "start_time": "2022-05-04T07:40:01.148Z"
   },
   {
    "duration": 8,
    "start_time": "2022-05-04T07:40:01.340Z"
   },
   {
    "duration": 20,
    "start_time": "2022-05-04T07:40:01.350Z"
   },
   {
    "duration": 6088,
    "start_time": "2022-05-04T07:40:01.372Z"
   },
   {
    "duration": 18,
    "start_time": "2022-05-04T07:40:07.463Z"
   },
   {
    "duration": 14,
    "start_time": "2022-05-04T07:40:07.484Z"
   },
   {
    "duration": 7,
    "start_time": "2022-05-04T07:40:07.500Z"
   },
   {
    "duration": 30,
    "start_time": "2022-05-04T07:40:07.509Z"
   },
   {
    "duration": 18,
    "start_time": "2022-05-04T07:40:07.541Z"
   },
   {
    "duration": 7,
    "start_time": "2022-05-04T07:40:07.561Z"
   },
   {
    "duration": 17,
    "start_time": "2022-05-04T07:40:07.573Z"
   },
   {
    "duration": 45,
    "start_time": "2022-05-04T07:40:07.592Z"
   },
   {
    "duration": 21,
    "start_time": "2022-05-04T07:40:07.639Z"
   },
   {
    "duration": 16,
    "start_time": "2022-05-04T07:40:07.662Z"
   },
   {
    "duration": 22,
    "start_time": "2022-05-04T07:40:07.680Z"
   },
   {
    "duration": 32,
    "start_time": "2022-05-04T07:40:07.704Z"
   },
   {
    "duration": 17,
    "start_time": "2022-05-04T07:40:07.738Z"
   },
   {
    "duration": 11,
    "start_time": "2022-05-04T07:40:07.757Z"
   },
   {
    "duration": 199,
    "start_time": "2022-05-04T07:40:07.769Z"
   },
   {
    "duration": 19,
    "start_time": "2022-05-04T07:40:07.969Z"
   },
   {
    "duration": 28,
    "start_time": "2022-05-04T07:40:07.990Z"
   },
   {
    "duration": 48,
    "start_time": "2022-05-04T07:40:08.020Z"
   },
   {
    "duration": 30,
    "start_time": "2022-05-04T07:40:08.070Z"
   },
   {
    "duration": 60,
    "start_time": "2022-05-04T07:40:08.102Z"
   },
   {
    "duration": 22,
    "start_time": "2022-05-04T07:40:08.164Z"
   },
   {
    "duration": 59,
    "start_time": "2022-05-04T07:40:08.187Z"
   },
   {
    "duration": 16,
    "start_time": "2022-05-04T07:40:08.248Z"
   },
   {
    "duration": 40,
    "start_time": "2022-05-04T07:40:08.266Z"
   },
   {
    "duration": 24,
    "start_time": "2022-05-04T07:40:08.308Z"
   },
   {
    "duration": 28,
    "start_time": "2022-05-04T07:40:08.334Z"
   },
   {
    "duration": 31,
    "start_time": "2022-05-04T07:40:08.364Z"
   },
   {
    "duration": 23,
    "start_time": "2022-05-04T07:40:08.397Z"
   },
   {
    "duration": 36,
    "start_time": "2022-05-04T07:40:08.422Z"
   },
   {
    "duration": 14,
    "start_time": "2022-05-04T07:40:08.460Z"
   },
   {
    "duration": 18,
    "start_time": "2022-05-04T07:40:08.476Z"
   },
   {
    "duration": 41,
    "start_time": "2022-05-04T07:40:08.496Z"
   },
   {
    "duration": 30,
    "start_time": "2022-05-04T07:40:08.539Z"
   },
   {
    "duration": 26,
    "start_time": "2022-05-04T07:40:08.570Z"
   },
   {
    "duration": 54,
    "start_time": "2022-05-04T07:40:08.598Z"
   },
   {
    "duration": 20,
    "start_time": "2022-05-04T07:40:48.916Z"
   },
   {
    "duration": 3,
    "start_time": "2022-05-04T07:40:53.252Z"
   },
   {
    "duration": 82,
    "start_time": "2022-05-04T07:40:53.257Z"
   },
   {
    "duration": 16,
    "start_time": "2022-05-04T07:40:53.341Z"
   },
   {
    "duration": 11,
    "start_time": "2022-05-04T07:40:53.359Z"
   },
   {
    "duration": 6,
    "start_time": "2022-05-04T07:40:53.372Z"
   },
   {
    "duration": 7,
    "start_time": "2022-05-04T07:40:53.380Z"
   },
   {
    "duration": 62,
    "start_time": "2022-05-04T07:40:53.388Z"
   },
   {
    "duration": 8,
    "start_time": "2022-05-04T07:40:53.452Z"
   },
   {
    "duration": 17,
    "start_time": "2022-05-04T07:40:53.462Z"
   },
   {
    "duration": 10,
    "start_time": "2022-05-04T07:40:53.481Z"
   },
   {
    "duration": 55,
    "start_time": "2022-05-04T07:40:53.493Z"
   },
   {
    "duration": 13,
    "start_time": "2022-05-04T07:40:53.549Z"
   },
   {
    "duration": 9,
    "start_time": "2022-05-04T07:40:53.564Z"
   },
   {
    "duration": 12,
    "start_time": "2022-05-04T07:40:53.575Z"
   },
   {
    "duration": 6,
    "start_time": "2022-05-04T07:40:53.589Z"
   },
   {
    "duration": 11,
    "start_time": "2022-05-04T07:40:53.596Z"
   },
   {
    "duration": 185,
    "start_time": "2022-05-04T07:40:53.634Z"
   },
   {
    "duration": 200,
    "start_time": "2022-05-04T07:40:53.820Z"
   },
   {
    "duration": 182,
    "start_time": "2022-05-04T07:40:54.022Z"
   },
   {
    "duration": 7,
    "start_time": "2022-05-04T07:40:54.206Z"
   },
   {
    "duration": 19,
    "start_time": "2022-05-04T07:40:54.215Z"
   },
   {
    "duration": 5818,
    "start_time": "2022-05-04T07:40:54.236Z"
   },
   {
    "duration": 18,
    "start_time": "2022-05-04T07:41:00.055Z"
   },
   {
    "duration": 6,
    "start_time": "2022-05-04T07:41:00.075Z"
   },
   {
    "duration": 8,
    "start_time": "2022-05-04T07:41:00.083Z"
   },
   {
    "duration": 40,
    "start_time": "2022-05-04T07:41:00.093Z"
   },
   {
    "duration": 18,
    "start_time": "2022-05-04T07:41:00.135Z"
   },
   {
    "duration": 7,
    "start_time": "2022-05-04T07:41:00.155Z"
   },
   {
    "duration": 21,
    "start_time": "2022-05-04T07:41:00.166Z"
   },
   {
    "duration": 7,
    "start_time": "2022-05-04T07:41:00.189Z"
   },
   {
    "duration": 44,
    "start_time": "2022-05-04T07:41:00.198Z"
   },
   {
    "duration": 21,
    "start_time": "2022-05-04T07:41:00.244Z"
   },
   {
    "duration": 20,
    "start_time": "2022-05-04T07:41:00.267Z"
   },
   {
    "duration": 26,
    "start_time": "2022-05-04T07:41:00.289Z"
   },
   {
    "duration": 21,
    "start_time": "2022-05-04T07:41:00.317Z"
   },
   {
    "duration": 19,
    "start_time": "2022-05-04T07:41:00.340Z"
   },
   {
    "duration": 34,
    "start_time": "2022-05-04T07:41:00.361Z"
   },
   {
    "duration": 0,
    "start_time": "2022-05-04T07:41:00.397Z"
   },
   {
    "duration": 0,
    "start_time": "2022-05-04T07:41:00.398Z"
   },
   {
    "duration": 0,
    "start_time": "2022-05-04T07:41:00.399Z"
   },
   {
    "duration": 0,
    "start_time": "2022-05-04T07:41:00.401Z"
   },
   {
    "duration": 0,
    "start_time": "2022-05-04T07:41:00.402Z"
   },
   {
    "duration": 0,
    "start_time": "2022-05-04T07:41:00.403Z"
   },
   {
    "duration": 0,
    "start_time": "2022-05-04T07:41:00.404Z"
   },
   {
    "duration": 0,
    "start_time": "2022-05-04T07:41:00.405Z"
   },
   {
    "duration": 0,
    "start_time": "2022-05-04T07:41:00.406Z"
   },
   {
    "duration": 0,
    "start_time": "2022-05-04T07:41:00.407Z"
   },
   {
    "duration": 0,
    "start_time": "2022-05-04T07:41:00.408Z"
   },
   {
    "duration": 0,
    "start_time": "2022-05-04T07:41:00.409Z"
   },
   {
    "duration": 0,
    "start_time": "2022-05-04T07:41:00.410Z"
   },
   {
    "duration": 0,
    "start_time": "2022-05-04T07:41:00.411Z"
   },
   {
    "duration": 0,
    "start_time": "2022-05-04T07:41:00.412Z"
   },
   {
    "duration": 0,
    "start_time": "2022-05-04T07:41:00.434Z"
   },
   {
    "duration": 0,
    "start_time": "2022-05-04T07:41:00.435Z"
   },
   {
    "duration": 0,
    "start_time": "2022-05-04T07:41:00.437Z"
   },
   {
    "duration": 0,
    "start_time": "2022-05-04T07:41:00.438Z"
   },
   {
    "duration": 0,
    "start_time": "2022-05-04T07:41:00.438Z"
   },
   {
    "duration": 3,
    "start_time": "2022-05-04T07:41:29.890Z"
   },
   {
    "duration": 98,
    "start_time": "2022-05-04T07:41:29.895Z"
   },
   {
    "duration": 40,
    "start_time": "2022-05-04T07:41:29.995Z"
   },
   {
    "duration": 11,
    "start_time": "2022-05-04T07:41:30.037Z"
   },
   {
    "duration": 11,
    "start_time": "2022-05-04T07:41:30.049Z"
   },
   {
    "duration": 7,
    "start_time": "2022-05-04T07:41:30.062Z"
   },
   {
    "duration": 24,
    "start_time": "2022-05-04T07:41:30.071Z"
   },
   {
    "duration": 41,
    "start_time": "2022-05-04T07:41:30.097Z"
   },
   {
    "duration": 24,
    "start_time": "2022-05-04T07:41:30.141Z"
   },
   {
    "duration": 16,
    "start_time": "2022-05-04T07:41:30.167Z"
   },
   {
    "duration": 33,
    "start_time": "2022-05-04T07:41:30.185Z"
   },
   {
    "duration": 18,
    "start_time": "2022-05-04T07:41:30.220Z"
   },
   {
    "duration": 17,
    "start_time": "2022-05-04T07:41:30.239Z"
   },
   {
    "duration": 19,
    "start_time": "2022-05-04T07:41:30.258Z"
   },
   {
    "duration": 18,
    "start_time": "2022-05-04T07:41:30.279Z"
   },
   {
    "duration": 12,
    "start_time": "2022-05-04T07:41:30.299Z"
   },
   {
    "duration": 174,
    "start_time": "2022-05-04T07:41:30.313Z"
   },
   {
    "duration": 280,
    "start_time": "2022-05-04T07:41:30.489Z"
   },
   {
    "duration": 181,
    "start_time": "2022-05-04T07:41:30.770Z"
   },
   {
    "duration": 7,
    "start_time": "2022-05-04T07:41:30.953Z"
   },
   {
    "duration": 21,
    "start_time": "2022-05-04T07:41:30.961Z"
   },
   {
    "duration": 5746,
    "start_time": "2022-05-04T07:41:30.984Z"
   },
   {
    "duration": 16,
    "start_time": "2022-05-04T07:41:36.733Z"
   },
   {
    "duration": 6,
    "start_time": "2022-05-04T07:41:36.753Z"
   },
   {
    "duration": 14,
    "start_time": "2022-05-04T07:41:36.761Z"
   },
   {
    "duration": 12,
    "start_time": "2022-05-04T07:41:36.777Z"
   },
   {
    "duration": 19,
    "start_time": "2022-05-04T07:41:36.791Z"
   },
   {
    "duration": 23,
    "start_time": "2022-05-04T07:41:36.811Z"
   },
   {
    "duration": 21,
    "start_time": "2022-05-04T07:41:36.836Z"
   },
   {
    "duration": 5,
    "start_time": "2022-05-04T07:41:36.859Z"
   },
   {
    "duration": 22,
    "start_time": "2022-05-04T07:41:36.866Z"
   },
   {
    "duration": 17,
    "start_time": "2022-05-04T07:41:36.890Z"
   },
   {
    "duration": 27,
    "start_time": "2022-05-04T07:41:36.909Z"
   },
   {
    "duration": 29,
    "start_time": "2022-05-04T07:41:36.937Z"
   },
   {
    "duration": 16,
    "start_time": "2022-05-04T07:41:36.968Z"
   },
   {
    "duration": 9,
    "start_time": "2022-05-04T07:41:36.986Z"
   },
   {
    "duration": 24,
    "start_time": "2022-05-04T07:41:36.997Z"
   },
   {
    "duration": 0,
    "start_time": "2022-05-04T07:41:37.034Z"
   },
   {
    "duration": 0,
    "start_time": "2022-05-04T07:41:37.035Z"
   },
   {
    "duration": 0,
    "start_time": "2022-05-04T07:41:37.036Z"
   },
   {
    "duration": 0,
    "start_time": "2022-05-04T07:41:37.037Z"
   },
   {
    "duration": 0,
    "start_time": "2022-05-04T07:41:37.039Z"
   },
   {
    "duration": 0,
    "start_time": "2022-05-04T07:41:37.039Z"
   },
   {
    "duration": 0,
    "start_time": "2022-05-04T07:41:37.040Z"
   },
   {
    "duration": 0,
    "start_time": "2022-05-04T07:41:37.041Z"
   },
   {
    "duration": 0,
    "start_time": "2022-05-04T07:41:37.042Z"
   },
   {
    "duration": 0,
    "start_time": "2022-05-04T07:41:37.043Z"
   },
   {
    "duration": 0,
    "start_time": "2022-05-04T07:41:37.044Z"
   },
   {
    "duration": 0,
    "start_time": "2022-05-04T07:41:37.045Z"
   },
   {
    "duration": 0,
    "start_time": "2022-05-04T07:41:37.046Z"
   },
   {
    "duration": 0,
    "start_time": "2022-05-04T07:41:37.047Z"
   },
   {
    "duration": 0,
    "start_time": "2022-05-04T07:41:37.048Z"
   },
   {
    "duration": 0,
    "start_time": "2022-05-04T07:41:37.049Z"
   },
   {
    "duration": 0,
    "start_time": "2022-05-04T07:41:37.050Z"
   },
   {
    "duration": 0,
    "start_time": "2022-05-04T07:41:37.051Z"
   },
   {
    "duration": 0,
    "start_time": "2022-05-04T07:41:37.052Z"
   },
   {
    "duration": 0,
    "start_time": "2022-05-04T07:41:37.053Z"
   },
   {
    "duration": 3,
    "start_time": "2022-05-04T07:43:11.947Z"
   },
   {
    "duration": 82,
    "start_time": "2022-05-04T07:43:11.952Z"
   },
   {
    "duration": 16,
    "start_time": "2022-05-04T07:43:12.036Z"
   },
   {
    "duration": 11,
    "start_time": "2022-05-04T07:43:12.054Z"
   },
   {
    "duration": 5,
    "start_time": "2022-05-04T07:43:12.067Z"
   },
   {
    "duration": 8,
    "start_time": "2022-05-04T07:43:12.073Z"
   },
   {
    "duration": 57,
    "start_time": "2022-05-04T07:43:12.082Z"
   },
   {
    "duration": 7,
    "start_time": "2022-05-04T07:43:12.141Z"
   },
   {
    "duration": 14,
    "start_time": "2022-05-04T07:43:12.150Z"
   },
   {
    "duration": 8,
    "start_time": "2022-05-04T07:43:12.165Z"
   },
   {
    "duration": 25,
    "start_time": "2022-05-04T07:43:12.176Z"
   },
   {
    "duration": 43,
    "start_time": "2022-05-04T07:43:12.203Z"
   },
   {
    "duration": 8,
    "start_time": "2022-05-04T07:43:12.247Z"
   },
   {
    "duration": 8,
    "start_time": "2022-05-04T07:43:12.256Z"
   },
   {
    "duration": 5,
    "start_time": "2022-05-04T07:43:12.266Z"
   },
   {
    "duration": 13,
    "start_time": "2022-05-04T07:43:12.273Z"
   },
   {
    "duration": 218,
    "start_time": "2022-05-04T07:43:12.288Z"
   },
   {
    "duration": 203,
    "start_time": "2022-05-04T07:43:12.507Z"
   },
   {
    "duration": 192,
    "start_time": "2022-05-04T07:43:12.712Z"
   },
   {
    "duration": 7,
    "start_time": "2022-05-04T07:43:12.906Z"
   },
   {
    "duration": 20,
    "start_time": "2022-05-04T07:43:12.914Z"
   },
   {
    "duration": 6247,
    "start_time": "2022-05-04T07:43:12.936Z"
   },
   {
    "duration": 18,
    "start_time": "2022-05-04T07:43:19.186Z"
   },
   {
    "duration": 6,
    "start_time": "2022-05-04T07:43:19.205Z"
   },
   {
    "duration": 6,
    "start_time": "2022-05-04T07:43:19.234Z"
   },
   {
    "duration": 12,
    "start_time": "2022-05-04T07:43:19.241Z"
   },
   {
    "duration": 16,
    "start_time": "2022-05-04T07:43:19.255Z"
   },
   {
    "duration": 6,
    "start_time": "2022-05-04T07:43:19.273Z"
   },
   {
    "duration": 51,
    "start_time": "2022-05-04T07:43:19.284Z"
   },
   {
    "duration": 6,
    "start_time": "2022-05-04T07:43:19.337Z"
   },
   {
    "duration": 16,
    "start_time": "2022-05-04T07:43:19.345Z"
   },
   {
    "duration": 14,
    "start_time": "2022-05-04T07:43:19.363Z"
   },
   {
    "duration": 11,
    "start_time": "2022-05-04T07:43:19.379Z"
   },
   {
    "duration": 46,
    "start_time": "2022-05-04T07:43:19.392Z"
   },
   {
    "duration": 18,
    "start_time": "2022-05-04T07:43:19.440Z"
   },
   {
    "duration": 9,
    "start_time": "2022-05-04T07:43:19.461Z"
   },
   {
    "duration": 26,
    "start_time": "2022-05-04T07:43:19.472Z"
   },
   {
    "duration": 0,
    "start_time": "2022-05-04T07:43:19.500Z"
   },
   {
    "duration": 0,
    "start_time": "2022-05-04T07:43:19.501Z"
   },
   {
    "duration": 0,
    "start_time": "2022-05-04T07:43:19.502Z"
   },
   {
    "duration": 0,
    "start_time": "2022-05-04T07:43:19.504Z"
   },
   {
    "duration": 0,
    "start_time": "2022-05-04T07:43:19.534Z"
   },
   {
    "duration": 0,
    "start_time": "2022-05-04T07:43:19.535Z"
   },
   {
    "duration": 0,
    "start_time": "2022-05-04T07:43:19.536Z"
   },
   {
    "duration": 0,
    "start_time": "2022-05-04T07:43:19.537Z"
   },
   {
    "duration": 0,
    "start_time": "2022-05-04T07:43:19.539Z"
   },
   {
    "duration": 0,
    "start_time": "2022-05-04T07:43:19.540Z"
   },
   {
    "duration": 0,
    "start_time": "2022-05-04T07:43:19.541Z"
   },
   {
    "duration": 0,
    "start_time": "2022-05-04T07:43:19.543Z"
   },
   {
    "duration": 0,
    "start_time": "2022-05-04T07:43:19.544Z"
   },
   {
    "duration": 0,
    "start_time": "2022-05-04T07:43:19.545Z"
   },
   {
    "duration": 0,
    "start_time": "2022-05-04T07:43:19.546Z"
   },
   {
    "duration": 0,
    "start_time": "2022-05-04T07:43:19.547Z"
   },
   {
    "duration": 0,
    "start_time": "2022-05-04T07:43:19.548Z"
   },
   {
    "duration": 0,
    "start_time": "2022-05-04T07:43:19.549Z"
   },
   {
    "duration": 0,
    "start_time": "2022-05-04T07:43:19.550Z"
   },
   {
    "duration": 0,
    "start_time": "2022-05-04T07:43:19.551Z"
   },
   {
    "duration": 15,
    "start_time": "2022-05-04T07:45:13.269Z"
   },
   {
    "duration": 10,
    "start_time": "2022-05-04T07:45:39.017Z"
   },
   {
    "duration": 20,
    "start_time": "2022-05-04T07:45:57.153Z"
   },
   {
    "duration": 3,
    "start_time": "2022-05-04T07:46:06.473Z"
   },
   {
    "duration": 78,
    "start_time": "2022-05-04T07:46:06.478Z"
   },
   {
    "duration": 15,
    "start_time": "2022-05-04T07:46:06.558Z"
   },
   {
    "duration": 11,
    "start_time": "2022-05-04T07:46:06.574Z"
   },
   {
    "duration": 7,
    "start_time": "2022-05-04T07:46:06.587Z"
   },
   {
    "duration": 38,
    "start_time": "2022-05-04T07:46:06.596Z"
   },
   {
    "duration": 21,
    "start_time": "2022-05-04T07:46:06.636Z"
   },
   {
    "duration": 8,
    "start_time": "2022-05-04T07:46:06.658Z"
   },
   {
    "duration": 20,
    "start_time": "2022-05-04T07:46:06.667Z"
   },
   {
    "duration": 9,
    "start_time": "2022-05-04T07:46:06.688Z"
   },
   {
    "duration": 43,
    "start_time": "2022-05-04T07:46:06.700Z"
   },
   {
    "duration": 9,
    "start_time": "2022-05-04T07:46:06.745Z"
   },
   {
    "duration": 0,
    "start_time": "2022-05-04T07:46:06.757Z"
   },
   {
    "duration": 0,
    "start_time": "2022-05-04T07:46:06.758Z"
   },
   {
    "duration": 1,
    "start_time": "2022-05-04T07:46:06.759Z"
   },
   {
    "duration": 0,
    "start_time": "2022-05-04T07:46:06.761Z"
   },
   {
    "duration": 0,
    "start_time": "2022-05-04T07:46:06.762Z"
   },
   {
    "duration": 0,
    "start_time": "2022-05-04T07:46:06.763Z"
   },
   {
    "duration": 0,
    "start_time": "2022-05-04T07:46:06.764Z"
   },
   {
    "duration": 0,
    "start_time": "2022-05-04T07:46:06.765Z"
   },
   {
    "duration": 0,
    "start_time": "2022-05-04T07:46:06.766Z"
   },
   {
    "duration": 0,
    "start_time": "2022-05-04T07:46:06.767Z"
   },
   {
    "duration": 0,
    "start_time": "2022-05-04T07:46:06.768Z"
   },
   {
    "duration": 0,
    "start_time": "2022-05-04T07:46:06.769Z"
   },
   {
    "duration": 0,
    "start_time": "2022-05-04T07:46:06.770Z"
   },
   {
    "duration": 0,
    "start_time": "2022-05-04T07:46:06.771Z"
   },
   {
    "duration": 0,
    "start_time": "2022-05-04T07:46:06.772Z"
   },
   {
    "duration": 0,
    "start_time": "2022-05-04T07:46:06.773Z"
   },
   {
    "duration": 0,
    "start_time": "2022-05-04T07:46:06.774Z"
   },
   {
    "duration": 0,
    "start_time": "2022-05-04T07:46:06.775Z"
   },
   {
    "duration": 1,
    "start_time": "2022-05-04T07:46:06.775Z"
   },
   {
    "duration": 0,
    "start_time": "2022-05-04T07:46:06.776Z"
   },
   {
    "duration": 0,
    "start_time": "2022-05-04T07:46:06.777Z"
   },
   {
    "duration": 0,
    "start_time": "2022-05-04T07:46:06.778Z"
   },
   {
    "duration": 0,
    "start_time": "2022-05-04T07:46:06.779Z"
   },
   {
    "duration": 0,
    "start_time": "2022-05-04T07:46:06.780Z"
   },
   {
    "duration": 0,
    "start_time": "2022-05-04T07:46:06.781Z"
   },
   {
    "duration": 0,
    "start_time": "2022-05-04T07:46:06.783Z"
   },
   {
    "duration": 0,
    "start_time": "2022-05-04T07:46:06.833Z"
   },
   {
    "duration": 0,
    "start_time": "2022-05-04T07:46:06.834Z"
   },
   {
    "duration": 0,
    "start_time": "2022-05-04T07:46:06.835Z"
   },
   {
    "duration": 0,
    "start_time": "2022-05-04T07:46:06.836Z"
   },
   {
    "duration": 0,
    "start_time": "2022-05-04T07:46:06.837Z"
   },
   {
    "duration": 0,
    "start_time": "2022-05-04T07:46:06.838Z"
   },
   {
    "duration": 0,
    "start_time": "2022-05-04T07:46:06.839Z"
   },
   {
    "duration": 0,
    "start_time": "2022-05-04T07:46:06.840Z"
   },
   {
    "duration": 0,
    "start_time": "2022-05-04T07:46:06.841Z"
   },
   {
    "duration": 0,
    "start_time": "2022-05-04T07:46:06.841Z"
   },
   {
    "duration": 0,
    "start_time": "2022-05-04T07:46:06.842Z"
   },
   {
    "duration": 0,
    "start_time": "2022-05-04T07:46:06.844Z"
   },
   {
    "duration": 0,
    "start_time": "2022-05-04T07:46:06.845Z"
   },
   {
    "duration": 0,
    "start_time": "2022-05-04T07:46:06.846Z"
   },
   {
    "duration": 0,
    "start_time": "2022-05-04T07:46:06.847Z"
   },
   {
    "duration": 0,
    "start_time": "2022-05-04T07:46:06.848Z"
   },
   {
    "duration": 0,
    "start_time": "2022-05-04T07:46:06.848Z"
   },
   {
    "duration": 0,
    "start_time": "2022-05-04T07:46:06.849Z"
   },
   {
    "duration": 0,
    "start_time": "2022-05-04T07:46:06.851Z"
   },
   {
    "duration": 0,
    "start_time": "2022-05-04T07:46:06.852Z"
   },
   {
    "duration": 0,
    "start_time": "2022-05-04T07:46:06.853Z"
   },
   {
    "duration": 2340,
    "start_time": "2022-05-04T07:48:10.093Z"
   },
   {
    "duration": 2222,
    "start_time": "2022-05-04T07:49:14.185Z"
   },
   {
    "duration": 3,
    "start_time": "2022-05-04T07:50:03.632Z"
   },
   {
    "duration": 79,
    "start_time": "2022-05-04T07:50:03.639Z"
   },
   {
    "duration": 25,
    "start_time": "2022-05-04T07:50:03.721Z"
   },
   {
    "duration": 14,
    "start_time": "2022-05-04T07:50:03.747Z"
   },
   {
    "duration": 5,
    "start_time": "2022-05-04T07:50:03.763Z"
   },
   {
    "duration": 5,
    "start_time": "2022-05-04T07:50:03.770Z"
   },
   {
    "duration": 56,
    "start_time": "2022-05-04T07:50:03.777Z"
   },
   {
    "duration": 8,
    "start_time": "2022-05-04T07:50:03.835Z"
   },
   {
    "duration": 15,
    "start_time": "2022-05-04T07:50:03.845Z"
   },
   {
    "duration": 8,
    "start_time": "2022-05-04T07:50:03.862Z"
   },
   {
    "duration": 16,
    "start_time": "2022-05-04T07:50:03.873Z"
   },
   {
    "duration": 2335,
    "start_time": "2022-05-04T07:50:03.891Z"
   },
   {
    "duration": 0,
    "start_time": "2022-05-04T07:50:06.229Z"
   },
   {
    "duration": 0,
    "start_time": "2022-05-04T07:50:06.230Z"
   },
   {
    "duration": 0,
    "start_time": "2022-05-04T07:50:06.231Z"
   },
   {
    "duration": 0,
    "start_time": "2022-05-04T07:50:06.233Z"
   },
   {
    "duration": 0,
    "start_time": "2022-05-04T07:50:06.234Z"
   },
   {
    "duration": 0,
    "start_time": "2022-05-04T07:50:06.235Z"
   },
   {
    "duration": 1,
    "start_time": "2022-05-04T07:50:06.236Z"
   },
   {
    "duration": 0,
    "start_time": "2022-05-04T07:50:06.237Z"
   },
   {
    "duration": 0,
    "start_time": "2022-05-04T07:50:06.239Z"
   },
   {
    "duration": 0,
    "start_time": "2022-05-04T07:50:06.240Z"
   },
   {
    "duration": 0,
    "start_time": "2022-05-04T07:50:06.241Z"
   },
   {
    "duration": 0,
    "start_time": "2022-05-04T07:50:06.242Z"
   },
   {
    "duration": 0,
    "start_time": "2022-05-04T07:50:06.243Z"
   },
   {
    "duration": 0,
    "start_time": "2022-05-04T07:50:06.244Z"
   },
   {
    "duration": 0,
    "start_time": "2022-05-04T07:50:06.245Z"
   },
   {
    "duration": 0,
    "start_time": "2022-05-04T07:50:06.246Z"
   },
   {
    "duration": 0,
    "start_time": "2022-05-04T07:50:06.247Z"
   },
   {
    "duration": 0,
    "start_time": "2022-05-04T07:50:06.249Z"
   },
   {
    "duration": 0,
    "start_time": "2022-05-04T07:50:06.250Z"
   },
   {
    "duration": 0,
    "start_time": "2022-05-04T07:50:06.251Z"
   },
   {
    "duration": 0,
    "start_time": "2022-05-04T07:50:06.252Z"
   },
   {
    "duration": 0,
    "start_time": "2022-05-04T07:50:06.253Z"
   },
   {
    "duration": 0,
    "start_time": "2022-05-04T07:50:06.254Z"
   },
   {
    "duration": 0,
    "start_time": "2022-05-04T07:50:06.255Z"
   },
   {
    "duration": 0,
    "start_time": "2022-05-04T07:50:06.256Z"
   },
   {
    "duration": 0,
    "start_time": "2022-05-04T07:50:06.258Z"
   },
   {
    "duration": 0,
    "start_time": "2022-05-04T07:50:06.259Z"
   },
   {
    "duration": 0,
    "start_time": "2022-05-04T07:50:06.260Z"
   },
   {
    "duration": 0,
    "start_time": "2022-05-04T07:50:06.261Z"
   },
   {
    "duration": 0,
    "start_time": "2022-05-04T07:50:06.262Z"
   },
   {
    "duration": 0,
    "start_time": "2022-05-04T07:50:06.263Z"
   },
   {
    "duration": 0,
    "start_time": "2022-05-04T07:50:06.264Z"
   },
   {
    "duration": 1,
    "start_time": "2022-05-04T07:50:06.265Z"
   },
   {
    "duration": 0,
    "start_time": "2022-05-04T07:50:06.267Z"
   },
   {
    "duration": 0,
    "start_time": "2022-05-04T07:50:06.268Z"
   },
   {
    "duration": 0,
    "start_time": "2022-05-04T07:50:06.269Z"
   },
   {
    "duration": 0,
    "start_time": "2022-05-04T07:50:06.270Z"
   },
   {
    "duration": 0,
    "start_time": "2022-05-04T07:50:06.271Z"
   },
   {
    "duration": 0,
    "start_time": "2022-05-04T07:50:06.334Z"
   },
   {
    "duration": 0,
    "start_time": "2022-05-04T07:50:06.335Z"
   },
   {
    "duration": 0,
    "start_time": "2022-05-04T07:50:06.336Z"
   },
   {
    "duration": 0,
    "start_time": "2022-05-04T07:50:06.337Z"
   },
   {
    "duration": 0,
    "start_time": "2022-05-04T07:50:06.338Z"
   },
   {
    "duration": 0,
    "start_time": "2022-05-04T07:50:06.339Z"
   },
   {
    "duration": 0,
    "start_time": "2022-05-04T07:50:06.340Z"
   },
   {
    "duration": 0,
    "start_time": "2022-05-04T07:50:06.341Z"
   },
   {
    "duration": 0,
    "start_time": "2022-05-04T07:50:06.342Z"
   },
   {
    "duration": 24,
    "start_time": "2022-05-04T07:50:35.062Z"
   },
   {
    "duration": 25,
    "start_time": "2022-05-04T07:50:52.911Z"
   },
   {
    "duration": 10,
    "start_time": "2022-05-04T07:53:37.077Z"
   },
   {
    "duration": 9,
    "start_time": "2022-05-04T07:53:58.460Z"
   },
   {
    "duration": 7,
    "start_time": "2022-05-04T07:54:06.713Z"
   },
   {
    "duration": 10,
    "start_time": "2022-05-04T07:54:26.677Z"
   },
   {
    "duration": 9,
    "start_time": "2022-05-04T07:55:06.049Z"
   },
   {
    "duration": 7,
    "start_time": "2022-05-04T07:55:29.969Z"
   },
   {
    "duration": 7,
    "start_time": "2022-05-04T07:55:34.717Z"
   },
   {
    "duration": 27,
    "start_time": "2022-05-04T07:57:30.769Z"
   },
   {
    "duration": 32,
    "start_time": "2022-05-04T07:58:47.639Z"
   },
   {
    "duration": 31,
    "start_time": "2022-05-04T07:59:07.230Z"
   },
   {
    "duration": 32,
    "start_time": "2022-05-04T07:59:21.717Z"
   },
   {
    "duration": 42,
    "start_time": "2022-05-04T07:59:25.349Z"
   },
   {
    "duration": 27,
    "start_time": "2022-05-04T08:03:32.146Z"
   },
   {
    "duration": 30,
    "start_time": "2022-05-04T08:05:00.287Z"
   },
   {
    "duration": 3,
    "start_time": "2022-05-04T08:05:32.428Z"
   },
   {
    "duration": 96,
    "start_time": "2022-05-04T08:05:32.433Z"
   },
   {
    "duration": 16,
    "start_time": "2022-05-04T08:05:32.531Z"
   },
   {
    "duration": 11,
    "start_time": "2022-05-04T08:05:32.549Z"
   },
   {
    "duration": 12,
    "start_time": "2022-05-04T08:05:32.562Z"
   },
   {
    "duration": 15,
    "start_time": "2022-05-04T08:05:32.576Z"
   },
   {
    "duration": 42,
    "start_time": "2022-05-04T08:05:32.593Z"
   },
   {
    "duration": 8,
    "start_time": "2022-05-04T08:05:32.637Z"
   },
   {
    "duration": 46,
    "start_time": "2022-05-04T08:05:32.648Z"
   },
   {
    "duration": 23,
    "start_time": "2022-05-04T08:05:32.696Z"
   },
   {
    "duration": 30,
    "start_time": "2022-05-04T08:05:32.721Z"
   },
   {
    "duration": 24,
    "start_time": "2022-05-04T08:05:32.753Z"
   },
   {
    "duration": 3,
    "start_time": "2022-05-04T08:05:32.779Z"
   },
   {
    "duration": 34,
    "start_time": "2022-05-04T08:05:32.784Z"
   },
   {
    "duration": 39,
    "start_time": "2022-05-04T08:05:32.819Z"
   },
   {
    "duration": 12,
    "start_time": "2022-05-04T08:05:32.860Z"
   },
   {
    "duration": 8,
    "start_time": "2022-05-04T08:05:32.874Z"
   },
   {
    "duration": 10,
    "start_time": "2022-05-04T08:05:32.884Z"
   },
   {
    "duration": 7,
    "start_time": "2022-05-04T08:05:32.895Z"
   },
   {
    "duration": 35,
    "start_time": "2022-05-04T08:05:32.903Z"
   },
   {
    "duration": 201,
    "start_time": "2022-05-04T08:05:32.940Z"
   },
   {
    "duration": 195,
    "start_time": "2022-05-04T08:05:33.143Z"
   },
   {
    "duration": 180,
    "start_time": "2022-05-04T08:05:33.340Z"
   },
   {
    "duration": 14,
    "start_time": "2022-05-04T08:05:33.524Z"
   },
   {
    "duration": 9,
    "start_time": "2022-05-04T08:05:33.540Z"
   },
   {
    "duration": 5983,
    "start_time": "2022-05-04T08:05:33.550Z"
   },
   {
    "duration": 17,
    "start_time": "2022-05-04T08:05:39.535Z"
   },
   {
    "duration": 7,
    "start_time": "2022-05-04T08:05:39.554Z"
   },
   {
    "duration": 7,
    "start_time": "2022-05-04T08:05:39.562Z"
   },
   {
    "duration": 11,
    "start_time": "2022-05-04T08:05:39.571Z"
   },
   {
    "duration": 53,
    "start_time": "2022-05-04T08:05:39.583Z"
   },
   {
    "duration": 6,
    "start_time": "2022-05-04T08:05:39.637Z"
   },
   {
    "duration": 27,
    "start_time": "2022-05-04T08:05:39.645Z"
   },
   {
    "duration": 33,
    "start_time": "2022-05-04T08:05:39.674Z"
   },
   {
    "duration": 18,
    "start_time": "2022-05-04T08:05:39.709Z"
   },
   {
    "duration": 14,
    "start_time": "2022-05-04T08:05:39.729Z"
   },
   {
    "duration": 14,
    "start_time": "2022-05-04T08:05:39.745Z"
   },
   {
    "duration": 22,
    "start_time": "2022-05-04T08:05:39.761Z"
   },
   {
    "duration": 17,
    "start_time": "2022-05-04T08:05:39.785Z"
   },
   {
    "duration": 5,
    "start_time": "2022-05-04T08:05:39.804Z"
   },
   {
    "duration": 187,
    "start_time": "2022-05-04T08:05:39.811Z"
   },
   {
    "duration": 20,
    "start_time": "2022-05-04T08:05:39.999Z"
   },
   {
    "duration": 20,
    "start_time": "2022-05-04T08:05:40.034Z"
   },
   {
    "duration": 39,
    "start_time": "2022-05-04T08:05:40.055Z"
   },
   {
    "duration": 55,
    "start_time": "2022-05-04T08:05:40.096Z"
   },
   {
    "duration": 37,
    "start_time": "2022-05-04T08:05:40.152Z"
   },
   {
    "duration": 19,
    "start_time": "2022-05-04T08:05:40.191Z"
   },
   {
    "duration": 56,
    "start_time": "2022-05-04T08:05:40.212Z"
   },
   {
    "duration": 15,
    "start_time": "2022-05-04T08:05:40.269Z"
   },
   {
    "duration": 0,
    "start_time": "2022-05-04T08:05:40.286Z"
   },
   {
    "duration": 0,
    "start_time": "2022-05-04T08:05:40.287Z"
   },
   {
    "duration": 0,
    "start_time": "2022-05-04T08:05:40.289Z"
   },
   {
    "duration": 0,
    "start_time": "2022-05-04T08:05:40.290Z"
   },
   {
    "duration": 0,
    "start_time": "2022-05-04T08:05:40.291Z"
   },
   {
    "duration": 0,
    "start_time": "2022-05-04T08:05:40.293Z"
   },
   {
    "duration": 0,
    "start_time": "2022-05-04T08:05:40.294Z"
   },
   {
    "duration": 0,
    "start_time": "2022-05-04T08:05:40.295Z"
   },
   {
    "duration": 0,
    "start_time": "2022-05-04T08:05:40.296Z"
   },
   {
    "duration": 0,
    "start_time": "2022-05-04T08:05:40.333Z"
   },
   {
    "duration": 0,
    "start_time": "2022-05-04T08:05:40.335Z"
   },
   {
    "duration": 0,
    "start_time": "2022-05-04T08:05:40.336Z"
   },
   {
    "duration": 27,
    "start_time": "2022-05-04T08:06:20.520Z"
   },
   {
    "duration": 31,
    "start_time": "2022-05-04T08:06:45.014Z"
   },
   {
    "duration": 4,
    "start_time": "2022-05-04T08:07:33.080Z"
   },
   {
    "duration": 29,
    "start_time": "2022-05-04T08:08:21.475Z"
   },
   {
    "duration": 5,
    "start_time": "2022-05-04T08:08:28.731Z"
   },
   {
    "duration": 2,
    "start_time": "2022-05-04T08:08:37.524Z"
   },
   {
    "duration": 80,
    "start_time": "2022-05-04T08:08:37.528Z"
   },
   {
    "duration": 33,
    "start_time": "2022-05-04T08:08:37.610Z"
   },
   {
    "duration": 11,
    "start_time": "2022-05-04T08:08:37.645Z"
   },
   {
    "duration": 5,
    "start_time": "2022-05-04T08:08:37.658Z"
   },
   {
    "duration": 6,
    "start_time": "2022-05-04T08:08:37.664Z"
   },
   {
    "duration": 69,
    "start_time": "2022-05-04T08:08:37.672Z"
   },
   {
    "duration": 7,
    "start_time": "2022-05-04T08:08:37.743Z"
   },
   {
    "duration": 15,
    "start_time": "2022-05-04T08:08:37.752Z"
   },
   {
    "duration": 7,
    "start_time": "2022-05-04T08:08:37.769Z"
   },
   {
    "duration": 57,
    "start_time": "2022-05-04T08:08:37.779Z"
   },
   {
    "duration": 2,
    "start_time": "2022-05-04T08:08:37.838Z"
   },
   {
    "duration": 28,
    "start_time": "2022-05-04T08:08:37.842Z"
   },
   {
    "duration": 4,
    "start_time": "2022-05-04T08:08:37.872Z"
   },
   {
    "duration": 14,
    "start_time": "2022-05-04T08:08:37.878Z"
   },
   {
    "duration": 40,
    "start_time": "2022-05-04T08:08:37.894Z"
   },
   {
    "duration": 6,
    "start_time": "2022-05-04T08:08:37.935Z"
   },
   {
    "duration": 12,
    "start_time": "2022-05-04T08:08:37.943Z"
   },
   {
    "duration": 13,
    "start_time": "2022-05-04T08:08:37.956Z"
   },
   {
    "duration": 206,
    "start_time": "2022-05-04T08:08:37.971Z"
   },
   {
    "duration": 213,
    "start_time": "2022-05-04T08:08:38.178Z"
   },
   {
    "duration": 200,
    "start_time": "2022-05-04T08:08:38.392Z"
   },
   {
    "duration": 8,
    "start_time": "2022-05-04T08:08:38.595Z"
   },
   {
    "duration": 7,
    "start_time": "2022-05-04T08:08:38.606Z"
   },
   {
    "duration": 6463,
    "start_time": "2022-05-04T08:08:38.634Z"
   },
   {
    "duration": 16,
    "start_time": "2022-05-04T08:08:45.099Z"
   },
   {
    "duration": 23,
    "start_time": "2022-05-04T08:08:45.117Z"
   },
   {
    "duration": 6,
    "start_time": "2022-05-04T08:08:45.141Z"
   },
   {
    "duration": 10,
    "start_time": "2022-05-04T08:08:45.150Z"
   },
   {
    "duration": 18,
    "start_time": "2022-05-04T08:08:45.162Z"
   },
   {
    "duration": 11,
    "start_time": "2022-05-04T08:08:45.182Z"
   },
   {
    "duration": 49,
    "start_time": "2022-05-04T08:08:45.194Z"
   },
   {
    "duration": 6,
    "start_time": "2022-05-04T08:08:45.245Z"
   },
   {
    "duration": 17,
    "start_time": "2022-05-04T08:08:45.253Z"
   },
   {
    "duration": 14,
    "start_time": "2022-05-04T08:08:45.272Z"
   },
   {
    "duration": 9,
    "start_time": "2022-05-04T08:08:45.288Z"
   },
   {
    "duration": 53,
    "start_time": "2022-05-04T08:08:45.299Z"
   },
   {
    "duration": 17,
    "start_time": "2022-05-04T08:08:45.354Z"
   },
   {
    "duration": 6,
    "start_time": "2022-05-04T08:08:45.372Z"
   },
   {
    "duration": 189,
    "start_time": "2022-05-04T08:08:45.380Z"
   },
   {
    "duration": 19,
    "start_time": "2022-05-04T08:08:45.571Z"
   },
   {
    "duration": 19,
    "start_time": "2022-05-04T08:08:45.592Z"
   },
   {
    "duration": 37,
    "start_time": "2022-05-04T08:08:45.634Z"
   },
   {
    "duration": 32,
    "start_time": "2022-05-04T08:08:45.673Z"
   },
   {
    "duration": 59,
    "start_time": "2022-05-04T08:08:45.707Z"
   },
   {
    "duration": 20,
    "start_time": "2022-05-04T08:08:45.767Z"
   },
   {
    "duration": 64,
    "start_time": "2022-05-04T08:08:45.789Z"
   },
   {
    "duration": 14,
    "start_time": "2022-05-04T08:08:45.855Z"
   },
   {
    "duration": 1,
    "start_time": "2022-05-04T08:08:45.871Z"
   },
   {
    "duration": 0,
    "start_time": "2022-05-04T08:08:45.873Z"
   },
   {
    "duration": 0,
    "start_time": "2022-05-04T08:08:45.874Z"
   },
   {
    "duration": 1,
    "start_time": "2022-05-04T08:08:45.875Z"
   },
   {
    "duration": 0,
    "start_time": "2022-05-04T08:08:45.877Z"
   },
   {
    "duration": 0,
    "start_time": "2022-05-04T08:08:45.878Z"
   },
   {
    "duration": 0,
    "start_time": "2022-05-04T08:08:45.879Z"
   },
   {
    "duration": 0,
    "start_time": "2022-05-04T08:08:45.880Z"
   },
   {
    "duration": 0,
    "start_time": "2022-05-04T08:08:45.881Z"
   },
   {
    "duration": 0,
    "start_time": "2022-05-04T08:08:45.882Z"
   },
   {
    "duration": 0,
    "start_time": "2022-05-04T08:08:45.883Z"
   },
   {
    "duration": 0,
    "start_time": "2022-05-04T08:08:45.884Z"
   },
   {
    "duration": 45,
    "start_time": "2022-05-04T08:12:10.115Z"
   },
   {
    "duration": 46,
    "start_time": "2022-05-04T08:13:14.020Z"
   },
   {
    "duration": 3,
    "start_time": "2022-05-04T08:14:04.939Z"
   },
   {
    "duration": 89,
    "start_time": "2022-05-04T08:14:04.944Z"
   },
   {
    "duration": 17,
    "start_time": "2022-05-04T08:14:05.035Z"
   },
   {
    "duration": 12,
    "start_time": "2022-05-04T08:14:05.054Z"
   },
   {
    "duration": 5,
    "start_time": "2022-05-04T08:14:05.068Z"
   },
   {
    "duration": 9,
    "start_time": "2022-05-04T08:14:05.075Z"
   },
   {
    "duration": 62,
    "start_time": "2022-05-04T08:14:05.086Z"
   },
   {
    "duration": 7,
    "start_time": "2022-05-04T08:14:05.149Z"
   },
   {
    "duration": 14,
    "start_time": "2022-05-04T08:14:05.158Z"
   },
   {
    "duration": 10,
    "start_time": "2022-05-04T08:14:05.173Z"
   },
   {
    "duration": 16,
    "start_time": "2022-05-04T08:14:05.185Z"
   },
   {
    "duration": 2,
    "start_time": "2022-05-04T08:14:05.203Z"
   },
   {
    "duration": 47,
    "start_time": "2022-05-04T08:14:05.234Z"
   },
   {
    "duration": 4,
    "start_time": "2022-05-04T08:14:05.282Z"
   },
   {
    "duration": 15,
    "start_time": "2022-05-04T08:14:05.288Z"
   },
   {
    "duration": 29,
    "start_time": "2022-05-04T08:14:05.305Z"
   },
   {
    "duration": 5,
    "start_time": "2022-05-04T08:14:05.336Z"
   },
   {
    "duration": 14,
    "start_time": "2022-05-04T08:14:05.343Z"
   },
   {
    "duration": 12,
    "start_time": "2022-05-04T08:14:05.359Z"
   },
   {
    "duration": 186,
    "start_time": "2022-05-04T08:14:05.373Z"
   },
   {
    "duration": 199,
    "start_time": "2022-05-04T08:14:05.561Z"
   },
   {
    "duration": 183,
    "start_time": "2022-05-04T08:14:05.762Z"
   },
   {
    "duration": 8,
    "start_time": "2022-05-04T08:14:05.946Z"
   },
   {
    "duration": 6,
    "start_time": "2022-05-04T08:14:05.955Z"
   },
   {
    "duration": 5958,
    "start_time": "2022-05-04T08:14:05.963Z"
   },
   {
    "duration": 24,
    "start_time": "2022-05-04T08:14:11.923Z"
   },
   {
    "duration": 6,
    "start_time": "2022-05-04T08:14:11.949Z"
   },
   {
    "duration": 7,
    "start_time": "2022-05-04T08:14:11.957Z"
   },
   {
    "duration": 9,
    "start_time": "2022-05-04T08:14:11.969Z"
   },
   {
    "duration": 55,
    "start_time": "2022-05-04T08:14:11.980Z"
   },
   {
    "duration": 7,
    "start_time": "2022-05-04T08:14:12.037Z"
   },
   {
    "duration": 17,
    "start_time": "2022-05-04T08:14:12.045Z"
   },
   {
    "duration": 6,
    "start_time": "2022-05-04T08:14:12.064Z"
   },
   {
    "duration": 16,
    "start_time": "2022-05-04T08:14:12.072Z"
   },
   {
    "duration": 48,
    "start_time": "2022-05-04T08:14:12.090Z"
   },
   {
    "duration": 10,
    "start_time": "2022-05-04T08:14:12.140Z"
   },
   {
    "duration": 20,
    "start_time": "2022-05-04T08:14:12.151Z"
   },
   {
    "duration": 18,
    "start_time": "2022-05-04T08:14:12.172Z"
   },
   {
    "duration": 6,
    "start_time": "2022-05-04T08:14:12.191Z"
   },
   {
    "duration": 252,
    "start_time": "2022-05-04T08:14:12.199Z"
   },
   {
    "duration": 19,
    "start_time": "2022-05-04T08:14:12.453Z"
   },
   {
    "duration": 20,
    "start_time": "2022-05-04T08:14:12.474Z"
   },
   {
    "duration": 62,
    "start_time": "2022-05-04T08:14:12.495Z"
   },
   {
    "duration": 30,
    "start_time": "2022-05-04T08:14:12.558Z"
   },
   {
    "duration": 55,
    "start_time": "2022-05-04T08:14:12.590Z"
   },
   {
    "duration": 20,
    "start_time": "2022-05-04T08:14:12.646Z"
   },
   {
    "duration": 37,
    "start_time": "2022-05-04T08:14:12.668Z"
   },
   {
    "duration": 37,
    "start_time": "2022-05-04T08:14:12.706Z"
   },
   {
    "duration": 0,
    "start_time": "2022-05-04T08:14:12.744Z"
   },
   {
    "duration": 0,
    "start_time": "2022-05-04T08:14:12.746Z"
   },
   {
    "duration": 0,
    "start_time": "2022-05-04T08:14:12.747Z"
   },
   {
    "duration": 0,
    "start_time": "2022-05-04T08:14:12.748Z"
   },
   {
    "duration": 0,
    "start_time": "2022-05-04T08:14:12.749Z"
   },
   {
    "duration": 0,
    "start_time": "2022-05-04T08:14:12.750Z"
   },
   {
    "duration": 0,
    "start_time": "2022-05-04T08:14:12.751Z"
   },
   {
    "duration": 0,
    "start_time": "2022-05-04T08:14:12.753Z"
   },
   {
    "duration": 0,
    "start_time": "2022-05-04T08:14:12.754Z"
   },
   {
    "duration": 0,
    "start_time": "2022-05-04T08:14:12.754Z"
   },
   {
    "duration": 0,
    "start_time": "2022-05-04T08:14:12.755Z"
   },
   {
    "duration": 0,
    "start_time": "2022-05-04T08:14:12.756Z"
   },
   {
    "duration": 27,
    "start_time": "2022-05-04T08:20:29.315Z"
   },
   {
    "duration": 20,
    "start_time": "2022-05-04T08:21:24.761Z"
   },
   {
    "duration": 3,
    "start_time": "2022-05-04T08:22:07.926Z"
   },
   {
    "duration": 76,
    "start_time": "2022-05-04T08:22:07.931Z"
   },
   {
    "duration": 26,
    "start_time": "2022-05-04T08:22:08.009Z"
   },
   {
    "duration": 12,
    "start_time": "2022-05-04T08:22:08.037Z"
   },
   {
    "duration": 6,
    "start_time": "2022-05-04T08:22:08.052Z"
   },
   {
    "duration": 10,
    "start_time": "2022-05-04T08:22:08.060Z"
   },
   {
    "duration": 61,
    "start_time": "2022-05-04T08:22:08.072Z"
   },
   {
    "duration": 8,
    "start_time": "2022-05-04T08:22:08.135Z"
   },
   {
    "duration": 15,
    "start_time": "2022-05-04T08:22:08.145Z"
   },
   {
    "duration": 9,
    "start_time": "2022-05-04T08:22:08.161Z"
   },
   {
    "duration": 19,
    "start_time": "2022-05-04T08:22:08.173Z"
   },
   {
    "duration": 4,
    "start_time": "2022-05-04T08:22:08.194Z"
   },
   {
    "duration": 27,
    "start_time": "2022-05-04T08:22:08.234Z"
   },
   {
    "duration": 19,
    "start_time": "2022-05-04T08:22:08.263Z"
   },
   {
    "duration": 0,
    "start_time": "2022-05-04T08:22:08.285Z"
   },
   {
    "duration": 0,
    "start_time": "2022-05-04T08:22:08.286Z"
   },
   {
    "duration": 0,
    "start_time": "2022-05-04T08:22:08.287Z"
   },
   {
    "duration": 1,
    "start_time": "2022-05-04T08:22:08.288Z"
   },
   {
    "duration": 0,
    "start_time": "2022-05-04T08:22:08.290Z"
   },
   {
    "duration": 0,
    "start_time": "2022-05-04T08:22:08.291Z"
   },
   {
    "duration": 0,
    "start_time": "2022-05-04T08:22:08.292Z"
   },
   {
    "duration": 0,
    "start_time": "2022-05-04T08:22:08.293Z"
   },
   {
    "duration": 0,
    "start_time": "2022-05-04T08:22:08.294Z"
   },
   {
    "duration": 0,
    "start_time": "2022-05-04T08:22:08.295Z"
   },
   {
    "duration": 0,
    "start_time": "2022-05-04T08:22:08.296Z"
   },
   {
    "duration": 0,
    "start_time": "2022-05-04T08:22:08.297Z"
   },
   {
    "duration": 0,
    "start_time": "2022-05-04T08:22:08.298Z"
   },
   {
    "duration": 0,
    "start_time": "2022-05-04T08:22:08.334Z"
   },
   {
    "duration": 0,
    "start_time": "2022-05-04T08:22:08.335Z"
   },
   {
    "duration": 0,
    "start_time": "2022-05-04T08:22:08.336Z"
   },
   {
    "duration": 0,
    "start_time": "2022-05-04T08:22:08.337Z"
   },
   {
    "duration": 0,
    "start_time": "2022-05-04T08:22:08.338Z"
   },
   {
    "duration": 0,
    "start_time": "2022-05-04T08:22:08.339Z"
   },
   {
    "duration": 0,
    "start_time": "2022-05-04T08:22:08.340Z"
   },
   {
    "duration": 0,
    "start_time": "2022-05-04T08:22:08.341Z"
   },
   {
    "duration": 0,
    "start_time": "2022-05-04T08:22:08.342Z"
   },
   {
    "duration": 0,
    "start_time": "2022-05-04T08:22:08.343Z"
   },
   {
    "duration": 0,
    "start_time": "2022-05-04T08:22:08.344Z"
   },
   {
    "duration": 1,
    "start_time": "2022-05-04T08:22:08.345Z"
   },
   {
    "duration": 0,
    "start_time": "2022-05-04T08:22:08.346Z"
   },
   {
    "duration": 0,
    "start_time": "2022-05-04T08:22:08.347Z"
   },
   {
    "duration": 0,
    "start_time": "2022-05-04T08:22:08.349Z"
   },
   {
    "duration": 0,
    "start_time": "2022-05-04T08:22:08.349Z"
   },
   {
    "duration": 0,
    "start_time": "2022-05-04T08:22:08.351Z"
   },
   {
    "duration": 0,
    "start_time": "2022-05-04T08:22:08.352Z"
   },
   {
    "duration": 0,
    "start_time": "2022-05-04T08:22:08.353Z"
   },
   {
    "duration": 0,
    "start_time": "2022-05-04T08:22:08.354Z"
   },
   {
    "duration": 0,
    "start_time": "2022-05-04T08:22:08.355Z"
   },
   {
    "duration": 0,
    "start_time": "2022-05-04T08:22:08.356Z"
   },
   {
    "duration": 0,
    "start_time": "2022-05-04T08:22:08.358Z"
   },
   {
    "duration": 0,
    "start_time": "2022-05-04T08:22:08.359Z"
   },
   {
    "duration": 0,
    "start_time": "2022-05-04T08:22:08.360Z"
   },
   {
    "duration": 0,
    "start_time": "2022-05-04T08:22:08.361Z"
   },
   {
    "duration": 0,
    "start_time": "2022-05-04T08:22:08.362Z"
   },
   {
    "duration": 0,
    "start_time": "2022-05-04T08:22:08.363Z"
   },
   {
    "duration": 1,
    "start_time": "2022-05-04T08:22:08.364Z"
   },
   {
    "duration": 0,
    "start_time": "2022-05-04T08:22:08.365Z"
   },
   {
    "duration": 0,
    "start_time": "2022-05-04T08:22:08.366Z"
   },
   {
    "duration": 0,
    "start_time": "2022-05-04T08:22:08.367Z"
   },
   {
    "duration": 0,
    "start_time": "2022-05-04T08:22:08.369Z"
   },
   {
    "duration": 11,
    "start_time": "2022-05-04T08:23:12.953Z"
   },
   {
    "duration": 25,
    "start_time": "2022-05-04T08:24:00.685Z"
   },
   {
    "duration": 13,
    "start_time": "2022-05-04T08:26:13.427Z"
   },
   {
    "duration": 2,
    "start_time": "2022-05-04T08:26:20.214Z"
   },
   {
    "duration": 74,
    "start_time": "2022-05-04T08:26:20.219Z"
   },
   {
    "duration": 15,
    "start_time": "2022-05-04T08:26:20.296Z"
   },
   {
    "duration": 11,
    "start_time": "2022-05-04T08:26:20.335Z"
   },
   {
    "duration": 5,
    "start_time": "2022-05-04T08:26:20.348Z"
   },
   {
    "duration": 6,
    "start_time": "2022-05-04T08:26:20.355Z"
   },
   {
    "duration": 19,
    "start_time": "2022-05-04T08:26:20.362Z"
   },
   {
    "duration": 51,
    "start_time": "2022-05-04T08:26:20.383Z"
   },
   {
    "duration": 15,
    "start_time": "2022-05-04T08:26:20.436Z"
   },
   {
    "duration": 7,
    "start_time": "2022-05-04T08:26:20.453Z"
   },
   {
    "duration": 17,
    "start_time": "2022-05-04T08:26:20.463Z"
   },
   {
    "duration": 5,
    "start_time": "2022-05-04T08:26:20.481Z"
   },
   {
    "duration": 46,
    "start_time": "2022-05-04T08:26:20.488Z"
   },
   {
    "duration": 5,
    "start_time": "2022-05-04T08:26:20.536Z"
   },
   {
    "duration": 15,
    "start_time": "2022-05-04T08:26:20.543Z"
   },
   {
    "duration": 12,
    "start_time": "2022-05-04T08:26:20.559Z"
   },
   {
    "duration": 7,
    "start_time": "2022-05-04T08:26:20.573Z"
   },
   {
    "duration": 6,
    "start_time": "2022-05-04T08:26:20.582Z"
   },
   {
    "duration": 7,
    "start_time": "2022-05-04T08:26:20.590Z"
   },
   {
    "duration": 210,
    "start_time": "2022-05-04T08:26:20.598Z"
   },
   {
    "duration": 197,
    "start_time": "2022-05-04T08:26:20.810Z"
   },
   {
    "duration": 178,
    "start_time": "2022-05-04T08:26:21.009Z"
   },
   {
    "duration": 7,
    "start_time": "2022-05-04T08:26:21.189Z"
   },
   {
    "duration": 8,
    "start_time": "2022-05-04T08:26:21.197Z"
   },
   {
    "duration": 5939,
    "start_time": "2022-05-04T08:26:21.207Z"
   },
   {
    "duration": 16,
    "start_time": "2022-05-04T08:26:27.148Z"
   },
   {
    "duration": 5,
    "start_time": "2022-05-04T08:26:27.166Z"
   },
   {
    "duration": 12,
    "start_time": "2022-05-04T08:26:27.173Z"
   },
   {
    "duration": 10,
    "start_time": "2022-05-04T08:26:27.189Z"
   },
   {
    "duration": 42,
    "start_time": "2022-05-04T08:26:27.201Z"
   },
   {
    "duration": 6,
    "start_time": "2022-05-04T08:26:27.244Z"
   },
   {
    "duration": 16,
    "start_time": "2022-05-04T08:26:27.252Z"
   },
   {
    "duration": 5,
    "start_time": "2022-05-04T08:26:27.270Z"
   },
   {
    "duration": 16,
    "start_time": "2022-05-04T08:26:27.277Z"
   },
   {
    "duration": 47,
    "start_time": "2022-05-04T08:26:27.295Z"
   },
   {
    "duration": 7,
    "start_time": "2022-05-04T08:26:27.344Z"
   },
   {
    "duration": 21,
    "start_time": "2022-05-04T08:26:27.353Z"
   },
   {
    "duration": 17,
    "start_time": "2022-05-04T08:26:27.376Z"
   },
   {
    "duration": 5,
    "start_time": "2022-05-04T08:26:27.395Z"
   },
   {
    "duration": 206,
    "start_time": "2022-05-04T08:26:27.402Z"
   },
   {
    "duration": 27,
    "start_time": "2022-05-04T08:26:27.610Z"
   },
   {
    "duration": 19,
    "start_time": "2022-05-04T08:26:27.639Z"
   },
   {
    "duration": 35,
    "start_time": "2022-05-04T08:26:27.660Z"
   },
   {
    "duration": 52,
    "start_time": "2022-05-04T08:26:27.697Z"
   },
   {
    "duration": 34,
    "start_time": "2022-05-04T08:26:27.751Z"
   },
   {
    "duration": 19,
    "start_time": "2022-05-04T08:26:27.788Z"
   },
   {
    "duration": 59,
    "start_time": "2022-05-04T08:26:27.809Z"
   },
   {
    "duration": 13,
    "start_time": "2022-05-04T08:26:27.869Z"
   },
   {
    "duration": 19,
    "start_time": "2022-05-04T08:26:27.884Z"
   },
   {
    "duration": 32,
    "start_time": "2022-05-04T08:26:27.905Z"
   },
   {
    "duration": 17,
    "start_time": "2022-05-04T08:26:27.939Z"
   },
   {
    "duration": 24,
    "start_time": "2022-05-04T08:26:27.958Z"
   },
   {
    "duration": 18,
    "start_time": "2022-05-04T08:26:27.984Z"
   },
   {
    "duration": 52,
    "start_time": "2022-05-04T08:26:28.003Z"
   },
   {
    "duration": 12,
    "start_time": "2022-05-04T08:26:28.057Z"
   },
   {
    "duration": 19,
    "start_time": "2022-05-04T08:26:28.071Z"
   },
   {
    "duration": 45,
    "start_time": "2022-05-04T08:26:28.092Z"
   },
   {
    "duration": 31,
    "start_time": "2022-05-04T08:26:28.139Z"
   },
   {
    "duration": 28,
    "start_time": "2022-05-04T08:26:28.172Z"
   },
   {
    "duration": 55,
    "start_time": "2022-05-04T08:26:28.202Z"
   },
   {
    "duration": 12,
    "start_time": "2022-05-04T08:27:18.807Z"
   },
   {
    "duration": 12,
    "start_time": "2022-05-04T08:43:13.118Z"
   },
   {
    "duration": 12,
    "start_time": "2022-05-04T08:45:32.718Z"
   },
   {
    "duration": 11,
    "start_time": "2022-05-04T08:46:38.393Z"
   },
   {
    "duration": 10872,
    "start_time": "2022-05-04T08:47:20.344Z"
   },
   {
    "duration": 11,
    "start_time": "2022-05-04T08:47:58.634Z"
   },
   {
    "duration": 11,
    "start_time": "2022-05-04T08:48:43.574Z"
   },
   {
    "duration": 12,
    "start_time": "2022-05-04T08:49:04.898Z"
   },
   {
    "duration": 3,
    "start_time": "2022-05-04T08:49:08.573Z"
   },
   {
    "duration": 78,
    "start_time": "2022-05-04T08:49:08.578Z"
   },
   {
    "duration": 16,
    "start_time": "2022-05-04T08:49:08.658Z"
   },
   {
    "duration": 11,
    "start_time": "2022-05-04T08:49:08.676Z"
   },
   {
    "duration": 5,
    "start_time": "2022-05-04T08:49:08.689Z"
   },
   {
    "duration": 39,
    "start_time": "2022-05-04T08:49:08.695Z"
   },
   {
    "duration": 18,
    "start_time": "2022-05-04T08:49:08.736Z"
   },
   {
    "duration": 7,
    "start_time": "2022-05-04T08:49:08.755Z"
   },
   {
    "duration": 19,
    "start_time": "2022-05-04T08:49:08.764Z"
   },
   {
    "duration": 50,
    "start_time": "2022-05-04T08:49:08.784Z"
   },
   {
    "duration": 13,
    "start_time": "2022-05-04T08:49:08.837Z"
   },
   {
    "duration": 8,
    "start_time": "2022-05-04T08:49:08.851Z"
   },
   {
    "duration": 5,
    "start_time": "2022-05-04T08:49:08.861Z"
   },
   {
    "duration": 8,
    "start_time": "2022-05-04T08:49:08.867Z"
   },
   {
    "duration": 7,
    "start_time": "2022-05-04T08:49:08.876Z"
   },
   {
    "duration": 210,
    "start_time": "2022-05-04T08:49:08.884Z"
   },
   {
    "duration": 202,
    "start_time": "2022-05-04T08:49:09.095Z"
   },
   {
    "duration": 181,
    "start_time": "2022-05-04T08:49:09.299Z"
   },
   {
    "duration": 8,
    "start_time": "2022-05-04T08:49:09.481Z"
   },
   {
    "duration": 11,
    "start_time": "2022-05-04T08:49:09.491Z"
   },
   {
    "duration": 4423,
    "start_time": "2022-05-04T08:49:09.503Z"
   },
   {
    "duration": 20,
    "start_time": "2022-05-04T08:49:13.927Z"
   },
   {
    "duration": 6,
    "start_time": "2022-05-04T08:49:13.949Z"
   },
   {
    "duration": 5,
    "start_time": "2022-05-04T08:49:13.957Z"
   },
   {
    "duration": 9,
    "start_time": "2022-05-04T08:49:13.963Z"
   },
   {
    "duration": 16,
    "start_time": "2022-05-04T08:49:13.974Z"
   },
   {
    "duration": 43,
    "start_time": "2022-05-04T08:49:13.991Z"
   },
   {
    "duration": 16,
    "start_time": "2022-05-04T08:49:14.036Z"
   },
   {
    "duration": 7,
    "start_time": "2022-05-04T08:49:14.056Z"
   },
   {
    "duration": 16,
    "start_time": "2022-05-04T08:49:14.064Z"
   },
   {
    "duration": 13,
    "start_time": "2022-05-04T08:49:14.082Z"
   },
   {
    "duration": 42,
    "start_time": "2022-05-04T08:49:14.096Z"
   },
   {
    "duration": 16,
    "start_time": "2022-05-04T08:49:14.140Z"
   },
   {
    "duration": 18,
    "start_time": "2022-05-04T08:49:14.158Z"
   },
   {
    "duration": 5,
    "start_time": "2022-05-04T08:49:14.178Z"
   },
   {
    "duration": 202,
    "start_time": "2022-05-04T08:49:14.185Z"
   },
   {
    "duration": 18,
    "start_time": "2022-05-04T08:49:14.389Z"
   },
   {
    "duration": 31,
    "start_time": "2022-05-04T08:49:14.409Z"
   },
   {
    "duration": 33,
    "start_time": "2022-05-04T08:49:14.442Z"
   },
   {
    "duration": 30,
    "start_time": "2022-05-04T08:49:14.477Z"
   },
   {
    "duration": 57,
    "start_time": "2022-05-04T08:49:14.509Z"
   },
   {
    "duration": 19,
    "start_time": "2022-05-04T08:49:14.568Z"
   },
   {
    "duration": 57,
    "start_time": "2022-05-04T08:49:14.589Z"
   },
   {
    "duration": 12,
    "start_time": "2022-05-04T08:49:14.648Z"
   },
   {
    "duration": 12,
    "start_time": "2022-05-04T08:49:14.661Z"
   },
   {
    "duration": 12,
    "start_time": "2022-05-04T08:49:14.675Z"
   },
   {
    "duration": 12,
    "start_time": "2022-05-04T08:49:14.688Z"
   },
   {
    "duration": 26,
    "start_time": "2022-05-04T08:49:14.734Z"
   },
   {
    "duration": 18,
    "start_time": "2022-05-04T08:49:14.762Z"
   },
   {
    "duration": 24,
    "start_time": "2022-05-04T08:49:14.782Z"
   },
   {
    "duration": 36,
    "start_time": "2022-05-04T08:49:14.807Z"
   },
   {
    "duration": 19,
    "start_time": "2022-05-04T08:49:14.845Z"
   },
   {
    "duration": 36,
    "start_time": "2022-05-04T08:49:14.866Z"
   },
   {
    "duration": 175,
    "start_time": "2022-05-04T08:49:14.903Z"
   },
   {
    "duration": 28,
    "start_time": "2022-05-04T08:49:15.080Z"
   },
   {
    "duration": 45,
    "start_time": "2022-05-04T08:49:15.109Z"
   },
   {
    "duration": 5880,
    "start_time": "2022-05-04T08:51:47.727Z"
   },
   {
    "duration": 3,
    "start_time": "2022-05-04T08:52:03.200Z"
   },
   {
    "duration": 100,
    "start_time": "2022-05-04T08:52:03.205Z"
   },
   {
    "duration": 34,
    "start_time": "2022-05-04T08:52:03.306Z"
   },
   {
    "duration": 10,
    "start_time": "2022-05-04T08:52:03.343Z"
   },
   {
    "duration": 6,
    "start_time": "2022-05-04T08:52:03.355Z"
   },
   {
    "duration": 7,
    "start_time": "2022-05-04T08:52:03.362Z"
   },
   {
    "duration": 21,
    "start_time": "2022-05-04T08:52:03.371Z"
   },
   {
    "duration": 45,
    "start_time": "2022-05-04T08:52:03.394Z"
   },
   {
    "duration": 19,
    "start_time": "2022-05-04T08:52:03.442Z"
   },
   {
    "duration": 19,
    "start_time": "2022-05-04T08:52:03.462Z"
   },
   {
    "duration": 12,
    "start_time": "2022-05-04T08:52:03.483Z"
   },
   {
    "duration": 10,
    "start_time": "2022-05-04T08:52:03.497Z"
   },
   {
    "duration": 28,
    "start_time": "2022-05-04T08:52:03.509Z"
   },
   {
    "duration": 10,
    "start_time": "2022-05-04T08:52:03.539Z"
   },
   {
    "duration": 15,
    "start_time": "2022-05-04T08:52:03.551Z"
   },
   {
    "duration": 189,
    "start_time": "2022-05-04T08:52:03.567Z"
   },
   {
    "duration": 204,
    "start_time": "2022-05-04T08:52:03.758Z"
   },
   {
    "duration": 192,
    "start_time": "2022-05-04T08:52:03.964Z"
   },
   {
    "duration": 8,
    "start_time": "2022-05-04T08:52:04.159Z"
   },
   {
    "duration": 15,
    "start_time": "2022-05-04T08:52:04.169Z"
   },
   {
    "duration": 5947,
    "start_time": "2022-05-04T08:52:04.186Z"
   },
   {
    "duration": 18,
    "start_time": "2022-05-04T08:52:10.135Z"
   },
   {
    "duration": 24,
    "start_time": "2022-05-04T08:52:10.154Z"
   },
   {
    "duration": 6,
    "start_time": "2022-05-04T08:52:10.183Z"
   },
   {
    "duration": 11,
    "start_time": "2022-05-04T08:52:10.190Z"
   },
   {
    "duration": 41,
    "start_time": "2022-05-04T08:52:10.202Z"
   },
   {
    "duration": 6,
    "start_time": "2022-05-04T08:52:10.245Z"
   },
   {
    "duration": 17,
    "start_time": "2022-05-04T08:52:10.252Z"
   },
   {
    "duration": 6,
    "start_time": "2022-05-04T08:52:10.270Z"
   },
   {
    "duration": 17,
    "start_time": "2022-05-04T08:52:10.278Z"
   },
   {
    "duration": 45,
    "start_time": "2022-05-04T08:52:10.296Z"
   },
   {
    "duration": 8,
    "start_time": "2022-05-04T08:52:10.342Z"
   },
   {
    "duration": 21,
    "start_time": "2022-05-04T08:52:10.351Z"
   },
   {
    "duration": 17,
    "start_time": "2022-05-04T08:52:10.373Z"
   },
   {
    "duration": 7,
    "start_time": "2022-05-04T08:52:10.392Z"
   },
   {
    "duration": 202,
    "start_time": "2022-05-04T08:52:10.433Z"
   },
   {
    "duration": 19,
    "start_time": "2022-05-04T08:52:10.637Z"
   },
   {
    "duration": 19,
    "start_time": "2022-05-04T08:52:10.658Z"
   },
   {
    "duration": 33,
    "start_time": "2022-05-04T08:52:10.678Z"
   },
   {
    "duration": 31,
    "start_time": "2022-05-04T08:52:10.734Z"
   },
   {
    "duration": 35,
    "start_time": "2022-05-04T08:52:10.766Z"
   },
   {
    "duration": 40,
    "start_time": "2022-05-04T08:52:10.803Z"
   },
   {
    "duration": 36,
    "start_time": "2022-05-04T08:52:10.845Z"
   },
   {
    "duration": 13,
    "start_time": "2022-05-04T08:52:10.882Z"
   },
   {
    "duration": 37,
    "start_time": "2022-05-04T08:52:10.897Z"
   },
   {
    "duration": 12,
    "start_time": "2022-05-04T08:52:10.936Z"
   },
   {
    "duration": 12,
    "start_time": "2022-05-04T08:52:10.950Z"
   },
   {
    "duration": 24,
    "start_time": "2022-05-04T08:52:10.964Z"
   },
   {
    "duration": 44,
    "start_time": "2022-05-04T08:52:10.990Z"
   },
   {
    "duration": 27,
    "start_time": "2022-05-04T08:52:11.036Z"
   },
   {
    "duration": 13,
    "start_time": "2022-05-04T08:52:11.065Z"
   },
   {
    "duration": 20,
    "start_time": "2022-05-04T08:52:11.081Z"
   },
   {
    "duration": 55,
    "start_time": "2022-05-04T08:52:11.103Z"
   },
   {
    "duration": 30,
    "start_time": "2022-05-04T08:52:11.159Z"
   },
   {
    "duration": 53,
    "start_time": "2022-05-04T08:52:11.190Z"
   },
   {
    "duration": 29,
    "start_time": "2022-05-04T08:52:11.244Z"
   },
   {
    "duration": 14,
    "start_time": "2022-05-04T08:55:23.185Z"
   },
   {
    "duration": 794,
    "start_time": "2022-05-04T09:00:00.393Z"
   },
   {
    "duration": 22,
    "start_time": "2022-05-04T09:01:35.052Z"
   },
   {
    "duration": 19,
    "start_time": "2022-05-04T09:01:42.563Z"
   },
   {
    "duration": 22,
    "start_time": "2022-05-04T09:02:20.231Z"
   },
   {
    "duration": 18,
    "start_time": "2022-05-04T09:03:07.124Z"
   },
   {
    "duration": 24,
    "start_time": "2022-05-04T09:03:41.345Z"
   },
   {
    "duration": 3,
    "start_time": "2022-05-04T09:31:24.610Z"
   },
   {
    "duration": 22,
    "start_time": "2022-05-04T09:31:46.007Z"
   },
   {
    "duration": 22,
    "start_time": "2022-05-04T09:34:29.581Z"
   },
   {
    "duration": 19,
    "start_time": "2022-05-04T09:37:49.103Z"
   },
   {
    "duration": 2,
    "start_time": "2022-05-04T09:38:02.165Z"
   },
   {
    "duration": 77,
    "start_time": "2022-05-04T09:38:02.169Z"
   },
   {
    "duration": 16,
    "start_time": "2022-05-04T09:38:02.247Z"
   },
   {
    "duration": 10,
    "start_time": "2022-05-04T09:38:02.265Z"
   },
   {
    "duration": 5,
    "start_time": "2022-05-04T09:38:02.278Z"
   },
   {
    "duration": 6,
    "start_time": "2022-05-04T09:38:02.285Z"
   },
   {
    "duration": 55,
    "start_time": "2022-05-04T09:38:02.292Z"
   },
   {
    "duration": 7,
    "start_time": "2022-05-04T09:38:02.348Z"
   },
   {
    "duration": 15,
    "start_time": "2022-05-04T09:38:02.357Z"
   },
   {
    "duration": 21,
    "start_time": "2022-05-04T09:38:02.373Z"
   },
   {
    "duration": 38,
    "start_time": "2022-05-04T09:38:02.397Z"
   },
   {
    "duration": 14,
    "start_time": "2022-05-04T09:38:02.436Z"
   },
   {
    "duration": 5,
    "start_time": "2022-05-04T09:38:02.452Z"
   },
   {
    "duration": 15,
    "start_time": "2022-05-04T09:38:02.459Z"
   },
   {
    "duration": 10,
    "start_time": "2022-05-04T09:38:02.475Z"
   },
   {
    "duration": 198,
    "start_time": "2022-05-04T09:38:02.486Z"
   },
   {
    "duration": 202,
    "start_time": "2022-05-04T09:38:02.686Z"
   },
   {
    "duration": 185,
    "start_time": "2022-05-04T09:38:02.889Z"
   },
   {
    "duration": 7,
    "start_time": "2022-05-04T09:38:03.075Z"
   },
   {
    "duration": 8,
    "start_time": "2022-05-04T09:38:03.084Z"
   },
   {
    "duration": 6192,
    "start_time": "2022-05-04T09:38:03.094Z"
   },
   {
    "duration": 17,
    "start_time": "2022-05-04T09:38:09.288Z"
   },
   {
    "duration": 10,
    "start_time": "2022-05-04T09:38:09.307Z"
   },
   {
    "duration": 6,
    "start_time": "2022-05-04T09:38:09.334Z"
   },
   {
    "duration": 11,
    "start_time": "2022-05-04T09:38:09.342Z"
   },
   {
    "duration": 17,
    "start_time": "2022-05-04T09:38:09.354Z"
   },
   {
    "duration": 6,
    "start_time": "2022-05-04T09:38:09.372Z"
   },
   {
    "duration": 15,
    "start_time": "2022-05-04T09:38:09.380Z"
   },
   {
    "duration": 6,
    "start_time": "2022-05-04T09:38:09.433Z"
   },
   {
    "duration": 17,
    "start_time": "2022-05-04T09:38:09.441Z"
   },
   {
    "duration": 15,
    "start_time": "2022-05-04T09:38:09.460Z"
   },
   {
    "duration": 11,
    "start_time": "2022-05-04T09:38:09.477Z"
   },
   {
    "duration": 60,
    "start_time": "2022-05-04T09:38:09.491Z"
   },
   {
    "duration": 24,
    "start_time": "2022-05-04T09:38:09.554Z"
   },
   {
    "duration": 6,
    "start_time": "2022-05-04T09:38:09.580Z"
   },
   {
    "duration": 198,
    "start_time": "2022-05-04T09:38:09.587Z"
   },
   {
    "duration": 17,
    "start_time": "2022-05-04T09:38:09.787Z"
   },
   {
    "duration": 31,
    "start_time": "2022-05-04T09:38:09.806Z"
   },
   {
    "duration": 33,
    "start_time": "2022-05-04T09:38:09.838Z"
   },
   {
    "duration": 29,
    "start_time": "2022-05-04T09:38:09.873Z"
   },
   {
    "duration": 57,
    "start_time": "2022-05-04T09:38:09.903Z"
   },
   {
    "duration": 18,
    "start_time": "2022-05-04T09:38:09.961Z"
   },
   {
    "duration": 57,
    "start_time": "2022-05-04T09:38:09.981Z"
   },
   {
    "duration": 13,
    "start_time": "2022-05-04T09:38:10.040Z"
   },
   {
    "duration": 13,
    "start_time": "2022-05-04T09:38:10.054Z"
   },
   {
    "duration": 11,
    "start_time": "2022-05-04T09:38:10.069Z"
   },
   {
    "duration": 11,
    "start_time": "2022-05-04T09:38:10.082Z"
   },
   {
    "duration": 58,
    "start_time": "2022-05-04T09:38:10.094Z"
   },
   {
    "duration": 18,
    "start_time": "2022-05-04T09:38:10.154Z"
   },
   {
    "duration": 25,
    "start_time": "2022-05-04T09:38:10.174Z"
   },
   {
    "duration": 34,
    "start_time": "2022-05-04T09:38:10.201Z"
   },
   {
    "duration": 17,
    "start_time": "2022-05-04T09:38:10.237Z"
   },
   {
    "duration": 21,
    "start_time": "2022-05-04T09:38:10.256Z"
   },
   {
    "duration": 19,
    "start_time": "2022-05-04T09:38:10.279Z"
   },
   {
    "duration": 51,
    "start_time": "2022-05-04T09:38:10.300Z"
   },
   {
    "duration": 28,
    "start_time": "2022-05-04T09:38:10.353Z"
   },
   {
    "duration": 22,
    "start_time": "2022-05-04T09:39:11.421Z"
   },
   {
    "duration": 23,
    "start_time": "2022-05-04T09:39:28.935Z"
   },
   {
    "duration": 23,
    "start_time": "2022-05-04T09:41:47.990Z"
   },
   {
    "duration": 22,
    "start_time": "2022-05-04T09:42:13.247Z"
   },
   {
    "duration": 30,
    "start_time": "2022-05-04T09:43:19.559Z"
   },
   {
    "duration": 37,
    "start_time": "2022-05-04T09:43:32.790Z"
   },
   {
    "duration": 23,
    "start_time": "2022-05-04T09:50:56.151Z"
   },
   {
    "duration": 141,
    "start_time": "2022-05-04T16:02:02.998Z"
   },
   {
    "duration": 1536,
    "start_time": "2022-05-04T16:02:12.645Z"
   },
   {
    "duration": 102,
    "start_time": "2022-05-04T16:02:14.184Z"
   },
   {
    "duration": 23,
    "start_time": "2022-05-04T16:02:14.289Z"
   },
   {
    "duration": 37,
    "start_time": "2022-05-04T16:02:14.315Z"
   },
   {
    "duration": 10,
    "start_time": "2022-05-04T16:02:14.354Z"
   },
   {
    "duration": 9,
    "start_time": "2022-05-04T16:02:14.367Z"
   },
   {
    "duration": 117,
    "start_time": "2022-05-04T16:02:14.378Z"
   },
   {
    "duration": 12,
    "start_time": "2022-05-04T16:02:14.497Z"
   },
   {
    "duration": 46,
    "start_time": "2022-05-04T16:02:14.513Z"
   },
   {
    "duration": 22,
    "start_time": "2022-05-04T16:02:14.563Z"
   },
   {
    "duration": 27,
    "start_time": "2022-05-04T16:02:14.588Z"
   },
   {
    "duration": 41,
    "start_time": "2022-05-04T16:02:14.618Z"
   },
   {
    "duration": 10,
    "start_time": "2022-05-04T16:02:14.662Z"
   },
   {
    "duration": 14,
    "start_time": "2022-05-04T16:02:14.675Z"
   },
   {
    "duration": 14,
    "start_time": "2022-05-04T16:02:14.691Z"
   },
   {
    "duration": 579,
    "start_time": "2022-05-04T16:02:14.708Z"
   },
   {
    "duration": 466,
    "start_time": "2022-05-04T16:02:15.290Z"
   },
   {
    "duration": 415,
    "start_time": "2022-05-04T16:02:15.760Z"
   },
   {
    "duration": 13,
    "start_time": "2022-05-04T16:02:16.178Z"
   },
   {
    "duration": 19,
    "start_time": "2022-05-04T16:02:16.193Z"
   },
   {
    "duration": 4771,
    "start_time": "2022-05-04T16:02:16.215Z"
   },
   {
    "duration": 8,
    "start_time": "2022-05-04T16:02:35.133Z"
   },
   {
    "duration": 10,
    "start_time": "2022-05-04T16:03:08.318Z"
   },
   {
    "duration": 48,
    "start_time": "2022-05-04T16:08:30.883Z"
   },
   {
    "duration": 1598,
    "start_time": "2022-05-05T14:33:07.606Z"
   },
   {
    "duration": 90,
    "start_time": "2022-05-05T14:33:09.207Z"
   },
   {
    "duration": 16,
    "start_time": "2022-05-05T14:33:09.299Z"
   },
   {
    "duration": 22,
    "start_time": "2022-05-05T14:33:09.318Z"
   },
   {
    "duration": 18,
    "start_time": "2022-05-05T14:33:09.341Z"
   },
   {
    "duration": 11,
    "start_time": "2022-05-05T14:33:09.361Z"
   },
   {
    "duration": 82,
    "start_time": "2022-05-05T14:33:09.374Z"
   },
   {
    "duration": 8,
    "start_time": "2022-05-05T14:33:09.457Z"
   },
   {
    "duration": 34,
    "start_time": "2022-05-05T14:33:09.466Z"
   },
   {
    "duration": 38,
    "start_time": "2022-05-05T14:33:09.503Z"
   },
   {
    "duration": 26,
    "start_time": "2022-05-05T14:33:09.542Z"
   },
   {
    "duration": 31,
    "start_time": "2022-05-05T14:33:09.570Z"
   },
   {
    "duration": 20,
    "start_time": "2022-05-05T14:33:09.602Z"
   },
   {
    "duration": 33,
    "start_time": "2022-05-05T14:33:09.624Z"
   },
   {
    "duration": 22,
    "start_time": "2022-05-05T14:33:09.659Z"
   },
   {
    "duration": 257,
    "start_time": "2022-05-05T14:33:09.683Z"
   },
   {
    "duration": 207,
    "start_time": "2022-05-05T14:33:09.941Z"
   },
   {
    "duration": 179,
    "start_time": "2022-05-05T14:33:10.150Z"
   },
   {
    "duration": 8,
    "start_time": "2022-05-05T14:33:10.332Z"
   },
   {
    "duration": 25,
    "start_time": "2022-05-05T14:33:10.342Z"
   },
   {
    "duration": 6288,
    "start_time": "2022-05-05T14:33:10.369Z"
   },
   {
    "duration": 16,
    "start_time": "2022-05-05T14:33:16.659Z"
   },
   {
    "duration": 7,
    "start_time": "2022-05-05T14:33:16.676Z"
   },
   {
    "duration": 4,
    "start_time": "2022-05-05T14:33:16.685Z"
   },
   {
    "duration": 39,
    "start_time": "2022-05-05T14:33:16.691Z"
   },
   {
    "duration": 20,
    "start_time": "2022-05-05T14:33:16.732Z"
   },
   {
    "duration": 7,
    "start_time": "2022-05-05T14:33:16.754Z"
   },
   {
    "duration": 21,
    "start_time": "2022-05-05T14:33:16.765Z"
   },
   {
    "duration": 6,
    "start_time": "2022-05-05T14:33:16.788Z"
   },
   {
    "duration": 52,
    "start_time": "2022-05-05T14:33:16.795Z"
   },
   {
    "duration": 14,
    "start_time": "2022-05-05T14:33:16.849Z"
   },
   {
    "duration": 14,
    "start_time": "2022-05-05T14:33:16.866Z"
   },
   {
    "duration": 46,
    "start_time": "2022-05-05T14:33:16.882Z"
   },
   {
    "duration": 20,
    "start_time": "2022-05-05T14:33:16.930Z"
   },
   {
    "duration": 14,
    "start_time": "2022-05-05T14:33:16.952Z"
   },
   {
    "duration": 192,
    "start_time": "2022-05-05T14:33:16.967Z"
   },
   {
    "duration": 19,
    "start_time": "2022-05-05T14:33:17.161Z"
   },
   {
    "duration": 20,
    "start_time": "2022-05-05T14:33:17.181Z"
   },
   {
    "duration": 42,
    "start_time": "2022-05-05T14:33:17.223Z"
   },
   {
    "duration": 32,
    "start_time": "2022-05-05T14:33:17.267Z"
   },
   {
    "duration": 81,
    "start_time": "2022-05-05T14:33:17.301Z"
   },
   {
    "duration": 45,
    "start_time": "2022-05-05T14:33:17.384Z"
   },
   {
    "duration": 41,
    "start_time": "2022-05-05T14:33:17.433Z"
   },
   {
    "duration": 13,
    "start_time": "2022-05-05T14:33:17.476Z"
   },
   {
    "duration": 42,
    "start_time": "2022-05-05T14:33:17.491Z"
   },
   {
    "duration": 16,
    "start_time": "2022-05-05T14:33:17.535Z"
   },
   {
    "duration": 12,
    "start_time": "2022-05-05T14:33:17.553Z"
   },
   {
    "duration": 35,
    "start_time": "2022-05-05T14:33:17.567Z"
   },
   {
    "duration": 44,
    "start_time": "2022-05-05T14:33:17.605Z"
   },
   {
    "duration": 34,
    "start_time": "2022-05-05T14:33:17.650Z"
   },
   {
    "duration": 18,
    "start_time": "2022-05-05T14:33:17.686Z"
   },
   {
    "duration": 33,
    "start_time": "2022-05-05T14:33:17.705Z"
   },
   {
    "duration": 3125,
    "start_time": "2022-05-05T14:33:17.740Z"
   },
   {
    "duration": 0,
    "start_time": "2022-05-05T14:33:20.868Z"
   },
   {
    "duration": 0,
    "start_time": "2022-05-05T14:33:20.869Z"
   },
   {
    "duration": 0,
    "start_time": "2022-05-05T14:33:20.871Z"
   },
   {
    "duration": 734,
    "start_time": "2022-05-05T14:34:07.106Z"
   },
   {
    "duration": 29,
    "start_time": "2022-05-05T14:34:23.845Z"
   }
  ],
  "kernelspec": {
   "display_name": "Python 3 (ipykernel)",
   "language": "python",
   "name": "python3"
  },
  "language_info": {
   "codemirror_mode": {
    "name": "ipython",
    "version": 3
   },
   "file_extension": ".py",
   "mimetype": "text/x-python",
   "name": "python",
   "nbconvert_exporter": "python",
   "pygments_lexer": "ipython3",
   "version": "3.9.5"
  },
  "toc": {
   "base_numbering": 1,
   "nav_menu": {
    "height": "105px",
    "width": "320px"
   },
   "number_sections": true,
   "sideBar": true,
   "skip_h1_title": true,
   "title_cell": "Содержание",
   "title_sidebar": "Contents",
   "toc_cell": true,
   "toc_position": {
    "height": "calc(100% - 180px)",
    "left": "10px",
    "top": "150px",
    "width": "165px"
   },
   "toc_section_display": true,
   "toc_window_display": true
  }
 },
 "nbformat": 4,
 "nbformat_minor": 5
}
